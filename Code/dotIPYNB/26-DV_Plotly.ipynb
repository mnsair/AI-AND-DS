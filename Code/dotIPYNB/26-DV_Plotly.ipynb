{
 "cells": [
  {
   "cell_type": "markdown",
   "metadata": {},
   "source": [
    "# Day 26 Data Visualizaion\n",
    "Note: There was no lecture on Day 25.0.0"
   ]
  },
  {
   "cell_type": "code",
   "execution_count": 1,
   "metadata": {},
   "outputs": [
    {
     "data": {
      "text/html": [
       "<div>\n",
       "<style scoped>\n",
       "    .dataframe tbody tr th:only-of-type {\n",
       "        vertical-align: middle;\n",
       "    }\n",
       "\n",
       "    .dataframe tbody tr th {\n",
       "        vertical-align: top;\n",
       "    }\n",
       "\n",
       "    .dataframe thead th {\n",
       "        text-align: right;\n",
       "    }\n",
       "</style>\n",
       "<table border=\"1\" class=\"dataframe\">\n",
       "  <thead>\n",
       "    <tr style=\"text-align: right;\">\n",
       "      <th></th>\n",
       "      <th>survived</th>\n",
       "      <th>pclass</th>\n",
       "      <th>sex</th>\n",
       "      <th>age</th>\n",
       "      <th>sibsp</th>\n",
       "      <th>parch</th>\n",
       "      <th>fare</th>\n",
       "      <th>embarked</th>\n",
       "      <th>class</th>\n",
       "      <th>who</th>\n",
       "      <th>adult_male</th>\n",
       "      <th>deck</th>\n",
       "      <th>embark_town</th>\n",
       "      <th>alive</th>\n",
       "      <th>alone</th>\n",
       "    </tr>\n",
       "  </thead>\n",
       "  <tbody>\n",
       "    <tr>\n",
       "      <th>0</th>\n",
       "      <td>0</td>\n",
       "      <td>3</td>\n",
       "      <td>male</td>\n",
       "      <td>22.0</td>\n",
       "      <td>1</td>\n",
       "      <td>0</td>\n",
       "      <td>7.2500</td>\n",
       "      <td>S</td>\n",
       "      <td>Third</td>\n",
       "      <td>man</td>\n",
       "      <td>True</td>\n",
       "      <td>NaN</td>\n",
       "      <td>Southampton</td>\n",
       "      <td>no</td>\n",
       "      <td>False</td>\n",
       "    </tr>\n",
       "    <tr>\n",
       "      <th>1</th>\n",
       "      <td>1</td>\n",
       "      <td>1</td>\n",
       "      <td>female</td>\n",
       "      <td>38.0</td>\n",
       "      <td>1</td>\n",
       "      <td>0</td>\n",
       "      <td>71.2833</td>\n",
       "      <td>C</td>\n",
       "      <td>First</td>\n",
       "      <td>woman</td>\n",
       "      <td>False</td>\n",
       "      <td>C</td>\n",
       "      <td>Cherbourg</td>\n",
       "      <td>yes</td>\n",
       "      <td>False</td>\n",
       "    </tr>\n",
       "    <tr>\n",
       "      <th>2</th>\n",
       "      <td>1</td>\n",
       "      <td>3</td>\n",
       "      <td>female</td>\n",
       "      <td>26.0</td>\n",
       "      <td>0</td>\n",
       "      <td>0</td>\n",
       "      <td>7.9250</td>\n",
       "      <td>S</td>\n",
       "      <td>Third</td>\n",
       "      <td>woman</td>\n",
       "      <td>False</td>\n",
       "      <td>NaN</td>\n",
       "      <td>Southampton</td>\n",
       "      <td>yes</td>\n",
       "      <td>True</td>\n",
       "    </tr>\n",
       "    <tr>\n",
       "      <th>3</th>\n",
       "      <td>1</td>\n",
       "      <td>1</td>\n",
       "      <td>female</td>\n",
       "      <td>35.0</td>\n",
       "      <td>1</td>\n",
       "      <td>0</td>\n",
       "      <td>53.1000</td>\n",
       "      <td>S</td>\n",
       "      <td>First</td>\n",
       "      <td>woman</td>\n",
       "      <td>False</td>\n",
       "      <td>C</td>\n",
       "      <td>Southampton</td>\n",
       "      <td>yes</td>\n",
       "      <td>False</td>\n",
       "    </tr>\n",
       "    <tr>\n",
       "      <th>4</th>\n",
       "      <td>0</td>\n",
       "      <td>3</td>\n",
       "      <td>male</td>\n",
       "      <td>35.0</td>\n",
       "      <td>0</td>\n",
       "      <td>0</td>\n",
       "      <td>8.0500</td>\n",
       "      <td>S</td>\n",
       "      <td>Third</td>\n",
       "      <td>man</td>\n",
       "      <td>True</td>\n",
       "      <td>NaN</td>\n",
       "      <td>Southampton</td>\n",
       "      <td>no</td>\n",
       "      <td>True</td>\n",
       "    </tr>\n",
       "  </tbody>\n",
       "</table>\n",
       "</div>"
      ],
      "text/plain": [
       "   survived  pclass     sex   age  sibsp  parch     fare embarked  class  \\\n",
       "0         0       3    male  22.0      1      0   7.2500        S  Third   \n",
       "1         1       1  female  38.0      1      0  71.2833        C  First   \n",
       "2         1       3  female  26.0      0      0   7.9250        S  Third   \n",
       "3         1       1  female  35.0      1      0  53.1000        S  First   \n",
       "4         0       3    male  35.0      0      0   8.0500        S  Third   \n",
       "\n",
       "     who  adult_male deck  embark_town alive  alone  \n",
       "0    man        True  NaN  Southampton    no  False  \n",
       "1  woman       False    C    Cherbourg   yes  False  \n",
       "2  woman       False  NaN  Southampton   yes   True  \n",
       "3  woman       False    C  Southampton   yes  False  \n",
       "4    man        True  NaN  Southampton    no   True  "
      ]
     },
     "execution_count": 1,
     "metadata": {},
     "output_type": "execute_result"
    }
   ],
   "source": [
    "#Import Libraries and dataset\n",
    "import pandas as np\n",
    "import plotly.express as px\n",
    "import seaborn as sns\n",
    "\n",
    "df = sns.load_dataset('titanic')\n",
    "df.head()"
   ]
  },
  {
   "cell_type": "code",
   "execution_count": 2,
   "metadata": {},
   "outputs": [
    {
     "name": "stderr",
     "output_type": "stream",
     "text": [
      "c:\\Users\\mnsai\\.conda\\envs\\python_eda\\Lib\\site-packages\\plotly\\express\\_core.py:1699: FutureWarning: The default of observed=False is deprecated and will be changed to True in a future version of pandas. Pass observed=False to retain current behavior or observed=True to adopt the future default and silence this warning.\n",
      "  dfg = df.groupby(path[i:]).agg(agg_f)\n",
      "c:\\Users\\mnsai\\.conda\\envs\\python_eda\\Lib\\site-packages\\plotly\\express\\_core.py:1699: FutureWarning: The default of observed=False is deprecated and will be changed to True in a future version of pandas. Pass observed=False to retain current behavior or observed=True to adopt the future default and silence this warning.\n",
      "  dfg = df.groupby(path[i:]).agg(agg_f)\n",
      "c:\\Users\\mnsai\\.conda\\envs\\python_eda\\Lib\\site-packages\\plotly\\express\\_core.py:1699: FutureWarning: The default of observed=False is deprecated and will be changed to True in a future version of pandas. Pass observed=False to retain current behavior or observed=True to adopt the future default and silence this warning.\n",
      "  dfg = df.groupby(path[i:]).agg(agg_f)\n",
      "c:\\Users\\mnsai\\.conda\\envs\\python_eda\\Lib\\site-packages\\plotly\\express\\_core.py:1699: FutureWarning: The default of observed=False is deprecated and will be changed to True in a future version of pandas. Pass observed=False to retain current behavior or observed=True to adopt the future default and silence this warning.\n",
      "  dfg = df.groupby(path[i:]).agg(agg_f)\n"
     ]
    },
    {
     "data": {
      "application/vnd.plotly.v1+json": {
       "config": {
        "plotlyServerURL": "https://plot.ly"
       },
       "data": [
        {
         "branchvalues": "total",
         "customdata": [
          [
           "female"
          ],
          [
           "female"
          ],
          [
           "male"
          ],
          [
           "male"
          ],
          [
           null
          ],
          [
           "male"
          ],
          [
           null
          ],
          [
           "female"
          ],
          [
           null
          ],
          [
           null
          ],
          [
           "female"
          ],
          [
           "male"
          ],
          [
           "female"
          ],
          [
           "female"
          ],
          [
           null
          ],
          [
           "male"
          ],
          [
           null
          ],
          [
           "female"
          ],
          [
           null
          ],
          [
           "female"
          ],
          [
           null
          ],
          [
           null
          ],
          [
           "female"
          ],
          [
           "male"
          ],
          [
           "male"
          ],
          [
           "male"
          ],
          [
           null
          ],
          [
           "male"
          ],
          [
           null
          ],
          [
           "female"
          ],
          [
           null
          ],
          [
           null
          ],
          [
           "male"
          ],
          [
           "male"
          ],
          [
           "male"
          ],
          [
           "male"
          ],
          [
           "female"
          ],
          [
           null
          ],
          [
           null
          ],
          [
           null
          ],
          [
           "female"
          ],
          [
           "male"
          ],
          [
           null
          ],
          [
           null
          ],
          [
           "female"
          ],
          [
           null
          ],
          [
           "female"
          ],
          [
           null
          ],
          [
           null
          ],
          [
           null
          ],
          [
           "female"
          ],
          [
           null
          ],
          [
           "female"
          ],
          [
           null
          ],
          [
           "female"
          ],
          [
           "male"
          ],
          [
           "male"
          ],
          [
           "male"
          ],
          [
           "male"
          ],
          [
           "female"
          ],
          [
           "male"
          ],
          [
           "female"
          ],
          [
           "male"
          ],
          [
           null
          ],
          [
           null
          ],
          [
           "female"
          ],
          [
           "male"
          ],
          [
           "female"
          ],
          [
           "male"
          ],
          [
           "male"
          ],
          [
           "female"
          ],
          [
           null
          ],
          [
           "female"
          ],
          [
           "female"
          ],
          [
           null
          ],
          [
           null
          ],
          [
           "female"
          ],
          [
           "male"
          ],
          [
           null
          ],
          [
           "male"
          ],
          [
           "female"
          ],
          [
           "male"
          ],
          [
           "female"
          ],
          [
           null
          ],
          [
           null
          ],
          [
           "male"
          ],
          [
           null
          ],
          [
           "female"
          ],
          [
           "male"
          ],
          [
           "female"
          ],
          [
           null
          ],
          [
           "male"
          ],
          [
           null
          ],
          [
           null
          ],
          [
           "male"
          ],
          [
           null
          ],
          [
           "female"
          ],
          [
           "female"
          ],
          [
           null
          ],
          [
           "male"
          ],
          [
           null
          ],
          [
           "male"
          ],
          [
           null
          ],
          [
           "male"
          ],
          [
           "female"
          ],
          [
           null
          ],
          [
           null
          ],
          [
           null
          ],
          [
           "female"
          ],
          [
           "female"
          ],
          [
           null
          ],
          [
           null
          ],
          [
           null
          ],
          [
           "female"
          ],
          [
           null
          ],
          [
           "male"
          ],
          [
           null
          ],
          [
           null
          ],
          [
           "male"
          ],
          [
           "female"
          ],
          [
           null
          ],
          [
           null
          ],
          [
           null
          ],
          [
           "female"
          ],
          [
           "female"
          ],
          [
           "female"
          ],
          [
           null
          ],
          [
           null
          ],
          [
           null
          ],
          [
           "male"
          ],
          [
           null
          ],
          [
           "male"
          ],
          [
           null
          ],
          [
           "female"
          ]
         ],
         "domain": {
          "x": [
           0,
           1
          ],
          "y": [
           0,
           1
          ]
         },
         "hovertemplate": "labels=%{label}<br>survived=%{value}<br>parent=%{parent}<br>id=%{id}<br>sex=%{customdata[0]}<extra></extra>",
         "ids": [
          "female/First/woman/yes/True",
          "female/Third/child/no/True",
          "male/Third/child/no/True",
          "male/First/man/no/True",
          "female/Second/man/no/True",
          "male/Third/man/no/True",
          "male/First/woman/no/True",
          "female/Third/woman/no/True",
          "male/Third/woman/no/True",
          "female/Second/child/yes/True",
          "female/Third/child/yes/True",
          "male/First/man/yes/True",
          "female",
          "female/Second/woman/yes/True",
          "male/Third/woman/yes/True",
          "male/First/man/no",
          "female/Third/man/no",
          "female/First/woman/no",
          "male/First/woman/no",
          "female/Third/woman/no",
          "female/Second/man/yes",
          "female/Third/man/yes",
          "female/Third/woman/yes",
          "male/First/child",
          "male/Second/child",
          "male/Third/child",
          "female/First/man",
          "male/Third/man",
          "male/Second/woman",
          "female/Second",
          "male/Second/child/no/True",
          "female/Second/child/no/True",
          "male",
          "male/Third/man/no/False",
          "male/First/child/yes/False",
          "male/Second/man/no/False",
          "female/Third/child/yes/False",
          "female/Third/man/no/False",
          "male/Second/child/no/False",
          "female/First/man/yes/False",
          "female/First/child/yes/False",
          "male/First/man/yes/False",
          "female/Second/child/no/False",
          "female/Second/man/no/False",
          "female/Second/woman/yes/False",
          "female/Third/man/yes/False",
          "female/Second/woman/no/False",
          "male/First/woman/yes/False",
          "male/First/child/no/False",
          "male/Second/woman/no/False",
          "female/First/child/yes",
          "male/Second/woman/yes",
          "female/Second/woman/yes",
          "male/First/woman/yes",
          "female/First/woman/yes",
          "male/Third/man/yes",
          "male/Second/child/yes",
          "male/Second/man/yes",
          "male/First/man/yes",
          "female/Second/child/yes",
          "male/Third/child/yes",
          "female/Third/child/yes",
          "male/First/child/yes",
          "female/First/man/yes",
          "male/Second/woman/yes/False",
          "female/First/child",
          "male/Third",
          "female/Third",
          "male/Second",
          "male/First",
          "female/First",
          "male/Third/woman",
          "female/Third/woman",
          "female/Second/woman",
          "male/First/woman",
          "male/Third/woman/yes",
          "female/First/woman",
          "male/Second/man",
          "female/Second/man",
          "male/First/man",
          "female/Third/child/no/False",
          "male/Third/child/no/False",
          "female/Third/child",
          "female/First/man/no/False",
          "male/Third/woman/no",
          "male/First/man/no/False",
          "female/Third/man",
          "female/Second/child",
          "male/Third/man/no",
          "female/Second/woman/no",
          "male/Second/child/yes/True",
          "male/Second/child/yes/False",
          "male/First/child/yes/True",
          "female/First/child/yes/True",
          "male/Third/child/yes/False",
          "male/Second/woman/no/True",
          "female/Second/woman/no/True",
          "female/First/woman/no/True",
          "female/Third/man/no/True",
          "male/Second/man/no/True",
          "female/Second/man/yes/False",
          "male/Second/man/yes/False",
          "female/First/man/no/True",
          "male/Third/man/yes/False",
          "female/First/woman/yes/False",
          "male/First/child/no/True",
          "female/First/child/no/True",
          "male/Third/woman/yes/False",
          "female/Third/woman/yes/False",
          "female/Second/child/yes/False",
          "male/Second/woman/no",
          "male/Third/child/yes/True",
          "female/Second/man/yes/True",
          "female/First/woman/no/False",
          "male/First/woman/no/False",
          "male/Second/man/no",
          "female/Second/man/no",
          "female/First/man/no",
          "male/Third/child/no",
          "female/Third/child/no",
          "male/Second/child/no",
          "female/Second/child/no",
          "male/First/child/no",
          "female/First/child/no",
          "female/Third/woman/no/False",
          "female/Third/woman/yes/True",
          "male/Second/woman/yes/True",
          "male/Third/woman/no/False",
          "male/First/woman/yes/True",
          "male/Third/man/yes/True",
          "female/Third/man/yes/True",
          "male/Second/man/yes/True",
          "female/First/man/yes/True",
          "female/First/child/no/False"
         ],
         "labels": [
          "True",
          "True",
          "True",
          "True",
          "True",
          "True",
          "True",
          "True",
          "True",
          "True",
          "True",
          "True",
          "female",
          "True",
          "True",
          "no",
          "no",
          "no",
          "no",
          "no",
          "yes",
          "yes",
          "yes",
          "child",
          "child",
          "child",
          "man",
          "man",
          "woman",
          "Second",
          "True",
          "True",
          "male",
          "False",
          "False",
          "False",
          "False",
          "False",
          "False",
          "False",
          "False",
          "False",
          "False",
          "False",
          "False",
          "False",
          "False",
          "False",
          "False",
          "False",
          "yes",
          "yes",
          "yes",
          "yes",
          "yes",
          "yes",
          "yes",
          "yes",
          "yes",
          "yes",
          "yes",
          "yes",
          "yes",
          "yes",
          "False",
          "child",
          "Third",
          "Third",
          "Second",
          "First",
          "First",
          "woman",
          "woman",
          "woman",
          "woman",
          "yes",
          "woman",
          "man",
          "man",
          "man",
          "False",
          "False",
          "child",
          "False",
          "no",
          "False",
          "man",
          "child",
          "no",
          "no",
          "True",
          "False",
          "True",
          "True",
          "False",
          "True",
          "True",
          "True",
          "True",
          "True",
          "False",
          "False",
          "True",
          "False",
          "False",
          "True",
          "True",
          "False",
          "False",
          "False",
          "no",
          "True",
          "True",
          "False",
          "False",
          "no",
          "no",
          "no",
          "no",
          "no",
          "no",
          "no",
          "no",
          "no",
          "False",
          "True",
          "True",
          "False",
          "True",
          "True",
          "True",
          "True",
          "True",
          "False"
         ],
         "marker": {
          "colors": [
           "#636efa",
           "#636efa",
           "#EF553B",
           "#EF553B",
           "#00cc96",
           "#EF553B",
           "#00cc96",
           "#636efa",
           "#00cc96",
           "#00cc96",
           "#636efa",
           "#EF553B",
           "#636efa",
           "#636efa",
           "#00cc96",
           "#EF553B",
           "#00cc96",
           "#636efa",
           "#00cc96",
           "#636efa",
           "#00cc96",
           "#00cc96",
           "#636efa",
           "#EF553B",
           "#EF553B",
           "#EF553B",
           "#00cc96",
           "#EF553B",
           "#00cc96",
           "#636efa",
           "#00cc96",
           "#00cc96",
           "#EF553B",
           "#EF553B",
           "#EF553B",
           "#EF553B",
           "#636efa",
           "#00cc96",
           "#00cc96",
           "#00cc96",
           "#636efa",
           "#EF553B",
           "#00cc96",
           "#00cc96",
           "#636efa",
           "#00cc96",
           "#636efa",
           "#00cc96",
           "#00cc96",
           "#00cc96",
           "#636efa",
           "#00cc96",
           "#636efa",
           "#00cc96",
           "#636efa",
           "#EF553B",
           "#EF553B",
           "#EF553B",
           "#EF553B",
           "#636efa",
           "#EF553B",
           "#636efa",
           "#EF553B",
           "#00cc96",
           "#00cc96",
           "#636efa",
           "#EF553B",
           "#636efa",
           "#EF553B",
           "#EF553B",
           "#636efa",
           "#00cc96",
           "#636efa",
           "#636efa",
           "#00cc96",
           "#00cc96",
           "#636efa",
           "#EF553B",
           "#00cc96",
           "#EF553B",
           "#636efa",
           "#EF553B",
           "#636efa",
           "#00cc96",
           "#00cc96",
           "#EF553B",
           "#00cc96",
           "#636efa",
           "#EF553B",
           "#636efa",
           "#00cc96",
           "#EF553B",
           "#00cc96",
           "#00cc96",
           "#EF553B",
           "#00cc96",
           "#636efa",
           "#636efa",
           "#00cc96",
           "#EF553B",
           "#00cc96",
           "#EF553B",
           "#00cc96",
           "#EF553B",
           "#636efa",
           "#00cc96",
           "#00cc96",
           "#00cc96",
           "#636efa",
           "#636efa",
           "#00cc96",
           "#00cc96",
           "#00cc96",
           "#636efa",
           "#00cc96",
           "#EF553B",
           "#00cc96",
           "#00cc96",
           "#EF553B",
           "#636efa",
           "#00cc96",
           "#00cc96",
           "#00cc96",
           "#636efa",
           "#636efa",
           "#636efa",
           "#00cc96",
           "#00cc96",
           "#00cc96",
           "#EF553B",
           "#00cc96",
           "#EF553B",
           "#00cc96",
           "#636efa"
          ]
         },
         "name": "",
         "parents": [
          "female/First/woman/yes",
          "female/Third/child/no",
          "male/Third/child/no",
          "male/First/man/no",
          "female/Second/man/no",
          "male/Third/man/no",
          "male/First/woman/no",
          "female/Third/woman/no",
          "male/Third/woman/no",
          "female/Second/child/yes",
          "female/Third/child/yes",
          "male/First/man/yes",
          "",
          "female/Second/woman/yes",
          "male/Third/woman/yes",
          "male/First/man",
          "female/Third/man",
          "female/First/woman",
          "male/First/woman",
          "female/Third/woman",
          "female/Second/man",
          "female/Third/man",
          "female/Third/woman",
          "male/First",
          "male/Second",
          "male/Third",
          "female/First",
          "male/Third",
          "male/Second",
          "female",
          "male/Second/child/no",
          "female/Second/child/no",
          "",
          "male/Third/man/no",
          "male/First/child/yes",
          "male/Second/man/no",
          "female/Third/child/yes",
          "female/Third/man/no",
          "male/Second/child/no",
          "female/First/man/yes",
          "female/First/child/yes",
          "male/First/man/yes",
          "female/Second/child/no",
          "female/Second/man/no",
          "female/Second/woman/yes",
          "female/Third/man/yes",
          "female/Second/woman/no",
          "male/First/woman/yes",
          "male/First/child/no",
          "male/Second/woman/no",
          "female/First/child",
          "male/Second/woman",
          "female/Second/woman",
          "male/First/woman",
          "female/First/woman",
          "male/Third/man",
          "male/Second/child",
          "male/Second/man",
          "male/First/man",
          "female/Second/child",
          "male/Third/child",
          "female/Third/child",
          "male/First/child",
          "female/First/man",
          "male/Second/woman/yes",
          "female/First",
          "male",
          "female",
          "male",
          "male",
          "female",
          "male/Third",
          "female/Third",
          "female/Second",
          "male/First",
          "male/Third/woman",
          "female/First",
          "male/Second",
          "female/Second",
          "male/First",
          "female/Third/child/no",
          "male/Third/child/no",
          "female/Third",
          "female/First/man/no",
          "male/Third/woman",
          "male/First/man/no",
          "female/Third",
          "female/Second",
          "male/Third/man",
          "female/Second/woman",
          "male/Second/child/yes",
          "male/Second/child/yes",
          "male/First/child/yes",
          "female/First/child/yes",
          "male/Third/child/yes",
          "male/Second/woman/no",
          "female/Second/woman/no",
          "female/First/woman/no",
          "female/Third/man/no",
          "male/Second/man/no",
          "female/Second/man/yes",
          "male/Second/man/yes",
          "female/First/man/no",
          "male/Third/man/yes",
          "female/First/woman/yes",
          "male/First/child/no",
          "female/First/child/no",
          "male/Third/woman/yes",
          "female/Third/woman/yes",
          "female/Second/child/yes",
          "male/Second/woman",
          "male/Third/child/yes",
          "female/Second/man/yes",
          "female/First/woman/no",
          "male/First/woman/no",
          "male/Second/man",
          "female/Second/man",
          "female/First/man",
          "male/Third/child",
          "female/Third/child",
          "male/Second/child",
          "female/Second/child",
          "male/First/child",
          "female/First/child",
          "female/Third/woman/no",
          "female/Third/woman/yes",
          "male/Second/woman/yes",
          "male/Third/woman/no",
          "male/First/woman/yes",
          "male/Third/man/yes",
          "female/Third/man/yes",
          "male/Second/man/yes",
          "female/First/man/yes",
          "female/First/child/no"
         ],
         "type": "sunburst",
         "values": [
          33,
          0,
          0,
          0,
          0,
          0,
          0,
          0,
          0,
          0,
          4,
          25,
          233,
          29,
          0,
          0,
          0,
          0,
          0,
          0,
          0,
          0,
          56,
          3,
          9,
          9,
          0,
          38,
          0,
          70,
          0,
          0,
          109,
          0,
          3,
          0,
          12,
          0,
          0,
          0,
          2,
          17,
          0,
          0,
          31,
          0,
          0,
          0,
          0,
          0,
          2,
          0,
          60,
          0,
          89,
          38,
          9,
          8,
          42,
          10,
          9,
          16,
          3,
          0,
          0,
          2,
          47,
          72,
          17,
          45,
          91,
          0,
          56,
          60,
          0,
          0,
          89,
          8,
          0,
          42,
          0,
          0,
          16,
          0,
          0,
          0,
          0,
          10,
          0,
          0,
          0,
          9,
          0,
          0,
          9,
          0,
          0,
          0,
          0,
          0,
          0,
          1,
          0,
          6,
          56,
          0,
          0,
          0,
          23,
          10,
          0,
          0,
          0,
          0,
          0,
          0,
          0,
          0,
          0,
          0,
          0,
          0,
          0,
          0,
          0,
          33,
          0,
          0,
          0,
          32,
          0,
          7,
          0,
          0
         ]
        }
       ],
       "layout": {
        "legend": {
         "tracegroupgap": 0
        },
        "margin": {
         "t": 60
        },
        "template": {
         "data": {
          "bar": [
           {
            "error_x": {
             "color": "#2a3f5f"
            },
            "error_y": {
             "color": "#2a3f5f"
            },
            "marker": {
             "line": {
              "color": "#E5ECF6",
              "width": 0.5
             },
             "pattern": {
              "fillmode": "overlay",
              "size": 10,
              "solidity": 0.2
             }
            },
            "type": "bar"
           }
          ],
          "barpolar": [
           {
            "marker": {
             "line": {
              "color": "#E5ECF6",
              "width": 0.5
             },
             "pattern": {
              "fillmode": "overlay",
              "size": 10,
              "solidity": 0.2
             }
            },
            "type": "barpolar"
           }
          ],
          "carpet": [
           {
            "aaxis": {
             "endlinecolor": "#2a3f5f",
             "gridcolor": "white",
             "linecolor": "white",
             "minorgridcolor": "white",
             "startlinecolor": "#2a3f5f"
            },
            "baxis": {
             "endlinecolor": "#2a3f5f",
             "gridcolor": "white",
             "linecolor": "white",
             "minorgridcolor": "white",
             "startlinecolor": "#2a3f5f"
            },
            "type": "carpet"
           }
          ],
          "choropleth": [
           {
            "colorbar": {
             "outlinewidth": 0,
             "ticks": ""
            },
            "type": "choropleth"
           }
          ],
          "contour": [
           {
            "colorbar": {
             "outlinewidth": 0,
             "ticks": ""
            },
            "colorscale": [
             [
              0,
              "#0d0887"
             ],
             [
              0.1111111111111111,
              "#46039f"
             ],
             [
              0.2222222222222222,
              "#7201a8"
             ],
             [
              0.3333333333333333,
              "#9c179e"
             ],
             [
              0.4444444444444444,
              "#bd3786"
             ],
             [
              0.5555555555555556,
              "#d8576b"
             ],
             [
              0.6666666666666666,
              "#ed7953"
             ],
             [
              0.7777777777777778,
              "#fb9f3a"
             ],
             [
              0.8888888888888888,
              "#fdca26"
             ],
             [
              1,
              "#f0f921"
             ]
            ],
            "type": "contour"
           }
          ],
          "contourcarpet": [
           {
            "colorbar": {
             "outlinewidth": 0,
             "ticks": ""
            },
            "type": "contourcarpet"
           }
          ],
          "heatmap": [
           {
            "colorbar": {
             "outlinewidth": 0,
             "ticks": ""
            },
            "colorscale": [
             [
              0,
              "#0d0887"
             ],
             [
              0.1111111111111111,
              "#46039f"
             ],
             [
              0.2222222222222222,
              "#7201a8"
             ],
             [
              0.3333333333333333,
              "#9c179e"
             ],
             [
              0.4444444444444444,
              "#bd3786"
             ],
             [
              0.5555555555555556,
              "#d8576b"
             ],
             [
              0.6666666666666666,
              "#ed7953"
             ],
             [
              0.7777777777777778,
              "#fb9f3a"
             ],
             [
              0.8888888888888888,
              "#fdca26"
             ],
             [
              1,
              "#f0f921"
             ]
            ],
            "type": "heatmap"
           }
          ],
          "heatmapgl": [
           {
            "colorbar": {
             "outlinewidth": 0,
             "ticks": ""
            },
            "colorscale": [
             [
              0,
              "#0d0887"
             ],
             [
              0.1111111111111111,
              "#46039f"
             ],
             [
              0.2222222222222222,
              "#7201a8"
             ],
             [
              0.3333333333333333,
              "#9c179e"
             ],
             [
              0.4444444444444444,
              "#bd3786"
             ],
             [
              0.5555555555555556,
              "#d8576b"
             ],
             [
              0.6666666666666666,
              "#ed7953"
             ],
             [
              0.7777777777777778,
              "#fb9f3a"
             ],
             [
              0.8888888888888888,
              "#fdca26"
             ],
             [
              1,
              "#f0f921"
             ]
            ],
            "type": "heatmapgl"
           }
          ],
          "histogram": [
           {
            "marker": {
             "pattern": {
              "fillmode": "overlay",
              "size": 10,
              "solidity": 0.2
             }
            },
            "type": "histogram"
           }
          ],
          "histogram2d": [
           {
            "colorbar": {
             "outlinewidth": 0,
             "ticks": ""
            },
            "colorscale": [
             [
              0,
              "#0d0887"
             ],
             [
              0.1111111111111111,
              "#46039f"
             ],
             [
              0.2222222222222222,
              "#7201a8"
             ],
             [
              0.3333333333333333,
              "#9c179e"
             ],
             [
              0.4444444444444444,
              "#bd3786"
             ],
             [
              0.5555555555555556,
              "#d8576b"
             ],
             [
              0.6666666666666666,
              "#ed7953"
             ],
             [
              0.7777777777777778,
              "#fb9f3a"
             ],
             [
              0.8888888888888888,
              "#fdca26"
             ],
             [
              1,
              "#f0f921"
             ]
            ],
            "type": "histogram2d"
           }
          ],
          "histogram2dcontour": [
           {
            "colorbar": {
             "outlinewidth": 0,
             "ticks": ""
            },
            "colorscale": [
             [
              0,
              "#0d0887"
             ],
             [
              0.1111111111111111,
              "#46039f"
             ],
             [
              0.2222222222222222,
              "#7201a8"
             ],
             [
              0.3333333333333333,
              "#9c179e"
             ],
             [
              0.4444444444444444,
              "#bd3786"
             ],
             [
              0.5555555555555556,
              "#d8576b"
             ],
             [
              0.6666666666666666,
              "#ed7953"
             ],
             [
              0.7777777777777778,
              "#fb9f3a"
             ],
             [
              0.8888888888888888,
              "#fdca26"
             ],
             [
              1,
              "#f0f921"
             ]
            ],
            "type": "histogram2dcontour"
           }
          ],
          "mesh3d": [
           {
            "colorbar": {
             "outlinewidth": 0,
             "ticks": ""
            },
            "type": "mesh3d"
           }
          ],
          "parcoords": [
           {
            "line": {
             "colorbar": {
              "outlinewidth": 0,
              "ticks": ""
             }
            },
            "type": "parcoords"
           }
          ],
          "pie": [
           {
            "automargin": true,
            "type": "pie"
           }
          ],
          "scatter": [
           {
            "fillpattern": {
             "fillmode": "overlay",
             "size": 10,
             "solidity": 0.2
            },
            "type": "scatter"
           }
          ],
          "scatter3d": [
           {
            "line": {
             "colorbar": {
              "outlinewidth": 0,
              "ticks": ""
             }
            },
            "marker": {
             "colorbar": {
              "outlinewidth": 0,
              "ticks": ""
             }
            },
            "type": "scatter3d"
           }
          ],
          "scattercarpet": [
           {
            "marker": {
             "colorbar": {
              "outlinewidth": 0,
              "ticks": ""
             }
            },
            "type": "scattercarpet"
           }
          ],
          "scattergeo": [
           {
            "marker": {
             "colorbar": {
              "outlinewidth": 0,
              "ticks": ""
             }
            },
            "type": "scattergeo"
           }
          ],
          "scattergl": [
           {
            "marker": {
             "colorbar": {
              "outlinewidth": 0,
              "ticks": ""
             }
            },
            "type": "scattergl"
           }
          ],
          "scattermapbox": [
           {
            "marker": {
             "colorbar": {
              "outlinewidth": 0,
              "ticks": ""
             }
            },
            "type": "scattermapbox"
           }
          ],
          "scatterpolar": [
           {
            "marker": {
             "colorbar": {
              "outlinewidth": 0,
              "ticks": ""
             }
            },
            "type": "scatterpolar"
           }
          ],
          "scatterpolargl": [
           {
            "marker": {
             "colorbar": {
              "outlinewidth": 0,
              "ticks": ""
             }
            },
            "type": "scatterpolargl"
           }
          ],
          "scatterternary": [
           {
            "marker": {
             "colorbar": {
              "outlinewidth": 0,
              "ticks": ""
             }
            },
            "type": "scatterternary"
           }
          ],
          "surface": [
           {
            "colorbar": {
             "outlinewidth": 0,
             "ticks": ""
            },
            "colorscale": [
             [
              0,
              "#0d0887"
             ],
             [
              0.1111111111111111,
              "#46039f"
             ],
             [
              0.2222222222222222,
              "#7201a8"
             ],
             [
              0.3333333333333333,
              "#9c179e"
             ],
             [
              0.4444444444444444,
              "#bd3786"
             ],
             [
              0.5555555555555556,
              "#d8576b"
             ],
             [
              0.6666666666666666,
              "#ed7953"
             ],
             [
              0.7777777777777778,
              "#fb9f3a"
             ],
             [
              0.8888888888888888,
              "#fdca26"
             ],
             [
              1,
              "#f0f921"
             ]
            ],
            "type": "surface"
           }
          ],
          "table": [
           {
            "cells": {
             "fill": {
              "color": "#EBF0F8"
             },
             "line": {
              "color": "white"
             }
            },
            "header": {
             "fill": {
              "color": "#C8D4E3"
             },
             "line": {
              "color": "white"
             }
            },
            "type": "table"
           }
          ]
         },
         "layout": {
          "annotationdefaults": {
           "arrowcolor": "#2a3f5f",
           "arrowhead": 0,
           "arrowwidth": 1
          },
          "autotypenumbers": "strict",
          "coloraxis": {
           "colorbar": {
            "outlinewidth": 0,
            "ticks": ""
           }
          },
          "colorscale": {
           "diverging": [
            [
             0,
             "#8e0152"
            ],
            [
             0.1,
             "#c51b7d"
            ],
            [
             0.2,
             "#de77ae"
            ],
            [
             0.3,
             "#f1b6da"
            ],
            [
             0.4,
             "#fde0ef"
            ],
            [
             0.5,
             "#f7f7f7"
            ],
            [
             0.6,
             "#e6f5d0"
            ],
            [
             0.7,
             "#b8e186"
            ],
            [
             0.8,
             "#7fbc41"
            ],
            [
             0.9,
             "#4d9221"
            ],
            [
             1,
             "#276419"
            ]
           ],
           "sequential": [
            [
             0,
             "#0d0887"
            ],
            [
             0.1111111111111111,
             "#46039f"
            ],
            [
             0.2222222222222222,
             "#7201a8"
            ],
            [
             0.3333333333333333,
             "#9c179e"
            ],
            [
             0.4444444444444444,
             "#bd3786"
            ],
            [
             0.5555555555555556,
             "#d8576b"
            ],
            [
             0.6666666666666666,
             "#ed7953"
            ],
            [
             0.7777777777777778,
             "#fb9f3a"
            ],
            [
             0.8888888888888888,
             "#fdca26"
            ],
            [
             1,
             "#f0f921"
            ]
           ],
           "sequentialminus": [
            [
             0,
             "#0d0887"
            ],
            [
             0.1111111111111111,
             "#46039f"
            ],
            [
             0.2222222222222222,
             "#7201a8"
            ],
            [
             0.3333333333333333,
             "#9c179e"
            ],
            [
             0.4444444444444444,
             "#bd3786"
            ],
            [
             0.5555555555555556,
             "#d8576b"
            ],
            [
             0.6666666666666666,
             "#ed7953"
            ],
            [
             0.7777777777777778,
             "#fb9f3a"
            ],
            [
             0.8888888888888888,
             "#fdca26"
            ],
            [
             1,
             "#f0f921"
            ]
           ]
          },
          "colorway": [
           "#636efa",
           "#EF553B",
           "#00cc96",
           "#ab63fa",
           "#FFA15A",
           "#19d3f3",
           "#FF6692",
           "#B6E880",
           "#FF97FF",
           "#FECB52"
          ],
          "font": {
           "color": "#2a3f5f"
          },
          "geo": {
           "bgcolor": "white",
           "lakecolor": "white",
           "landcolor": "#E5ECF6",
           "showlakes": true,
           "showland": true,
           "subunitcolor": "white"
          },
          "hoverlabel": {
           "align": "left"
          },
          "hovermode": "closest",
          "mapbox": {
           "style": "light"
          },
          "paper_bgcolor": "white",
          "plot_bgcolor": "#E5ECF6",
          "polar": {
           "angularaxis": {
            "gridcolor": "white",
            "linecolor": "white",
            "ticks": ""
           },
           "bgcolor": "#E5ECF6",
           "radialaxis": {
            "gridcolor": "white",
            "linecolor": "white",
            "ticks": ""
           }
          },
          "scene": {
           "xaxis": {
            "backgroundcolor": "#E5ECF6",
            "gridcolor": "white",
            "gridwidth": 2,
            "linecolor": "white",
            "showbackground": true,
            "ticks": "",
            "zerolinecolor": "white"
           },
           "yaxis": {
            "backgroundcolor": "#E5ECF6",
            "gridcolor": "white",
            "gridwidth": 2,
            "linecolor": "white",
            "showbackground": true,
            "ticks": "",
            "zerolinecolor": "white"
           },
           "zaxis": {
            "backgroundcolor": "#E5ECF6",
            "gridcolor": "white",
            "gridwidth": 2,
            "linecolor": "white",
            "showbackground": true,
            "ticks": "",
            "zerolinecolor": "white"
           }
          },
          "shapedefaults": {
           "line": {
            "color": "#2a3f5f"
           }
          },
          "ternary": {
           "aaxis": {
            "gridcolor": "white",
            "linecolor": "white",
            "ticks": ""
           },
           "baxis": {
            "gridcolor": "white",
            "linecolor": "white",
            "ticks": ""
           },
           "bgcolor": "#E5ECF6",
           "caxis": {
            "gridcolor": "white",
            "linecolor": "white",
            "ticks": ""
           }
          },
          "title": {
           "x": 0.05
          },
          "xaxis": {
           "automargin": true,
           "gridcolor": "white",
           "linecolor": "white",
           "ticks": "",
           "title": {
            "standoff": 15
           },
           "zerolinecolor": "white",
           "zerolinewidth": 2
          },
          "yaxis": {
           "automargin": true,
           "gridcolor": "white",
           "linecolor": "white",
           "ticks": "",
           "title": {
            "standoff": 15
           },
           "zerolinecolor": "white",
           "zerolinewidth": 2
          }
         }
        }
       }
      }
     },
     "metadata": {},
     "output_type": "display_data"
    }
   ],
   "source": [
    "# sunburst Plot on Titanic Dataset\n",
    "\n",
    "fig = px.sunburst(df, \n",
    "                  path=['sex', 'class', 'who', 'alive', 'alone'], \n",
    "                  values = 'survived', color='sex')\n",
    "fig.show()\n",
    "\n",
    "# save the plot in html at output folder\n",
    "fig.write_html(r\"C:\\Users\\mnsai\\Desktop\\Python\\AI-and-DS\\Output\\HTMLF\\titanic_sunburst.html\")\n",
    "\n",
    "# save plot in png\n",
    "fig.write_image(r\"C:\\Users\\mnsai\\Desktop\\Python\\AI-and-DS\\Output\\Plots\\titanic_sunburst.png\")"
   ]
  },
  {
   "cell_type": "markdown",
   "metadata": {},
   "source": [
    "## Sunburst Plot on Google App Store Data"
   ]
  },
  {
   "cell_type": "code",
   "execution_count": 6,
   "metadata": {},
   "outputs": [
    {
     "data": {
      "text/html": [
       "<div>\n",
       "<style scoped>\n",
       "    .dataframe tbody tr th:only-of-type {\n",
       "        vertical-align: middle;\n",
       "    }\n",
       "\n",
       "    .dataframe tbody tr th {\n",
       "        vertical-align: top;\n",
       "    }\n",
       "\n",
       "    .dataframe thead th {\n",
       "        text-align: right;\n",
       "    }\n",
       "</style>\n",
       "<table border=\"1\" class=\"dataframe\">\n",
       "  <thead>\n",
       "    <tr style=\"text-align: right;\">\n",
       "      <th></th>\n",
       "      <th>0</th>\n",
       "      <th>1</th>\n",
       "      <th>2</th>\n",
       "      <th>3</th>\n",
       "      <th>4</th>\n",
       "    </tr>\n",
       "  </thead>\n",
       "  <tbody>\n",
       "    <tr>\n",
       "      <th>App</th>\n",
       "      <td>Viber Messenger</td>\n",
       "      <td>imo free video calls and chat</td>\n",
       "      <td>Google Duo - High Quality Video Calls</td>\n",
       "      <td>UC Browser - Fast Download Private &amp; Secure</td>\n",
       "      <td>imo free video calls and chat</td>\n",
       "    </tr>\n",
       "    <tr>\n",
       "      <th>Category</th>\n",
       "      <td>COMMUNICATION</td>\n",
       "      <td>COMMUNICATION</td>\n",
       "      <td>COMMUNICATION</td>\n",
       "      <td>COMMUNICATION</td>\n",
       "      <td>COMMUNICATION</td>\n",
       "    </tr>\n",
       "    <tr>\n",
       "      <th>Rating</th>\n",
       "      <td>4.3</td>\n",
       "      <td>4.3</td>\n",
       "      <td>4.6</td>\n",
       "      <td>4.5</td>\n",
       "      <td>4.3</td>\n",
       "    </tr>\n",
       "    <tr>\n",
       "      <th>Reviews</th>\n",
       "      <td>11334799</td>\n",
       "      <td>4785892</td>\n",
       "      <td>2083237</td>\n",
       "      <td>17712922</td>\n",
       "      <td>4785988</td>\n",
       "    </tr>\n",
       "    <tr>\n",
       "      <th>Size</th>\n",
       "      <td>Varies with device</td>\n",
       "      <td>11M</td>\n",
       "      <td>Varies with device</td>\n",
       "      <td>40M</td>\n",
       "      <td>11M</td>\n",
       "    </tr>\n",
       "    <tr>\n",
       "      <th>Installs</th>\n",
       "      <td>500,000,000+</td>\n",
       "      <td>500,000,000+</td>\n",
       "      <td>500,000,000+</td>\n",
       "      <td>500,000,000+</td>\n",
       "      <td>500,000,000+</td>\n",
       "    </tr>\n",
       "    <tr>\n",
       "      <th>Type</th>\n",
       "      <td>Free</td>\n",
       "      <td>Free</td>\n",
       "      <td>Free</td>\n",
       "      <td>Free</td>\n",
       "      <td>Free</td>\n",
       "    </tr>\n",
       "    <tr>\n",
       "      <th>Price</th>\n",
       "      <td>0</td>\n",
       "      <td>0</td>\n",
       "      <td>0</td>\n",
       "      <td>0</td>\n",
       "      <td>0</td>\n",
       "    </tr>\n",
       "    <tr>\n",
       "      <th>Content Rating</th>\n",
       "      <td>Everyone</td>\n",
       "      <td>Everyone</td>\n",
       "      <td>Everyone</td>\n",
       "      <td>Teen</td>\n",
       "      <td>Everyone</td>\n",
       "    </tr>\n",
       "    <tr>\n",
       "      <th>Genres</th>\n",
       "      <td>Communication</td>\n",
       "      <td>Communication</td>\n",
       "      <td>Communication</td>\n",
       "      <td>Communication</td>\n",
       "      <td>Communication</td>\n",
       "    </tr>\n",
       "    <tr>\n",
       "      <th>Last Updated</th>\n",
       "      <td>18-Jul-18</td>\n",
       "      <td>8-Jun-18</td>\n",
       "      <td>31-Jul-18</td>\n",
       "      <td>2-Aug-18</td>\n",
       "      <td>8-Jun-18</td>\n",
       "    </tr>\n",
       "    <tr>\n",
       "      <th>Current Ver</th>\n",
       "      <td>Varies with device</td>\n",
       "      <td>9.8.000000010501</td>\n",
       "      <td>37.1.206017801.DR37_RC14</td>\n",
       "      <td>12.8.5.1121</td>\n",
       "      <td>9.8.000000010501</td>\n",
       "    </tr>\n",
       "    <tr>\n",
       "      <th>Android Ver</th>\n",
       "      <td>Varies with device</td>\n",
       "      <td>4.0 and up</td>\n",
       "      <td>4.4 and up</td>\n",
       "      <td>4.0 and up</td>\n",
       "      <td>4.0 and up</td>\n",
       "    </tr>\n",
       "  </tbody>\n",
       "</table>\n",
       "</div>"
      ],
      "text/plain": [
       "                                 0                              1  \\\n",
       "App                Viber Messenger  imo free video calls and chat   \n",
       "Category             COMMUNICATION                  COMMUNICATION   \n",
       "Rating                         4.3                            4.3   \n",
       "Reviews                   11334799                        4785892   \n",
       "Size            Varies with device                            11M   \n",
       "Installs              500,000,000+                   500,000,000+   \n",
       "Type                          Free                           Free   \n",
       "Price                            0                              0   \n",
       "Content Rating            Everyone                       Everyone   \n",
       "Genres               Communication                  Communication   \n",
       "Last Updated             18-Jul-18                       8-Jun-18   \n",
       "Current Ver     Varies with device               9.8.000000010501   \n",
       "Android Ver     Varies with device                     4.0 and up   \n",
       "\n",
       "                                                    2  \\\n",
       "App             Google Duo - High Quality Video Calls   \n",
       "Category                                COMMUNICATION   \n",
       "Rating                                            4.6   \n",
       "Reviews                                       2083237   \n",
       "Size                               Varies with device   \n",
       "Installs                                 500,000,000+   \n",
       "Type                                             Free   \n",
       "Price                                               0   \n",
       "Content Rating                               Everyone   \n",
       "Genres                                  Communication   \n",
       "Last Updated                                31-Jul-18   \n",
       "Current Ver                  37.1.206017801.DR37_RC14   \n",
       "Android Ver                                4.4 and up   \n",
       "\n",
       "                                                          3  \\\n",
       "App             UC Browser - Fast Download Private & Secure   \n",
       "Category                                      COMMUNICATION   \n",
       "Rating                                                  4.5   \n",
       "Reviews                                            17712922   \n",
       "Size                                                    40M   \n",
       "Installs                                       500,000,000+   \n",
       "Type                                                   Free   \n",
       "Price                                                     0   \n",
       "Content Rating                                         Teen   \n",
       "Genres                                        Communication   \n",
       "Last Updated                                       2-Aug-18   \n",
       "Current Ver                                     12.8.5.1121   \n",
       "Android Ver                                      4.0 and up   \n",
       "\n",
       "                                            4  \n",
       "App             imo free video calls and chat  \n",
       "Category                        COMMUNICATION  \n",
       "Rating                                    4.3  \n",
       "Reviews                               4785988  \n",
       "Size                                      11M  \n",
       "Installs                         500,000,000+  \n",
       "Type                                     Free  \n",
       "Price                                       0  \n",
       "Content Rating                       Everyone  \n",
       "Genres                          Communication  \n",
       "Last Updated                         8-Jun-18  \n",
       "Current Ver                  9.8.000000010501  \n",
       "Android Ver                        4.0 and up  "
      ]
     },
     "execution_count": 6,
     "metadata": {},
     "output_type": "execute_result"
    }
   ],
   "source": [
    "# Read google app store data from data folder\n",
    "gas = np.read_csv(r\"C:\\Users\\mnsai\\Desktop\\Python\\AI-and-DS\\Data\\googleplaystore.csv\")\n",
    "gas.head().T"
   ]
  },
  {
   "cell_type": "code",
   "execution_count": 7,
   "metadata": {},
   "outputs": [
    {
     "data": {
      "application/vnd.plotly.v1+json": {
       "config": {
        "plotlyServerURL": "https://plot.ly"
       },
       "data": [
        {
         "branchvalues": "total",
         "customdata": [
          [
           "Free"
          ],
          [
           "Free"
          ],
          [
           "Free"
          ],
          [
           "Free"
          ],
          [
           "Free"
          ],
          [
           "Free"
          ],
          [
           "Free"
          ],
          [
           "Free"
          ],
          [
           "Free"
          ],
          [
           "Free"
          ],
          [
           "Free"
          ],
          [
           "Free"
          ],
          [
           "Free"
          ],
          [
           "Free"
          ],
          [
           "Free"
          ],
          [
           "Free"
          ],
          [
           "Free"
          ],
          [
           "Free"
          ],
          [
           "Free"
          ],
          [
           "Free"
          ],
          [
           "Free"
          ],
          [
           "Free"
          ],
          [
           "Free"
          ],
          [
           "Free"
          ],
          [
           "Free"
          ],
          [
           "Free"
          ],
          [
           "Free"
          ],
          [
           "Free"
          ],
          [
           "Free"
          ],
          [
           "Free"
          ],
          [
           "Free"
          ],
          [
           "Free"
          ],
          [
           "Paid"
          ],
          [
           "Paid"
          ],
          [
           "Free"
          ],
          [
           "Free"
          ],
          [
           "Free"
          ],
          [
           "Free"
          ],
          [
           "Free"
          ],
          [
           "Free"
          ],
          [
           "Free"
          ],
          [
           "Free"
          ],
          [
           "Free"
          ],
          [
           "Free"
          ],
          [
           "Free"
          ],
          [
           "Free"
          ],
          [
           "Free"
          ],
          [
           "Free"
          ],
          [
           "Free"
          ],
          [
           "Free"
          ],
          [
           "Free"
          ],
          [
           "Free"
          ],
          [
           "Free"
          ],
          [
           "Free"
          ],
          [
           "Free"
          ],
          [
           "Free"
          ],
          [
           "Free"
          ],
          [
           "Free"
          ],
          [
           "Paid"
          ],
          [
           "Paid"
          ],
          [
           "Paid"
          ],
          [
           "Paid"
          ],
          [
           "Paid"
          ],
          [
           "Paid"
          ],
          [
           "Free"
          ],
          [
           "Free"
          ],
          [
           "Free"
          ],
          [
           "Free"
          ],
          [
           "(?)"
          ],
          [
           "(?)"
          ],
          [
           "Free"
          ],
          [
           "(?)"
          ],
          [
           "(?)"
          ],
          [
           "(?)"
          ],
          [
           "(?)"
          ],
          [
           "(?)"
          ],
          [
           "(?)"
          ],
          [
           "(?)"
          ],
          [
           "(?)"
          ],
          [
           "(?)"
          ],
          [
           "Free"
          ],
          [
           "(?)"
          ],
          [
           "(?)"
          ],
          [
           "(?)"
          ],
          [
           "(?)"
          ],
          [
           "(?)"
          ],
          [
           "(?)"
          ],
          [
           "(?)"
          ],
          [
           "(?)"
          ],
          [
           "(?)"
          ],
          [
           "(?)"
          ],
          [
           "(?)"
          ],
          [
           "(?)"
          ],
          [
           "(?)"
          ],
          [
           "(?)"
          ],
          [
           "Free"
          ],
          [
           "(?)"
          ],
          [
           "(?)"
          ],
          [
           "Paid"
          ],
          [
           "Paid"
          ],
          [
           "Free"
          ],
          [
           "Free"
          ],
          [
           "Paid"
          ],
          [
           "Paid"
          ],
          [
           "Paid"
          ],
          [
           "Paid"
          ],
          [
           "Paid"
          ],
          [
           "Paid"
          ],
          [
           "Paid"
          ],
          [
           "Paid"
          ],
          [
           "Paid"
          ],
          [
           "Paid"
          ],
          [
           "Paid"
          ],
          [
           "Paid"
          ],
          [
           "(?)"
          ],
          [
           "Paid"
          ],
          [
           "Paid"
          ],
          [
           "Paid"
          ],
          [
           "Paid"
          ],
          [
           "Paid"
          ],
          [
           "Paid"
          ],
          [
           "Paid"
          ],
          [
           "Paid"
          ],
          [
           "Paid"
          ],
          [
           "Paid"
          ],
          [
           "Paid"
          ],
          [
           "Paid"
          ],
          [
           "Paid"
          ],
          [
           "Paid"
          ],
          [
           "Paid"
          ],
          [
           "Paid"
          ],
          [
           "Free"
          ],
          [
           "Free"
          ],
          [
           "Free"
          ],
          [
           "Free"
          ],
          [
           "Paid"
          ],
          [
           "Paid"
          ],
          [
           "Paid"
          ],
          [
           "Paid"
          ],
          [
           "Paid"
          ],
          [
           "Paid"
          ],
          [
           "Paid"
          ],
          [
           "Paid"
          ],
          [
           "Paid"
          ],
          [
           "Paid"
          ],
          [
           "Paid"
          ],
          [
           "Paid"
          ],
          [
           "Paid"
          ],
          [
           "Paid"
          ],
          [
           "Paid"
          ],
          [
           "Paid"
          ],
          [
           "Paid"
          ],
          [
           "Paid"
          ],
          [
           "Paid"
          ],
          [
           "Paid"
          ],
          [
           "Paid"
          ],
          [
           "Paid"
          ],
          [
           "Paid"
          ],
          [
           "Paid"
          ],
          [
           "Paid"
          ],
          [
           "Paid"
          ],
          [
           "Paid"
          ],
          [
           "Paid"
          ],
          [
           "Free"
          ],
          [
           "Free"
          ],
          [
           "Free"
          ],
          [
           "Free"
          ],
          [
           "Free"
          ],
          [
           "Free"
          ],
          [
           "Free"
          ],
          [
           "Free"
          ],
          [
           "Free"
          ],
          [
           "Free"
          ],
          [
           "Free"
          ],
          [
           "Free"
          ],
          [
           "Free"
          ],
          [
           "Free"
          ],
          [
           "Free"
          ],
          [
           "Free"
          ],
          [
           "Free"
          ],
          [
           "Free"
          ],
          [
           "Paid"
          ],
          [
           "Free"
          ],
          [
           "Free"
          ],
          [
           "Free"
          ],
          [
           "Free"
          ],
          [
           "Free"
          ],
          [
           "Free"
          ],
          [
           "Free"
          ],
          [
           "Free"
          ],
          [
           "Free"
          ],
          [
           "Free"
          ],
          [
           "Free"
          ],
          [
           "Free"
          ],
          [
           "Free"
          ],
          [
           "Free"
          ],
          [
           "Free"
          ],
          [
           "Free"
          ],
          [
           "Free"
          ],
          [
           "Paid"
          ],
          [
           "Free"
          ],
          [
           "Free"
          ],
          [
           "Free"
          ],
          [
           "Free"
          ],
          [
           "Free"
          ],
          [
           "Free"
          ],
          [
           "Free"
          ],
          [
           "Free"
          ],
          [
           "Free"
          ],
          [
           "Free"
          ],
          [
           "Free"
          ],
          [
           "Free"
          ],
          [
           "Free"
          ],
          [
           "Free"
          ],
          [
           "Free"
          ],
          [
           "Free"
          ],
          [
           "Free"
          ],
          [
           "Paid"
          ],
          [
           "Paid"
          ],
          [
           "Paid"
          ],
          [
           "Paid"
          ],
          [
           "Paid"
          ],
          [
           "Paid"
          ],
          [
           "Paid"
          ],
          [
           "Paid"
          ],
          [
           "Paid"
          ],
          [
           "Paid"
          ],
          [
           "Free"
          ],
          [
           "Free"
          ],
          [
           "Free"
          ],
          [
           "Free"
          ],
          [
           "Free"
          ],
          [
           "Free"
          ],
          [
           "Free"
          ],
          [
           "Free"
          ],
          [
           "Free"
          ],
          [
           "Free"
          ],
          [
           "Free"
          ],
          [
           "Free"
          ],
          [
           "Free"
          ],
          [
           "Free"
          ],
          [
           "Free"
          ],
          [
           "Free"
          ],
          [
           "Free"
          ],
          [
           "Free"
          ],
          [
           "Free"
          ],
          [
           "Free"
          ],
          [
           "Free"
          ],
          [
           "Free"
          ],
          [
           "Free"
          ],
          [
           "Paid"
          ],
          [
           "Free"
          ],
          [
           "Free"
          ],
          [
           "Free"
          ],
          [
           "Free"
          ],
          [
           "Free"
          ],
          [
           "Paid"
          ],
          [
           "Free"
          ],
          [
           "(?)"
          ],
          [
           "Free"
          ],
          [
           "Free"
          ],
          [
           "Free"
          ],
          [
           "Free"
          ],
          [
           "Free"
          ],
          [
           "Paid"
          ],
          [
           "Free"
          ],
          [
           "(?)"
          ]
         ],
         "domain": {
          "x": [
           0,
           1
          ],
          "y": [
           0,
           1
          ]
         },
         "hovertemplate": "labels=%{label}<br>Rating=%{value}<br>parent=%{parent}<br>id=%{id}<br>Type=%{customdata[0]}<extra></extra>",
         "ids": [
          "COMICS/Free/Adults only 18+",
          "TOOLS/Free/Unrated",
          "ART_AND_DESIGN/Free",
          "AUTO_AND_VEHICLES/Free",
          "BEAUTY/Free",
          "BOOKS_AND_REFERENCE/Free",
          "BUSINESS/Free",
          "COMICS/Free",
          "COMMUNICATION/Free",
          "DATING/Free",
          "EDUCATION/Free",
          "ENTERTAINMENT/Free",
          "EVENTS/Free",
          "FAMILY/Free",
          "FINANCE/Free",
          "FOOD_AND_DRINK/Free",
          "GAME/Free",
          "HEALTH_AND_FITNESS/Free",
          "HOUSE_AND_HOME/Free",
          "LIBRARIES_AND_DEMO/Free",
          "LIFESTYLE/Free",
          "MAPS_AND_NAVIGATION/Free",
          "MEDICAL/Free",
          "NEWS_AND_MAGAZINES/Free",
          "PARENTING/Free",
          "PERSONALIZATION/Free",
          "PHOTOGRAPHY/Free",
          "PRODUCTIVITY/Free",
          "SHOPPING/Free",
          "SOCIAL/Free",
          "FAMILY/Free/Unrated",
          "SPORTS/Free",
          "SOCIAL/Paid/Teen",
          "LIFESTYLE/Paid/Teen",
          "DATING/Free/Teen",
          "EDUCATION/Free/Teen",
          "ENTERTAINMENT/Free/Teen",
          "EVENTS/Free/Teen",
          "FAMILY/Free/Teen",
          "FINANCE/Free/Teen",
          "FOOD_AND_DRINK/Free/Teen",
          "GAME/Free/Teen",
          "HEALTH_AND_FITNESS/Free/Teen",
          "HOUSE_AND_HOME/Free/Teen",
          "LIFESTYLE/Free/Teen",
          "MAPS_AND_NAVIGATION/Free/Teen",
          "MEDICAL/Free/Teen",
          "NEWS_AND_MAGAZINES/Free/Teen",
          "PARENTING/Free/Teen",
          "PERSONALIZATION/Free/Teen",
          "PHOTOGRAPHY/Free/Teen",
          "PRODUCTIVITY/Free/Teen",
          "SOCIAL/Free/Teen",
          "SPORTS/Free/Teen",
          "TOOLS/Free/Teen",
          "TRAVEL_AND_LOCAL/Free/Teen",
          "VIDEO_PLAYERS/Free/Teen",
          "WEATHER/Free/Teen",
          "BOOKS_AND_REFERENCE/Paid/Teen",
          "DATING/Paid/Teen",
          "FAMILY/Paid/Teen",
          "FINANCE/Paid/Teen",
          "GAME/Paid/Teen",
          "MEDICAL/Paid/Teen",
          "TOOLS/Free",
          "TRAVEL_AND_LOCAL/Free",
          "Unknown/Free",
          "BEAUTY",
          "BOOKS_AND_REFERENCE",
          "BUSINESS",
          "COMICS",
          "COMMUNICATION",
          "DATING",
          "EDUCATION",
          "ENTERTAINMENT",
          "EVENTS",
          "FAMILY",
          "FINANCE",
          "FOOD_AND_DRINK",
          "GAME",
          "HOUSE_AND_HOME",
          "LIBRARIES_AND_DEMO",
          "LIFESTYLE",
          "MAPS_AND_NAVIGATION",
          "MEDICAL",
          "NEWS_AND_MAGAZINES",
          "PARENTING",
          "PERSONALIZATION",
          "PHOTOGRAPHY",
          "PRODUCTIVITY",
          "SHOPPING",
          "SOCIAL",
          "SPORTS",
          "TOOLS",
          "TRAVEL_AND_LOCAL",
          "Unknown",
          "AUTO_AND_VEHICLES",
          "ART_AND_DESIGN",
          "WEATHER/Paid",
          "VIDEO_PLAYERS/Paid",
          "VIDEO_PLAYERS/Free",
          "WEATHER/Free",
          "ART_AND_DESIGN/Paid",
          "AUTO_AND_VEHICLES/Paid",
          "BOOKS_AND_REFERENCE/Paid",
          "BUSINESS/Paid",
          "COMMUNICATION/Paid",
          "DATING/Paid",
          "EDUCATION/Paid",
          "ENTERTAINMENT/Paid",
          "EVENTS/Paid",
          "FAMILY/Paid",
          "FINANCE/Paid",
          "FOOD_AND_DRINK/Paid",
          "VIDEO_PLAYERS",
          "GAME/Paid",
          "LIBRARIES_AND_DEMO/Paid",
          "LIFESTYLE/Paid",
          "MAPS_AND_NAVIGATION/Paid",
          "MEDICAL/Paid",
          "NEWS_AND_MAGAZINES/Paid",
          "PARENTING/Paid",
          "PERSONALIZATION/Paid",
          "PHOTOGRAPHY/Paid",
          "PRODUCTIVITY/Paid",
          "SHOPPING/Paid",
          "SOCIAL/Paid",
          "SPORTS/Paid",
          "TOOLS/Paid",
          "TRAVEL_AND_LOCAL/Paid",
          "HEALTH_AND_FITNESS/Paid",
          "COMICS/Free/Teen",
          "COMMUNICATION/Free/Teen",
          "BOOKS_AND_REFERENCE/Free/Teen",
          "WEATHER/Free/Everyone",
          "ART_AND_DESIGN/Paid/Everyone",
          "AUTO_AND_VEHICLES/Paid/Everyone",
          "BOOKS_AND_REFERENCE/Paid/Everyone",
          "BUSINESS/Paid/Everyone",
          "COMMUNICATION/Paid/Everyone",
          "DATING/Paid/Everyone",
          "EDUCATION/Paid/Everyone",
          "ENTERTAINMENT/Paid/Everyone",
          "EVENTS/Paid/Everyone",
          "FAMILY/Paid/Everyone",
          "FINANCE/Paid/Everyone",
          "FOOD_AND_DRINK/Paid/Everyone",
          "GAME/Paid/Everyone",
          "HEALTH_AND_FITNESS/Paid/Everyone",
          "LIBRARIES_AND_DEMO/Paid/Everyone",
          "LIFESTYLE/Paid/Everyone",
          "MAPS_AND_NAVIGATION/Paid/Everyone",
          "MEDICAL/Paid/Everyone",
          "NEWS_AND_MAGAZINES/Paid/Everyone",
          "PARENTING/Paid/Everyone",
          "PERSONALIZATION/Paid/Everyone",
          "PHOTOGRAPHY/Paid/Everyone",
          "PRODUCTIVITY/Paid/Everyone",
          "SHOPPING/Paid/Everyone",
          "SOCIAL/Paid/Everyone",
          "SPORTS/Paid/Everyone",
          "TOOLS/Paid/Everyone",
          "TRAVEL_AND_LOCAL/Paid/Everyone",
          "VIDEO_PLAYERS/Free/Everyone",
          "Unknown/Free/Everyone",
          "TRAVEL_AND_LOCAL/Free/Everyone",
          "TOOLS/Free/Everyone",
          "SPORTS/Free/Adults only 18+",
          "ART_AND_DESIGN/Free/Everyone",
          "AUTO_AND_VEHICLES/Free/Everyone",
          "BEAUTY/Free/Everyone",
          "BOOKS_AND_REFERENCE/Free/Everyone",
          "BUSINESS/Free/Everyone",
          "COMICS/Free/Everyone",
          "COMMUNICATION/Free/Everyone",
          "DATING/Free/Everyone",
          "EDUCATION/Free/Everyone",
          "ENTERTAINMENT/Free/Everyone",
          "EVENTS/Free/Everyone",
          "FAMILY/Free/Everyone",
          "FINANCE/Free/Everyone",
          "VIDEO_PLAYERS/Paid/Everyone",
          "FOOD_AND_DRINK/Free/Everyone",
          "HEALTH_AND_FITNESS/Free/Everyone",
          "HOUSE_AND_HOME/Free/Everyone",
          "LIBRARIES_AND_DEMO/Free/Everyone",
          "LIFESTYLE/Free/Everyone",
          "MAPS_AND_NAVIGATION/Free/Everyone",
          "MEDICAL/Free/Everyone",
          "NEWS_AND_MAGAZINES/Free/Everyone",
          "PARENTING/Free/Everyone",
          "PERSONALIZATION/Free/Everyone",
          "PHOTOGRAPHY/Free/Everyone",
          "PRODUCTIVITY/Free/Everyone",
          "SHOPPING/Free/Everyone",
          "SOCIAL/Free/Everyone",
          "SPORTS/Free/Everyone",
          "GAME/Free/Everyone",
          "BUSINESS/Free/Teen",
          "WEATHER/Paid/Everyone",
          "AUTO_AND_VEHICLES/Free/Everyone 10+",
          "GAME/Free/Mature 17+",
          "HEALTH_AND_FITNESS/Free/Mature 17+",
          "LIFESTYLE/Free/Mature 17+",
          "MAPS_AND_NAVIGATION/Free/Mature 17+",
          "MEDICAL/Free/Mature 17+",
          "NEWS_AND_MAGAZINES/Free/Mature 17+",
          "PARENTING/Free/Mature 17+",
          "PERSONALIZATION/Free/Mature 17+",
          "PHOTOGRAPHY/Free/Mature 17+",
          "SHOPPING/Free/Mature 17+",
          "SOCIAL/Free/Mature 17+",
          "SPORTS/Free/Mature 17+",
          "TOOLS/Free/Mature 17+",
          "TRAVEL_AND_LOCAL/Free/Mature 17+",
          "VIDEO_PLAYERS/Free/Mature 17+",
          "WEATHER/Free/Mature 17+",
          "COMMUNICATION/Paid/Mature 17+",
          "DATING/Paid/Mature 17+",
          "ENTERTAINMENT/Paid/Mature 17+",
          "FAMILY/Paid/Mature 17+",
          "GAME/Paid/Mature 17+",
          "LIFESTYLE/Paid/Mature 17+",
          "MEDICAL/Paid/Mature 17+",
          "NEWS_AND_MAGAZINES/Paid/Mature 17+",
          "PRODUCTIVITY/Paid/Mature 17+",
          "TOOLS/Paid/Mature 17+",
          "ART_AND_DESIGN/Free/Teen",
          "AUTO_AND_VEHICLES/Free/Teen",
          "BEAUTY/Free/Teen",
          "ART_AND_DESIGN/Free/Everyone 10+",
          "ENTERTAINMENT/Free/Mature 17+",
          "FAMILY/Free/Mature 17+",
          "DATING/Free/Mature 17+",
          "BEAUTY/Free/Everyone 10+",
          "BOOKS_AND_REFERENCE/Free/Everyone 10+",
          "BUSINESS/Free/Everyone 10+",
          "COMICS/Free/Everyone 10+",
          "EDUCATION/Free/Everyone 10+",
          "ENTERTAINMENT/Free/Everyone 10+",
          "EVENTS/Free/Everyone 10+",
          "FAMILY/Free/Everyone 10+",
          "FOOD_AND_DRINK/Free/Everyone 10+",
          "GAME/Free/Everyone 10+",
          "HEALTH_AND_FITNESS/Free/Everyone 10+",
          "LIFESTYLE/Free/Everyone 10+",
          "MAPS_AND_NAVIGATION/Free/Everyone 10+",
          "MEDICAL/Free/Everyone 10+",
          "NEWS_AND_MAGAZINES/Free/Everyone 10+",
          "PERSONALIZATION/Free/Everyone 10+",
          "GAME/Paid/Everyone 10+",
          "COMMUNICATION/Free/Mature 17+",
          "COMICS/Free/Mature 17+",
          "BUSINESS/Free/Mature 17+",
          "BOOKS_AND_REFERENCE/Free/Mature 17+",
          "BEAUTY/Free/Mature 17+",
          "MEDICAL/Paid/Everyone 10+",
          "EDUCATION/Free/Mature 17+",
          "WEATHER",
          "WEATHER/Free/Everyone 10+",
          "VIDEO_PLAYERS/Free/Everyone 10+",
          "SPORTS/Free/Everyone 10+",
          "SOCIAL/Free/Everyone 10+",
          "PRODUCTIVITY/Free/Everyone 10+",
          "FAMILY/Paid/Everyone 10+",
          "SHOPPING/Free/Teen",
          "HEALTH_AND_FITNESS"
         ],
         "labels": [
          "Adults only 18+",
          "Unrated",
          "Free",
          "Free",
          "Free",
          "Free",
          "Free",
          "Free",
          "Free",
          "Free",
          "Free",
          "Free",
          "Free",
          "Free",
          "Free",
          "Free",
          "Free",
          "Free",
          "Free",
          "Free",
          "Free",
          "Free",
          "Free",
          "Free",
          "Free",
          "Free",
          "Free",
          "Free",
          "Free",
          "Free",
          "Unrated",
          "Free",
          "Teen",
          "Teen",
          "Teen",
          "Teen",
          "Teen",
          "Teen",
          "Teen",
          "Teen",
          "Teen",
          "Teen",
          "Teen",
          "Teen",
          "Teen",
          "Teen",
          "Teen",
          "Teen",
          "Teen",
          "Teen",
          "Teen",
          "Teen",
          "Teen",
          "Teen",
          "Teen",
          "Teen",
          "Teen",
          "Teen",
          "Teen",
          "Teen",
          "Teen",
          "Teen",
          "Teen",
          "Teen",
          "Free",
          "Free",
          "Free",
          "BEAUTY",
          "BOOKS_AND_REFERENCE",
          "BUSINESS",
          "COMICS",
          "COMMUNICATION",
          "DATING",
          "EDUCATION",
          "ENTERTAINMENT",
          "EVENTS",
          "FAMILY",
          "FINANCE",
          "FOOD_AND_DRINK",
          "GAME",
          "HOUSE_AND_HOME",
          "LIBRARIES_AND_DEMO",
          "LIFESTYLE",
          "MAPS_AND_NAVIGATION",
          "MEDICAL",
          "NEWS_AND_MAGAZINES",
          "PARENTING",
          "PERSONALIZATION",
          "PHOTOGRAPHY",
          "PRODUCTIVITY",
          "SHOPPING",
          "SOCIAL",
          "SPORTS",
          "TOOLS",
          "TRAVEL_AND_LOCAL",
          "Unknown",
          "AUTO_AND_VEHICLES",
          "ART_AND_DESIGN",
          "Paid",
          "Paid",
          "Free",
          "Free",
          "Paid",
          "Paid",
          "Paid",
          "Paid",
          "Paid",
          "Paid",
          "Paid",
          "Paid",
          "Paid",
          "Paid",
          "Paid",
          "Paid",
          "VIDEO_PLAYERS",
          "Paid",
          "Paid",
          "Paid",
          "Paid",
          "Paid",
          "Paid",
          "Paid",
          "Paid",
          "Paid",
          "Paid",
          "Paid",
          "Paid",
          "Paid",
          "Paid",
          "Paid",
          "Paid",
          "Teen",
          "Teen",
          "Teen",
          "Everyone",
          "Everyone",
          "Everyone",
          "Everyone",
          "Everyone",
          "Everyone",
          "Everyone",
          "Everyone",
          "Everyone",
          "Everyone",
          "Everyone",
          "Everyone",
          "Everyone",
          "Everyone",
          "Everyone",
          "Everyone",
          "Everyone",
          "Everyone",
          "Everyone",
          "Everyone",
          "Everyone",
          "Everyone",
          "Everyone",
          "Everyone",
          "Everyone",
          "Everyone",
          "Everyone",
          "Everyone",
          "Everyone",
          "Everyone",
          "Everyone",
          "Everyone",
          "Everyone",
          "Adults only 18+",
          "Everyone",
          "Everyone",
          "Everyone",
          "Everyone",
          "Everyone",
          "Everyone",
          "Everyone",
          "Everyone",
          "Everyone",
          "Everyone",
          "Everyone",
          "Everyone",
          "Everyone",
          "Everyone",
          "Everyone",
          "Everyone",
          "Everyone",
          "Everyone",
          "Everyone",
          "Everyone",
          "Everyone",
          "Everyone",
          "Everyone",
          "Everyone",
          "Everyone",
          "Everyone",
          "Everyone",
          "Everyone",
          "Everyone",
          "Everyone",
          "Teen",
          "Everyone",
          "Everyone 10+",
          "Mature 17+",
          "Mature 17+",
          "Mature 17+",
          "Mature 17+",
          "Mature 17+",
          "Mature 17+",
          "Mature 17+",
          "Mature 17+",
          "Mature 17+",
          "Mature 17+",
          "Mature 17+",
          "Mature 17+",
          "Mature 17+",
          "Mature 17+",
          "Mature 17+",
          "Mature 17+",
          "Mature 17+",
          "Mature 17+",
          "Mature 17+",
          "Mature 17+",
          "Mature 17+",
          "Mature 17+",
          "Mature 17+",
          "Mature 17+",
          "Mature 17+",
          "Mature 17+",
          "Teen",
          "Teen",
          "Teen",
          "Everyone 10+",
          "Mature 17+",
          "Mature 17+",
          "Mature 17+",
          "Everyone 10+",
          "Everyone 10+",
          "Everyone 10+",
          "Everyone 10+",
          "Everyone 10+",
          "Everyone 10+",
          "Everyone 10+",
          "Everyone 10+",
          "Everyone 10+",
          "Everyone 10+",
          "Everyone 10+",
          "Everyone 10+",
          "Everyone 10+",
          "Everyone 10+",
          "Everyone 10+",
          "Everyone 10+",
          "Everyone 10+",
          "Mature 17+",
          "Mature 17+",
          "Mature 17+",
          "Mature 17+",
          "Mature 17+",
          "Everyone 10+",
          "Mature 17+",
          "WEATHER",
          "Everyone 10+",
          "Everyone 10+",
          "Everyone 10+",
          "Everyone 10+",
          "Everyone 10+",
          "Everyone 10+",
          "Teen",
          "HEALTH_AND_FITNESS"
         ],
         "marker": {
          "colors": [
           "#636efa",
           "#636efa",
           "#636efa",
           "#636efa",
           "#636efa",
           "#636efa",
           "#636efa",
           "#636efa",
           "#636efa",
           "#636efa",
           "#636efa",
           "#636efa",
           "#636efa",
           "#636efa",
           "#636efa",
           "#636efa",
           "#636efa",
           "#636efa",
           "#636efa",
           "#636efa",
           "#636efa",
           "#636efa",
           "#636efa",
           "#636efa",
           "#636efa",
           "#636efa",
           "#636efa",
           "#636efa",
           "#636efa",
           "#636efa",
           "#636efa",
           "#636efa",
           "#EF553B",
           "#EF553B",
           "#636efa",
           "#636efa",
           "#636efa",
           "#636efa",
           "#636efa",
           "#636efa",
           "#636efa",
           "#636efa",
           "#636efa",
           "#636efa",
           "#636efa",
           "#636efa",
           "#636efa",
           "#636efa",
           "#636efa",
           "#636efa",
           "#636efa",
           "#636efa",
           "#636efa",
           "#636efa",
           "#636efa",
           "#636efa",
           "#636efa",
           "#636efa",
           "#EF553B",
           "#EF553B",
           "#EF553B",
           "#EF553B",
           "#EF553B",
           "#EF553B",
           "#636efa",
           "#636efa",
           "#636efa",
           "#636efa",
           "#00cc96",
           "#00cc96",
           "#636efa",
           "#00cc96",
           "#00cc96",
           "#00cc96",
           "#00cc96",
           "#00cc96",
           "#00cc96",
           "#00cc96",
           "#00cc96",
           "#00cc96",
           "#636efa",
           "#00cc96",
           "#00cc96",
           "#00cc96",
           "#00cc96",
           "#00cc96",
           "#00cc96",
           "#00cc96",
           "#00cc96",
           "#00cc96",
           "#00cc96",
           "#00cc96",
           "#00cc96",
           "#00cc96",
           "#00cc96",
           "#636efa",
           "#00cc96",
           "#00cc96",
           "#EF553B",
           "#EF553B",
           "#636efa",
           "#636efa",
           "#EF553B",
           "#EF553B",
           "#EF553B",
           "#EF553B",
           "#EF553B",
           "#EF553B",
           "#EF553B",
           "#EF553B",
           "#EF553B",
           "#EF553B",
           "#EF553B",
           "#EF553B",
           "#00cc96",
           "#EF553B",
           "#EF553B",
           "#EF553B",
           "#EF553B",
           "#EF553B",
           "#EF553B",
           "#EF553B",
           "#EF553B",
           "#EF553B",
           "#EF553B",
           "#EF553B",
           "#EF553B",
           "#EF553B",
           "#EF553B",
           "#EF553B",
           "#EF553B",
           "#636efa",
           "#636efa",
           "#636efa",
           "#636efa",
           "#EF553B",
           "#EF553B",
           "#EF553B",
           "#EF553B",
           "#EF553B",
           "#EF553B",
           "#EF553B",
           "#EF553B",
           "#EF553B",
           "#EF553B",
           "#EF553B",
           "#EF553B",
           "#EF553B",
           "#EF553B",
           "#EF553B",
           "#EF553B",
           "#EF553B",
           "#EF553B",
           "#EF553B",
           "#EF553B",
           "#EF553B",
           "#EF553B",
           "#EF553B",
           "#EF553B",
           "#EF553B",
           "#EF553B",
           "#EF553B",
           "#EF553B",
           "#636efa",
           "#636efa",
           "#636efa",
           "#636efa",
           "#636efa",
           "#636efa",
           "#636efa",
           "#636efa",
           "#636efa",
           "#636efa",
           "#636efa",
           "#636efa",
           "#636efa",
           "#636efa",
           "#636efa",
           "#636efa",
           "#636efa",
           "#636efa",
           "#EF553B",
           "#636efa",
           "#636efa",
           "#636efa",
           "#636efa",
           "#636efa",
           "#636efa",
           "#636efa",
           "#636efa",
           "#636efa",
           "#636efa",
           "#636efa",
           "#636efa",
           "#636efa",
           "#636efa",
           "#636efa",
           "#636efa",
           "#636efa",
           "#EF553B",
           "#636efa",
           "#636efa",
           "#636efa",
           "#636efa",
           "#636efa",
           "#636efa",
           "#636efa",
           "#636efa",
           "#636efa",
           "#636efa",
           "#636efa",
           "#636efa",
           "#636efa",
           "#636efa",
           "#636efa",
           "#636efa",
           "#636efa",
           "#EF553B",
           "#EF553B",
           "#EF553B",
           "#EF553B",
           "#EF553B",
           "#EF553B",
           "#EF553B",
           "#EF553B",
           "#EF553B",
           "#EF553B",
           "#636efa",
           "#636efa",
           "#636efa",
           "#636efa",
           "#636efa",
           "#636efa",
           "#636efa",
           "#636efa",
           "#636efa",
           "#636efa",
           "#636efa",
           "#636efa",
           "#636efa",
           "#636efa",
           "#636efa",
           "#636efa",
           "#636efa",
           "#636efa",
           "#636efa",
           "#636efa",
           "#636efa",
           "#636efa",
           "#636efa",
           "#EF553B",
           "#636efa",
           "#636efa",
           "#636efa",
           "#636efa",
           "#636efa",
           "#EF553B",
           "#636efa",
           "#00cc96",
           "#636efa",
           "#636efa",
           "#636efa",
           "#636efa",
           "#636efa",
           "#EF553B",
           "#636efa",
           "#00cc96"
          ]
         },
         "name": "",
         "parents": [
          "COMICS/Free",
          "TOOLS/Free",
          "ART_AND_DESIGN",
          "AUTO_AND_VEHICLES",
          "BEAUTY",
          "BOOKS_AND_REFERENCE",
          "BUSINESS",
          "COMICS",
          "COMMUNICATION",
          "DATING",
          "EDUCATION",
          "ENTERTAINMENT",
          "EVENTS",
          "FAMILY",
          "FINANCE",
          "FOOD_AND_DRINK",
          "GAME",
          "HEALTH_AND_FITNESS",
          "HOUSE_AND_HOME",
          "LIBRARIES_AND_DEMO",
          "LIFESTYLE",
          "MAPS_AND_NAVIGATION",
          "MEDICAL",
          "NEWS_AND_MAGAZINES",
          "PARENTING",
          "PERSONALIZATION",
          "PHOTOGRAPHY",
          "PRODUCTIVITY",
          "SHOPPING",
          "SOCIAL",
          "FAMILY/Free",
          "SPORTS",
          "SOCIAL/Paid",
          "LIFESTYLE/Paid",
          "DATING/Free",
          "EDUCATION/Free",
          "ENTERTAINMENT/Free",
          "EVENTS/Free",
          "FAMILY/Free",
          "FINANCE/Free",
          "FOOD_AND_DRINK/Free",
          "GAME/Free",
          "HEALTH_AND_FITNESS/Free",
          "HOUSE_AND_HOME/Free",
          "LIFESTYLE/Free",
          "MAPS_AND_NAVIGATION/Free",
          "MEDICAL/Free",
          "NEWS_AND_MAGAZINES/Free",
          "PARENTING/Free",
          "PERSONALIZATION/Free",
          "PHOTOGRAPHY/Free",
          "PRODUCTIVITY/Free",
          "SOCIAL/Free",
          "SPORTS/Free",
          "TOOLS/Free",
          "TRAVEL_AND_LOCAL/Free",
          "VIDEO_PLAYERS/Free",
          "WEATHER/Free",
          "BOOKS_AND_REFERENCE/Paid",
          "DATING/Paid",
          "FAMILY/Paid",
          "FINANCE/Paid",
          "GAME/Paid",
          "MEDICAL/Paid",
          "TOOLS",
          "TRAVEL_AND_LOCAL",
          "Unknown",
          "",
          "",
          "",
          "",
          "",
          "",
          "",
          "",
          "",
          "",
          "",
          "",
          "",
          "",
          "",
          "",
          "",
          "",
          "",
          "",
          "",
          "",
          "",
          "",
          "",
          "",
          "",
          "",
          "",
          "",
          "",
          "WEATHER",
          "VIDEO_PLAYERS",
          "VIDEO_PLAYERS",
          "WEATHER",
          "ART_AND_DESIGN",
          "AUTO_AND_VEHICLES",
          "BOOKS_AND_REFERENCE",
          "BUSINESS",
          "COMMUNICATION",
          "DATING",
          "EDUCATION",
          "ENTERTAINMENT",
          "EVENTS",
          "FAMILY",
          "FINANCE",
          "FOOD_AND_DRINK",
          "",
          "GAME",
          "LIBRARIES_AND_DEMO",
          "LIFESTYLE",
          "MAPS_AND_NAVIGATION",
          "MEDICAL",
          "NEWS_AND_MAGAZINES",
          "PARENTING",
          "PERSONALIZATION",
          "PHOTOGRAPHY",
          "PRODUCTIVITY",
          "SHOPPING",
          "SOCIAL",
          "SPORTS",
          "TOOLS",
          "TRAVEL_AND_LOCAL",
          "HEALTH_AND_FITNESS",
          "COMICS/Free",
          "COMMUNICATION/Free",
          "BOOKS_AND_REFERENCE/Free",
          "WEATHER/Free",
          "ART_AND_DESIGN/Paid",
          "AUTO_AND_VEHICLES/Paid",
          "BOOKS_AND_REFERENCE/Paid",
          "BUSINESS/Paid",
          "COMMUNICATION/Paid",
          "DATING/Paid",
          "EDUCATION/Paid",
          "ENTERTAINMENT/Paid",
          "EVENTS/Paid",
          "FAMILY/Paid",
          "FINANCE/Paid",
          "FOOD_AND_DRINK/Paid",
          "GAME/Paid",
          "HEALTH_AND_FITNESS/Paid",
          "LIBRARIES_AND_DEMO/Paid",
          "LIFESTYLE/Paid",
          "MAPS_AND_NAVIGATION/Paid",
          "MEDICAL/Paid",
          "NEWS_AND_MAGAZINES/Paid",
          "PARENTING/Paid",
          "PERSONALIZATION/Paid",
          "PHOTOGRAPHY/Paid",
          "PRODUCTIVITY/Paid",
          "SHOPPING/Paid",
          "SOCIAL/Paid",
          "SPORTS/Paid",
          "TOOLS/Paid",
          "TRAVEL_AND_LOCAL/Paid",
          "VIDEO_PLAYERS/Free",
          "Unknown/Free",
          "TRAVEL_AND_LOCAL/Free",
          "TOOLS/Free",
          "SPORTS/Free",
          "ART_AND_DESIGN/Free",
          "AUTO_AND_VEHICLES/Free",
          "BEAUTY/Free",
          "BOOKS_AND_REFERENCE/Free",
          "BUSINESS/Free",
          "COMICS/Free",
          "COMMUNICATION/Free",
          "DATING/Free",
          "EDUCATION/Free",
          "ENTERTAINMENT/Free",
          "EVENTS/Free",
          "FAMILY/Free",
          "FINANCE/Free",
          "VIDEO_PLAYERS/Paid",
          "FOOD_AND_DRINK/Free",
          "HEALTH_AND_FITNESS/Free",
          "HOUSE_AND_HOME/Free",
          "LIBRARIES_AND_DEMO/Free",
          "LIFESTYLE/Free",
          "MAPS_AND_NAVIGATION/Free",
          "MEDICAL/Free",
          "NEWS_AND_MAGAZINES/Free",
          "PARENTING/Free",
          "PERSONALIZATION/Free",
          "PHOTOGRAPHY/Free",
          "PRODUCTIVITY/Free",
          "SHOPPING/Free",
          "SOCIAL/Free",
          "SPORTS/Free",
          "GAME/Free",
          "BUSINESS/Free",
          "WEATHER/Paid",
          "AUTO_AND_VEHICLES/Free",
          "GAME/Free",
          "HEALTH_AND_FITNESS/Free",
          "LIFESTYLE/Free",
          "MAPS_AND_NAVIGATION/Free",
          "MEDICAL/Free",
          "NEWS_AND_MAGAZINES/Free",
          "PARENTING/Free",
          "PERSONALIZATION/Free",
          "PHOTOGRAPHY/Free",
          "SHOPPING/Free",
          "SOCIAL/Free",
          "SPORTS/Free",
          "TOOLS/Free",
          "TRAVEL_AND_LOCAL/Free",
          "VIDEO_PLAYERS/Free",
          "WEATHER/Free",
          "COMMUNICATION/Paid",
          "DATING/Paid",
          "ENTERTAINMENT/Paid",
          "FAMILY/Paid",
          "GAME/Paid",
          "LIFESTYLE/Paid",
          "MEDICAL/Paid",
          "NEWS_AND_MAGAZINES/Paid",
          "PRODUCTIVITY/Paid",
          "TOOLS/Paid",
          "ART_AND_DESIGN/Free",
          "AUTO_AND_VEHICLES/Free",
          "BEAUTY/Free",
          "ART_AND_DESIGN/Free",
          "ENTERTAINMENT/Free",
          "FAMILY/Free",
          "DATING/Free",
          "BEAUTY/Free",
          "BOOKS_AND_REFERENCE/Free",
          "BUSINESS/Free",
          "COMICS/Free",
          "EDUCATION/Free",
          "ENTERTAINMENT/Free",
          "EVENTS/Free",
          "FAMILY/Free",
          "FOOD_AND_DRINK/Free",
          "GAME/Free",
          "HEALTH_AND_FITNESS/Free",
          "LIFESTYLE/Free",
          "MAPS_AND_NAVIGATION/Free",
          "MEDICAL/Free",
          "NEWS_AND_MAGAZINES/Free",
          "PERSONALIZATION/Free",
          "GAME/Paid",
          "COMMUNICATION/Free",
          "COMICS/Free",
          "BUSINESS/Free",
          "BOOKS_AND_REFERENCE/Free",
          "BEAUTY/Free",
          "MEDICAL/Paid",
          "EDUCATION/Free",
          "",
          "WEATHER/Free",
          "VIDEO_PLAYERS/Free",
          "SPORTS/Free",
          "SOCIAL/Free",
          "PRODUCTIVITY/Free",
          "FAMILY/Paid",
          "SHOPPING/Free",
          ""
         ],
         "type": "sunburst",
         "values": [
          8.399999999999999,
          4.1,
          256,
          301.3,
          179.7,
          739.4,
          1202.6,
          241,
          1274.6,
          759.8,
          661.3,
          605.6,
          199.6,
          6628.1,
          1284.8,
          445.5,
          4365.4,
          1217.6,
          319,
          271.6,
          1209.3,
          483.1,
          1091.4,
          953.2,
          208.3,
          1063.9,
          1256.1,
          1402.5,
          1004.8,
          1094.8,
          0,
          1253.7,
          0,
          5,
          21.599999999999998,
          4.8,
          393.6,
          31.8,
          921.9,
          12.2,
          30.9,
          1282.3,
          72.7,
          9.3,
          74.5,
          8.8,
          9.2,
          130.7,
          4.7,
          123.3,
          51.5,
          8.100000000000001,
          456,
          62.1,
          22.5,
          20.3,
          98.1,
          8.9,
          0,
          0,
          84.2,
          4.1,
          102,
          4.4,
          2708.1,
          895.9,
          1.9,
          179.7,
          773.6,
          1248.8,
          241,
          1364,
          774.3,
          680.3,
          614.8,
          199.6,
          7323.9,
          1334.6,
          454.2,
          4702.1,
          319,
          271.6,
          1285.8,
          502.4,
          1466.2,
          962.8,
          215,
          1361.5,
          1328.9,
          1478.2,
          1013.8,
          1102.2,
          1347.3,
          2970.8,
          928.7,
          1.9,
          305.9,
          270.2,
          30.6,
          16.4,
          633.8,
          287.7,
          14.2,
          4.6,
          34.2,
          46.2,
          89.4,
          14.5,
          19,
          9.2,
          0,
          695.8,
          49.8,
          8.7,
          650.2,
          336.7,
          0,
          76.5,
          19.3,
          374.8,
          9.600000000000001,
          6.7,
          297.6,
          72.8,
          75.7,
          9,
          7.4,
          93.6,
          262.7,
          32.8,
          52.7,
          88.7,
          103.7,
          86.1,
          269.7,
          14.2,
          4.6,
          34.2,
          46.2,
          89.4,
          2.6,
          19,
          4.6,
          0,
          507.4,
          45.7,
          8.7,
          177.8,
          52.7,
          0,
          62.1,
          19.3,
          348.8,
          4.9,
          6.7,
          297.6,
          72.8,
          71.1,
          9,
          7.4,
          93.6,
          262.7,
          32.8,
          520.1,
          1.9,
          871,
          2677.8,
          4.5,
          237.9,
          292.8,
          167.2,
          618.5,
          1185.4,
          108.6,
          1132.1,
          38.400000000000006,
          608.1,
          158.3,
          158.8,
          5091.8,
          1272.6,
          16.4,
          406,
          1090.3,
          309.7,
          271.6,
          1086.7,
          471.6,
          1041.9,
          510.1,
          199,
          882.7,
          1182.7,
          1390.8,
          783.7,
          358.5,
          1066.1,
          2259.5,
          17.2,
          30.6,
          4.3,
          297.6,
          30.7,
          28.9,
          2.7,
          18.6,
          51.3,
          4.6,
          36,
          21.9,
          12.8,
          272.1,
          30,
          3.7,
          4.6,
          7.3,
          4.7,
          0,
          11.9,
          4.6,
          14,
          17.8,
          9.4,
          8.2,
          4.7,
          4.6,
          0,
          13.4,
          4.2,
          8,
          4.7,
          33.2,
          170.5,
          699.8,
          0,
          22.3,
          0,
          8.9,
          35.9,
          20.5,
          9,
          443.9,
          8.6,
          526,
          23.9,
          19.2,
          0,
          21.7,
          261.1,
          21.9,
          39.1,
          38.800000000000004,
          26.4,
          0,
          12.5,
          4.5,
          13.4,
          12.5,
          318.3,
          4.4,
          8.3,
          91,
          8.2,
          3.6,
          90.2,
          208.3,
          1270.3
         ]
        }
       ],
       "layout": {
        "legend": {
         "tracegroupgap": 0
        },
        "margin": {
         "t": 60
        },
        "template": {
         "data": {
          "bar": [
           {
            "error_x": {
             "color": "#2a3f5f"
            },
            "error_y": {
             "color": "#2a3f5f"
            },
            "marker": {
             "line": {
              "color": "#E5ECF6",
              "width": 0.5
             },
             "pattern": {
              "fillmode": "overlay",
              "size": 10,
              "solidity": 0.2
             }
            },
            "type": "bar"
           }
          ],
          "barpolar": [
           {
            "marker": {
             "line": {
              "color": "#E5ECF6",
              "width": 0.5
             },
             "pattern": {
              "fillmode": "overlay",
              "size": 10,
              "solidity": 0.2
             }
            },
            "type": "barpolar"
           }
          ],
          "carpet": [
           {
            "aaxis": {
             "endlinecolor": "#2a3f5f",
             "gridcolor": "white",
             "linecolor": "white",
             "minorgridcolor": "white",
             "startlinecolor": "#2a3f5f"
            },
            "baxis": {
             "endlinecolor": "#2a3f5f",
             "gridcolor": "white",
             "linecolor": "white",
             "minorgridcolor": "white",
             "startlinecolor": "#2a3f5f"
            },
            "type": "carpet"
           }
          ],
          "choropleth": [
           {
            "colorbar": {
             "outlinewidth": 0,
             "ticks": ""
            },
            "type": "choropleth"
           }
          ],
          "contour": [
           {
            "colorbar": {
             "outlinewidth": 0,
             "ticks": ""
            },
            "colorscale": [
             [
              0,
              "#0d0887"
             ],
             [
              0.1111111111111111,
              "#46039f"
             ],
             [
              0.2222222222222222,
              "#7201a8"
             ],
             [
              0.3333333333333333,
              "#9c179e"
             ],
             [
              0.4444444444444444,
              "#bd3786"
             ],
             [
              0.5555555555555556,
              "#d8576b"
             ],
             [
              0.6666666666666666,
              "#ed7953"
             ],
             [
              0.7777777777777778,
              "#fb9f3a"
             ],
             [
              0.8888888888888888,
              "#fdca26"
             ],
             [
              1,
              "#f0f921"
             ]
            ],
            "type": "contour"
           }
          ],
          "contourcarpet": [
           {
            "colorbar": {
             "outlinewidth": 0,
             "ticks": ""
            },
            "type": "contourcarpet"
           }
          ],
          "heatmap": [
           {
            "colorbar": {
             "outlinewidth": 0,
             "ticks": ""
            },
            "colorscale": [
             [
              0,
              "#0d0887"
             ],
             [
              0.1111111111111111,
              "#46039f"
             ],
             [
              0.2222222222222222,
              "#7201a8"
             ],
             [
              0.3333333333333333,
              "#9c179e"
             ],
             [
              0.4444444444444444,
              "#bd3786"
             ],
             [
              0.5555555555555556,
              "#d8576b"
             ],
             [
              0.6666666666666666,
              "#ed7953"
             ],
             [
              0.7777777777777778,
              "#fb9f3a"
             ],
             [
              0.8888888888888888,
              "#fdca26"
             ],
             [
              1,
              "#f0f921"
             ]
            ],
            "type": "heatmap"
           }
          ],
          "heatmapgl": [
           {
            "colorbar": {
             "outlinewidth": 0,
             "ticks": ""
            },
            "colorscale": [
             [
              0,
              "#0d0887"
             ],
             [
              0.1111111111111111,
              "#46039f"
             ],
             [
              0.2222222222222222,
              "#7201a8"
             ],
             [
              0.3333333333333333,
              "#9c179e"
             ],
             [
              0.4444444444444444,
              "#bd3786"
             ],
             [
              0.5555555555555556,
              "#d8576b"
             ],
             [
              0.6666666666666666,
              "#ed7953"
             ],
             [
              0.7777777777777778,
              "#fb9f3a"
             ],
             [
              0.8888888888888888,
              "#fdca26"
             ],
             [
              1,
              "#f0f921"
             ]
            ],
            "type": "heatmapgl"
           }
          ],
          "histogram": [
           {
            "marker": {
             "pattern": {
              "fillmode": "overlay",
              "size": 10,
              "solidity": 0.2
             }
            },
            "type": "histogram"
           }
          ],
          "histogram2d": [
           {
            "colorbar": {
             "outlinewidth": 0,
             "ticks": ""
            },
            "colorscale": [
             [
              0,
              "#0d0887"
             ],
             [
              0.1111111111111111,
              "#46039f"
             ],
             [
              0.2222222222222222,
              "#7201a8"
             ],
             [
              0.3333333333333333,
              "#9c179e"
             ],
             [
              0.4444444444444444,
              "#bd3786"
             ],
             [
              0.5555555555555556,
              "#d8576b"
             ],
             [
              0.6666666666666666,
              "#ed7953"
             ],
             [
              0.7777777777777778,
              "#fb9f3a"
             ],
             [
              0.8888888888888888,
              "#fdca26"
             ],
             [
              1,
              "#f0f921"
             ]
            ],
            "type": "histogram2d"
           }
          ],
          "histogram2dcontour": [
           {
            "colorbar": {
             "outlinewidth": 0,
             "ticks": ""
            },
            "colorscale": [
             [
              0,
              "#0d0887"
             ],
             [
              0.1111111111111111,
              "#46039f"
             ],
             [
              0.2222222222222222,
              "#7201a8"
             ],
             [
              0.3333333333333333,
              "#9c179e"
             ],
             [
              0.4444444444444444,
              "#bd3786"
             ],
             [
              0.5555555555555556,
              "#d8576b"
             ],
             [
              0.6666666666666666,
              "#ed7953"
             ],
             [
              0.7777777777777778,
              "#fb9f3a"
             ],
             [
              0.8888888888888888,
              "#fdca26"
             ],
             [
              1,
              "#f0f921"
             ]
            ],
            "type": "histogram2dcontour"
           }
          ],
          "mesh3d": [
           {
            "colorbar": {
             "outlinewidth": 0,
             "ticks": ""
            },
            "type": "mesh3d"
           }
          ],
          "parcoords": [
           {
            "line": {
             "colorbar": {
              "outlinewidth": 0,
              "ticks": ""
             }
            },
            "type": "parcoords"
           }
          ],
          "pie": [
           {
            "automargin": true,
            "type": "pie"
           }
          ],
          "scatter": [
           {
            "fillpattern": {
             "fillmode": "overlay",
             "size": 10,
             "solidity": 0.2
            },
            "type": "scatter"
           }
          ],
          "scatter3d": [
           {
            "line": {
             "colorbar": {
              "outlinewidth": 0,
              "ticks": ""
             }
            },
            "marker": {
             "colorbar": {
              "outlinewidth": 0,
              "ticks": ""
             }
            },
            "type": "scatter3d"
           }
          ],
          "scattercarpet": [
           {
            "marker": {
             "colorbar": {
              "outlinewidth": 0,
              "ticks": ""
             }
            },
            "type": "scattercarpet"
           }
          ],
          "scattergeo": [
           {
            "marker": {
             "colorbar": {
              "outlinewidth": 0,
              "ticks": ""
             }
            },
            "type": "scattergeo"
           }
          ],
          "scattergl": [
           {
            "marker": {
             "colorbar": {
              "outlinewidth": 0,
              "ticks": ""
             }
            },
            "type": "scattergl"
           }
          ],
          "scattermapbox": [
           {
            "marker": {
             "colorbar": {
              "outlinewidth": 0,
              "ticks": ""
             }
            },
            "type": "scattermapbox"
           }
          ],
          "scatterpolar": [
           {
            "marker": {
             "colorbar": {
              "outlinewidth": 0,
              "ticks": ""
             }
            },
            "type": "scatterpolar"
           }
          ],
          "scatterpolargl": [
           {
            "marker": {
             "colorbar": {
              "outlinewidth": 0,
              "ticks": ""
             }
            },
            "type": "scatterpolargl"
           }
          ],
          "scatterternary": [
           {
            "marker": {
             "colorbar": {
              "outlinewidth": 0,
              "ticks": ""
             }
            },
            "type": "scatterternary"
           }
          ],
          "surface": [
           {
            "colorbar": {
             "outlinewidth": 0,
             "ticks": ""
            },
            "colorscale": [
             [
              0,
              "#0d0887"
             ],
             [
              0.1111111111111111,
              "#46039f"
             ],
             [
              0.2222222222222222,
              "#7201a8"
             ],
             [
              0.3333333333333333,
              "#9c179e"
             ],
             [
              0.4444444444444444,
              "#bd3786"
             ],
             [
              0.5555555555555556,
              "#d8576b"
             ],
             [
              0.6666666666666666,
              "#ed7953"
             ],
             [
              0.7777777777777778,
              "#fb9f3a"
             ],
             [
              0.8888888888888888,
              "#fdca26"
             ],
             [
              1,
              "#f0f921"
             ]
            ],
            "type": "surface"
           }
          ],
          "table": [
           {
            "cells": {
             "fill": {
              "color": "#EBF0F8"
             },
             "line": {
              "color": "white"
             }
            },
            "header": {
             "fill": {
              "color": "#C8D4E3"
             },
             "line": {
              "color": "white"
             }
            },
            "type": "table"
           }
          ]
         },
         "layout": {
          "annotationdefaults": {
           "arrowcolor": "#2a3f5f",
           "arrowhead": 0,
           "arrowwidth": 1
          },
          "autotypenumbers": "strict",
          "coloraxis": {
           "colorbar": {
            "outlinewidth": 0,
            "ticks": ""
           }
          },
          "colorscale": {
           "diverging": [
            [
             0,
             "#8e0152"
            ],
            [
             0.1,
             "#c51b7d"
            ],
            [
             0.2,
             "#de77ae"
            ],
            [
             0.3,
             "#f1b6da"
            ],
            [
             0.4,
             "#fde0ef"
            ],
            [
             0.5,
             "#f7f7f7"
            ],
            [
             0.6,
             "#e6f5d0"
            ],
            [
             0.7,
             "#b8e186"
            ],
            [
             0.8,
             "#7fbc41"
            ],
            [
             0.9,
             "#4d9221"
            ],
            [
             1,
             "#276419"
            ]
           ],
           "sequential": [
            [
             0,
             "#0d0887"
            ],
            [
             0.1111111111111111,
             "#46039f"
            ],
            [
             0.2222222222222222,
             "#7201a8"
            ],
            [
             0.3333333333333333,
             "#9c179e"
            ],
            [
             0.4444444444444444,
             "#bd3786"
            ],
            [
             0.5555555555555556,
             "#d8576b"
            ],
            [
             0.6666666666666666,
             "#ed7953"
            ],
            [
             0.7777777777777778,
             "#fb9f3a"
            ],
            [
             0.8888888888888888,
             "#fdca26"
            ],
            [
             1,
             "#f0f921"
            ]
           ],
           "sequentialminus": [
            [
             0,
             "#0d0887"
            ],
            [
             0.1111111111111111,
             "#46039f"
            ],
            [
             0.2222222222222222,
             "#7201a8"
            ],
            [
             0.3333333333333333,
             "#9c179e"
            ],
            [
             0.4444444444444444,
             "#bd3786"
            ],
            [
             0.5555555555555556,
             "#d8576b"
            ],
            [
             0.6666666666666666,
             "#ed7953"
            ],
            [
             0.7777777777777778,
             "#fb9f3a"
            ],
            [
             0.8888888888888888,
             "#fdca26"
            ],
            [
             1,
             "#f0f921"
            ]
           ]
          },
          "colorway": [
           "#636efa",
           "#EF553B",
           "#00cc96",
           "#ab63fa",
           "#FFA15A",
           "#19d3f3",
           "#FF6692",
           "#B6E880",
           "#FF97FF",
           "#FECB52"
          ],
          "font": {
           "color": "#2a3f5f"
          },
          "geo": {
           "bgcolor": "white",
           "lakecolor": "white",
           "landcolor": "#E5ECF6",
           "showlakes": true,
           "showland": true,
           "subunitcolor": "white"
          },
          "hoverlabel": {
           "align": "left"
          },
          "hovermode": "closest",
          "mapbox": {
           "style": "light"
          },
          "paper_bgcolor": "white",
          "plot_bgcolor": "#E5ECF6",
          "polar": {
           "angularaxis": {
            "gridcolor": "white",
            "linecolor": "white",
            "ticks": ""
           },
           "bgcolor": "#E5ECF6",
           "radialaxis": {
            "gridcolor": "white",
            "linecolor": "white",
            "ticks": ""
           }
          },
          "scene": {
           "xaxis": {
            "backgroundcolor": "#E5ECF6",
            "gridcolor": "white",
            "gridwidth": 2,
            "linecolor": "white",
            "showbackground": true,
            "ticks": "",
            "zerolinecolor": "white"
           },
           "yaxis": {
            "backgroundcolor": "#E5ECF6",
            "gridcolor": "white",
            "gridwidth": 2,
            "linecolor": "white",
            "showbackground": true,
            "ticks": "",
            "zerolinecolor": "white"
           },
           "zaxis": {
            "backgroundcolor": "#E5ECF6",
            "gridcolor": "white",
            "gridwidth": 2,
            "linecolor": "white",
            "showbackground": true,
            "ticks": "",
            "zerolinecolor": "white"
           }
          },
          "shapedefaults": {
           "line": {
            "color": "#2a3f5f"
           }
          },
          "ternary": {
           "aaxis": {
            "gridcolor": "white",
            "linecolor": "white",
            "ticks": ""
           },
           "baxis": {
            "gridcolor": "white",
            "linecolor": "white",
            "ticks": ""
           },
           "bgcolor": "#E5ECF6",
           "caxis": {
            "gridcolor": "white",
            "linecolor": "white",
            "ticks": ""
           }
          },
          "title": {
           "x": 0.05
          },
          "xaxis": {
           "automargin": true,
           "gridcolor": "white",
           "linecolor": "white",
           "ticks": "",
           "title": {
            "standoff": 15
           },
           "zerolinecolor": "white",
           "zerolinewidth": 2
          },
          "yaxis": {
           "automargin": true,
           "gridcolor": "white",
           "linecolor": "white",
           "ticks": "",
           "title": {
            "standoff": 15
           },
           "zerolinecolor": "white",
           "zerolinewidth": 2
          }
         }
        }
       }
      }
     },
     "metadata": {},
     "output_type": "display_data"
    }
   ],
   "source": [
    "# replace None values with \"Unknown\"\n",
    "df['Category'].fillna('Unknown', inplace=True)\n",
    "\n",
    "# sunburst plot on Google App Store Dtaase\n",
    "fig = px.sunburst(df, path=['Category', 'Type', 'Content Rating'], values='Rating', color='Type')\n",
    "fig.show()"
   ]
  },
  {
   "cell_type": "code",
   "execution_count": null,
   "metadata": {},
   "outputs": [],
   "source": []
  }
 ],
 "metadata": {
  "kernelspec": {
   "display_name": "python_eda",
   "language": "python",
   "name": "python3"
  },
  "language_info": {
   "codemirror_mode": {
    "name": "ipython",
    "version": 3
   },
   "file_extension": ".py",
   "mimetype": "text/x-python",
   "name": "python",
   "nbconvert_exporter": "python",
   "pygments_lexer": "ipython3",
   "version": "3.12.0"
  }
 },
 "nbformat": 4,
 "nbformat_minor": 2
}
