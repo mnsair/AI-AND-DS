{
 "cells": [
  {
   "cell_type": "markdown",
   "metadata": {},
   "source": [
    "# Muhammad Nauman Sair\n",
    "- [Kaggle](https://www.kaggle.com/muhammadnsair/Home)\n",
    "- [Linkedin](https://www.linkedin.com/in/muhammad-nauman-sair/)\n",
    "- [Github](https://github.com/mnsair)\n",
    "- [twitter-X](https://twitter.com/NaumanSair)\n",
    "- Email: mnsair@live.com"
   ]
  },
  {
   "cell_type": "markdown",
   "metadata": {},
   "source": [
    "## Google App Store EDA\n",
    "\n",
    "### To-Dos\n",
    "1. Download the data [Google_Play_Store_apps](https://www.kaggle.com/datasets/lava18/google-play-store-apps)\n",
    "2. Extract data from zip file\n",
    "3. Import the Libraries\n",
    "4. Read the data into python pandas\n",
    "5. Crate EDA with ydata_profiling before wrangling\n",
    "6. Understand the data\n",
    "7. Assignments in this notebook\n",
    "8. Crate EDA with ydata_profiling after wrangling\n",
    "\n",
    "### Assignments in this notebook\n",
    "1. Size Column:\n",
    "   1. Varies with device to NaN\n",
    "   2. Convert KBs to MBs\n",
    "   3. dtype should be numeric or float64\n",
    "   4. drop the Size column, and create new column name Size_MB\n",
    "2. Price Column:\n",
    "   1. drop $ sign\n",
    "   2. dtype should be numeric or float64\n",
    "3. Installs Column: bin the data for this column"
   ]
  },
  {
   "cell_type": "markdown",
   "metadata": {},
   "source": [
    "### 3. Import the Libraries"
   ]
  },
  {
   "cell_type": "code",
   "execution_count": 79,
   "metadata": {},
   "outputs": [
    {
     "name": "stderr",
     "output_type": "stream",
     "text": [
      "UsageError: unrecognized arguments: # this is used to create plots in the notebook\n"
     ]
    }
   ],
   "source": [
    "import pandas as pd\n",
    "import numpy as np\n",
    "import matplotlib.pyplot as plt\n",
    "import seaborn as sns\n",
    "%matplotlib inline   # this is used to create plots in the notebook"
   ]
  },
  {
   "cell_type": "markdown",
   "metadata": {},
   "source": [
    "### 4. Read the data into python pandas"
   ]
  },
  {
   "cell_type": "code",
   "execution_count": 80,
   "metadata": {},
   "outputs": [],
   "source": [
    "df = pd.read_csv('C:/Users/mnsai/Desktop/Python/AI-and-DS/data/googleplaystore.csv')\n",
    "# Please select the path where you unzip and save the data "
   ]
  },
  {
   "cell_type": "markdown",
   "metadata": {},
   "source": [
    "### 5. EDA Ydata Profiling before wrangling"
   ]
  },
  {
   "cell_type": "code",
   "execution_count": 81,
   "metadata": {},
   "outputs": [],
   "source": [
    "# # Automated EDA to review and understand the Data before wrandgling\n",
    "# import ydata_profiling as yd\n",
    "# profile = yd.ProfileReport(df)\n",
    "# profile.to_file(output_file='C:/Users/mnsai/Desktop/Python/AI-and-DS/Output/06_ydata_kaggle_google.html')\n",
    "# # This will create an HTML file at your selected location, preferred to open in Google Chrome\n",
    "\n",
    "# # Note: ydata_profiling in not compatible with python 3.11 as of Oct 16,02023"
   ]
  },
  {
   "cell_type": "markdown",
   "metadata": {},
   "source": [
    "### 6. Understand the data"
   ]
  },
  {
   "cell_type": "code",
   "execution_count": 82,
   "metadata": {},
   "outputs": [],
   "source": [
    "# set option to be maximum for rows and columns\n",
    "pd.set_option('display.max_columns', None)\n",
    "pd.set_option('display.max_row', None)\n",
    "\n",
    "# hide all warnings\n",
    "import warnings\n",
    "warnings.filterwarnings('ignore')"
   ]
  },
  {
   "cell_type": "code",
   "execution_count": 83,
   "metadata": {},
   "outputs": [
    {
     "name": "stdout",
     "output_type": "stream",
     "text": [
      "<class 'pandas.core.frame.DataFrame'>\n",
      "RangeIndex: 10841 entries, 0 to 10840\n",
      "Data columns (total 13 columns):\n",
      " #   Column          Non-Null Count  Dtype  \n",
      "---  ------          --------------  -----  \n",
      " 0   App             10841 non-null  object \n",
      " 1   Category        10840 non-null  object \n",
      " 2   Rating          9367 non-null   float64\n",
      " 3   Reviews         10841 non-null  int64  \n",
      " 4   Size            10841 non-null  object \n",
      " 5   Installs        10841 non-null  object \n",
      " 6   Type            10841 non-null  object \n",
      " 7   Price           10841 non-null  object \n",
      " 8   Content Rating  10841 non-null  object \n",
      " 9   Genres          10840 non-null  object \n",
      " 10  Last Updated    10841 non-null  object \n",
      " 11  Current Ver     10833 non-null  object \n",
      " 12  Android Ver     10839 non-null  object \n",
      "dtypes: float64(1), int64(1), object(11)\n",
      "memory usage: 1.1+ MB\n"
     ]
    }
   ],
   "source": [
    "# check the data\n",
    "df.info()"
   ]
  },
  {
   "cell_type": "code",
   "execution_count": 84,
   "metadata": {},
   "outputs": [
    {
     "name": "stdout",
     "output_type": "stream",
     "text": [
      "The number of rows are 10841, and columns are 13.\n"
     ]
    }
   ],
   "source": [
    "# data shape\n",
    "print(f\"The number of rows are {df.shape[0]}, and columns are {df.shape[1]}.\")"
   ]
  },
  {
   "cell_type": "code",
   "execution_count": 85,
   "metadata": {},
   "outputs": [
    {
     "data": {
      "text/html": [
       "<div>\n",
       "<style scoped>\n",
       "    .dataframe tbody tr th:only-of-type {\n",
       "        vertical-align: middle;\n",
       "    }\n",
       "\n",
       "    .dataframe tbody tr th {\n",
       "        vertical-align: top;\n",
       "    }\n",
       "\n",
       "    .dataframe thead th {\n",
       "        text-align: right;\n",
       "    }\n",
       "</style>\n",
       "<table border=\"1\" class=\"dataframe\">\n",
       "  <thead>\n",
       "    <tr style=\"text-align: right;\">\n",
       "      <th></th>\n",
       "      <th>App</th>\n",
       "      <th>Category</th>\n",
       "      <th>Rating</th>\n",
       "      <th>Reviews</th>\n",
       "      <th>Size</th>\n",
       "      <th>Installs</th>\n",
       "      <th>Type</th>\n",
       "      <th>Price</th>\n",
       "      <th>Content Rating</th>\n",
       "      <th>Genres</th>\n",
       "      <th>Last Updated</th>\n",
       "      <th>Current Ver</th>\n",
       "      <th>Android Ver</th>\n",
       "    </tr>\n",
       "  </thead>\n",
       "  <tbody>\n",
       "    <tr>\n",
       "      <th>0</th>\n",
       "      <td>Viber Messenger</td>\n",
       "      <td>COMMUNICATION</td>\n",
       "      <td>4.3</td>\n",
       "      <td>11334799</td>\n",
       "      <td>Varies with device</td>\n",
       "      <td>500,000,000+</td>\n",
       "      <td>Free</td>\n",
       "      <td>0</td>\n",
       "      <td>Everyone</td>\n",
       "      <td>Communication</td>\n",
       "      <td>18-Jul-18</td>\n",
       "      <td>Varies with device</td>\n",
       "      <td>Varies with device</td>\n",
       "    </tr>\n",
       "    <tr>\n",
       "      <th>1</th>\n",
       "      <td>imo free video calls and chat</td>\n",
       "      <td>COMMUNICATION</td>\n",
       "      <td>4.3</td>\n",
       "      <td>4785892</td>\n",
       "      <td>11M</td>\n",
       "      <td>500,000,000+</td>\n",
       "      <td>Free</td>\n",
       "      <td>0</td>\n",
       "      <td>Everyone</td>\n",
       "      <td>Communication</td>\n",
       "      <td>8-Jun-18</td>\n",
       "      <td>9.8.000000010501</td>\n",
       "      <td>4.0 and up</td>\n",
       "    </tr>\n",
       "    <tr>\n",
       "      <th>2</th>\n",
       "      <td>Google Duo - High Quality Video Calls</td>\n",
       "      <td>COMMUNICATION</td>\n",
       "      <td>4.6</td>\n",
       "      <td>2083237</td>\n",
       "      <td>Varies with device</td>\n",
       "      <td>500,000,000+</td>\n",
       "      <td>Free</td>\n",
       "      <td>0</td>\n",
       "      <td>Everyone</td>\n",
       "      <td>Communication</td>\n",
       "      <td>31-Jul-18</td>\n",
       "      <td>37.1.206017801.DR37_RC14</td>\n",
       "      <td>4.4 and up</td>\n",
       "    </tr>\n",
       "    <tr>\n",
       "      <th>3</th>\n",
       "      <td>UC Browser - Fast Download Private &amp; Secure</td>\n",
       "      <td>COMMUNICATION</td>\n",
       "      <td>4.5</td>\n",
       "      <td>17712922</td>\n",
       "      <td>40M</td>\n",
       "      <td>500,000,000+</td>\n",
       "      <td>Free</td>\n",
       "      <td>0</td>\n",
       "      <td>Teen</td>\n",
       "      <td>Communication</td>\n",
       "      <td>2-Aug-18</td>\n",
       "      <td>12.8.5.1121</td>\n",
       "      <td>4.0 and up</td>\n",
       "    </tr>\n",
       "    <tr>\n",
       "      <th>4</th>\n",
       "      <td>imo free video calls and chat</td>\n",
       "      <td>COMMUNICATION</td>\n",
       "      <td>4.3</td>\n",
       "      <td>4785988</td>\n",
       "      <td>11M</td>\n",
       "      <td>500,000,000+</td>\n",
       "      <td>Free</td>\n",
       "      <td>0</td>\n",
       "      <td>Everyone</td>\n",
       "      <td>Communication</td>\n",
       "      <td>8-Jun-18</td>\n",
       "      <td>9.8.000000010501</td>\n",
       "      <td>4.0 and up</td>\n",
       "    </tr>\n",
       "  </tbody>\n",
       "</table>\n",
       "</div>"
      ],
      "text/plain": [
       "                                           App       Category  Rating  \\\n",
       "0                              Viber Messenger  COMMUNICATION     4.3   \n",
       "1                imo free video calls and chat  COMMUNICATION     4.3   \n",
       "2        Google Duo - High Quality Video Calls  COMMUNICATION     4.6   \n",
       "3  UC Browser - Fast Download Private & Secure  COMMUNICATION     4.5   \n",
       "4                imo free video calls and chat  COMMUNICATION     4.3   \n",
       "\n",
       "    Reviews                Size      Installs  Type Price Content Rating  \\\n",
       "0  11334799  Varies with device  500,000,000+  Free     0       Everyone   \n",
       "1   4785892                 11M  500,000,000+  Free     0       Everyone   \n",
       "2   2083237  Varies with device  500,000,000+  Free     0       Everyone   \n",
       "3  17712922                 40M  500,000,000+  Free     0           Teen   \n",
       "4   4785988                 11M  500,000,000+  Free     0       Everyone   \n",
       "\n",
       "          Genres Last Updated               Current Ver         Android Ver  \n",
       "0  Communication    18-Jul-18        Varies with device  Varies with device  \n",
       "1  Communication     8-Jun-18          9.8.000000010501          4.0 and up  \n",
       "2  Communication    31-Jul-18  37.1.206017801.DR37_RC14          4.4 and up  \n",
       "3  Communication     2-Aug-18               12.8.5.1121          4.0 and up  \n",
       "4  Communication     8-Jun-18          9.8.000000010501          4.0 and up  "
      ]
     },
     "execution_count": 85,
     "metadata": {},
     "output_type": "execute_result"
    }
   ],
   "source": [
    "# lets have a look at the data\n",
    "df.head()"
   ]
  },
  {
   "cell_type": "code",
   "execution_count": 86,
   "metadata": {},
   "outputs": [
    {
     "data": {
      "text/html": [
       "<div>\n",
       "<style scoped>\n",
       "    .dataframe tbody tr th:only-of-type {\n",
       "        vertical-align: middle;\n",
       "    }\n",
       "\n",
       "    .dataframe tbody tr th {\n",
       "        vertical-align: top;\n",
       "    }\n",
       "\n",
       "    .dataframe thead th {\n",
       "        text-align: right;\n",
       "    }\n",
       "</style>\n",
       "<table border=\"1\" class=\"dataframe\">\n",
       "  <thead>\n",
       "    <tr style=\"text-align: right;\">\n",
       "      <th></th>\n",
       "      <th>App</th>\n",
       "      <th>Category</th>\n",
       "      <th>Rating</th>\n",
       "      <th>Reviews</th>\n",
       "      <th>Size</th>\n",
       "      <th>Installs</th>\n",
       "      <th>Type</th>\n",
       "      <th>Price</th>\n",
       "      <th>Content Rating</th>\n",
       "      <th>Genres</th>\n",
       "      <th>Last Updated</th>\n",
       "      <th>Current Ver</th>\n",
       "      <th>Android Ver</th>\n",
       "    </tr>\n",
       "  </thead>\n",
       "  <tbody>\n",
       "    <tr>\n",
       "      <th>10449</th>\n",
       "      <td>DC Comics Amino</td>\n",
       "      <td>SOCIAL</td>\n",
       "      <td>4.9</td>\n",
       "      <td>117</td>\n",
       "      <td>63M</td>\n",
       "      <td>1,000+</td>\n",
       "      <td>Free</td>\n",
       "      <td>0</td>\n",
       "      <td>Teen</td>\n",
       "      <td>Social</td>\n",
       "      <td>13-Jul-18</td>\n",
       "      <td>1.8.19106</td>\n",
       "      <td>4.0.3 and up</td>\n",
       "    </tr>\n",
       "    <tr>\n",
       "      <th>6267</th>\n",
       "      <td>NYTimes - Latest News</td>\n",
       "      <td>NEWS_AND_MAGAZINES</td>\n",
       "      <td>3.9</td>\n",
       "      <td>63647</td>\n",
       "      <td>23M</td>\n",
       "      <td>10,000,000+</td>\n",
       "      <td>Free</td>\n",
       "      <td>0</td>\n",
       "      <td>Everyone 10+</td>\n",
       "      <td>News &amp; Magazines</td>\n",
       "      <td>1-Aug-18</td>\n",
       "      <td>6.19.5</td>\n",
       "      <td>4.4 and up</td>\n",
       "    </tr>\n",
       "    <tr>\n",
       "      <th>4642</th>\n",
       "      <td>L.A. Crime Stories 2 Mad City Crime</td>\n",
       "      <td>GAME</td>\n",
       "      <td>4.2</td>\n",
       "      <td>3946</td>\n",
       "      <td>42M</td>\n",
       "      <td>100,000+</td>\n",
       "      <td>Free</td>\n",
       "      <td>0</td>\n",
       "      <td>Teen</td>\n",
       "      <td>Racing</td>\n",
       "      <td>30-Mar-17</td>\n",
       "      <td>1.04</td>\n",
       "      <td>2.3 and up</td>\n",
       "    </tr>\n",
       "    <tr>\n",
       "      <th>7702</th>\n",
       "      <td>EU FTL Calculator</td>\n",
       "      <td>BUSINESS</td>\n",
       "      <td>3.6</td>\n",
       "      <td>60</td>\n",
       "      <td>1.8M</td>\n",
       "      <td>10,000+</td>\n",
       "      <td>Free</td>\n",
       "      <td>0</td>\n",
       "      <td>Everyone</td>\n",
       "      <td>Business</td>\n",
       "      <td>1-Jun-18</td>\n",
       "      <td>1.5.1</td>\n",
       "      <td>4.1 and up</td>\n",
       "    </tr>\n",
       "    <tr>\n",
       "      <th>7474</th>\n",
       "      <td>Commonwealth CU Go Mobile</td>\n",
       "      <td>FINANCE</td>\n",
       "      <td>4.3</td>\n",
       "      <td>231</td>\n",
       "      <td>18M</td>\n",
       "      <td>10,000+</td>\n",
       "      <td>Free</td>\n",
       "      <td>0</td>\n",
       "      <td>Everyone</td>\n",
       "      <td>Finance</td>\n",
       "      <td>15-Sep-17</td>\n",
       "      <td>4.4.47</td>\n",
       "      <td>4.0.3 and up</td>\n",
       "    </tr>\n",
       "    <tr>\n",
       "      <th>7883</th>\n",
       "      <td>AJ Concept Group App</td>\n",
       "      <td>HOUSE_AND_HOME</td>\n",
       "      <td>NaN</td>\n",
       "      <td>0</td>\n",
       "      <td>17M</td>\n",
       "      <td>10+</td>\n",
       "      <td>Free</td>\n",
       "      <td>0</td>\n",
       "      <td>Everyone</td>\n",
       "      <td>House &amp; Home</td>\n",
       "      <td>25-Jul-17</td>\n",
       "      <td>3</td>\n",
       "      <td>4.0.3 and up</td>\n",
       "    </tr>\n",
       "    <tr>\n",
       "      <th>7978</th>\n",
       "      <td>Skull Widget BW</td>\n",
       "      <td>PERSONALIZATION</td>\n",
       "      <td>4.5</td>\n",
       "      <td>4</td>\n",
       "      <td>1.7M</td>\n",
       "      <td>10+</td>\n",
       "      <td>Free</td>\n",
       "      <td>0</td>\n",
       "      <td>Everyone</td>\n",
       "      <td>Personalization</td>\n",
       "      <td>28-Feb-18</td>\n",
       "      <td>1.1</td>\n",
       "      <td>4.4 and up</td>\n",
       "    </tr>\n",
       "    <tr>\n",
       "      <th>2249</th>\n",
       "      <td>Bleacher Report: sports news, scores, &amp; highli...</td>\n",
       "      <td>SPORTS</td>\n",
       "      <td>4.4</td>\n",
       "      <td>122283</td>\n",
       "      <td>Varies with device</td>\n",
       "      <td>5,000,000+</td>\n",
       "      <td>Free</td>\n",
       "      <td>0</td>\n",
       "      <td>Everyone 10+</td>\n",
       "      <td>Sports</td>\n",
       "      <td>20-Jul-18</td>\n",
       "      <td>Varies with device</td>\n",
       "      <td>Varies with device</td>\n",
       "    </tr>\n",
       "    <tr>\n",
       "      <th>9702</th>\n",
       "      <td>Super Sport Car Simulator</td>\n",
       "      <td>FAMILY</td>\n",
       "      <td>4.2</td>\n",
       "      <td>58553</td>\n",
       "      <td>50M</td>\n",
       "      <td>1,000,000+</td>\n",
       "      <td>Free</td>\n",
       "      <td>0</td>\n",
       "      <td>Everyone</td>\n",
       "      <td>Simulation</td>\n",
       "      <td>25-Dec-16</td>\n",
       "      <td>3.1</td>\n",
       "      <td>2.3.3 and up</td>\n",
       "    </tr>\n",
       "    <tr>\n",
       "      <th>2321</th>\n",
       "      <td>My Claro Peru</td>\n",
       "      <td>PRODUCTIVITY</td>\n",
       "      <td>3.2</td>\n",
       "      <td>11200</td>\n",
       "      <td>11M</td>\n",
       "      <td>5,000,000+</td>\n",
       "      <td>Free</td>\n",
       "      <td>0</td>\n",
       "      <td>Everyone</td>\n",
       "      <td>Productivity</td>\n",
       "      <td>23-Jul-18</td>\n",
       "      <td>3.1.1</td>\n",
       "      <td>4.4 and up</td>\n",
       "    </tr>\n",
       "  </tbody>\n",
       "</table>\n",
       "</div>"
      ],
      "text/plain": [
       "                                                     App            Category  \\\n",
       "10449                                    DC Comics Amino              SOCIAL   \n",
       "6267                               NYTimes - Latest News  NEWS_AND_MAGAZINES   \n",
       "4642                 L.A. Crime Stories 2 Mad City Crime                GAME   \n",
       "7702                                   EU FTL Calculator            BUSINESS   \n",
       "7474                           Commonwealth CU Go Mobile             FINANCE   \n",
       "7883                                AJ Concept Group App      HOUSE_AND_HOME   \n",
       "7978                                     Skull Widget BW     PERSONALIZATION   \n",
       "2249   Bleacher Report: sports news, scores, & highli...              SPORTS   \n",
       "9702                           Super Sport Car Simulator              FAMILY   \n",
       "2321                                       My Claro Peru        PRODUCTIVITY   \n",
       "\n",
       "       Rating  Reviews                Size     Installs  Type Price  \\\n",
       "10449     4.9      117                 63M       1,000+  Free     0   \n",
       "6267      3.9    63647                 23M  10,000,000+  Free     0   \n",
       "4642      4.2     3946                 42M     100,000+  Free     0   \n",
       "7702      3.6       60                1.8M      10,000+  Free     0   \n",
       "7474      4.3      231                 18M      10,000+  Free     0   \n",
       "7883      NaN        0                 17M          10+  Free     0   \n",
       "7978      4.5        4                1.7M          10+  Free     0   \n",
       "2249      4.4   122283  Varies with device   5,000,000+  Free     0   \n",
       "9702      4.2    58553                 50M   1,000,000+  Free     0   \n",
       "2321      3.2    11200                 11M   5,000,000+  Free     0   \n",
       "\n",
       "      Content Rating            Genres Last Updated         Current Ver  \\\n",
       "10449           Teen            Social    13-Jul-18           1.8.19106   \n",
       "6267    Everyone 10+  News & Magazines     1-Aug-18              6.19.5   \n",
       "4642            Teen            Racing    30-Mar-17                1.04   \n",
       "7702        Everyone          Business     1-Jun-18               1.5.1   \n",
       "7474        Everyone           Finance    15-Sep-17              4.4.47   \n",
       "7883        Everyone      House & Home    25-Jul-17                   3   \n",
       "7978        Everyone   Personalization    28-Feb-18                 1.1   \n",
       "2249    Everyone 10+            Sports    20-Jul-18  Varies with device   \n",
       "9702        Everyone        Simulation    25-Dec-16                 3.1   \n",
       "2321        Everyone      Productivity    23-Jul-18               3.1.1   \n",
       "\n",
       "              Android Ver  \n",
       "10449        4.0.3 and up  \n",
       "6267           4.4 and up  \n",
       "4642           2.3 and up  \n",
       "7702           4.1 and up  \n",
       "7474         4.0.3 and up  \n",
       "7883         4.0.3 and up  \n",
       "7978           4.4 and up  \n",
       "2249   Varies with device  \n",
       "9702         2.3.3 and up  \n",
       "2321           4.4 and up  "
      ]
     },
     "execution_count": 86,
     "metadata": {},
     "output_type": "execute_result"
    }
   ],
   "source": [
    "# Randomly pick the data to review it\n",
    "# This also used to take sample from big data set\n",
    "df.sample(10)"
   ]
  },
  {
   "cell_type": "code",
   "execution_count": 87,
   "metadata": {},
   "outputs": [
    {
     "name": "stdout",
     "output_type": "stream",
     "text": [
      "            Rating       Reviews\n",
      "count  9367.000000  1.084100e+04\n",
      "mean      4.191513  4.441119e+05\n",
      "std       0.515735  2.927629e+06\n",
      "min       1.000000  0.000000e+00\n",
      "25%       4.000000  3.800000e+01\n",
      "50%       4.300000  2.094000e+03\n",
      "75%       4.500000  5.476800e+04\n",
      "max       5.000000  7.815831e+07\n"
     ]
    }
   ],
   "source": [
    "print(df.describe()) # This will only summarize the numeric data"
   ]
  },
  {
   "cell_type": "markdown",
   "metadata": {},
   "source": [
    "### 7. Assignments in this notebook\n",
    "Based on the data info we understand that Size and Price columns should be numeric, instead of str/object.\\\n",
    "For number of installs, the data is in thousands and ending with plus (+) sign, we can remvoe the + sign and convert create bins, or just convert the data to numeric as int or float."
   ]
  },
  {
   "cell_type": "markdown",
   "metadata": {},
   "source": [
    "#### Assignment 1 - Size Column\n",
    "   1. Varies with device to NaN\n",
    "   2. Convert KBs to MBs\n",
    "   3. dtype should be numeric or float64\n",
    "   4. drop the Size column, and create new column name Size_MB"
   ]
  },
  {
   "cell_type": "code",
   "execution_count": 88,
   "metadata": {},
   "outputs": [
    {
     "name": "stdout",
     "output_type": "stream",
     "text": [
      "<class 'pandas.core.series.Series'>\n",
      "RangeIndex: 10841 entries, 0 to 10840\n",
      "Series name: Size\n",
      "Non-Null Count  Dtype \n",
      "--------------  ----- \n",
      "10841 non-null  object\n",
      "dtypes: object(1)\n",
      "memory usage: 84.8+ KB\n",
      "None\n",
      "Size\n",
      "Varies with device    1695\n",
      "11M                    198\n",
      "12M                    196\n",
      "14M                    194\n",
      "13M                    191\n",
      "15M                    184\n",
      "17M                    160\n",
      "19M                    154\n",
      "16M                    149\n",
      "26M                    149\n",
      "25M                    143\n",
      "20M                    139\n",
      "21M                    138\n",
      "10M                    136\n",
      "24M                    136\n",
      "18M                    133\n",
      "23M                    117\n",
      "22M                    114\n",
      "29M                    103\n",
      "27M                     97\n",
      "28M                     95\n",
      "30M                     84\n",
      "33M                     79\n",
      "3.3M                    77\n",
      "37M                     76\n",
      "35M                     72\n",
      "31M                     70\n",
      "2.9M                    69\n",
      "2.5M                    68\n",
      "2.3M                    68\n",
      "3.4M                    65\n",
      "2.8M                    65\n",
      "3.7M                    63\n",
      "32M                     63\n",
      "34M                     63\n",
      "3.0M                    62\n",
      "40M                     62\n",
      "3.9M                    62\n",
      "3.8M                    62\n",
      "44M                     61\n",
      "4.0M                    61\n",
      "36M                     60\n",
      "4.2M                    59\n",
      "46M                     59\n",
      "48M                     59\n",
      "5.0M                    58\n",
      "3.6M                    57\n",
      "3.1M                    56\n",
      "39M                     56\n",
      "3.2M                    55\n",
      "38M                     55\n",
      "4.3M                    54\n",
      "2.7M                    53\n",
      "4.1M                    52\n",
      "5.4M                    51\n",
      "3.5M                    51\n",
      "2.0M                    51\n",
      "1.8M                    50\n",
      "4.9M                    50\n",
      "2.6M                    50\n",
      "2.4M                    48\n",
      "5.7M                    48\n",
      "41M                     48\n",
      "1.5M                    48\n",
      "43M                     47\n",
      "4.6M                    46\n",
      "6.3M                    45\n",
      "2.2M                    45\n",
      "49M                     45\n",
      "50M                     44\n",
      "5.3M                    44\n",
      "53M                     43\n",
      "5.1M                    43\n",
      "4.4M                    42\n",
      "1.2M                    41\n",
      "42M                     41\n",
      "63M                     41\n",
      "4.5M                    40\n",
      "6.9M                    40\n",
      "2.1M                    40\n",
      "1.7M                    40\n",
      "45M                     40\n",
      "99M                     39\n",
      "1.6M                    39\n",
      "6.1M                    39\n",
      "8.7M                    39\n",
      "59M                     38\n",
      "47M                     37\n",
      "7.3M                    37\n",
      "57M                     37\n",
      "5.9M                    37\n",
      "1.4M                    37\n",
      "8.5M                    36\n",
      "60M                     36\n",
      "4.7M                    36\n",
      "1.3M                    35\n",
      "5.2M                    35\n",
      "5.8M                    35\n",
      "52M                     35\n",
      "4.8M                    34\n",
      "6.0M                    34\n",
      "6.5M                    34\n",
      "7.9M                    33\n",
      "9.2M                    33\n",
      "7.0M                    33\n",
      "6.6M                    33\n",
      "51M                     33\n",
      "5.5M                    33\n",
      "67M                     32\n",
      "1.1M                    32\n",
      "1.9M                    32\n",
      "62M                     32\n",
      "5.6M                    31\n",
      "56M                     31\n",
      "8.4M                    30\n",
      "6.2M                    30\n",
      "9.8M                    30\n",
      "55M                     30\n",
      "8.3M                    30\n",
      "7.2M                    30\n",
      "6.4M                    29\n",
      "9.1M                    29\n",
      "54M                     29\n",
      "7.8M                    29\n",
      "7.6M                    29\n",
      "7.4M                    28\n",
      "9.9M                    28\n",
      "8.2M                    28\n",
      "9.5M                    28\n",
      "7.5M                    28\n",
      "8.9M                    28\n",
      "6.8M                    28\n",
      "8.1M                    27\n",
      "76M                     27\n",
      "70M                     27\n",
      "8.8M                    27\n",
      "9.0M                    27\n",
      "96M                     26\n",
      "7.7M                    26\n",
      "61M                     26\n",
      "7.1M                    26\n",
      "58M                     26\n",
      "6.7M                    25\n",
      "8.6M                    25\n",
      "9.4M                    24\n",
      "9.7M                    24\n",
      "8.0M                    23\n",
      "69M                     23\n",
      "78M                     23\n",
      "91M                     22\n",
      "82M                     21\n",
      "97M                     20\n",
      "74M                     20\n",
      "72M                     19\n",
      "95M                     18\n",
      "68M                     18\n",
      "94M                     17\n",
      "85M                     17\n",
      "98M                     16\n",
      "93M                     16\n",
      "66M                     16\n",
      "100M                    16\n",
      "64M                     15\n",
      "9.6M                    15\n",
      "9.3M                    15\n",
      "73M                     15\n",
      "92M                     15\n",
      "83M                     15\n",
      "88M                     14\n",
      "71M                     14\n",
      "75M                     13\n",
      "87M                     13\n",
      "77M                     13\n",
      "80M                     13\n",
      "79M                     11\n",
      "81M                     11\n",
      "10.0M                   10\n",
      "65M                     10\n",
      "84M                      9\n",
      "89M                      9\n",
      "86M                      8\n",
      "1.0M                     7\n",
      "90M                      6\n",
      "375k                     3\n",
      "201k                     3\n",
      "118k                     3\n",
      "79k                      3\n",
      "266k                     3\n",
      "33k                      2\n",
      "335k                     2\n",
      "70k                      2\n",
      "72k                      2\n",
      "29k                      2\n",
      "364k                     2\n",
      "842k                     2\n",
      "192k                     2\n",
      "17k                      2\n",
      "206k                     2\n",
      "656k                     2\n",
      "141k                     2\n",
      "948k                     2\n",
      "58k                      2\n",
      "592k                     2\n",
      "334k                     2\n",
      "51k                      2\n",
      "196k                     2\n",
      "704k                     2\n",
      "228k                     2\n",
      "417k                     2\n",
      "473k                     2\n",
      "26k                      2\n",
      "18k                      2\n",
      "323k                     2\n",
      "318k                     2\n",
      "172k                     2\n",
      "957k                     2\n",
      "414k                     1\n",
      "420k                     1\n",
      "193k                     1\n",
      "186k                     1\n",
      "25k                      1\n",
      "288k                     1\n",
      "626k                     1\n",
      "245k                     1\n",
      "153k                     1\n",
      "353k                     1\n",
      "784k                     1\n",
      "329k                     1\n",
      "122k                     1\n",
      "811k                     1\n",
      "400k                     1\n",
      "816k                     1\n",
      "986k                     1\n",
      "787k                     1\n",
      "24k                      1\n",
      "728k                     1\n",
      "371k                     1\n",
      "695k                     1\n",
      "624k                     1\n",
      "525k                     1\n",
      "853k                     1\n",
      "551k                     1\n",
      "176k                     1\n",
      "556k                     1\n",
      "526k                     1\n",
      "899k                     1\n",
      "898k                     1\n",
      "980k                     1\n",
      "779k                     1\n",
      "930k                     1\n",
      "203k                     1\n",
      "78k                      1\n",
      "429k                     1\n",
      "924k                     1\n",
      "939k                     1\n",
      "45k                      1\n",
      "714k                     1\n",
      "322k                     1\n",
      "976k                     1\n",
      "210k                     1\n",
      "383k                     1\n",
      "454k                     1\n",
      "812k                     1\n",
      "442k                     1\n",
      "412k                     1\n",
      "459k                     1\n",
      "782k                     1\n",
      "226k                     1\n",
      "243k                     1\n",
      "257k                     1\n",
      "67k                      1\n",
      "478k                     1\n",
      "460k                     1\n",
      "496k                     1\n",
      "613k                     1\n",
      "691k                     1\n",
      "951k                     1\n",
      "157k                     1\n",
      "963k                     1\n",
      "27k                      1\n",
      "82k                      1\n",
      "743k                     1\n",
      "498k                     1\n",
      "749k                     1\n",
      "881k                     1\n",
      "601k                     1\n",
      "676k                     1\n",
      "108k                     1\n",
      "34k                      1\n",
      "942k                     1\n",
      "44k                      1\n",
      "259k                     1\n",
      "28k                      1\n",
      "916k                     1\n",
      "994k                     1\n",
      "608k                     1\n",
      "270k                     1\n",
      "658k                     1\n",
      "246k                     1\n",
      "523k                     1\n",
      "39k                      1\n",
      "121k                     1\n",
      "317k                     1\n",
      "14k                      1\n",
      "378k                     1\n",
      "169k                     1\n",
      "655k                     1\n",
      "904k                     1\n",
      "280k                     1\n",
      "319k                     1\n",
      "191k                     1\n",
      "514k                     1\n",
      "237k                     1\n",
      "269k                     1\n",
      "940k                     1\n",
      "663k                     1\n",
      "549k                     1\n",
      "518k                     1\n",
      "292k                     1\n",
      "11k                      1\n",
      "238k                     1\n",
      "696k                     1\n",
      "544k                     1\n",
      "713k                     1\n",
      "865k                     1\n",
      "540k                     1\n",
      "93k                      1\n",
      "872k                     1\n",
      "716k                     1\n",
      "982k                     1\n",
      "351k                     1\n",
      "847k                     1\n",
      "860k                     1\n",
      "253k                     1\n",
      "619k                     1\n",
      "41k                      1\n",
      "861k                     1\n",
      "975k                     1\n",
      "421k                     1\n",
      "683k                     1\n",
      "511k                     1\n",
      "913k                     1\n",
      "97k                      1\n",
      "629k                     1\n",
      "154k                     1\n",
      "89k                      1\n",
      "1020k                    1\n",
      "232k                     1\n",
      "373k                     1\n",
      "208k                     1\n",
      "862k                     1\n",
      "772k                     1\n",
      "554k                     1\n",
      "251k                     1\n",
      "313k                     1\n",
      "239k                     1\n",
      "220k                     1\n",
      "965k                     1\n",
      "545k                     1\n",
      "283k                     1\n",
      "717k                     1\n",
      "308k                     1\n",
      "721k                     1\n",
      "430k                     1\n",
      "200k                     1\n",
      "506k                     1\n",
      "552k                     1\n",
      "161k                     1\n",
      "48k                      1\n",
      "562k                     1\n",
      "920k                     1\n",
      "585k                     1\n",
      "50k                      1\n",
      "857k                     1\n",
      "954k                     1\n",
      "887k                     1\n",
      "636k                     1\n",
      "754k                     1\n",
      "376k                     1\n",
      "992k                     1\n",
      "8.5k                     1\n",
      "241k                     1\n",
      "314k                     1\n",
      "730k                     1\n",
      "756k                     1\n",
      "74k                      1\n",
      "444k                     1\n",
      "306k                     1\n",
      "175k                     1\n",
      "647k                     1\n",
      "598k                     1\n",
      "219k                     1\n",
      "116k                     1\n",
      "837k                     1\n",
      "221k                     1\n",
      "309k                     1\n",
      "485k                     1\n",
      "437k                     1\n",
      "499k                     1\n",
      "234k                     1\n",
      "840k                     1\n",
      "903k                     1\n",
      "387k                     1\n",
      "190k                     1\n",
      "73k                      1\n",
      "404k                     1\n",
      "467k                     1\n",
      "582k                     1\n",
      "293k                     1\n",
      "902k                     1\n",
      "81k                      1\n",
      "475k                     1\n",
      "705k                     1\n",
      "569k                     1\n",
      "222k                     1\n",
      "801k                     1\n",
      "55k                      1\n",
      "516k                     1\n",
      "780k                     1\n",
      "961k                     1\n",
      "642k                     1\n",
      "458k                     1\n",
      "775k                     1\n",
      "500k                     1\n",
      "921k                     1\n",
      "874k                     1\n",
      "981k                     1\n",
      "892k                     1\n",
      "970k                     1\n",
      "914k                     1\n",
      "785k                     1\n",
      "20k                      1\n",
      "643k                     1\n",
      "600k                     1\n",
      "164k                     1\n",
      "54k                      1\n",
      "879k                     1\n",
      "170k                     1\n",
      "160k                     1\n",
      "144k                     1\n",
      "143k                     1\n",
      "470k                     1\n",
      "240k                     1\n",
      "688k                     1\n",
      "23k                      1\n",
      "720k                     1\n",
      "953k                     1\n",
      "746k                     1\n",
      "91k                      1\n",
      "818k                     1\n",
      "61k                      1\n",
      "609k                     1\n",
      "350k                     1\n",
      "778k                     1\n",
      "103k                     1\n",
      "209k                     1\n",
      "173k                     1\n",
      "597k                     1\n",
      "809k                     1\n",
      "411k                     1\n",
      "885k                     1\n",
      "Name: count, dtype: int64\n"
     ]
    }
   ],
   "source": [
    "# View the Size column infor\n",
    "print(df['Size'].info())\n",
    "print(df['Size'].value_counts())"
   ]
  },
  {
   "cell_type": "markdown",
   "metadata": {},
   "source": [
    "Assigment 1 - Subpart 1: Convert the 'Varies with device\" to NaN"
   ]
  },
  {
   "cell_type": "markdown",
   "metadata": {},
   "source": [
    "There are no null values in `Size` column."
   ]
  },
  {
   "cell_type": "markdown",
   "metadata": {},
   "source": [
    "### Verify the number of values and 3 different kinds of values."
   ]
  },
  {
   "cell_type": "code",
   "execution_count": 89,
   "metadata": {},
   "outputs": [
    {
     "data": {
      "text/plain": [
       "8830"
      ]
     },
     "execution_count": 89,
     "metadata": {},
     "output_type": "execute_result"
    }
   ],
   "source": [
    "# find the values having M in them\n",
    "df['Size'].loc[df['Size'].str.contains('M')].value_counts().sum()"
   ]
  },
  {
   "cell_type": "code",
   "execution_count": 90,
   "metadata": {},
   "outputs": [
    {
     "data": {
      "text/plain": [
       "316"
      ]
     },
     "execution_count": 90,
     "metadata": {},
     "output_type": "execute_result"
    }
   ],
   "source": [
    "# find the values having k in them\n",
    "df['Size'].loc[df['Size'].str.contains('k')].value_counts().sum()"
   ]
  },
  {
   "cell_type": "code",
   "execution_count": 91,
   "metadata": {},
   "outputs": [
    {
     "data": {
      "text/plain": [
       "1695"
      ]
     },
     "execution_count": 91,
     "metadata": {},
     "output_type": "execute_result"
    }
   ],
   "source": [
    "# find the values having 'Varies with device' in them\n",
    "df['Size'].loc[df['Size'].str.contains('Varies with device')].value_counts().sum()"
   ]
  },
  {
   "cell_type": "code",
   "execution_count": 92,
   "metadata": {},
   "outputs": [
    {
     "name": "stdout",
     "output_type": "stream",
     "text": [
      "Size\n",
      "11M      198\n",
      "12M      196\n",
      "14M      194\n",
      "13M      191\n",
      "15M      184\n",
      "17M      160\n",
      "19M      154\n",
      "16M      149\n",
      "26M      149\n",
      "25M      143\n",
      "20M      139\n",
      "21M      138\n",
      "10M      136\n",
      "24M      136\n",
      "18M      133\n",
      "23M      117\n",
      "22M      114\n",
      "29M      103\n",
      "27M       97\n",
      "28M       95\n",
      "30M       84\n",
      "33M       79\n",
      "3.3M      77\n",
      "37M       76\n",
      "35M       72\n",
      "31M       70\n",
      "2.9M      69\n",
      "2.3M      68\n",
      "2.5M      68\n",
      "2.8M      65\n",
      "3.4M      65\n",
      "34M       63\n",
      "3.7M      63\n",
      "32M       63\n",
      "3.0M      62\n",
      "3.9M      62\n",
      "3.8M      62\n",
      "40M       62\n",
      "4.0M      61\n",
      "44M       61\n",
      "36M       60\n",
      "4.2M      59\n",
      "48M       59\n",
      "46M       59\n",
      "5.0M      58\n",
      "3.6M      57\n",
      "3.1M      56\n",
      "39M       56\n",
      "3.2M      55\n",
      "38M       55\n",
      "4.3M      54\n",
      "2.7M      53\n",
      "4.1M      52\n",
      "5.4M      51\n",
      "3.5M      51\n",
      "2.0M      51\n",
      "1.8M      50\n",
      "4.9M      50\n",
      "2.6M      50\n",
      "5.7M      48\n",
      "2.4M      48\n",
      "1.5M      48\n",
      "41M       48\n",
      "43M       47\n",
      "4.6M      46\n",
      "49M       45\n",
      "2.2M      45\n",
      "6.3M      45\n",
      "5.3M      44\n",
      "50M       44\n",
      "5.1M      43\n",
      "53M       43\n",
      "4.4M      42\n",
      "63M       41\n",
      "1.2M      41\n",
      "42M       41\n",
      "2.1M      40\n",
      "45M       40\n",
      "4.5M      40\n",
      "6.9M      40\n",
      "1.7M      40\n",
      "8.7M      39\n",
      "1.6M      39\n",
      "99M       39\n",
      "6.1M      39\n",
      "59M       38\n",
      "47M       37\n",
      "7.3M      37\n",
      "57M       37\n",
      "5.9M      37\n",
      "1.4M      37\n",
      "8.5M      36\n",
      "60M       36\n",
      "4.7M      36\n",
      "1.3M      35\n",
      "5.2M      35\n",
      "5.8M      35\n",
      "52M       35\n",
      "4.8M      34\n",
      "6.0M      34\n",
      "6.5M      34\n",
      "7.9M      33\n",
      "9.2M      33\n",
      "7.0M      33\n",
      "6.6M      33\n",
      "51M       33\n",
      "5.5M      33\n",
      "67M       32\n",
      "1.1M      32\n",
      "1.9M      32\n",
      "62M       32\n",
      "5.6M      31\n",
      "56M       31\n",
      "8.4M      30\n",
      "6.2M      30\n",
      "9.8M      30\n",
      "55M       30\n",
      "8.3M      30\n",
      "7.2M      30\n",
      "6.4M      29\n",
      "9.1M      29\n",
      "54M       29\n",
      "7.8M      29\n",
      "7.6M      29\n",
      "7.4M      28\n",
      "9.9M      28\n",
      "8.2M      28\n",
      "9.5M      28\n",
      "7.5M      28\n",
      "8.9M      28\n",
      "6.8M      28\n",
      "8.1M      27\n",
      "76M       27\n",
      "70M       27\n",
      "8.8M      27\n",
      "9.0M      27\n",
      "96M       26\n",
      "7.7M      26\n",
      "61M       26\n",
      "7.1M      26\n",
      "58M       26\n",
      "6.7M      25\n",
      "8.6M      25\n",
      "9.4M      24\n",
      "9.7M      24\n",
      "8.0M      23\n",
      "69M       23\n",
      "78M       23\n",
      "91M       22\n",
      "82M       21\n",
      "97M       20\n",
      "74M       20\n",
      "72M       19\n",
      "95M       18\n",
      "68M       18\n",
      "94M       17\n",
      "85M       17\n",
      "98M       16\n",
      "93M       16\n",
      "66M       16\n",
      "100M      16\n",
      "64M       15\n",
      "9.6M      15\n",
      "9.3M      15\n",
      "73M       15\n",
      "92M       15\n",
      "83M       15\n",
      "88M       14\n",
      "71M       14\n",
      "75M       13\n",
      "87M       13\n",
      "77M       13\n",
      "80M       13\n",
      "79M       11\n",
      "81M       11\n",
      "10.0M     10\n",
      "65M       10\n",
      "84M        9\n",
      "89M        9\n",
      "86M        8\n",
      "1.0M       7\n",
      "90M        6\n",
      "375k       3\n",
      "201k       3\n",
      "118k       3\n",
      "79k        3\n",
      "266k       3\n",
      "51k        2\n",
      "334k       2\n",
      "29k        2\n",
      "192k       2\n",
      "842k       2\n",
      "17k        2\n",
      "206k       2\n",
      "656k       2\n",
      "33k        2\n",
      "141k       2\n",
      "592k       2\n",
      "196k       2\n",
      "58k        2\n",
      "364k       2\n",
      "70k        2\n",
      "335k       2\n",
      "417k       2\n",
      "318k       2\n",
      "323k       2\n",
      "172k       2\n",
      "228k       2\n",
      "18k        2\n",
      "26k        2\n",
      "473k       2\n",
      "72k        2\n",
      "948k       2\n",
      "704k       2\n",
      "957k       2\n",
      "210k       1\n",
      "329k       1\n",
      "899k       1\n",
      "122k       1\n",
      "400k       1\n",
      "787k       1\n",
      "986k       1\n",
      "245k       1\n",
      "288k       1\n",
      "811k       1\n",
      "526k       1\n",
      "556k       1\n",
      "153k       1\n",
      "784k       1\n",
      "176k       1\n",
      "626k       1\n",
      "551k       1\n",
      "853k       1\n",
      "193k       1\n",
      "420k       1\n",
      "525k       1\n",
      "624k       1\n",
      "695k       1\n",
      "353k       1\n",
      "25k        1\n",
      "976k       1\n",
      "898k       1\n",
      "322k       1\n",
      "383k       1\n",
      "454k       1\n",
      "714k       1\n",
      "45k        1\n",
      "939k       1\n",
      "812k       1\n",
      "924k       1\n",
      "442k       1\n",
      "78k        1\n",
      "371k       1\n",
      "203k       1\n",
      "412k       1\n",
      "459k       1\n",
      "782k       1\n",
      "930k       1\n",
      "429k       1\n",
      "728k       1\n",
      "816k       1\n",
      "414k       1\n",
      "779k       1\n",
      "980k       1\n",
      "186k       1\n",
      "226k       1\n",
      "24k        1\n",
      "257k       1\n",
      "67k        1\n",
      "460k       1\n",
      "496k       1\n",
      "613k       1\n",
      "691k       1\n",
      "951k       1\n",
      "619k       1\n",
      "157k       1\n",
      "963k       1\n",
      "27k        1\n",
      "82k        1\n",
      "743k       1\n",
      "498k       1\n",
      "749k       1\n",
      "881k       1\n",
      "601k       1\n",
      "121k       1\n",
      "108k       1\n",
      "34k        1\n",
      "942k       1\n",
      "44k        1\n",
      "259k       1\n",
      "28k        1\n",
      "916k       1\n",
      "994k       1\n",
      "608k       1\n",
      "270k       1\n",
      "658k       1\n",
      "246k       1\n",
      "523k       1\n",
      "39k        1\n",
      "478k       1\n",
      "317k       1\n",
      "676k       1\n",
      "11k        1\n",
      "169k       1\n",
      "655k       1\n",
      "904k       1\n",
      "280k       1\n",
      "319k       1\n",
      "191k       1\n",
      "514k       1\n",
      "237k       1\n",
      "269k       1\n",
      "940k       1\n",
      "663k       1\n",
      "549k       1\n",
      "518k       1\n",
      "292k       1\n",
      "238k       1\n",
      "14k        1\n",
      "696k       1\n",
      "544k       1\n",
      "713k       1\n",
      "865k       1\n",
      "540k       1\n",
      "93k        1\n",
      "872k       1\n",
      "716k       1\n",
      "982k       1\n",
      "351k       1\n",
      "847k       1\n",
      "860k       1\n",
      "253k       1\n",
      "378k       1\n",
      "243k       1\n",
      "373k       1\n",
      "861k       1\n",
      "975k       1\n",
      "421k       1\n",
      "683k       1\n",
      "511k       1\n",
      "913k       1\n",
      "97k        1\n",
      "629k       1\n",
      "154k       1\n",
      "89k        1\n",
      "1020k      1\n",
      "232k       1\n",
      "41k        1\n",
      "208k       1\n",
      "862k       1\n",
      "772k       1\n",
      "554k       1\n",
      "251k       1\n",
      "313k       1\n",
      "239k       1\n",
      "220k       1\n",
      "965k       1\n",
      "545k       1\n",
      "283k       1\n",
      "717k       1\n",
      "308k       1\n",
      "721k       1\n",
      "430k       1\n",
      "200k       1\n",
      "506k       1\n",
      "552k       1\n",
      "161k       1\n",
      "48k        1\n",
      "562k       1\n",
      "920k       1\n",
      "585k       1\n",
      "50k        1\n",
      "857k       1\n",
      "954k       1\n",
      "887k       1\n",
      "636k       1\n",
      "754k       1\n",
      "376k       1\n",
      "992k       1\n",
      "8.5k       1\n",
      "241k       1\n",
      "314k       1\n",
      "730k       1\n",
      "756k       1\n",
      "74k        1\n",
      "444k       1\n",
      "306k       1\n",
      "175k       1\n",
      "647k       1\n",
      "598k       1\n",
      "219k       1\n",
      "116k       1\n",
      "837k       1\n",
      "221k       1\n",
      "309k       1\n",
      "485k       1\n",
      "437k       1\n",
      "499k       1\n",
      "234k       1\n",
      "840k       1\n",
      "903k       1\n",
      "387k       1\n",
      "190k       1\n",
      "73k        1\n",
      "404k       1\n",
      "467k       1\n",
      "582k       1\n",
      "293k       1\n",
      "902k       1\n",
      "81k        1\n",
      "475k       1\n",
      "705k       1\n",
      "569k       1\n",
      "222k       1\n",
      "801k       1\n",
      "55k        1\n",
      "516k       1\n",
      "780k       1\n",
      "961k       1\n",
      "642k       1\n",
      "458k       1\n",
      "775k       1\n",
      "500k       1\n",
      "921k       1\n",
      "874k       1\n",
      "981k       1\n",
      "892k       1\n",
      "970k       1\n",
      "914k       1\n",
      "785k       1\n",
      "20k        1\n",
      "643k       1\n",
      "600k       1\n",
      "164k       1\n",
      "54k        1\n",
      "879k       1\n",
      "170k       1\n",
      "160k       1\n",
      "144k       1\n",
      "143k       1\n",
      "470k       1\n",
      "240k       1\n",
      "688k       1\n",
      "23k        1\n",
      "720k       1\n",
      "953k       1\n",
      "746k       1\n",
      "91k        1\n",
      "818k       1\n",
      "61k        1\n",
      "609k       1\n",
      "350k       1\n",
      "778k       1\n",
      "103k       1\n",
      "209k       1\n",
      "173k       1\n",
      "597k       1\n",
      "809k       1\n",
      "411k       1\n",
      "885k       1\n",
      "Name: count, dtype: int64\n",
      "1695\n"
     ]
    }
   ],
   "source": [
    "df['Size'] = df['Size'].replace('Varies with device', np.nan)\n",
    "print(df['Size'].value_counts())\n",
    "print(df['Size'].isnull().sum()) # As you see there were 1695 values are \"Varies with Device\", now shown as Null"
   ]
  },
  {
   "cell_type": "markdown",
   "metadata": {},
   "source": [
    "---\n",
    "Observations\n",
    "1. \"Varies with device\n",
    "2. M\n",
    "3. k\n",
    "___"
   ]
  },
  {
   "cell_type": "code",
   "execution_count": 93,
   "metadata": {},
   "outputs": [
    {
     "data": {
      "text/plain": [
       "Size\n",
       "11M      198\n",
       "12M      196\n",
       "14M      194\n",
       "13M      191\n",
       "15M      184\n",
       "17M      160\n",
       "19M      154\n",
       "16M      149\n",
       "26M      149\n",
       "25M      143\n",
       "20M      139\n",
       "21M      138\n",
       "10M      136\n",
       "24M      136\n",
       "18M      133\n",
       "23M      117\n",
       "22M      114\n",
       "29M      103\n",
       "27M       97\n",
       "28M       95\n",
       "30M       84\n",
       "33M       79\n",
       "3.3M      77\n",
       "37M       76\n",
       "35M       72\n",
       "31M       70\n",
       "2.9M      69\n",
       "2.3M      68\n",
       "2.5M      68\n",
       "2.8M      65\n",
       "3.4M      65\n",
       "34M       63\n",
       "3.7M      63\n",
       "32M       63\n",
       "3.0M      62\n",
       "3.9M      62\n",
       "3.8M      62\n",
       "40M       62\n",
       "4.0M      61\n",
       "44M       61\n",
       "36M       60\n",
       "4.2M      59\n",
       "48M       59\n",
       "46M       59\n",
       "5.0M      58\n",
       "3.6M      57\n",
       "3.1M      56\n",
       "39M       56\n",
       "3.2M      55\n",
       "38M       55\n",
       "4.3M      54\n",
       "2.7M      53\n",
       "4.1M      52\n",
       "5.4M      51\n",
       "3.5M      51\n",
       "2.0M      51\n",
       "1.8M      50\n",
       "4.9M      50\n",
       "2.6M      50\n",
       "5.7M      48\n",
       "2.4M      48\n",
       "1.5M      48\n",
       "41M       48\n",
       "43M       47\n",
       "4.6M      46\n",
       "49M       45\n",
       "2.2M      45\n",
       "6.3M      45\n",
       "5.3M      44\n",
       "50M       44\n",
       "5.1M      43\n",
       "53M       43\n",
       "4.4M      42\n",
       "63M       41\n",
       "1.2M      41\n",
       "42M       41\n",
       "2.1M      40\n",
       "45M       40\n",
       "4.5M      40\n",
       "6.9M      40\n",
       "1.7M      40\n",
       "8.7M      39\n",
       "1.6M      39\n",
       "99M       39\n",
       "6.1M      39\n",
       "59M       38\n",
       "47M       37\n",
       "7.3M      37\n",
       "57M       37\n",
       "5.9M      37\n",
       "1.4M      37\n",
       "8.5M      36\n",
       "60M       36\n",
       "4.7M      36\n",
       "1.3M      35\n",
       "5.2M      35\n",
       "5.8M      35\n",
       "52M       35\n",
       "4.8M      34\n",
       "6.0M      34\n",
       "6.5M      34\n",
       "7.9M      33\n",
       "9.2M      33\n",
       "7.0M      33\n",
       "6.6M      33\n",
       "51M       33\n",
       "5.5M      33\n",
       "67M       32\n",
       "1.1M      32\n",
       "1.9M      32\n",
       "62M       32\n",
       "5.6M      31\n",
       "56M       31\n",
       "8.4M      30\n",
       "6.2M      30\n",
       "9.8M      30\n",
       "55M       30\n",
       "8.3M      30\n",
       "7.2M      30\n",
       "6.4M      29\n",
       "9.1M      29\n",
       "54M       29\n",
       "7.8M      29\n",
       "7.6M      29\n",
       "7.4M      28\n",
       "9.9M      28\n",
       "8.2M      28\n",
       "9.5M      28\n",
       "7.5M      28\n",
       "8.9M      28\n",
       "6.8M      28\n",
       "8.1M      27\n",
       "76M       27\n",
       "70M       27\n",
       "8.8M      27\n",
       "9.0M      27\n",
       "96M       26\n",
       "7.7M      26\n",
       "61M       26\n",
       "7.1M      26\n",
       "58M       26\n",
       "6.7M      25\n",
       "8.6M      25\n",
       "9.4M      24\n",
       "9.7M      24\n",
       "8.0M      23\n",
       "69M       23\n",
       "78M       23\n",
       "91M       22\n",
       "82M       21\n",
       "97M       20\n",
       "74M       20\n",
       "72M       19\n",
       "95M       18\n",
       "68M       18\n",
       "94M       17\n",
       "85M       17\n",
       "98M       16\n",
       "93M       16\n",
       "66M       16\n",
       "100M      16\n",
       "64M       15\n",
       "9.6M      15\n",
       "9.3M      15\n",
       "73M       15\n",
       "92M       15\n",
       "83M       15\n",
       "88M       14\n",
       "71M       14\n",
       "75M       13\n",
       "87M       13\n",
       "77M       13\n",
       "80M       13\n",
       "79M       11\n",
       "81M       11\n",
       "10.0M     10\n",
       "65M       10\n",
       "84M        9\n",
       "89M        9\n",
       "86M        8\n",
       "1.0M       7\n",
       "90M        6\n",
       "375k       3\n",
       "201k       3\n",
       "118k       3\n",
       "79k        3\n",
       "266k       3\n",
       "51k        2\n",
       "334k       2\n",
       "29k        2\n",
       "192k       2\n",
       "842k       2\n",
       "17k        2\n",
       "206k       2\n",
       "656k       2\n",
       "33k        2\n",
       "141k       2\n",
       "592k       2\n",
       "196k       2\n",
       "58k        2\n",
       "364k       2\n",
       "70k        2\n",
       "335k       2\n",
       "417k       2\n",
       "318k       2\n",
       "323k       2\n",
       "172k       2\n",
       "228k       2\n",
       "18k        2\n",
       "26k        2\n",
       "473k       2\n",
       "72k        2\n",
       "948k       2\n",
       "704k       2\n",
       "957k       2\n",
       "210k       1\n",
       "329k       1\n",
       "899k       1\n",
       "122k       1\n",
       "400k       1\n",
       "787k       1\n",
       "986k       1\n",
       "245k       1\n",
       "288k       1\n",
       "811k       1\n",
       "526k       1\n",
       "556k       1\n",
       "153k       1\n",
       "784k       1\n",
       "176k       1\n",
       "626k       1\n",
       "551k       1\n",
       "853k       1\n",
       "193k       1\n",
       "420k       1\n",
       "525k       1\n",
       "624k       1\n",
       "695k       1\n",
       "353k       1\n",
       "25k        1\n",
       "976k       1\n",
       "898k       1\n",
       "322k       1\n",
       "383k       1\n",
       "454k       1\n",
       "714k       1\n",
       "45k        1\n",
       "939k       1\n",
       "812k       1\n",
       "924k       1\n",
       "442k       1\n",
       "78k        1\n",
       "371k       1\n",
       "203k       1\n",
       "412k       1\n",
       "459k       1\n",
       "782k       1\n",
       "930k       1\n",
       "429k       1\n",
       "728k       1\n",
       "816k       1\n",
       "414k       1\n",
       "779k       1\n",
       "980k       1\n",
       "186k       1\n",
       "226k       1\n",
       "24k        1\n",
       "257k       1\n",
       "67k        1\n",
       "460k       1\n",
       "496k       1\n",
       "613k       1\n",
       "691k       1\n",
       "951k       1\n",
       "619k       1\n",
       "157k       1\n",
       "963k       1\n",
       "27k        1\n",
       "82k        1\n",
       "743k       1\n",
       "498k       1\n",
       "749k       1\n",
       "881k       1\n",
       "601k       1\n",
       "121k       1\n",
       "108k       1\n",
       "34k        1\n",
       "942k       1\n",
       "44k        1\n",
       "259k       1\n",
       "28k        1\n",
       "916k       1\n",
       "994k       1\n",
       "608k       1\n",
       "270k       1\n",
       "658k       1\n",
       "246k       1\n",
       "523k       1\n",
       "39k        1\n",
       "478k       1\n",
       "317k       1\n",
       "676k       1\n",
       "11k        1\n",
       "169k       1\n",
       "655k       1\n",
       "904k       1\n",
       "280k       1\n",
       "319k       1\n",
       "191k       1\n",
       "514k       1\n",
       "237k       1\n",
       "269k       1\n",
       "940k       1\n",
       "663k       1\n",
       "549k       1\n",
       "518k       1\n",
       "292k       1\n",
       "238k       1\n",
       "14k        1\n",
       "696k       1\n",
       "544k       1\n",
       "713k       1\n",
       "865k       1\n",
       "540k       1\n",
       "93k        1\n",
       "872k       1\n",
       "716k       1\n",
       "982k       1\n",
       "351k       1\n",
       "847k       1\n",
       "860k       1\n",
       "253k       1\n",
       "378k       1\n",
       "243k       1\n",
       "373k       1\n",
       "861k       1\n",
       "975k       1\n",
       "421k       1\n",
       "683k       1\n",
       "511k       1\n",
       "913k       1\n",
       "97k        1\n",
       "629k       1\n",
       "154k       1\n",
       "89k        1\n",
       "1020k      1\n",
       "232k       1\n",
       "41k        1\n",
       "208k       1\n",
       "862k       1\n",
       "772k       1\n",
       "554k       1\n",
       "251k       1\n",
       "313k       1\n",
       "239k       1\n",
       "220k       1\n",
       "965k       1\n",
       "545k       1\n",
       "283k       1\n",
       "717k       1\n",
       "308k       1\n",
       "721k       1\n",
       "430k       1\n",
       "200k       1\n",
       "506k       1\n",
       "552k       1\n",
       "161k       1\n",
       "48k        1\n",
       "562k       1\n",
       "920k       1\n",
       "585k       1\n",
       "50k        1\n",
       "857k       1\n",
       "954k       1\n",
       "887k       1\n",
       "636k       1\n",
       "754k       1\n",
       "376k       1\n",
       "992k       1\n",
       "8.5k       1\n",
       "241k       1\n",
       "314k       1\n",
       "730k       1\n",
       "756k       1\n",
       "74k        1\n",
       "444k       1\n",
       "306k       1\n",
       "175k       1\n",
       "647k       1\n",
       "598k       1\n",
       "219k       1\n",
       "116k       1\n",
       "837k       1\n",
       "221k       1\n",
       "309k       1\n",
       "485k       1\n",
       "437k       1\n",
       "499k       1\n",
       "234k       1\n",
       "840k       1\n",
       "903k       1\n",
       "387k       1\n",
       "190k       1\n",
       "73k        1\n",
       "404k       1\n",
       "467k       1\n",
       "582k       1\n",
       "293k       1\n",
       "902k       1\n",
       "81k        1\n",
       "475k       1\n",
       "705k       1\n",
       "569k       1\n",
       "222k       1\n",
       "801k       1\n",
       "55k        1\n",
       "516k       1\n",
       "780k       1\n",
       "961k       1\n",
       "642k       1\n",
       "458k       1\n",
       "775k       1\n",
       "500k       1\n",
       "921k       1\n",
       "874k       1\n",
       "981k       1\n",
       "892k       1\n",
       "970k       1\n",
       "914k       1\n",
       "785k       1\n",
       "20k        1\n",
       "643k       1\n",
       "600k       1\n",
       "164k       1\n",
       "54k        1\n",
       "879k       1\n",
       "170k       1\n",
       "160k       1\n",
       "144k       1\n",
       "143k       1\n",
       "470k       1\n",
       "240k       1\n",
       "688k       1\n",
       "23k        1\n",
       "720k       1\n",
       "953k       1\n",
       "746k       1\n",
       "91k        1\n",
       "818k       1\n",
       "61k        1\n",
       "609k       1\n",
       "350k       1\n",
       "778k       1\n",
       "103k       1\n",
       "209k       1\n",
       "173k       1\n",
       "597k       1\n",
       "809k       1\n",
       "411k       1\n",
       "885k       1\n",
       "Name: count, dtype: int64"
      ]
     },
     "execution_count": 93,
     "metadata": {},
     "output_type": "execute_result"
    }
   ],
   "source": [
    "df['Size'].value_counts()"
   ]
  },
  {
   "cell_type": "markdown",
   "metadata": {},
   "source": [
    "Assigment 1 - \\\n",
    "2. Subpart 2: Convert the 'Varies with device\" to NaN\\\n",
    "3. Subpart 3: dtype should be numeric or float64"
   ]
  },
  {
   "cell_type": "code",
   "execution_count": 94,
   "metadata": {},
   "outputs": [],
   "source": [
    "def convert_size_to_MB(size_str):\n",
    "    if 'k' in size_str:\n",
    "        return float(size_str.replace('k', '')) / 1024  # KB to MB\n",
    "    elif 'M' in size_str:\n",
    "        return float(size_str.replace('M', ''))  # MB to MB\n",
    "    else:\n",
    "        return float(size_str)"
   ]
  },
  {
   "cell_type": "markdown",
   "metadata": {},
   "source": [
    "Assigment 1 - \\\n",
    "4. Subpart 4: Create new column name Size_MB, and Drop the Size column"
   ]
  },
  {
   "cell_type": "code",
   "execution_count": 95,
   "metadata": {},
   "outputs": [
    {
     "name": "stdout",
     "output_type": "stream",
     "text": [
      "<class 'pandas.core.frame.DataFrame'>\n",
      "RangeIndex: 10841 entries, 0 to 10840\n",
      "Data columns (total 13 columns):\n",
      " #   Column          Non-Null Count  Dtype  \n",
      "---  ------          --------------  -----  \n",
      " 0   App             10841 non-null  object \n",
      " 1   Category        10840 non-null  object \n",
      " 2   Rating          9367 non-null   float64\n",
      " 3   Reviews         10841 non-null  int64  \n",
      " 4   Installs        10841 non-null  object \n",
      " 5   Type            10841 non-null  object \n",
      " 6   Price           10841 non-null  object \n",
      " 7   Content Rating  10841 non-null  object \n",
      " 8   Genres          10840 non-null  object \n",
      " 9   Last Updated    10841 non-null  object \n",
      " 10  Current Ver     10833 non-null  object \n",
      " 11  Android Ver     10839 non-null  object \n",
      " 12  Size_MB         9146 non-null   float64\n",
      "dtypes: float64(2), int64(1), object(10)\n",
      "memory usage: 1.1+ MB\n"
     ]
    }
   ],
   "source": [
    "# Add a new Size column in KBs,Apply the conversion function to the 'Size' column\n",
    "df['Size_MB'] = df['Size'].astype(str).apply(convert_size_to_MB)\n",
    "\n",
    "#drop the Size Column\n",
    "df = df.drop('Size', axis=1)\n",
    "\n",
    "# Dataframe info\n",
    "df.info()"
   ]
  },
  {
   "cell_type": "code",
   "execution_count": 96,
   "metadata": {},
   "outputs": [
    {
     "data": {
      "text/html": [
       "<div>\n",
       "<style scoped>\n",
       "    .dataframe tbody tr th:only-of-type {\n",
       "        vertical-align: middle;\n",
       "    }\n",
       "\n",
       "    .dataframe tbody tr th {\n",
       "        vertical-align: top;\n",
       "    }\n",
       "\n",
       "    .dataframe thead th {\n",
       "        text-align: right;\n",
       "    }\n",
       "</style>\n",
       "<table border=\"1\" class=\"dataframe\">\n",
       "  <thead>\n",
       "    <tr style=\"text-align: right;\">\n",
       "      <th></th>\n",
       "      <th>App</th>\n",
       "      <th>Category</th>\n",
       "      <th>Rating</th>\n",
       "      <th>Reviews</th>\n",
       "      <th>Installs</th>\n",
       "      <th>Type</th>\n",
       "      <th>Price</th>\n",
       "      <th>Content Rating</th>\n",
       "      <th>Genres</th>\n",
       "      <th>Last Updated</th>\n",
       "      <th>Current Ver</th>\n",
       "      <th>Android Ver</th>\n",
       "      <th>Size_MB</th>\n",
       "    </tr>\n",
       "  </thead>\n",
       "  <tbody>\n",
       "    <tr>\n",
       "      <th>10831</th>\n",
       "      <td>Pekalongan CJ</td>\n",
       "      <td>SOCIAL</td>\n",
       "      <td>NaN</td>\n",
       "      <td>0</td>\n",
       "      <td>0+</td>\n",
       "      <td>Free</td>\n",
       "      <td>0</td>\n",
       "      <td>Teen</td>\n",
       "      <td>Social</td>\n",
       "      <td>21-Jul-18</td>\n",
       "      <td>0.0.1</td>\n",
       "      <td>4.4 and up</td>\n",
       "      <td>5.9</td>\n",
       "    </tr>\n",
       "    <tr>\n",
       "      <th>10832</th>\n",
       "      <td>CX Network</td>\n",
       "      <td>BUSINESS</td>\n",
       "      <td>NaN</td>\n",
       "      <td>0</td>\n",
       "      <td>0+</td>\n",
       "      <td>Free</td>\n",
       "      <td>0</td>\n",
       "      <td>Everyone</td>\n",
       "      <td>Business</td>\n",
       "      <td>6-Aug-18</td>\n",
       "      <td>1.3.1</td>\n",
       "      <td>4.1 and up</td>\n",
       "      <td>10.0</td>\n",
       "    </tr>\n",
       "    <tr>\n",
       "      <th>10833</th>\n",
       "      <td>Sweden Newspapers</td>\n",
       "      <td>NEWS_AND_MAGAZINES</td>\n",
       "      <td>NaN</td>\n",
       "      <td>0</td>\n",
       "      <td>0+</td>\n",
       "      <td>Free</td>\n",
       "      <td>0</td>\n",
       "      <td>Everyone</td>\n",
       "      <td>News &amp; Magazines</td>\n",
       "      <td>7-Jul-18</td>\n",
       "      <td>1.1</td>\n",
       "      <td>4.4 and up</td>\n",
       "      <td>2.1</td>\n",
       "    </tr>\n",
       "    <tr>\n",
       "      <th>10834</th>\n",
       "      <td>Test Application DT 02</td>\n",
       "      <td>ART_AND_DESIGN</td>\n",
       "      <td>NaN</td>\n",
       "      <td>0</td>\n",
       "      <td>0+</td>\n",
       "      <td>Free</td>\n",
       "      <td>0</td>\n",
       "      <td>Everyone</td>\n",
       "      <td>Art &amp; Design</td>\n",
       "      <td>14-Mar-17</td>\n",
       "      <td>4</td>\n",
       "      <td>4.2 and up</td>\n",
       "      <td>1.2</td>\n",
       "    </tr>\n",
       "    <tr>\n",
       "      <th>10835</th>\n",
       "      <td>EG | Explore Folegandros</td>\n",
       "      <td>TRAVEL_AND_LOCAL</td>\n",
       "      <td>NaN</td>\n",
       "      <td>0</td>\n",
       "      <td>0+</td>\n",
       "      <td>Paid</td>\n",
       "      <td>$3.99</td>\n",
       "      <td>Everyone</td>\n",
       "      <td>Travel &amp; Local</td>\n",
       "      <td>22-Jan-17</td>\n",
       "      <td>1.1.1</td>\n",
       "      <td>4.1 and up</td>\n",
       "      <td>56.0</td>\n",
       "    </tr>\n",
       "    <tr>\n",
       "      <th>10836</th>\n",
       "      <td>EP Cook Book</td>\n",
       "      <td>MEDICAL</td>\n",
       "      <td>NaN</td>\n",
       "      <td>0</td>\n",
       "      <td>0+</td>\n",
       "      <td>Paid</td>\n",
       "      <td>$200.00</td>\n",
       "      <td>Everyone</td>\n",
       "      <td>Medical</td>\n",
       "      <td>26-Jul-15</td>\n",
       "      <td>1</td>\n",
       "      <td>3.0 and up</td>\n",
       "      <td>3.2</td>\n",
       "    </tr>\n",
       "    <tr>\n",
       "      <th>10837</th>\n",
       "      <td>Eu sou Rico</td>\n",
       "      <td>FINANCE</td>\n",
       "      <td>NaN</td>\n",
       "      <td>0</td>\n",
       "      <td>0+</td>\n",
       "      <td>Paid</td>\n",
       "      <td>$30.99</td>\n",
       "      <td>Everyone</td>\n",
       "      <td>Finance</td>\n",
       "      <td>9-Jan-18</td>\n",
       "      <td>1</td>\n",
       "      <td>4.0 and up</td>\n",
       "      <td>2.6</td>\n",
       "    </tr>\n",
       "    <tr>\n",
       "      <th>10838</th>\n",
       "      <td>Eu Sou Rico</td>\n",
       "      <td>FINANCE</td>\n",
       "      <td>NaN</td>\n",
       "      <td>0</td>\n",
       "      <td>0+</td>\n",
       "      <td>Paid</td>\n",
       "      <td>$394.99</td>\n",
       "      <td>Everyone</td>\n",
       "      <td>Finance</td>\n",
       "      <td>11-Jul-18</td>\n",
       "      <td>1</td>\n",
       "      <td>4.0.3 and up</td>\n",
       "      <td>1.4</td>\n",
       "    </tr>\n",
       "    <tr>\n",
       "      <th>10839</th>\n",
       "      <td>I'm Rich/Eu sou Rico/أنا غني/我很有錢</td>\n",
       "      <td>LIFESTYLE</td>\n",
       "      <td>NaN</td>\n",
       "      <td>0</td>\n",
       "      <td>0+</td>\n",
       "      <td>Paid</td>\n",
       "      <td>$399.99</td>\n",
       "      <td>Everyone</td>\n",
       "      <td>Lifestyle</td>\n",
       "      <td>1-Dec-17</td>\n",
       "      <td>MONEY</td>\n",
       "      <td>4.1 and up</td>\n",
       "      <td>40.0</td>\n",
       "    </tr>\n",
       "    <tr>\n",
       "      <th>10840</th>\n",
       "      <td>Command &amp; Conquer: Rivals</td>\n",
       "      <td>FAMILY</td>\n",
       "      <td>NaN</td>\n",
       "      <td>0</td>\n",
       "      <td>0</td>\n",
       "      <td>Free</td>\n",
       "      <td>0</td>\n",
       "      <td>Everyone 10+</td>\n",
       "      <td>Strategy</td>\n",
       "      <td>28-Jun-18</td>\n",
       "      <td>Varies with device</td>\n",
       "      <td>Varies with device</td>\n",
       "      <td>NaN</td>\n",
       "    </tr>\n",
       "  </tbody>\n",
       "</table>\n",
       "</div>"
      ],
      "text/plain": [
       "                                     App            Category  Rating  Reviews  \\\n",
       "10831                      Pekalongan CJ              SOCIAL     NaN        0   \n",
       "10832                         CX Network            BUSINESS     NaN        0   \n",
       "10833                  Sweden Newspapers  NEWS_AND_MAGAZINES     NaN        0   \n",
       "10834             Test Application DT 02      ART_AND_DESIGN     NaN        0   \n",
       "10835           EG | Explore Folegandros    TRAVEL_AND_LOCAL     NaN        0   \n",
       "10836                       EP Cook Book             MEDICAL     NaN        0   \n",
       "10837                        Eu sou Rico             FINANCE     NaN        0   \n",
       "10838                        Eu Sou Rico             FINANCE     NaN        0   \n",
       "10839  I'm Rich/Eu sou Rico/أنا غني/我很有錢           LIFESTYLE     NaN        0   \n",
       "10840          Command & Conquer: Rivals              FAMILY     NaN        0   \n",
       "\n",
       "      Installs  Type     Price Content Rating            Genres Last Updated  \\\n",
       "10831       0+  Free         0           Teen            Social    21-Jul-18   \n",
       "10832       0+  Free         0       Everyone          Business     6-Aug-18   \n",
       "10833       0+  Free         0       Everyone  News & Magazines     7-Jul-18   \n",
       "10834       0+  Free         0       Everyone      Art & Design    14-Mar-17   \n",
       "10835       0+  Paid    $3.99        Everyone    Travel & Local    22-Jan-17   \n",
       "10836       0+  Paid  $200.00        Everyone           Medical    26-Jul-15   \n",
       "10837       0+  Paid   $30.99        Everyone           Finance     9-Jan-18   \n",
       "10838       0+  Paid  $394.99        Everyone           Finance    11-Jul-18   \n",
       "10839       0+  Paid  $399.99        Everyone         Lifestyle     1-Dec-17   \n",
       "10840        0  Free         0   Everyone 10+          Strategy    28-Jun-18   \n",
       "\n",
       "              Current Ver         Android Ver  Size_MB  \n",
       "10831               0.0.1          4.4 and up      5.9  \n",
       "10832               1.3.1          4.1 and up     10.0  \n",
       "10833                 1.1          4.4 and up      2.1  \n",
       "10834                   4          4.2 and up      1.2  \n",
       "10835               1.1.1          4.1 and up     56.0  \n",
       "10836                   1          3.0 and up      3.2  \n",
       "10837                   1          4.0 and up      2.6  \n",
       "10838                   1        4.0.3 and up      1.4  \n",
       "10839               MONEY          4.1 and up     40.0  \n",
       "10840  Varies with device  Varies with device      NaN  "
      ]
     },
     "execution_count": 96,
     "metadata": {},
     "output_type": "execute_result"
    }
   ],
   "source": [
    "df.tail(10)"
   ]
  },
  {
   "cell_type": "markdown",
   "metadata": {},
   "source": [
    "#### Assignment 2-Price Column:\n",
    "   1. drop $ sign\n",
    "   2. dtype should be numeric or float64"
   ]
  },
  {
   "cell_type": "code",
   "execution_count": 97,
   "metadata": {},
   "outputs": [
    {
     "data": {
      "text/html": [
       "<div>\n",
       "<style scoped>\n",
       "    .dataframe tbody tr th:only-of-type {\n",
       "        vertical-align: middle;\n",
       "    }\n",
       "\n",
       "    .dataframe tbody tr th {\n",
       "        vertical-align: top;\n",
       "    }\n",
       "\n",
       "    .dataframe thead th {\n",
       "        text-align: right;\n",
       "    }\n",
       "</style>\n",
       "<table border=\"1\" class=\"dataframe\">\n",
       "  <thead>\n",
       "    <tr style=\"text-align: right;\">\n",
       "      <th></th>\n",
       "      <th>App</th>\n",
       "      <th>Category</th>\n",
       "      <th>Rating</th>\n",
       "      <th>Reviews</th>\n",
       "      <th>Installs</th>\n",
       "      <th>Type</th>\n",
       "      <th>Price</th>\n",
       "      <th>Content Rating</th>\n",
       "      <th>Genres</th>\n",
       "      <th>Last Updated</th>\n",
       "      <th>Current Ver</th>\n",
       "      <th>Android Ver</th>\n",
       "      <th>Size_MB</th>\n",
       "    </tr>\n",
       "  </thead>\n",
       "  <tbody>\n",
       "    <tr>\n",
       "      <th>10831</th>\n",
       "      <td>Pekalongan CJ</td>\n",
       "      <td>SOCIAL</td>\n",
       "      <td>NaN</td>\n",
       "      <td>0</td>\n",
       "      <td>0+</td>\n",
       "      <td>Free</td>\n",
       "      <td>0.00</td>\n",
       "      <td>Teen</td>\n",
       "      <td>Social</td>\n",
       "      <td>21-Jul-18</td>\n",
       "      <td>0.0.1</td>\n",
       "      <td>4.4 and up</td>\n",
       "      <td>5.9</td>\n",
       "    </tr>\n",
       "    <tr>\n",
       "      <th>10832</th>\n",
       "      <td>CX Network</td>\n",
       "      <td>BUSINESS</td>\n",
       "      <td>NaN</td>\n",
       "      <td>0</td>\n",
       "      <td>0+</td>\n",
       "      <td>Free</td>\n",
       "      <td>0.00</td>\n",
       "      <td>Everyone</td>\n",
       "      <td>Business</td>\n",
       "      <td>6-Aug-18</td>\n",
       "      <td>1.3.1</td>\n",
       "      <td>4.1 and up</td>\n",
       "      <td>10.0</td>\n",
       "    </tr>\n",
       "    <tr>\n",
       "      <th>10833</th>\n",
       "      <td>Sweden Newspapers</td>\n",
       "      <td>NEWS_AND_MAGAZINES</td>\n",
       "      <td>NaN</td>\n",
       "      <td>0</td>\n",
       "      <td>0+</td>\n",
       "      <td>Free</td>\n",
       "      <td>0.00</td>\n",
       "      <td>Everyone</td>\n",
       "      <td>News &amp; Magazines</td>\n",
       "      <td>7-Jul-18</td>\n",
       "      <td>1.1</td>\n",
       "      <td>4.4 and up</td>\n",
       "      <td>2.1</td>\n",
       "    </tr>\n",
       "    <tr>\n",
       "      <th>10834</th>\n",
       "      <td>Test Application DT 02</td>\n",
       "      <td>ART_AND_DESIGN</td>\n",
       "      <td>NaN</td>\n",
       "      <td>0</td>\n",
       "      <td>0+</td>\n",
       "      <td>Free</td>\n",
       "      <td>0.00</td>\n",
       "      <td>Everyone</td>\n",
       "      <td>Art &amp; Design</td>\n",
       "      <td>14-Mar-17</td>\n",
       "      <td>4</td>\n",
       "      <td>4.2 and up</td>\n",
       "      <td>1.2</td>\n",
       "    </tr>\n",
       "    <tr>\n",
       "      <th>10835</th>\n",
       "      <td>EG | Explore Folegandros</td>\n",
       "      <td>TRAVEL_AND_LOCAL</td>\n",
       "      <td>NaN</td>\n",
       "      <td>0</td>\n",
       "      <td>0+</td>\n",
       "      <td>Paid</td>\n",
       "      <td>3.99</td>\n",
       "      <td>Everyone</td>\n",
       "      <td>Travel &amp; Local</td>\n",
       "      <td>22-Jan-17</td>\n",
       "      <td>1.1.1</td>\n",
       "      <td>4.1 and up</td>\n",
       "      <td>56.0</td>\n",
       "    </tr>\n",
       "    <tr>\n",
       "      <th>10836</th>\n",
       "      <td>EP Cook Book</td>\n",
       "      <td>MEDICAL</td>\n",
       "      <td>NaN</td>\n",
       "      <td>0</td>\n",
       "      <td>0+</td>\n",
       "      <td>Paid</td>\n",
       "      <td>200.00</td>\n",
       "      <td>Everyone</td>\n",
       "      <td>Medical</td>\n",
       "      <td>26-Jul-15</td>\n",
       "      <td>1</td>\n",
       "      <td>3.0 and up</td>\n",
       "      <td>3.2</td>\n",
       "    </tr>\n",
       "    <tr>\n",
       "      <th>10837</th>\n",
       "      <td>Eu sou Rico</td>\n",
       "      <td>FINANCE</td>\n",
       "      <td>NaN</td>\n",
       "      <td>0</td>\n",
       "      <td>0+</td>\n",
       "      <td>Paid</td>\n",
       "      <td>30.99</td>\n",
       "      <td>Everyone</td>\n",
       "      <td>Finance</td>\n",
       "      <td>9-Jan-18</td>\n",
       "      <td>1</td>\n",
       "      <td>4.0 and up</td>\n",
       "      <td>2.6</td>\n",
       "    </tr>\n",
       "    <tr>\n",
       "      <th>10838</th>\n",
       "      <td>Eu Sou Rico</td>\n",
       "      <td>FINANCE</td>\n",
       "      <td>NaN</td>\n",
       "      <td>0</td>\n",
       "      <td>0+</td>\n",
       "      <td>Paid</td>\n",
       "      <td>394.99</td>\n",
       "      <td>Everyone</td>\n",
       "      <td>Finance</td>\n",
       "      <td>11-Jul-18</td>\n",
       "      <td>1</td>\n",
       "      <td>4.0.3 and up</td>\n",
       "      <td>1.4</td>\n",
       "    </tr>\n",
       "    <tr>\n",
       "      <th>10839</th>\n",
       "      <td>I'm Rich/Eu sou Rico/أنا غني/我很有錢</td>\n",
       "      <td>LIFESTYLE</td>\n",
       "      <td>NaN</td>\n",
       "      <td>0</td>\n",
       "      <td>0+</td>\n",
       "      <td>Paid</td>\n",
       "      <td>399.99</td>\n",
       "      <td>Everyone</td>\n",
       "      <td>Lifestyle</td>\n",
       "      <td>1-Dec-17</td>\n",
       "      <td>MONEY</td>\n",
       "      <td>4.1 and up</td>\n",
       "      <td>40.0</td>\n",
       "    </tr>\n",
       "    <tr>\n",
       "      <th>10840</th>\n",
       "      <td>Command &amp; Conquer: Rivals</td>\n",
       "      <td>FAMILY</td>\n",
       "      <td>NaN</td>\n",
       "      <td>0</td>\n",
       "      <td>0</td>\n",
       "      <td>Free</td>\n",
       "      <td>0.00</td>\n",
       "      <td>Everyone 10+</td>\n",
       "      <td>Strategy</td>\n",
       "      <td>28-Jun-18</td>\n",
       "      <td>Varies with device</td>\n",
       "      <td>Varies with device</td>\n",
       "      <td>NaN</td>\n",
       "    </tr>\n",
       "  </tbody>\n",
       "</table>\n",
       "</div>"
      ],
      "text/plain": [
       "                                     App            Category  Rating  Reviews  \\\n",
       "10831                      Pekalongan CJ              SOCIAL     NaN        0   \n",
       "10832                         CX Network            BUSINESS     NaN        0   \n",
       "10833                  Sweden Newspapers  NEWS_AND_MAGAZINES     NaN        0   \n",
       "10834             Test Application DT 02      ART_AND_DESIGN     NaN        0   \n",
       "10835           EG | Explore Folegandros    TRAVEL_AND_LOCAL     NaN        0   \n",
       "10836                       EP Cook Book             MEDICAL     NaN        0   \n",
       "10837                        Eu sou Rico             FINANCE     NaN        0   \n",
       "10838                        Eu Sou Rico             FINANCE     NaN        0   \n",
       "10839  I'm Rich/Eu sou Rico/أنا غني/我很有錢           LIFESTYLE     NaN        0   \n",
       "10840          Command & Conquer: Rivals              FAMILY     NaN        0   \n",
       "\n",
       "      Installs  Type   Price Content Rating            Genres Last Updated  \\\n",
       "10831       0+  Free    0.00           Teen            Social    21-Jul-18   \n",
       "10832       0+  Free    0.00       Everyone          Business     6-Aug-18   \n",
       "10833       0+  Free    0.00       Everyone  News & Magazines     7-Jul-18   \n",
       "10834       0+  Free    0.00       Everyone      Art & Design    14-Mar-17   \n",
       "10835       0+  Paid    3.99       Everyone    Travel & Local    22-Jan-17   \n",
       "10836       0+  Paid  200.00       Everyone           Medical    26-Jul-15   \n",
       "10837       0+  Paid   30.99       Everyone           Finance     9-Jan-18   \n",
       "10838       0+  Paid  394.99       Everyone           Finance    11-Jul-18   \n",
       "10839       0+  Paid  399.99       Everyone         Lifestyle     1-Dec-17   \n",
       "10840        0  Free    0.00   Everyone 10+          Strategy    28-Jun-18   \n",
       "\n",
       "              Current Ver         Android Ver  Size_MB  \n",
       "10831               0.0.1          4.4 and up      5.9  \n",
       "10832               1.3.1          4.1 and up     10.0  \n",
       "10833                 1.1          4.4 and up      2.1  \n",
       "10834                   4          4.2 and up      1.2  \n",
       "10835               1.1.1          4.1 and up     56.0  \n",
       "10836                   1          3.0 and up      3.2  \n",
       "10837                   1          4.0 and up      2.6  \n",
       "10838                   1        4.0.3 and up      1.4  \n",
       "10839               MONEY          4.1 and up     40.0  \n",
       "10840  Varies with device  Varies with device      NaN  "
      ]
     },
     "execution_count": 97,
     "metadata": {},
     "output_type": "execute_result"
    }
   ],
   "source": [
    "# Remove '$' sign and convert to float\n",
    "df['Price'] = df['Price'].str.replace('$', '').astype(float)\n",
    "\n",
    "# Display the DataFrame\n",
    "df.tail(10)"
   ]
  },
  {
   "cell_type": "code",
   "execution_count": 98,
   "metadata": {},
   "outputs": [
    {
     "name": "stdout",
     "output_type": "stream",
     "text": [
      "The minimum price of the app is 0.0\n",
      "The maximum price of the app is 400.0\n",
      "The average price of the app is 1.0272733142699015\n",
      "The median price of the app is 0.0\n",
      "The standard deviation of the price of the app is 15.948970817236585\n",
      "The variance of the price of the app is 254.36967012906422\n",
      "The skewness of the price of the app is 23.70848975878382\n",
      "The kurtosis of the price of the app is 578.1967035175462\n",
      "The 25th percentile of the price of the app is 0.0\n",
      "The 50th percentile of the price of the app is 0.0\n",
      "The 75th percentile of the price of the app is 0.0\n"
     ]
    }
   ],
   "source": [
    "# using f string price min, max, and average prices of the app\n",
    "print(f\"The minimum price of the app is {df['Price'].min()}\")\n",
    "print(f\"The maximum price of the app is {df['Price'].max()}\")\n",
    "print(f\"The average price of the app is {df['Price'].mean()}\")\n",
    "print(f\"The median price of the app is {df['Price'].median()}\")\n",
    "print(f\"The standard deviation of the price of the app is {df['Price'].std()}\")\n",
    "print(f\"The variance of the price of the app is {df['Price'].var()}\")\n",
    "print(f\"The skewness of the price of the app is {df['Price'].skew()}\")\n",
    "print(f\"The kurtosis of the price of the app is {df['Price'].kurt()}\")\n",
    "print(f\"The 25th percentile of the price of the app is {df['Price'].quantile(0.25)}\")\n",
    "print(f\"The 50th percentile of the price of the app is {df['Price'].quantile(0.5)}\")\n",
    "print(f\"The 75th percentile of the price of the app is {df['Price'].quantile(0.75)}\")\n"
   ]
  },
  {
   "cell_type": "code",
   "execution_count": 99,
   "metadata": {},
   "outputs": [
    {
     "name": "stdout",
     "output_type": "stream",
     "text": [
      "<class 'pandas.core.frame.DataFrame'>\n",
      "RangeIndex: 10841 entries, 0 to 10840\n",
      "Data columns (total 13 columns):\n",
      " #   Column          Non-Null Count  Dtype  \n",
      "---  ------          --------------  -----  \n",
      " 0   App             10841 non-null  object \n",
      " 1   Category        10840 non-null  object \n",
      " 2   Rating          9367 non-null   float64\n",
      " 3   Reviews         10841 non-null  int64  \n",
      " 4   Installs        10841 non-null  object \n",
      " 5   Type            10841 non-null  object \n",
      " 6   Price           10841 non-null  float64\n",
      " 7   Content Rating  10841 non-null  object \n",
      " 8   Genres          10840 non-null  object \n",
      " 9   Last Updated    10841 non-null  object \n",
      " 10  Current Ver     10833 non-null  object \n",
      " 11  Android Ver     10839 non-null  object \n",
      " 12  Size_MB         9146 non-null   float64\n",
      "dtypes: float64(3), int64(1), object(9)\n",
      "memory usage: 1.1+ MB\n"
     ]
    }
   ],
   "source": [
    "# Rerun the df.info to check the executions\n",
    "df.info()"
   ]
  },
  {
   "cell_type": "markdown",
   "metadata": {},
   "source": [
    "Its been verified that `Size` column converted to MBs, Varies with device converted to NaN\\\n",
    "Price column converted to numeric and $ sign dropped"
   ]
  },
  {
   "cell_type": "markdown",
   "metadata": {},
   "source": [
    "#### Assignment - 3. Installs Column: bin the data for this column"
   ]
  },
  {
   "cell_type": "code",
   "execution_count": 100,
   "metadata": {},
   "outputs": [],
   "source": [
    "# Remove ',' and '+' and convert to integers\n",
    "df['Installs'] = df['Installs'].str.replace(',', '').str.rstrip('+').astype(int)\n"
   ]
  },
  {
   "cell_type": "code",
   "execution_count": 101,
   "metadata": {},
   "outputs": [
    {
     "data": {
      "text/plain": [
       "Installs\n",
       "1000000       1579\n",
       "10000000      1252\n",
       "100000        1169\n",
       "10000         1054\n",
       "1000           908\n",
       "5000000        752\n",
       "100            719\n",
       "500000         539\n",
       "50000          479\n",
       "5000           477\n",
       "100000000      409\n",
       "10             386\n",
       "500            330\n",
       "50000000       289\n",
       "50             205\n",
       "5               82\n",
       "500000000       72\n",
       "1               67\n",
       "1000000000      58\n",
       "0               15\n",
       "Name: count, dtype: int64"
      ]
     },
     "execution_count": 101,
     "metadata": {},
     "output_type": "execute_result"
    }
   ],
   "source": [
    "# Understand the Installs Column\n",
    "df['Installs'].value_counts()"
   ]
  },
  {
   "cell_type": "code",
   "execution_count": 102,
   "metadata": {},
   "outputs": [
    {
     "data": {
      "text/html": [
       "<div>\n",
       "<style scoped>\n",
       "    .dataframe tbody tr th:only-of-type {\n",
       "        vertical-align: middle;\n",
       "    }\n",
       "\n",
       "    .dataframe tbody tr th {\n",
       "        vertical-align: top;\n",
       "    }\n",
       "\n",
       "    .dataframe thead th {\n",
       "        text-align: right;\n",
       "    }\n",
       "</style>\n",
       "<table border=\"1\" class=\"dataframe\">\n",
       "  <thead>\n",
       "    <tr style=\"text-align: right;\">\n",
       "      <th></th>\n",
       "      <th>App</th>\n",
       "      <th>Category</th>\n",
       "      <th>Rating</th>\n",
       "      <th>Reviews</th>\n",
       "      <th>Installs</th>\n",
       "      <th>Type</th>\n",
       "      <th>Price</th>\n",
       "      <th>Content Rating</th>\n",
       "      <th>Genres</th>\n",
       "      <th>Last Updated</th>\n",
       "      <th>Current Ver</th>\n",
       "      <th>Android Ver</th>\n",
       "      <th>Size_MB</th>\n",
       "      <th>Installs_Group</th>\n",
       "    </tr>\n",
       "  </thead>\n",
       "  <tbody>\n",
       "    <tr>\n",
       "      <th>0</th>\n",
       "      <td>Viber Messenger</td>\n",
       "      <td>COMMUNICATION</td>\n",
       "      <td>4.3</td>\n",
       "      <td>11334799</td>\n",
       "      <td>500000000</td>\n",
       "      <td>Free</td>\n",
       "      <td>0.0</td>\n",
       "      <td>Everyone</td>\n",
       "      <td>Communication</td>\n",
       "      <td>18-Jul-18</td>\n",
       "      <td>Varies with device</td>\n",
       "      <td>Varies with device</td>\n",
       "      <td>NaN</td>\n",
       "      <td>InBillions</td>\n",
       "    </tr>\n",
       "    <tr>\n",
       "      <th>1</th>\n",
       "      <td>imo free video calls and chat</td>\n",
       "      <td>COMMUNICATION</td>\n",
       "      <td>4.3</td>\n",
       "      <td>4785892</td>\n",
       "      <td>500000000</td>\n",
       "      <td>Free</td>\n",
       "      <td>0.0</td>\n",
       "      <td>Everyone</td>\n",
       "      <td>Communication</td>\n",
       "      <td>8-Jun-18</td>\n",
       "      <td>9.8.000000010501</td>\n",
       "      <td>4.0 and up</td>\n",
       "      <td>11.0</td>\n",
       "      <td>InBillions</td>\n",
       "    </tr>\n",
       "    <tr>\n",
       "      <th>2</th>\n",
       "      <td>Google Duo - High Quality Video Calls</td>\n",
       "      <td>COMMUNICATION</td>\n",
       "      <td>4.6</td>\n",
       "      <td>2083237</td>\n",
       "      <td>500000000</td>\n",
       "      <td>Free</td>\n",
       "      <td>0.0</td>\n",
       "      <td>Everyone</td>\n",
       "      <td>Communication</td>\n",
       "      <td>31-Jul-18</td>\n",
       "      <td>37.1.206017801.DR37_RC14</td>\n",
       "      <td>4.4 and up</td>\n",
       "      <td>NaN</td>\n",
       "      <td>InBillions</td>\n",
       "    </tr>\n",
       "    <tr>\n",
       "      <th>3</th>\n",
       "      <td>UC Browser - Fast Download Private &amp; Secure</td>\n",
       "      <td>COMMUNICATION</td>\n",
       "      <td>4.5</td>\n",
       "      <td>17712922</td>\n",
       "      <td>500000000</td>\n",
       "      <td>Free</td>\n",
       "      <td>0.0</td>\n",
       "      <td>Teen</td>\n",
       "      <td>Communication</td>\n",
       "      <td>2-Aug-18</td>\n",
       "      <td>12.8.5.1121</td>\n",
       "      <td>4.0 and up</td>\n",
       "      <td>40.0</td>\n",
       "      <td>InBillions</td>\n",
       "    </tr>\n",
       "    <tr>\n",
       "      <th>4</th>\n",
       "      <td>imo free video calls and chat</td>\n",
       "      <td>COMMUNICATION</td>\n",
       "      <td>4.3</td>\n",
       "      <td>4785988</td>\n",
       "      <td>500000000</td>\n",
       "      <td>Free</td>\n",
       "      <td>0.0</td>\n",
       "      <td>Everyone</td>\n",
       "      <td>Communication</td>\n",
       "      <td>8-Jun-18</td>\n",
       "      <td>9.8.000000010501</td>\n",
       "      <td>4.0 and up</td>\n",
       "      <td>11.0</td>\n",
       "      <td>InBillions</td>\n",
       "    </tr>\n",
       "  </tbody>\n",
       "</table>\n",
       "</div>"
      ],
      "text/plain": [
       "                                           App       Category  Rating  \\\n",
       "0                              Viber Messenger  COMMUNICATION     4.3   \n",
       "1                imo free video calls and chat  COMMUNICATION     4.3   \n",
       "2        Google Duo - High Quality Video Calls  COMMUNICATION     4.6   \n",
       "3  UC Browser - Fast Download Private & Secure  COMMUNICATION     4.5   \n",
       "4                imo free video calls and chat  COMMUNICATION     4.3   \n",
       "\n",
       "    Reviews   Installs  Type  Price Content Rating         Genres  \\\n",
       "0  11334799  500000000  Free    0.0       Everyone  Communication   \n",
       "1   4785892  500000000  Free    0.0       Everyone  Communication   \n",
       "2   2083237  500000000  Free    0.0       Everyone  Communication   \n",
       "3  17712922  500000000  Free    0.0           Teen  Communication   \n",
       "4   4785988  500000000  Free    0.0       Everyone  Communication   \n",
       "\n",
       "  Last Updated               Current Ver         Android Ver  Size_MB  \\\n",
       "0    18-Jul-18        Varies with device  Varies with device      NaN   \n",
       "1     8-Jun-18          9.8.000000010501          4.0 and up     11.0   \n",
       "2    31-Jul-18  37.1.206017801.DR37_RC14          4.4 and up      NaN   \n",
       "3     2-Aug-18               12.8.5.1121          4.0 and up     40.0   \n",
       "4     8-Jun-18          9.8.000000010501          4.0 and up     11.0   \n",
       "\n",
       "  Installs_Group  \n",
       "0     InBillions  \n",
       "1     InBillions  \n",
       "2     InBillions  \n",
       "3     InBillions  \n",
       "4     InBillions  "
      ]
     },
     "execution_count": 102,
     "metadata": {},
     "output_type": "execute_result"
    }
   ],
   "source": [
    "# binning of age columns into 7 categories\n",
    "bins = [0,1000,100000,1000000,10000000,1000000000]\n",
    "labels = ['UnderThousand','In100Ks','In1000ks','InMillions','InBillions']\n",
    "df['Installs_Group'] = pd.cut(df['Installs'], bins, labels=labels) \n",
    "# cut the `Installs` data into bins and add a new column name `Installs_Group` into the data. adding a new column called feature enginerring\n",
    "df.head()"
   ]
  },
  {
   "cell_type": "code",
   "execution_count": 103,
   "metadata": {},
   "outputs": [
    {
     "data": {
      "image/png": "[encoded data removed]",
      "text/plain": [
       "<Figure size 640x480 with 1 Axes>"
      ]
     },
     "metadata": {},
     "output_type": "display_data"
    }
   ],
   "source": [
    "\n",
    "sns.histplot(df['Installs_Group']) #just incasxe if histogram failed to plot in working notebokk, run the following function.\n",
    "plt.savefig('Installs_Group_Hist.png') # This will create and save the histogram in the same folder\n"
   ]
  },
  {
   "cell_type": "markdown",
   "metadata": {},
   "source": [
    "### 8. Crate EDA with ydata_profiling after wrangling"
   ]
  },
  {
   "cell_type": "code",
   "execution_count": 104,
   "metadata": {},
   "outputs": [],
   "source": [
    "# %pip install ydata-profiling"
   ]
  },
  {
   "cell_type": "code",
   "execution_count": 105,
   "metadata": {},
   "outputs": [],
   "source": [
    "\n",
    "# import ydata_profiling as yd\n",
    "# profile = yd.ProfileReport(df)\n",
    "# profile.to_file(output_file='C:/Users/mnsai/Desktop/Python/AI-and-DS/Output/07_ydata_kaggle_google_CleanData.html')\n",
    "# #An HTML File save at directed location"
   ]
  },
  {
   "cell_type": "markdown",
   "metadata": {},
   "source": [
    "Now one can comapare Two EDAs for better understanding, really helpful."
   ]
  },
  {
   "cell_type": "markdown",
   "metadata": {},
   "source": [
    "# Sunburst Plot on Google App Store Data"
   ]
  },
  {
   "cell_type": "code",
   "execution_count": 106,
   "metadata": {},
   "outputs": [
    {
     "data": {
      "text/html": [
       "<div>\n",
       "<style scoped>\n",
       "    .dataframe tbody tr th:only-of-type {\n",
       "        vertical-align: middle;\n",
       "    }\n",
       "\n",
       "    .dataframe tbody tr th {\n",
       "        vertical-align: top;\n",
       "    }\n",
       "\n",
       "    .dataframe thead th {\n",
       "        text-align: right;\n",
       "    }\n",
       "</style>\n",
       "<table border=\"1\" class=\"dataframe\">\n",
       "  <thead>\n",
       "    <tr style=\"text-align: right;\">\n",
       "      <th></th>\n",
       "      <th>0</th>\n",
       "      <th>1</th>\n",
       "      <th>2</th>\n",
       "      <th>3</th>\n",
       "      <th>4</th>\n",
       "    </tr>\n",
       "  </thead>\n",
       "  <tbody>\n",
       "    <tr>\n",
       "      <th>App</th>\n",
       "      <td>Viber Messenger</td>\n",
       "      <td>imo free video calls and chat</td>\n",
       "      <td>Google Duo - High Quality Video Calls</td>\n",
       "      <td>UC Browser - Fast Download Private &amp; Secure</td>\n",
       "      <td>imo free video calls and chat</td>\n",
       "    </tr>\n",
       "    <tr>\n",
       "      <th>Category</th>\n",
       "      <td>COMMUNICATION</td>\n",
       "      <td>COMMUNICATION</td>\n",
       "      <td>COMMUNICATION</td>\n",
       "      <td>COMMUNICATION</td>\n",
       "      <td>COMMUNICATION</td>\n",
       "    </tr>\n",
       "    <tr>\n",
       "      <th>Rating</th>\n",
       "      <td>4.3</td>\n",
       "      <td>4.3</td>\n",
       "      <td>4.6</td>\n",
       "      <td>4.5</td>\n",
       "      <td>4.3</td>\n",
       "    </tr>\n",
       "    <tr>\n",
       "      <th>Reviews</th>\n",
       "      <td>11334799</td>\n",
       "      <td>4785892</td>\n",
       "      <td>2083237</td>\n",
       "      <td>17712922</td>\n",
       "      <td>4785988</td>\n",
       "    </tr>\n",
       "    <tr>\n",
       "      <th>Installs</th>\n",
       "      <td>500000000</td>\n",
       "      <td>500000000</td>\n",
       "      <td>500000000</td>\n",
       "      <td>500000000</td>\n",
       "      <td>500000000</td>\n",
       "    </tr>\n",
       "    <tr>\n",
       "      <th>Type</th>\n",
       "      <td>Free</td>\n",
       "      <td>Free</td>\n",
       "      <td>Free</td>\n",
       "      <td>Free</td>\n",
       "      <td>Free</td>\n",
       "    </tr>\n",
       "    <tr>\n",
       "      <th>Price</th>\n",
       "      <td>0.0</td>\n",
       "      <td>0.0</td>\n",
       "      <td>0.0</td>\n",
       "      <td>0.0</td>\n",
       "      <td>0.0</td>\n",
       "    </tr>\n",
       "    <tr>\n",
       "      <th>Content Rating</th>\n",
       "      <td>Everyone</td>\n",
       "      <td>Everyone</td>\n",
       "      <td>Everyone</td>\n",
       "      <td>Teen</td>\n",
       "      <td>Everyone</td>\n",
       "    </tr>\n",
       "    <tr>\n",
       "      <th>Genres</th>\n",
       "      <td>Communication</td>\n",
       "      <td>Communication</td>\n",
       "      <td>Communication</td>\n",
       "      <td>Communication</td>\n",
       "      <td>Communication</td>\n",
       "    </tr>\n",
       "    <tr>\n",
       "      <th>Last Updated</th>\n",
       "      <td>18-Jul-18</td>\n",
       "      <td>8-Jun-18</td>\n",
       "      <td>31-Jul-18</td>\n",
       "      <td>2-Aug-18</td>\n",
       "      <td>8-Jun-18</td>\n",
       "    </tr>\n",
       "    <tr>\n",
       "      <th>Current Ver</th>\n",
       "      <td>Varies with device</td>\n",
       "      <td>9.8.000000010501</td>\n",
       "      <td>37.1.206017801.DR37_RC14</td>\n",
       "      <td>12.8.5.1121</td>\n",
       "      <td>9.8.000000010501</td>\n",
       "    </tr>\n",
       "    <tr>\n",
       "      <th>Android Ver</th>\n",
       "      <td>Varies with device</td>\n",
       "      <td>4.0 and up</td>\n",
       "      <td>4.4 and up</td>\n",
       "      <td>4.0 and up</td>\n",
       "      <td>4.0 and up</td>\n",
       "    </tr>\n",
       "    <tr>\n",
       "      <th>Size_MB</th>\n",
       "      <td>NaN</td>\n",
       "      <td>11.0</td>\n",
       "      <td>NaN</td>\n",
       "      <td>40.0</td>\n",
       "      <td>11.0</td>\n",
       "    </tr>\n",
       "    <tr>\n",
       "      <th>Installs_Group</th>\n",
       "      <td>InBillions</td>\n",
       "      <td>InBillions</td>\n",
       "      <td>InBillions</td>\n",
       "      <td>InBillions</td>\n",
       "      <td>InBillions</td>\n",
       "    </tr>\n",
       "  </tbody>\n",
       "</table>\n",
       "</div>"
      ],
      "text/plain": [
       "                                 0                              1  \\\n",
       "App                Viber Messenger  imo free video calls and chat   \n",
       "Category             COMMUNICATION                  COMMUNICATION   \n",
       "Rating                         4.3                            4.3   \n",
       "Reviews                   11334799                        4785892   \n",
       "Installs                 500000000                      500000000   \n",
       "Type                          Free                           Free   \n",
       "Price                          0.0                            0.0   \n",
       "Content Rating            Everyone                       Everyone   \n",
       "Genres               Communication                  Communication   \n",
       "Last Updated             18-Jul-18                       8-Jun-18   \n",
       "Current Ver     Varies with device               9.8.000000010501   \n",
       "Android Ver     Varies with device                     4.0 and up   \n",
       "Size_MB                        NaN                           11.0   \n",
       "Installs_Group          InBillions                     InBillions   \n",
       "\n",
       "                                                    2  \\\n",
       "App             Google Duo - High Quality Video Calls   \n",
       "Category                                COMMUNICATION   \n",
       "Rating                                            4.6   \n",
       "Reviews                                       2083237   \n",
       "Installs                                    500000000   \n",
       "Type                                             Free   \n",
       "Price                                             0.0   \n",
       "Content Rating                               Everyone   \n",
       "Genres                                  Communication   \n",
       "Last Updated                                31-Jul-18   \n",
       "Current Ver                  37.1.206017801.DR37_RC14   \n",
       "Android Ver                                4.4 and up   \n",
       "Size_MB                                           NaN   \n",
       "Installs_Group                             InBillions   \n",
       "\n",
       "                                                          3  \\\n",
       "App             UC Browser - Fast Download Private & Secure   \n",
       "Category                                      COMMUNICATION   \n",
       "Rating                                                  4.5   \n",
       "Reviews                                            17712922   \n",
       "Installs                                          500000000   \n",
       "Type                                                   Free   \n",
       "Price                                                   0.0   \n",
       "Content Rating                                         Teen   \n",
       "Genres                                        Communication   \n",
       "Last Updated                                       2-Aug-18   \n",
       "Current Ver                                     12.8.5.1121   \n",
       "Android Ver                                      4.0 and up   \n",
       "Size_MB                                                40.0   \n",
       "Installs_Group                                   InBillions   \n",
       "\n",
       "                                            4  \n",
       "App             imo free video calls and chat  \n",
       "Category                        COMMUNICATION  \n",
       "Rating                                    4.3  \n",
       "Reviews                               4785988  \n",
       "Installs                            500000000  \n",
       "Type                                     Free  \n",
       "Price                                     0.0  \n",
       "Content Rating                       Everyone  \n",
       "Genres                          Communication  \n",
       "Last Updated                         8-Jun-18  \n",
       "Current Ver                  9.8.000000010501  \n",
       "Android Ver                        4.0 and up  \n",
       "Size_MB                                  11.0  \n",
       "Installs_Group                     InBillions  "
      ]
     },
     "execution_count": 106,
     "metadata": {},
     "output_type": "execute_result"
    }
   ],
   "source": [
    "df.head().T"
   ]
  },
  {
   "cell_type": "code",
   "execution_count": 107,
   "metadata": {},
   "outputs": [
    {
     "data": {
      "application/vnd.plotly.v1+json": {
       "config": {
        "plotlyServerURL": "https://plot.ly"
       },
       "data": [
        {
         "branchvalues": "total",
         "customdata": [
          [
           0,
           389.7,
           "Free"
          ],
          [
           0,
           471.6,
           "Free"
          ],
          [
           0,
           1041.9,
           "Free"
          ],
          [
           0,
           510.1,
           "Free"
          ],
          [
           0,
           199,
           "Free"
          ],
          [
           0,
           882.7,
           "Free"
          ],
          [
           0,
           1182.7,
           "Free"
          ],
          [
           0,
           1390.8,
           "Free"
          ],
          [
           0,
           1086.7,
           "Free"
          ],
          [
           0,
           783.7,
           "Free"
          ],
          [
           0,
           1066.1,
           "Free"
          ],
          [
           0,
           2677.8,
           "Free"
          ],
          [
           0,
           871,
           "Free"
          ],
          [
           0,
           520.1,
           "Free"
          ],
          [
           0,
           269.7,
           "Free"
          ],
          [
           1.99,
           14.2,
           "Paid"
          ],
          [
           "(?)",
           4.6,
           "Paid"
          ],
          [
           0,
           358.5,
           "Free"
          ],
          [
           "(?)",
           46.2,
           "Paid"
          ],
          [
           0,
           271.6,
           "Free"
          ],
          [
           0,
           1090.3,
           "Free"
          ],
          [
           0,
           4.5,
           "Free"
          ],
          [
           0,
           237.9,
           "Free"
          ],
          [
           0,
           292.8,
           "Free"
          ],
          [
           0,
           167.2,
           "Free"
          ],
          [
           0,
           618.5,
           "Free"
          ],
          [
           0,
           1185.4,
           "Free"
          ],
          [
           0,
           108.6,
           "Free"
          ],
          [
           0,
           309.7,
           "Free"
          ],
          [
           0,
           1132.1,
           "Free"
          ],
          [
           0,
           608.1,
           "Free"
          ],
          [
           0,
           158.3,
           "Free"
          ],
          [
           0,
           158.8,
           "Free"
          ],
          [
           0,
           5091.8,
           "Free"
          ],
          [
           0,
           1272.6,
           "Free"
          ],
          [
           0,
           406,
           "Free"
          ],
          [
           0,
           2259.5,
           "Free"
          ],
          [
           0,
           38.400000000000006,
           "Free"
          ],
          [
           0,
           8.399999999999999,
           "Free"
          ],
          [
           "(?)",
           89.4,
           "Paid"
          ],
          [
           "(?)",
           19,
           "Paid"
          ],
          [
           "(?)",
           32.8,
           "Paid"
          ],
          [
           "(?)",
           16.4,
           "Paid"
          ],
          [
           "(?)",
           30.6,
           "Paid"
          ],
          [
           0,
           4.7,
           "Free"
          ],
          [
           0,
           4.3,
           "Free"
          ],
          [
           0,
           0,
           "Free"
          ],
          [
           0,
           22.3,
           "Free"
          ],
          [
           "(?)",
           262.7,
           "Paid"
          ],
          [
           0,
           0,
           "Free"
          ],
          [
           0,
           35.9,
           "Free"
          ],
          [
           0,
           20.5,
           "Free"
          ],
          [
           0,
           9,
           "Free"
          ],
          [
           0,
           443.9,
           "Free"
          ],
          [
           0,
           526,
           "Free"
          ],
          [
           0,
           23.9,
           "Free"
          ],
          [
           0,
           19.2,
           "Free"
          ],
          [
           0,
           8.9,
           "Free"
          ],
          [
           "(?)",
           2.6,
           "Paid"
          ],
          [
           "(?)",
           93.6,
           "Paid"
          ],
          [
           "(?)",
           9,
           "Paid"
          ],
          [
           4.99,
           4.6,
           "Paid"
          ],
          [
           109.99,
           0,
           "Paid"
          ],
          [
           "(?)",
           507.4,
           "Paid"
          ],
          [
           "(?)",
           45.7,
           "Paid"
          ],
          [
           "(?)",
           8.7,
           "Paid"
          ],
          [
           "(?)",
           177.8,
           "Paid"
          ],
          [
           "(?)",
           52.7,
           "Paid"
          ],
          [
           0.99,
           7.4,
           "Paid"
          ],
          [
           0.99,
           0,
           "Paid"
          ],
          [
           "(?)",
           19.3,
           "Paid"
          ],
          [
           "(?)",
           348.8,
           "Paid"
          ],
          [
           2.99,
           4.9,
           "Paid"
          ],
          [
           "(?)",
           6.7,
           "Paid"
          ],
          [
           "(?)",
           297.6,
           "Paid"
          ],
          [
           "(?)",
           72.8,
           "Paid"
          ],
          [
           "(?)",
           71.1,
           "Paid"
          ],
          [
           "(?)",
           62.1,
           "Paid"
          ],
          [
           0,
           0,
           "Free"
          ],
          [
           0,
           8.1,
           "Free"
          ],
          [
           0,
           106.5,
           "Free"
          ],
          [
           13.99,
           0,
           "Paid"
          ],
          [
           0,
           4.5,
           "Free"
          ],
          [
           0,
           59.099999999999994,
           "Free"
          ],
          [
           0,
           1066.1,
           "Free"
          ],
          [
           "(?)",
           93.6,
           "Paid"
          ],
          [
           0,
           4.4,
           "Free"
          ],
          [
           0,
           91,
           "Free"
          ],
          [
           0,
           456,
           "Free"
          ],
          [
           0,
           30,
           "Free"
          ],
          [
           0,
           9,
           "Free"
          ],
          [
           "(?)",
           8.399999999999999,
           "Paid"
          ],
          [
           0,
           91.1,
           "Free"
          ],
          [
           "(?)",
           18,
           "Paid"
          ],
          [
           0,
           93.1,
           "Free"
          ],
          [
           0,
           62.4,
           "Free"
          ],
          [
           "(?)",
           17.6,
           "Paid"
          ],
          [
           0,
           62.1,
           "Free"
          ],
          [
           0,
           8.5,
           "Free"
          ],
          [
           0,
           272.1,
           "Free"
          ],
          [
           0,
           358.5,
           "Free"
          ],
          [
           "(?)",
           28.6,
           "Paid"
          ],
          [
           5.99,
           4.6,
           "Paid"
          ],
          [
           0,
           51.199999999999996,
           "Free"
          ],
          [
           0,
           4.3,
           "Free"
          ],
          [
           0.99,
           4.2,
           "Paid"
          ],
          [
           0,
           41.3,
           "Free"
          ],
          [
           0,
           152.3,
           "Free"
          ],
          [
           0,
           8.2,
           "Free"
          ],
          [
           0,
           17.799999999999997,
           "Free"
          ],
          [
           0,
           4.7,
           "Free"
          ],
          [
           0,
           4.4,
           "Free"
          ],
          [
           "(?)",
           650.2,
           "(?)"
          ],
          [
           4.99,
           4.5,
           "Paid"
          ],
          [
           0,
           8.6,
           "Free"
          ],
          [
           1.49,
           4,
           "Paid"
          ],
          [
           0,
           4.8,
           "Free"
          ],
          [
           0,
           43.9,
           "Free"
          ],
          [
           0,
           4.7,
           "Free"
          ],
          [
           0,
           4.5,
           "Free"
          ],
          [
           0,
           85.9,
           "Free"
          ],
          [
           0,
           0,
           "Free"
          ],
          [
           0,
           516,
           "Free"
          ],
          [
           "(?)",
           16.4,
           "Paid"
          ],
          [
           0,
           4.3,
           "Free"
          ],
          [
           0,
           7.3,
           "Free"
          ],
          [
           0,
           98.1,
           "Free"
          ],
          [
           0,
           4.1,
           "Free"
          ],
          [
           0,
           13.899999999999999,
           "Free"
          ],
          [
           0,
           4.1,
           "Free"
          ],
          [
           0,
           4,
           "Free"
          ],
          [
           0,
           4,
           "Free"
          ],
          [
           0,
           269.7,
           "Free"
          ],
          [
           "(?)",
           30.6,
           "Paid"
          ],
          [
           0,
           4.4,
           "Free"
          ],
          [
           0,
           4.7,
           "Free"
          ],
          [
           0,
           8.9,
           "Free"
          ],
          [
           0,
           4,
           "Free"
          ],
          [
           9.99,
           4.2,
           "Paid"
          ],
          [
           0,
           99.2,
           "Free"
          ],
          [
           0,
           4.6,
           "Free"
          ],
          [
           0,
           34.2,
           "Free"
          ],
          [
           "(?)",
           13.399999999999999,
           "Paid"
          ],
          [
           4.99,
           4.4,
           "Paid"
          ],
          [
           0,
           4.6,
           "Free"
          ],
          [
           3.99,
           4.6,
           "Paid"
          ],
          [
           0,
           4.4,
           "Free"
          ],
          [
           0,
           4.5,
           "Free"
          ],
          [
           0,
           20.3,
           "Free"
          ],
          [
           0,
           2673.3,
           "Free"
          ],
          [
           0,
           3.7,
           "Free"
          ],
          [
           2.99,
           0,
           "Paid"
          ],
          [
           0,
           22.5,
           "Free"
          ],
          [
           0,
           4.1,
           "Free"
          ],
          [
           0,
           4.5,
           "Free"
          ],
          [
           0,
           866.9,
           "Free"
          ],
          [
           "(?)",
           32.8,
           "Paid"
          ],
          [
           "(?)",
           262.7,
           "Paid"
          ],
          [
           0,
           21.7,
           "Free"
          ],
          [
           0,
           261.1,
           "Free"
          ],
          [
           0,
           21.9,
           "Free"
          ],
          [
           0,
           953.2,
           "Free"
          ],
          [
           0,
           208.3,
           "Free"
          ],
          [
           0,
           1063.9,
           "Free"
          ],
          [
           0,
           1256.1,
           "Free"
          ],
          [
           0,
           1402.5,
           "Free"
          ],
          [
           0,
           1004.8,
           "Free"
          ],
          [
           0,
           1094.8,
           "Free"
          ],
          [
           0,
           1091.4,
           "Free"
          ],
          [
           0,
           1253.7,
           "Free"
          ],
          [
           0,
           895.9,
           "Free"
          ],
          [
           0,
           633.8,
           "Free"
          ],
          [
           0,
           287.7,
           "Free"
          ],
          [
           1.99,
           14.2,
           "Paid"
          ],
          [
           "(?)",
           4.6,
           "Paid"
          ],
          [
           "(?)",
           34.2,
           "Paid"
          ],
          [
           "(?)",
           46.2,
           "Paid"
          ],
          [
           0,
           2708.1,
           "Free"
          ],
          [
           "(?)",
           89.4,
           "Paid"
          ],
          [
           0,
           483.1,
           "Free"
          ],
          [
           0,
           271.6,
           "Free"
          ],
          [
           0,
           4.1,
           "Free"
          ],
          [
           0,
           256,
           "Free"
          ],
          [
           0,
           179.7,
           "Free"
          ],
          [
           0,
           739.4,
           "Free"
          ],
          [
           0,
           1202.6,
           "Free"
          ],
          [
           0,
           241,
           "Free"
          ],
          [
           0,
           1274.6,
           "Free"
          ],
          [
           0,
           1209.3,
           "Free"
          ],
          [
           0,
           759.8,
           "Free"
          ],
          [
           0,
           199.6,
           "Free"
          ],
          [
           0,
           6628.1,
           "Free"
          ],
          [
           0,
           1284.8,
           "Free"
          ],
          [
           0,
           445.5,
           "Free"
          ],
          [
           0,
           4365.4,
           "Free"
          ],
          [
           0,
           1217.6,
           "Free"
          ],
          [
           0,
           319,
           "Free"
          ],
          [
           0,
           605.6,
           "Free"
          ],
          [
           0,
           0,
           "Free"
          ],
          [
           "(?)",
           14.5,
           "Paid"
          ],
          [
           "(?)",
           9.2,
           "Paid"
          ],
          [
           "(?)",
           1248.8,
           "(?)"
          ],
          [
           "(?)",
           1364,
           "(?)"
          ],
          [
           "(?)",
           7323.9,
           "(?)"
          ],
          [
           "(?)",
           1334.6,
           "(?)"
          ],
          [
           "(?)",
           1270.3,
           "(?)"
          ],
          [
           0,
           319,
           "Free"
          ],
          [
           "(?)",
           1285.8,
           "(?)"
          ],
          [
           "(?)",
           773.6,
           "(?)"
          ],
          [
           "(?)",
           502.4,
           "(?)"
          ],
          [
           "(?)",
           215,
           "(?)"
          ],
          [
           "(?)",
           1328.9,
           "(?)"
          ],
          [
           "(?)",
           1478.2,
           "(?)"
          ],
          [
           "(?)",
           1013.8,
           "(?)"
          ],
          [
           "(?)",
           1102.2,
           "(?)"
          ],
          [
           "(?)",
           1347.3,
           "(?)"
          ],
          [
           "(?)",
           2970.8,
           "(?)"
          ],
          [
           "(?)",
           962.8,
           "(?)"
          ],
          [
           "(?)",
           19,
           "Paid"
          ],
          [
           0,
           179.7,
           "Free"
          ],
          [
           "(?)",
           270.2,
           "(?)"
          ],
          [
           109.99,
           0,
           "Paid"
          ],
          [
           "(?)",
           695.8,
           "Paid"
          ],
          [
           "(?)",
           49.8,
           "Paid"
          ],
          [
           "(?)",
           8.7,
           "Paid"
          ],
          [
           "(?)",
           336.7,
           "Paid"
          ],
          [
           "(?)",
           52.7,
           "Paid"
          ],
          [
           0.99,
           0,
           "Paid"
          ],
          [
           "(?)",
           305.9,
           "(?)"
          ],
          [
           "(?)",
           76.5,
           "Paid"
          ],
          [
           "(?)",
           374.8,
           "Paid"
          ],
          [
           "(?)",
           9.600000000000001,
           "Paid"
          ],
          [
           "(?)",
           6.7,
           "Paid"
          ],
          [
           "(?)",
           297.6,
           "Paid"
          ],
          [
           "(?)",
           32.8,
           "Paid"
          ],
          [
           "(?)",
           16.4,
           "Paid"
          ],
          [
           "(?)",
           30.6,
           "Paid"
          ],
          [
           "(?)",
           19.3,
           "Paid"
          ],
          [
           13.99,
           0,
           "Paid"
          ],
          [
           "(?)",
           4.4,
           "Paid"
          ],
          [
           0.99,
           5,
           "Paid"
          ],
          [
           0,
           18.6,
           "Free"
          ],
          [
           0,
           51.3,
           "Free"
          ],
          [
           0,
           4.6,
           "Free"
          ],
          [
           0,
           36,
           "Free"
          ],
          [
           0,
           21.9,
           "Free"
          ],
          [
           0,
           12.8,
           "Free"
          ],
          [
           0,
           272.1,
           "Free"
          ],
          [
           0,
           2.7,
           "Free"
          ],
          [
           0,
           30,
           "Free"
          ],
          [
           0,
           4.6,
           "Free"
          ],
          [
           0,
           7.3,
           "Free"
          ],
          [
           0,
           4.7,
           "Free"
          ],
          [
           0.99,
           0,
           "Paid"
          ],
          [
           "(?)",
           11.9,
           "Paid"
          ],
          [
           2.99,
           4.6,
           "Paid"
          ],
          [
           "(?)",
           14,
           "Paid"
          ],
          [
           0,
           3.7,
           "Free"
          ],
          [
           "(?)",
           17.8,
           "Paid"
          ],
          [
           0,
           28.9,
           "Free"
          ],
          [
           0,
           297.6,
           "Free"
          ],
          [
           0,
           3.6,
           "Free"
          ],
          [
           0,
           8.2,
           "Free"
          ],
          [
           0,
           91,
           "Free"
          ],
          [
           0,
           8.3,
           "Free"
          ],
          [
           0,
           4.4,
           "Free"
          ],
          [
           "(?)",
           90.2,
           "Paid"
          ],
          [
           "(?)",
           39.1,
           "Paid"
          ],
          [
           0,
           30.7,
           "Free"
          ],
          [
           "(?)",
           13.4,
           "Paid"
          ],
          [
           0,
           12.5,
           "Free"
          ],
          [
           0,
           0,
           "Free"
          ],
          [
           0,
           26.4,
           "Free"
          ],
          [
           0,
           38.800000000000004,
           "Free"
          ],
          [
           0,
           699.8,
           "Free"
          ],
          [
           0,
           12.5,
           "Free"
          ],
          [
           0,
           33.2,
           "Free"
          ],
          [
           0,
           4.5,
           "Free"
          ],
          [
           "(?)",
           9.4,
           "Paid"
          ],
          [
           11.99,
           8.2,
           "Paid"
          ],
          [
           0.99,
           4.7,
           "Paid"
          ],
          [
           0,
           4.7,
           "Free"
          ],
          [
           0,
           123.3,
           "Free"
          ],
          [
           0,
           51.5,
           "Free"
          ],
          [
           0,
           8.100000000000001,
           "Free"
          ],
          [
           0,
           208.3,
           "Free"
          ],
          [
           0,
           456,
           "Free"
          ],
          [
           0,
           62.1,
           "Free"
          ],
          [
           0,
           130.7,
           "Free"
          ],
          [
           0,
           22.5,
           "Free"
          ],
          [
           0,
           98.1,
           "Free"
          ],
          [
           0,
           8.9,
           "Free"
          ],
          [
           2.99,
           0,
           "Paid"
          ],
          [
           "(?)",
           0,
           "Paid"
          ],
          [
           "(?)",
           84.2,
           "Paid"
          ],
          [
           399.99,
           4.1,
           "Paid"
          ],
          [
           "(?)",
           102,
           "Paid"
          ],
          [
           0,
           20.3,
           "Free"
          ],
          [
           0,
           9.2,
           "Free"
          ],
          [
           0,
           8.8,
           "Free"
          ],
          [
           0,
           9.3,
           "Free"
          ],
          [
           4.29,
           4.6,
           "Paid"
          ],
          [
           2.99,
           0,
           "Paid"
          ],
          [
           0,
           13.4,
           "Free"
          ],
          [
           0,
           4.2,
           "Free"
          ],
          [
           0,
           8,
           "Free"
          ],
          [
           0,
           86.1,
           "Free"
          ],
          [
           0,
           88.7,
           "Free"
          ],
          [
           0,
           103.7,
           "Free"
          ],
          [
           0,
           21.599999999999998,
           "Free"
          ],
          [
           0,
           4.8,
           "Free"
          ],
          [
           0,
           393.6,
           "Free"
          ],
          [
           0,
           31.8,
           "Free"
          ],
          [
           0,
           921.9,
           "Free"
          ],
          [
           0,
           12.2,
           "Free"
          ],
          [
           0,
           30.9,
           "Free"
          ],
          [
           0,
           1282.3,
           "Free"
          ],
          [
           0,
           72.7,
           "Free"
          ],
          [
           0,
           21.2,
           "Free"
          ],
          [
           0,
           479.9,
           "Free"
          ],
          [
           2.99,
           4.2,
           "Paid"
          ],
          [
           0,
           12.8,
           "Free"
          ],
          [
           0,
           53.7,
           "Free"
          ],
          [
           0,
           4.4,
           "Free"
          ],
          [
           0,
           26.1,
           "Free"
          ],
          [
           0,
           4.1,
           "Free"
          ],
          [
           0,
           8.5,
           "Free"
          ],
          [
           3.99,
           4.3,
           "Paid"
          ],
          [
           0,
           8.2,
           "Free"
          ],
          [
           0,
           4.5,
           "Free"
          ],
          [
           0,
           99.3,
           "Free"
          ],
          [
           "(?)",
           26.200000000000003,
           "Paid"
          ],
          [
           0,
           8.399999999999999,
           "Free"
          ],
          [
           0,
           103.8,
           "Free"
          ],
          [
           0,
           8.9,
           "Free"
          ],
          [
           0,
           26.4,
           "Free"
          ],
          [
           0,
           88.7,
           "Free"
          ],
          [
           0,
           4.8,
           "Free"
          ],
          [
           0,
           4.2,
           "Free"
          ],
          [
           0,
           1132.1,
           "Free"
          ],
          [
           0,
           18,
           "Free"
          ],
          [
           0,
           62.6,
           "Free"
          ],
          [
           0,
           86.4,
           "Free"
          ],
          [
           1.99,
           0,
           "Paid"
          ],
          [
           0,
           4.3,
           "Free"
          ],
          [
           2.99,
           4.3,
           "Paid"
          ],
          [
           0,
           4.4,
           "Free"
          ],
          [
           0,
           8.2,
           "Free"
          ],
          [
           0,
           145.8,
           "Free"
          ],
          [
           2.99,
           4.5,
           "Paid"
          ],
          [
           14,
           4.6,
           "Paid"
          ],
          [
           0,
           200.6,
           "Free"
          ],
          [
           "(?)",
           12.8,
           "Paid"
          ],
          [
           0,
           40.8,
           "Free"
          ],
          [
           2.99,
           8.399999999999999,
           "Paid"
          ],
          [
           0,
           3.4,
           "Free"
          ],
          [
           0,
           87.6,
           "Free"
          ],
          [
           "(?)",
           9.1,
           "Paid"
          ],
          [
           0,
           405.2,
           "Free"
          ],
          [
           "(?)",
           89.4,
           "Paid"
          ],
          [
           0,
           38.800000000000004,
           "Free"
          ],
          [
           0.99,
           0,
           "Paid"
          ],
          [
           2.99,
           8.6,
           "Paid"
          ],
          [
           0,
           13.3,
           "Free"
          ],
          [
           0,
           4.4,
           "Free"
          ],
          [
           0.99,
           0,
           "Paid"
          ],
          [
           0,
           13.100000000000001,
           "Free"
          ],
          [
           0,
           8.9,
           "Free"
          ],
          [
           "(?)",
           8.4,
           "Paid"
          ],
          [
           0,
           12.8,
           "Free"
          ],
          [
           0,
           208.3,
           "Free"
          ],
          [
           5.99,
           4.7,
           "Paid"
          ],
          [
           "(?)",
           20.8,
           "Paid"
          ],
          [
           0,
           4.2,
           "Free"
          ],
          [
           0,
           16.8,
           "Free"
          ],
          [
           0,
           4.2,
           "Free"
          ],
          [
           0,
           29.2,
           "Free"
          ],
          [
           3.99,
           14.3,
           "Paid"
          ],
          [
           0,
           130,
           "Free"
          ],
          [
           0,
           4.4,
           "Free"
          ],
          [
           4.99,
           4.7,
           "Paid"
          ],
          [
           0,
           53.3,
           "Free"
          ],
          [
           0,
           103.7,
           "Free"
          ],
          [
           0,
           4.2,
           "Free"
          ],
          [
           0,
           38.400000000000006,
           "Free"
          ],
          [
           "(?)",
           2.6,
           "Paid"
          ],
          [
           0,
           699.8,
           "Free"
          ],
          [
           "(?)",
           11.9,
           "Paid"
          ],
          [
           0,
           21.599999999999998,
           "Free"
          ],
          [
           "(?)",
           0,
           "Paid"
          ],
          [
           0,
           505.8,
           "Free"
          ],
          [
           0,
           1302.6,
           "Free"
          ],
          [
           "(?)",
           66,
           "Paid"
          ],
          [
           0,
           35.9,
           "Free"
          ],
          [
           0,
           18,
           "Free"
          ],
          [
           0,
           12.5,
           "Free"
          ],
          [
           0,
           5,
           "Free"
          ],
          [
           29.99,
           5,
           "Paid"
          ],
          [
           0,
           4.8,
           "Free"
          ],
          [
           0,
           4.1,
           "Free"
          ],
          [
           "(?)",
           26,
           "Paid"
          ],
          [
           0,
           67.4,
           "Free"
          ],
          [
           0,
           17.2,
           "Free"
          ],
          [
           4.99,
           8.3,
           "Paid"
          ],
          [
           2.99,
           4.6,
           "Paid"
          ],
          [
           0,
           8.2,
           "Free"
          ],
          [
           0,
           537.4,
           "Free"
          ],
          [
           "(?)",
           56.6,
           "Paid"
          ],
          [
           0,
           136,
           "Free"
          ],
          [
           "(?)",
           11.9,
           "Paid"
          ],
          [
           0,
           22.5,
           "Free"
          ],
          [
           0,
           8.1,
           "Free"
          ],
          [
           0.99,
           5,
           "Paid"
          ],
          [
           0,
           39.5,
           "Free"
          ],
          [
           0.99,
           4.5,
           "Paid"
          ],
          [
           0,
           8.8,
           "Free"
          ],
          [
           "(?)",
           12.4,
           "Paid"
          ],
          [
           0,
           4.5,
           "Free"
          ],
          [
           0,
           211.8,
           "Free"
          ],
          [
           0,
           136,
           "Free"
          ],
          [
           0,
           18,
           "Free"
          ],
          [
           0,
           8.7,
           "Free"
          ],
          [
           "(?)",
           17.4,
           "Paid"
          ],
          [
           "(?)",
           11.899999999999999,
           "Paid"
          ],
          [
           0,
           198.4,
           "Free"
          ],
          [
           "(?)",
           13.2,
           "Paid"
          ],
          [
           0,
           210.7,
           "Free"
          ],
          [
           "(?)",
           13.2,
           "Paid"
          ],
          [
           0,
           631,
           "Free"
          ],
          [
           "(?)",
           66.1,
           "Paid"
          ],
          [
           0,
           38.3,
           "Free"
          ],
          [
           0,
           13.1,
           "Free"
          ],
          [
           0,
           8.7,
           "Free"
          ],
          [
           "(?)",
           13.2,
           "Paid"
          ],
          [
           0,
           80.3,
           "Free"
          ],
          [
           "(?)",
           30.9,
           "Paid"
          ],
          [
           0,
           33.8,
           "Free"
          ],
          [
           0,
           21.3,
           "Free"
          ],
          [
           4.99,
           4.6,
           "Paid"
          ],
          [
           0,
           116.9,
           "Free"
          ],
          [
           1.99,
           14.2,
           "Paid"
          ],
          [
           "(?)",
           53.1,
           "Paid"
          ],
          [
           0,
           4.7,
           "Free"
          ],
          [
           0,
           0,
           "Free"
          ],
          [
           0,
           33.9,
           "Free"
          ],
          [
           "(?)",
           31.2,
           "Paid"
          ],
          [
           0.99,
           4.8,
           "Paid"
          ],
          [
           0,
           618.5,
           "Free"
          ],
          [
           "(?)",
           34.2,
           "Paid"
          ],
          [
           0,
           22.3,
           "Free"
          ],
          [
           0,
           12.5,
           "Free"
          ],
          [
           2.99,
           4,
           "Paid"
          ],
          [
           0,
           86.1,
           "Free"
          ],
          [
           2.99,
           0,
           "Paid"
          ],
          [
           0,
           3.7,
           "Free"
          ],
          [
           3.99,
           4.7,
           "Paid"
          ],
          [
           0,
           1185.4,
           "Free"
          ],
          [
           "(?)",
           46.2,
           "Paid"
          ],
          [
           0,
           0,
           "Free"
          ],
          [
           0,
           0,
           "Free"
          ],
          [
           2.99,
           0,
           "Paid"
          ],
          [
           0,
           8.1,
           "Free"
          ],
          [
           0.99,
           0,
           "Paid"
          ],
          [
           0,
           13.5,
           "Free"
          ],
          [
           0,
           0,
           "Free"
          ],
          [
           0,
           22.2,
           "Free"
          ],
          [
           0,
           8.6,
           "Free"
          ],
          [
           0,
           3.9,
           "Free"
          ],
          [
           0,
           3.9,
           "Free"
          ],
          [
           0,
           292.8,
           "Free"
          ],
          [
           "(?)",
           4.6,
           "Paid"
          ],
          [
           0,
           4.3,
           "Free"
          ],
          [
           0,
           4.2,
           "Free"
          ],
          [
           0,
           167.2,
           "Free"
          ],
          [
           0,
           0,
           "Free"
          ],
          [
           0,
           4.5,
           "Free"
          ],
          [
           0,
           8,
           "Free"
          ],
          [
           0,
           118.5,
           "Free"
          ],
          [
           "(?)",
           30,
           "Paid"
          ],
          [
           0,
           9.4,
           "Free"
          ],
          [
           1.99,
           4.6,
           "Paid"
          ],
          [
           0,
           13.4,
           "Free"
          ],
          [
           0,
           60.2,
           "Free"
          ],
          [
           "(?)",
           318.3,
           "(?)"
          ],
          [
           0,
           6.9,
           "Free"
          ],
          [
           0,
           26,
           "Free"
          ],
          [
           0,
           882.7,
           "Free"
          ],
          [
           "(?)",
           297.6,
           "Paid"
          ],
          [
           0,
           21.9,
           "Free"
          ],
          [
           0,
           36,
           "Free"
          ],
          [
           0,
           123.3,
           "Free"
          ],
          [
           0,
           1182.7,
           "Free"
          ],
          [
           0,
           11.6,
           "Free"
          ],
          [
           "(?)",
           72.8,
           "Paid"
          ],
          [
           0,
           51.5,
           "Free"
          ],
          [
           0,
           1390.8,
           "Free"
          ],
          [
           "(?)",
           71.1,
           "Paid"
          ],
          [
           0,
           3.6,
           "Free"
          ],
          [
           4.29,
           4.6,
           "Paid"
          ],
          [
           0,
           8.100000000000001,
           "Free"
          ],
          [
           0,
           231.6,
           "Free"
          ],
          [
           0,
           21.9,
           "Free"
          ],
          [
           0,
           175.9,
           "Free"
          ],
          [
           0,
           3.8,
           "Free"
          ],
          [
           0,
           4.6,
           "Free"
          ],
          [
           0,
           9.2,
           "Free"
          ],
          [
           "(?)",
           4.4,
           "Paid"
          ],
          [
           0,
           67,
           "Free"
          ],
          [
           1.99,
           4.7,
           "Paid"
          ],
          [
           0,
           8.2,
           "Free"
          ],
          [
           0,
           8.6,
           "Free"
          ],
          [
           "(?)",
           6.699999999999999,
           "Paid"
          ],
          [
           0,
           4.7,
           "Free"
          ],
          [
           1.99,
           4.7,
           "Paid"
          ],
          [
           2.99,
           4.9,
           "Paid"
          ],
          [
           0,
           261.1,
           "Free"
          ],
          [
           0,
           51.3,
           "Free"
          ],
          [
           0.99,
           4.7,
           "Paid"
          ],
          [
           0,
           130.7,
           "Free"
          ],
          [
           0,
           157.6,
           "Free"
          ],
          [
           "(?)",
           6.7,
           "Paid"
          ],
          [
           0,
           510.1,
           "Free"
          ],
          [
           "(?)",
           48.3,
           "Paid"
          ],
          [
           4.99,
           9.5,
           "Paid"
          ],
          [
           0,
           12.7,
           "Free"
          ],
          [
           0,
           106.4,
           "Free"
          ],
          [
           0,
           9.4,
           "Free"
          ],
          [
           "(?)",
           12.6,
           "Paid"
          ],
          [
           0,
           13,
           "Free"
          ],
          [
           0,
           123.6,
           "Free"
          ],
          [
           0,
           39.1,
           "Free"
          ],
          [
           "(?)",
           39.1,
           "Paid"
          ],
          [
           "(?)",
           37,
           "Paid"
          ],
          [
           9.99,
           4.5,
           "Paid"
          ],
          [
           2.99,
           4.7,
           "Paid"
          ],
          [
           0,
           4.6,
           "Free"
          ],
          [
           0,
           4.3,
           "Free"
          ],
          [
           2.49,
           0,
           "Paid"
          ],
          [
           0,
           20.1,
           "Free"
          ],
          [
           0,
           783.7,
           "Free"
          ],
          [
           "(?)",
           9,
           "Paid"
          ],
          [
           0,
           21.099999999999998,
           "Free"
          ],
          [
           0,
           4.4,
           "Free"
          ],
          [
           0,
           64.1,
           "Free"
          ],
          [
           0,
           4.5,
           "Free"
          ],
          [
           0.99,
           4.6,
           "Paid"
          ],
          [
           0,
           30.799999999999997,
           "Free"
          ],
          [
           0,
           4.7,
           "Free"
          ],
          [
           "(?)",
           13.100000000000001,
           "Paid"
          ],
          [
           0,
           21.5,
           "Free"
          ],
          [
           0,
           73.8,
           "Free"
          ],
          [
           "(?)",
           9.3,
           "Paid"
          ],
          [
           0,
           8.8,
           "Free"
          ],
          [
           0,
           4.6,
           "Free"
          ],
          [
           0,
           293.6,
           "Free"
          ],
          [
           "(?)",
           3.8,
           "Paid"
          ],
          [
           0,
           36.2,
           "Free"
          ],
          [
           2.99,
           4.7,
           "Paid"
          ],
          [
           0,
           19.6,
           "Free"
          ],
          [
           0,
           30.2,
           "Free"
          ],
          [
           0,
           82.1,
           "Free"
          ],
          [
           2.99,
           3.9,
           "Paid"
          ],
          [
           11.99,
           8.2,
           "Paid"
          ],
          [
           0,
           18.6,
           "Free"
          ],
          [
           0,
           8.899999999999999,
           "Free"
          ],
          [
           0,
           55.3,
           "Free"
          ],
          [
           0,
           9.3,
           "Free"
          ],
          [
           0,
           4.4,
           "Free"
          ],
          [
           0,
           21,
           "Free"
          ],
          [
           "(?)",
           13.4,
           "Paid"
          ],
          [
           0,
           20.5,
           "Free"
          ],
          [
           0,
           16.8,
           "Free"
          ],
          [
           0,
           8,
           "Free"
          ],
          [
           0,
           158.8,
           "Free"
          ],
          [
           109.99,
           0,
           "Paid"
          ],
          [
           0,
           9,
           "Free"
          ],
          [
           0,
           31.8,
           "Free"
          ],
          [
           "(?)",
           7.2,
           "Paid"
          ],
          [
           0,
           1272.6,
           "Free"
          ],
          [
           "(?)",
           45.7,
           "Paid"
          ],
          [
           0,
           1099.1,
           "Free"
          ],
          [
           0,
           4.3,
           "Free"
          ],
          [
           0,
           25.6,
           "Free"
          ],
          [
           0,
           9,
           "Free"
          ],
          [
           0,
           12.6,
           "Free"
          ],
          [
           "(?)",
           38.1,
           "Paid"
          ],
          [
           0,
           124,
           "Free"
          ],
          [
           0,
           22.3,
           "Free"
          ],
          [
           0,
           33.2,
           "Free"
          ],
          [
           0,
           112.3,
           "Free"
          ],
          [
           "(?)",
           16.6,
           "Paid"
          ],
          [
           2.99,
           4.6,
           "Paid"
          ],
          [
           399.99,
           4.1,
           "Paid"
          ],
          [
           "(?)",
           4.8,
           "Paid"
          ],
          [
           0,
           59.7,
           "Free"
          ],
          [
           0,
           4.5,
           "Free"
          ],
          [
           "(?)",
           9.2,
           "Paid"
          ],
          [
           0,
           147.5,
           "Free"
          ],
          [
           0,
           338.3,
           "Free"
          ],
          [
           1.49,
           4.8,
           "Paid"
          ],
          [
           0,
           0,
           "Free"
          ],
          [
           0,
           393.6,
           "Free"
          ],
          [
           0,
           406,
           "Free"
          ],
          [
           0,
           12.2,
           "Free"
          ],
          [
           0,
           8.6,
           "Free"
          ],
          [
           "(?)",
           8.7,
           "Paid"
          ],
          [
           0,
           74.5,
           "Free"
          ],
          [
           0.99,
           5,
           "Paid"
          ],
          [
           0,
           4.3,
           "Free"
          ],
          [
           0,
           4,
           "Free"
          ],
          [
           0,
           50.1,
           "Free"
          ],
          [
           0,
           28.9,
           "Free"
          ],
          [
           0,
           471.6,
           "Free"
          ],
          [
           0,
           0,
           "Free"
          ],
          [
           0,
           2.7,
           "Free"
          ],
          [
           0,
           8.8,
           "Free"
          ],
          [
           0,
           1041.9,
           "Free"
          ],
          [
           "(?)",
           348.8,
           "Paid"
          ],
          [
           0,
           21.7,
           "Free"
          ],
          [
           "(?)",
           19.3,
           "Paid"
          ],
          [
           0,
           19.2,
           "Free"
          ],
          [
           "(?)",
           9.4,
           "Paid"
          ],
          [
           "(?)",
           62.1,
           "Paid"
          ],
          [
           0,
           30.9,
           "Free"
          ],
          [
           0,
           1090.3,
           "Free"
          ],
          [
           0,
           12.600000000000001,
           "Free"
          ],
          [
           "(?)",
           52.7,
           "Paid"
          ],
          [
           0,
           23.9,
           "Free"
          ],
          [
           0,
           30.7,
           "Free"
          ],
          [
           0,
           72.7,
           "Free"
          ],
          [
           0,
           16.8,
           "Free"
          ],
          [
           0,
           4.7,
           "Free"
          ],
          [
           0,
           3.9,
           "Free"
          ],
          [
           0,
           9.3,
           "Free"
          ],
          [
           0,
           25.299999999999997,
           "Free"
          ],
          [
           0,
           271.6,
           "Free"
          ],
          [
           0.99,
           0,
           "Paid"
          ],
          [
           0,
           1082.7,
           "Free"
          ],
          [
           0,
           309.7,
           "Free"
          ],
          [
           4.99,
           4.6,
           "Paid"
          ],
          [
           "(?)",
           928.7,
           "(?)"
          ],
          [
           "(?)",
           1466.2,
           "(?)"
          ],
          [
           "(?)",
           271.6,
           "(?)"
          ],
          [
           "(?)",
           1361.5,
           "(?)"
          ],
          [
           0,
           8.6,
           "Free"
          ],
          [
           "(?)",
           4702.1,
           "(?)"
          ],
          [
           "(?)",
           454.2,
           "(?)"
          ],
          [
           0,
           4.2,
           "Free"
          ],
          [
           "(?)",
           614.8,
           "(?)"
          ],
          [
           0,
           301.3,
           "Free"
          ],
          [
           0,
           4.3,
           "Free"
          ],
          [
           0,
           661.3,
           "Free"
          ],
          [
           0,
           74.5,
           "Free"
          ],
          [
           0,
           4.1,
           "Free"
          ],
          [
           0,
           17.2,
           "Free"
          ],
          [
           "(?)",
           34.2,
           "Paid"
          ],
          [
           "(?)",
           72.8,
           "Paid"
          ],
          [
           "(?)",
           199.6,
           "(?)"
          ],
          [
           "(?)",
           75.7,
           "Paid"
          ],
          [
           "(?)",
           7.4,
           "Paid"
          ],
          [
           "(?)",
           93.6,
           "Paid"
          ],
          [
           "(?)",
           262.7,
           "Paid"
          ],
          [
           0,
           170.5,
           "Free"
          ],
          [
           0.99,
           7.4,
           "Paid"
          ],
          [
           0,
           241,
           "Free"
          ],
          [
           "(?)",
           774.3,
           "(?)"
          ],
          [
           "(?)",
           680.3,
           "(?)"
          ],
          [
           "(?)",
           9,
           "Paid"
          ],
          [
           0,
           63.1,
           "Free"
          ]
         ],
         "domain": {
          "x": [
           0,
           1
          ],
          "y": [
           0,
           1
          ]
         },
         "hovertemplate": "labels=%{label}<br>Rating=%{customdata[1]}<br>parent=%{parent}<br>id=%{id}<br>Price=%{customdata[0]}<br>Type=%{customdata[2]}<extra></extra>",
         "ids": [
          "GAME/Free/Everyone/Action",
          "MAPS_AND_NAVIGATION/Free/Everyone",
          "MEDICAL/Free/Everyone",
          "NEWS_AND_MAGAZINES/Free/Everyone",
          "PARENTING/Free/Everyone",
          "PERSONALIZATION/Free/Everyone",
          "PHOTOGRAPHY/Free/Everyone",
          "PRODUCTIVITY/Free/Everyone",
          "LIFESTYLE/Free/Everyone",
          "SHOPPING/Free/Everyone",
          "SPORTS/Free/Everyone",
          "TOOLS/Free/Everyone",
          "TRAVEL_AND_LOCAL/Free/Everyone",
          "VIDEO_PLAYERS/Free/Everyone",
          "WEATHER/Free/Everyone",
          "ART_AND_DESIGN/Paid/Everyone",
          "AUTO_AND_VEHICLES/Paid/Everyone",
          "SOCIAL/Free/Everyone",
          "BUSINESS/Paid/Everyone",
          "LIBRARIES_AND_DEMO/Free/Everyone",
          "HEALTH_AND_FITNESS/Free/Everyone",
          "SPORTS/Free/Adults only 18+",
          "ART_AND_DESIGN/Free/Everyone",
          "AUTO_AND_VEHICLES/Free/Everyone",
          "BEAUTY/Free/Everyone",
          "BOOKS_AND_REFERENCE/Free/Everyone",
          "BUSINESS/Free/Everyone",
          "COMICS/Free/Everyone",
          "HOUSE_AND_HOME/Free/Everyone",
          "COMMUNICATION/Free/Everyone",
          "EDUCATION/Free/Everyone",
          "ENTERTAINMENT/Free/Everyone",
          "EVENTS/Free/Everyone",
          "FAMILY/Free/Everyone",
          "FINANCE/Free/Everyone",
          "FOOD_AND_DRINK/Free/Everyone",
          "GAME/Free/Everyone",
          "DATING/Free/Everyone",
          "COMICS/Free/Adults only 18+",
          "COMMUNICATION/Paid/Everyone",
          "EDUCATION/Paid/Everyone",
          "TRAVEL_AND_LOCAL/Paid/Everyone",
          "VIDEO_PLAYERS/Paid/Everyone",
          "WEATHER/Paid/Everyone",
          "ART_AND_DESIGN/Free/Everyone 10+",
          "AUTO_AND_VEHICLES/Free/Everyone 10+",
          "BEAUTY/Free/Everyone 10+",
          "BOOKS_AND_REFERENCE/Free/Everyone 10+",
          "TOOLS/Paid/Everyone",
          "BUSINESS/Free/Everyone 10+",
          "EDUCATION/Free/Everyone 10+",
          "ENTERTAINMENT/Free/Everyone 10+",
          "EVENTS/Free/Everyone 10+",
          "FAMILY/Free/Everyone 10+",
          "GAME/Free/Everyone 10+",
          "HEALTH_AND_FITNESS/Free/Everyone 10+",
          "LIFESTYLE/Free/Everyone 10+",
          "COMICS/Free/Everyone 10+",
          "DATING/Paid/Everyone",
          "SPORTS/Paid/Everyone",
          "SHOPPING/Paid/Everyone",
          "ENTERTAINMENT/Paid/Everyone",
          "EVENTS/Paid/Everyone",
          "FAMILY/Paid/Everyone",
          "FINANCE/Paid/Everyone",
          "FOOD_AND_DRINK/Paid/Everyone",
          "GAME/Paid/Everyone",
          "HEALTH_AND_FITNESS/Paid/Everyone",
          "SOCIAL/Paid/Everyone",
          "LIBRARIES_AND_DEMO/Paid/Everyone",
          "MAPS_AND_NAVIGATION/Paid/Everyone",
          "MEDICAL/Paid/Everyone",
          "NEWS_AND_MAGAZINES/Paid/Everyone",
          "PARENTING/Paid/Everyone",
          "PERSONALIZATION/Paid/Everyone",
          "PHOTOGRAPHY/Paid/Everyone",
          "PRODUCTIVITY/Paid/Everyone",
          "LIFESTYLE/Paid/Everyone",
          "MAPS_AND_NAVIGATION/Free/Everyone 10+",
          "GAME/Free/Mature 17+/Word",
          "GAME/Free/Everyone/Word",
          "SOCIAL/Paid/Teen/Social",
          "SPORTS/Free/Adults only 18+/Sports",
          "GAME/Free/Everyone/Sports",
          "SPORTS/Free/Everyone/Sports",
          "SPORTS/Paid/Everyone/Sports",
          "GAME/Free/Everyone 10+/Sports",
          "SPORTS/Free/Everyone 10+/Sports",
          "SOCIAL/Free/Teen/Social",
          "SPORTS/Free/Mature 17+/Sports",
          "FAMILY/Free/Everyone/Sports;Action & Adventure",
          "FAMILY/Paid/Everyone/Sports;Action & Adventure",
          "FAMILY/Free/Everyone/Strategy",
          "FAMILY/Paid/Everyone/Strategy",
          "FAMILY/Free/Everyone 10+/Strategy",
          "GAME/Free/Everyone 10+/Strategy",
          "FAMILY/Paid/Everyone 10+/Strategy",
          "SPORTS/Free/Teen/Sports",
          "FAMILY/Free/Mature 17+/Strategy",
          "SOCIAL/Free/Mature 17+/Social",
          "SOCIAL/Free/Everyone/Social",
          "FAMILY/Paid/Everyone/Simulation",
          "GAME/Paid/Everyone/Simulation",
          "FAMILY/Free/Everyone 10+/Simulation",
          "GAME/Free/Everyone 10+/Simulation",
          "FAMILY/Paid/Everyone 10+/Simulation",
          "FAMILY/Free/Mature 17+/Simulation",
          "FAMILY/Free/Teen/Simulation",
          "SOCIAL/Free/Everyone 10+/Social",
          "GAME/Free/Teen/Simulation",
          "GAME/Free/Everyone/Simulation;Action & Adventure",
          "FAMILY/Free/Everyone/Simulation;Education",
          "VIDEO_PLAYERS",
          "GAME/Paid/Everyone/Simulation;Education",
          "FAMILY/Free/Everyone/Simulation;Pretend Play",
          "FAMILY/Paid/Everyone/Simulation;Pretend Play",
          "FAMILY/Free/Everyone 10+/Simulation;Pretend Play",
          "FAMILY/Free/Everyone/Simulation;Action & Adventure",
          "GAME/Free/Everyone 10+/Word",
          "GAME/Free/Mature 17+/Strategy",
          "FAMILY/Free/Teen/Strategy",
          "FAMILY/Free/Everyone/Trivia;Education",
          "VIDEO_PLAYERS/Free/Everyone/Video Players & Editors",
          "VIDEO_PLAYERS/Paid/Everyone/Video Players & Editors",
          "VIDEO_PLAYERS/Free/Everyone 10+/Video Players & Editors",
          "VIDEO_PLAYERS/Free/Mature 17+/Video Players & Editors",
          "VIDEO_PLAYERS/Free/Teen/Video Players & Editors",
          "FAMILY/Free/Everyone/Video Players & Editors;Creativity",
          "GAME/Free/Teen/Trivia",
          "VIDEO_PLAYERS/Free/Everyone/Video Players & Editors;Creativity",
          "FAMILY/Free/Everyone 10+/Video Players & Editors;Music & Video",
          "VIDEO_PLAYERS/Free/Everyone 10+/Video Players & Editors;Music & Video",
          "WEATHER/Free/Everyone/Weather",
          "WEATHER/Paid/Everyone/Weather",
          "WEATHER/Free/Everyone 10+/Weather",
          "WEATHER/Free/Mature 17+/Weather",
          "WEATHER/Free/Teen/Weather",
          "FAMILY/Free/Everyone/Video Players & Editors;Music & Video",
          "FAMILY/Paid/Mature 17+/Strategy",
          "GAME/Free/Everyone/Trivia",
          "TRAVEL_AND_LOCAL/Free/Mature 17+/Travel & Local",
          "GAME/Free/Teen/Strategy",
          "FAMILY/Paid/Teen/Strategy",
          "GAME/Paid/Teen/Strategy",
          "FAMILY/Free/Everyone/Strategy;Action & Adventure",
          "FAMILY/Paid/Everyone 10+/Strategy;Action & Adventure",
          "FAMILY/Free/Everyone/Strategy;Creativity",
          "FAMILY/Free/Everyone/Strategy;Education",
          "TRAVEL_AND_LOCAL/Free/Teen/Travel & Local",
          "TOOLS/Free/Everyone/Tools",
          "TOOLS/Free/Mature 17+/Tools",
          "TOOLS/Paid/Mature 17+/Tools",
          "TOOLS/Free/Teen/Tools",
          "TOOLS/Free/Unrated/Tools",
          "TOOLS/Free/Everyone/Tools;Education",
          "TRAVEL_AND_LOCAL/Free/Everyone/Travel & Local",
          "TRAVEL_AND_LOCAL/Paid/Everyone/Travel & Local",
          "TOOLS/Paid/Everyone/Tools",
          "MEDICAL/Free/Everyone 10+",
          "NEWS_AND_MAGAZINES/Free/Everyone 10+",
          "PERSONALIZATION/Free/Everyone 10+",
          "NEWS_AND_MAGAZINES/Free",
          "PARENTING/Free",
          "PERSONALIZATION/Free",
          "PHOTOGRAPHY/Free",
          "PRODUCTIVITY/Free",
          "SHOPPING/Free",
          "SOCIAL/Free",
          "MEDICAL/Free",
          "SPORTS/Free",
          "TRAVEL_AND_LOCAL/Free",
          "VIDEO_PLAYERS/Free",
          "WEATHER/Free",
          "ART_AND_DESIGN/Paid",
          "AUTO_AND_VEHICLES/Paid",
          "BOOKS_AND_REFERENCE/Paid",
          "BUSINESS/Paid",
          "TOOLS/Free",
          "COMMUNICATION/Paid",
          "MAPS_AND_NAVIGATION/Free",
          "LIBRARIES_AND_DEMO/Free",
          "TOOLS/Free/Unrated",
          "ART_AND_DESIGN/Free",
          "BEAUTY/Free",
          "BOOKS_AND_REFERENCE/Free",
          "BUSINESS/Free",
          "COMICS/Free",
          "COMMUNICATION/Free",
          "LIFESTYLE/Free",
          "DATING/Free",
          "EVENTS/Free",
          "FAMILY/Free",
          "FINANCE/Free",
          "FOOD_AND_DRINK/Free",
          "GAME/Free",
          "HEALTH_AND_FITNESS/Free",
          "HOUSE_AND_HOME/Free",
          "ENTERTAINMENT/Free",
          "FAMILY/Free/Unrated",
          "DATING/Paid",
          "ENTERTAINMENT/Paid",
          "BUSINESS",
          "COMMUNICATION",
          "FAMILY",
          "FINANCE",
          "HEALTH_AND_FITNESS",
          "HOUSE_AND_HOME",
          "LIFESTYLE",
          "BOOKS_AND_REFERENCE",
          "MAPS_AND_NAVIGATION",
          "PARENTING",
          "PHOTOGRAPHY",
          "PRODUCTIVITY",
          "SHOPPING",
          "SOCIAL",
          "SPORTS",
          "TOOLS",
          "NEWS_AND_MAGAZINES",
          "EDUCATION/Paid",
          "BEAUTY",
          "ART_AND_DESIGN",
          "EVENTS/Paid",
          "FAMILY/Paid",
          "FINANCE/Paid",
          "FOOD_AND_DRINK/Paid",
          "GAME/Paid",
          "HEALTH_AND_FITNESS/Paid",
          "LIBRARIES_AND_DEMO/Paid",
          "AUTO_AND_VEHICLES",
          "LIFESTYLE/Paid",
          "MEDICAL/Paid",
          "NEWS_AND_MAGAZINES/Paid",
          "PARENTING/Paid",
          "PERSONALIZATION/Paid",
          "TRAVEL_AND_LOCAL/Paid",
          "VIDEO_PLAYERS/Paid",
          "WEATHER/Paid",
          "MAPS_AND_NAVIGATION/Paid",
          "SOCIAL/Paid/Teen",
          "MEDICAL/Paid/Teen",
          "LIFESTYLE/Paid/Teen",
          "MEDICAL/Free/Mature 17+",
          "NEWS_AND_MAGAZINES/Free/Mature 17+",
          "PARENTING/Free/Mature 17+",
          "PERSONALIZATION/Free/Mature 17+",
          "PHOTOGRAPHY/Free/Mature 17+",
          "SHOPPING/Free/Mature 17+",
          "SOCIAL/Free/Mature 17+",
          "MAPS_AND_NAVIGATION/Free/Mature 17+",
          "SPORTS/Free/Mature 17+",
          "TRAVEL_AND_LOCAL/Free/Mature 17+",
          "VIDEO_PLAYERS/Free/Mature 17+",
          "WEATHER/Free/Mature 17+",
          "COMMUNICATION/Paid/Mature 17+",
          "DATING/Paid/Mature 17+",
          "ENTERTAINMENT/Paid/Mature 17+",
          "FAMILY/Paid/Mature 17+",
          "TOOLS/Free/Mature 17+",
          "GAME/Paid/Mature 17+",
          "LIFESTYLE/Free/Mature 17+",
          "GAME/Free/Mature 17+",
          "PRODUCTIVITY/Free/Everyone 10+",
          "SOCIAL/Free/Everyone 10+",
          "SPORTS/Free/Everyone 10+",
          "VIDEO_PLAYERS/Free/Everyone 10+",
          "WEATHER/Free/Everyone 10+",
          "FAMILY/Paid/Everyone 10+",
          "GAME/Paid/Everyone 10+",
          "HEALTH_AND_FITNESS/Free/Mature 17+",
          "MEDICAL/Paid/Everyone 10+",
          "BOOKS_AND_REFERENCE/Free/Mature 17+",
          "BUSINESS/Free/Mature 17+",
          "COMICS/Free/Mature 17+",
          "COMMUNICATION/Free/Mature 17+",
          "DATING/Free/Mature 17+",
          "EDUCATION/Free/Mature 17+",
          "ENTERTAINMENT/Free/Mature 17+",
          "BEAUTY/Free/Mature 17+",
          "LIFESTYLE/Paid/Mature 17+",
          "MEDICAL/Paid/Mature 17+",
          "NEWS_AND_MAGAZINES/Paid/Mature 17+",
          "PARENTING/Free/Teen",
          "PERSONALIZATION/Free/Teen",
          "PHOTOGRAPHY/Free/Teen",
          "PRODUCTIVITY/Free/Teen",
          "SHOPPING/Free/Teen",
          "SOCIAL/Free/Teen",
          "SPORTS/Free/Teen",
          "NEWS_AND_MAGAZINES/Free/Teen",
          "TOOLS/Free/Teen",
          "VIDEO_PLAYERS/Free/Teen",
          "WEATHER/Free/Teen",
          "BOOKS_AND_REFERENCE/Paid/Teen",
          "DATING/Paid/Teen",
          "FAMILY/Paid/Teen",
          "FINANCE/Paid/Teen",
          "GAME/Paid/Teen",
          "TRAVEL_AND_LOCAL/Free/Teen",
          "MEDICAL/Free/Teen",
          "MAPS_AND_NAVIGATION/Free/Teen",
          "HOUSE_AND_HOME/Free/Teen",
          "PRODUCTIVITY/Paid/Mature 17+",
          "TOOLS/Paid/Mature 17+",
          "ART_AND_DESIGN/Free/Teen",
          "AUTO_AND_VEHICLES/Free/Teen",
          "BEAUTY/Free/Teen",
          "BOOKS_AND_REFERENCE/Free/Teen",
          "COMICS/Free/Teen",
          "COMMUNICATION/Free/Teen",
          "DATING/Free/Teen",
          "EDUCATION/Free/Teen",
          "ENTERTAINMENT/Free/Teen",
          "EVENTS/Free/Teen",
          "FAMILY/Free/Teen",
          "FINANCE/Free/Teen",
          "FOOD_AND_DRINK/Free/Teen",
          "GAME/Free/Teen",
          "HEALTH_AND_FITNESS/Free/Teen",
          "GAME/Free/Everyone/Simulation",
          "FAMILY/Free/Everyone/Simulation",
          "FAMILY/Paid/Everyone/Simulation;Education",
          "SHOPPING/Free/Mature 17+/Shopping",
          "FAMILY/Free/Everyone/Casual;Brain Games",
          "GAME/Free/Everyone/Casual;Brain Games",
          "FAMILY/Free/Everyone/Casual;Creativity",
          "GAME/Free/Everyone/Casual;Creativity",
          "FAMILY/Free/Everyone/Casual;Education",
          "FAMILY/Paid/Everyone/Casual;Education",
          "FAMILY/Free/Everyone/Casual;Music & Video",
          "GAME/Free/Everyone 10+/Casual;Action & Adventure",
          "FAMILY/Free/Everyone/Casual;Pretend Play",
          "FAMILY/Paid/Everyone/Casual;Pretend Play",
          "COMICS/Free/Adults only 18+/Comics",
          "COMICS/Free/Everyone/Comics",
          "COMICS/Free/Everyone 10+/Comics",
          "COMICS/Free/Mature 17+/Comics",
          "COMICS/Free/Teen/Comics",
          "COMICS/Free/Everyone/Comics;Creativity",
          "GAME/Free/Everyone/Casual;Pretend Play",
          "COMMUNICATION/Free/Everyone/Communication",
          "FAMILY/Free/Everyone 10+/Casual;Action & Adventure",
          "FAMILY/Free/Everyone/Casual;Action & Adventure",
          "GAME/Free/Teen/Card",
          "GAME/Paid/Teen/Card",
          "FAMILY/Free/Everyone 10+/Card;Action & Adventure",
          "FAMILY/Paid/Everyone 10+/Card;Action & Adventure",
          "FAMILY/Free/Everyone/Card;Brain Games",
          "GAME/Free/Everyone/Casino",
          "GAME/Free/Teen/Casino",
          "FAMILY/Paid/Everyone/Casual;Action & Adventure",
          "GAME/Paid/Teen/Casino",
          "GAME/Free/Everyone/Casual",
          "FAMILY/Paid/Everyone/Casual",
          "FAMILY/Free/Everyone 10+/Casual",
          "FAMILY/Paid/Everyone 10+/Casual",
          "FAMILY/Free/Mature 17+/Casual",
          "FAMILY/Free/Teen/Casual",
          "FAMILY/Paid/Teen/Casual",
          "FAMILY/Free/Everyone/Casual",
          "COMMUNICATION/Paid/Everyone/Communication",
          "COMMUNICATION/Free/Mature 17+/Communication",
          "COMMUNICATION/Paid/Mature 17+/Communication",
          "FAMILY/Paid/Everyone/Education;Action & Adventure",
          "EDUCATION/Free/Everyone/Education;Brain Games",
          "FAMILY/Free/Everyone/Education;Brain Games",
          "FAMILY/Paid/Everyone/Education;Brain Games",
          "EDUCATION/Free/Everyone/Education;Creativity",
          "FAMILY/Free/Everyone/Education;Creativity",
          "FAMILY/Paid/Everyone/Education;Creativity",
          "FAMILY/Free/Everyone/Education;Action & Adventure",
          "SHOPPING/Free/Teen/Shopping",
          "EDUCATION/Paid/Everyone/Education;Education",
          "FAMILY/Paid/Everyone/Education;Education",
          "EDUCATION/Free/Everyone/Education;Music & Video",
          "FAMILY/Free/Everyone/Education;Music & Video",
          "EDUCATION/Free/Everyone/Education;Pretend Play",
          "FAMILY/Free/Everyone/Education;Pretend Play",
          "EDUCATION/Paid/Everyone/Education;Pretend Play",
          "FAMILY/Free/Everyone/Education;Education",
          "EDUCATION/Free/Everyone/Education;Action & Adventure",
          "FAMILY/Paid/Teen/Education",
          "FAMILY/Free/Teen/Education",
          "COMMUNICATION/Free/Teen/Communication",
          "FAMILY/Free/Everyone/Communication;Creativity",
          "DATING/Free/Everyone/Dating",
          "DATING/Paid/Everyone/Dating",
          "DATING/Free/Mature 17+/Dating",
          "DATING/Paid/Mature 17+/Dating",
          "DATING/Free/Teen/Dating",
          "DATING/Paid/Teen/Dating",
          "EDUCATION/Free/Everyone/Education",
          "FAMILY/Free/Everyone/Education",
          "FAMILY/Paid/Everyone/Education",
          "EDUCATION/Free/Everyone 10+/Education",
          "FAMILY/Free/Everyone 10+/Education",
          "EDUCATION/Free/Mature 17+/Education",
          "FAMILY/Free/Mature 17+/Education",
          "FAMILY/Paid/Mature 17+/Education",
          "EDUCATION/Free/Teen/Education",
          "GAME/Free/Mature 17+/Card",
          "GAME/Paid/Everyone/Card",
          "GAME/Free/Everyone/Card",
          "BUSINESS/Free/Teen/Business",
          "FAMILY/Paid/Everyone 10+/Adventure;Action & Adventure",
          "FAMILY/Paid/Everyone/Adventure;Brain Games",
          "FAMILY/Free/Everyone/Adventure;Education",
          "GAME/Free/Everyone/Arcade",
          "GAME/Paid/Everyone/Arcade",
          "GAME/Free/Everyone 10+/Arcade",
          "GAME/Paid/Everyone 10+/Arcade",
          "GAME/Free/Everyone 10+/Adventure;Action & Adventure",
          "GAME/Free/Mature 17+/Arcade",
          "GAME/Paid/Teen/Arcade",
          "FAMILY/Free/Everyone/Arcade;Action & Adventure",
          "FAMILY/Paid/Everyone/Arcade;Action & Adventure",
          "FAMILY/Free/Everyone 10+/Arcade;Action & Adventure",
          "FAMILY/Paid/Everyone 10+/Arcade;Action & Adventure",
          "FAMILY/Free/Everyone/Arcade;Pretend Play",
          "ART_AND_DESIGN/Free/Everyone/Art & Design",
          "GAME/Free/Teen/Arcade",
          "FAMILY/Free/Everyone 10+/Adventure;Action & Adventure",
          "FAMILY/Free/Everyone/Adventure;Action & Adventure",
          "GAME/Paid/Teen/Adventure",
          "GAME/Paid/Everyone/Action",
          "GAME/Free/Everyone 10+/Action",
          "GAME/Paid/Everyone 10+/Action",
          "GAME/Free/Mature 17+/Action",
          "GAME/Paid/Mature 17+/Action",
          "GAME/Free/Teen/Action",
          "GAME/Paid/Teen/Action",
          "FAMILY/Free/Everyone/Action;Action & Adventure",
          "GAME/Free/Everyone/Action;Action & Adventure",
          "FAMILY/Free/Everyone 10+/Action;Action & Adventure",
          "FAMILY/Paid/Everyone 10+/Action;Action & Adventure",
          "GAME/Free/Everyone/Adventure",
          "GAME/Paid/Everyone/Adventure",
          "GAME/Free/Everyone 10+/Adventure",
          "GAME/Free/Mature 17+/Adventure",
          "GAME/Paid/Mature 17+/Adventure",
          "GAME/Free/Teen/Adventure",
          "ART_AND_DESIGN/Paid/Everyone/Art & Design",
          "FAMILY/Paid/Everyone/Education;Pretend Play",
          "ART_AND_DESIGN/Free/Everyone 10+/Art & Design",
          "ART_AND_DESIGN/Free/Everyone/Art & Design;Action & Adventure",
          "FAMILY/Free/Everyone/Board;Brain Games",
          "FAMILY/Paid/Everyone/Board;Brain Games",
          "FAMILY/Paid/Everyone/Board;Pretend Play",
          "BOOKS_AND_REFERENCE/Free/Everyone/Books & Reference",
          "BOOKS_AND_REFERENCE/Paid/Everyone/Books & Reference",
          "BOOKS_AND_REFERENCE/Free/Everyone 10+/Books & Reference",
          "BOOKS_AND_REFERENCE/Free/Mature 17+/Books & Reference",
          "FAMILY/Paid/Everyone/Board;Action & Adventure",
          "BOOKS_AND_REFERENCE/Free/Teen/Books & Reference",
          "FAMILY/Paid/Everyone/Books & Reference;Creativity",
          "FAMILY/Free/Everyone/Books & Reference;Education",
          "FAMILY/Paid/Everyone/Books & Reference;Education",
          "BUSINESS/Free/Everyone/Business",
          "BUSINESS/Paid/Everyone/Business",
          "BUSINESS/Free/Everyone 10+/Business",
          "BUSINESS/Free/Mature 17+/Business",
          "BOOKS_AND_REFERENCE/Paid/Teen/Books & Reference",
          "FAMILY/Free/Everyone/Board;Action & Adventure",
          "GAME/Paid/Teen/Board",
          "GAME/Free/Teen/Board",
          "FAMILY/Free/Everyone/Art & Design;Action & Adventure",
          "ART_AND_DESIGN/Free/Everyone/Art & Design;Creativity",
          "FAMILY/Free/Everyone/Art & Design;Creativity",
          "ART_AND_DESIGN/Free/Everyone/Art & Design;Pretend Play",
          "FAMILY/Free/Everyone/Art & Design;Pretend Play",
          "AUTO_AND_VEHICLES/Free/Everyone/Auto & Vehicles",
          "AUTO_AND_VEHICLES/Paid/Everyone/Auto & Vehicles",
          "AUTO_AND_VEHICLES/Free/Everyone 10+/Auto & Vehicles",
          "AUTO_AND_VEHICLES/Free/Teen/Auto & Vehicles",
          "BEAUTY/Free/Everyone/Beauty",
          "BEAUTY/Free/Everyone 10+/Beauty",
          "BEAUTY/Free/Mature 17+/Beauty",
          "BEAUTY/Free/Teen/Beauty",
          "GAME/Free/Everyone/Board",
          "GAME/Paid/Everyone/Board",
          "GAME/Free/Everyone 10+/Board",
          "GAME/Paid/Everyone 10+/Board",
          "ART_AND_DESIGN/Free/Teen/Art & Design",
          "FAMILY/Free/Everyone/Educational",
          "WEATHER",
          "FAMILY/Free/Everyone 10+/Educational",
          "PARENTING/Free/Everyone/Parenting;Music & Video",
          "PERSONALIZATION/Free/Everyone/Personalization",
          "PERSONALIZATION/Paid/Everyone/Personalization",
          "PERSONALIZATION/Free/Everyone 10+/Personalization",
          "PERSONALIZATION/Free/Mature 17+/Personalization",
          "PERSONALIZATION/Free/Teen/Personalization",
          "PHOTOGRAPHY/Free/Everyone/Photography",
          "PARENTING/Free/Everyone/Parenting;Education",
          "PHOTOGRAPHY/Paid/Everyone/Photography",
          "PHOTOGRAPHY/Free/Teen/Photography",
          "PRODUCTIVITY/Free/Everyone/Productivity",
          "PRODUCTIVITY/Paid/Everyone/Productivity",
          "PRODUCTIVITY/Free/Everyone 10+/Productivity",
          "PRODUCTIVITY/Paid/Mature 17+/Productivity",
          "PRODUCTIVITY/Free/Teen/Productivity",
          "FAMILY/Free/Everyone/Puzzle",
          "PHOTOGRAPHY/Free/Mature 17+/Photography",
          "GAME/Free/Everyone/Puzzle",
          "PARENTING/Free/Everyone/Parenting;Brain Games",
          "PARENTING/Free/Mature 17+/Parenting",
          "MEDICAL/Free/Teen/Medical",
          "MEDICAL/Paid/Teen/Medical",
          "GAME/Free/Everyone/Music",
          "GAME/Paid/Everyone 10+/Music",
          "GAME/Free/Mature 17+/Music",
          "GAME/Free/Teen/Music",
          "FAMILY/Paid/Everyone/Educational",
          "PARENTING/Free/Teen/Parenting",
          "FAMILY/Paid/Everyone/Music;Music & Video",
          "NEWS_AND_MAGAZINES/Paid/Everyone/News & Magazines",
          "NEWS_AND_MAGAZINES/Free/Everyone 10+/News & Magazines",
          "NEWS_AND_MAGAZINES/Free/Mature 17+/News & Magazines",
          "NEWS_AND_MAGAZINES/Paid/Mature 17+/News & Magazines",
          "NEWS_AND_MAGAZINES/Free/Teen/News & Magazines",
          "PARENTING/Free/Everyone/Parenting",
          "PARENTING/Paid/Everyone/Parenting",
          "NEWS_AND_MAGAZINES/Free/Everyone/News & Magazines",
          "FAMILY/Paid/Everyone/Puzzle",
          "GAME/Paid/Everyone/Puzzle",
          "FAMILY/Free/Everyone 10+/Puzzle",
          "FAMILY/Free/Everyone 10+/Role Playing",
          "GAME/Free/Everyone 10+/Role Playing",
          "FAMILY/Paid/Everyone 10+/Role Playing",
          "GAME/Free/Mature 17+/Role Playing",
          "FAMILY/Free/Teen/Role Playing",
          "GAME/Free/Teen/Role Playing",
          "FAMILY/Paid/Teen/Role Playing",
          "FAMILY/Paid/Everyone/Role Playing",
          "GAME/Paid/Teen/Role Playing",
          "FAMILY/Paid/Everyone/Role Playing;Action & Adventure",
          "FAMILY/Free/Everyone 10+/Role Playing;Action & Adventure",
          "FAMILY/Free/Everyone/Role Playing;Brain Games",
          "FAMILY/Paid/Everyone/Role Playing;Education",
          "FAMILY/Free/Everyone/Role Playing;Pretend Play",
          "SHOPPING/Free/Everyone/Shopping",
          "SHOPPING/Paid/Everyone/Shopping",
          "FAMILY/Free/Everyone/Role Playing;Action & Adventure",
          "GAME/Free/Everyone/Role Playing",
          "FAMILY/Free/Everyone/Role Playing",
          "FAMILY/Free/Everyone/Racing;Pretend Play",
          "FAMILY/Paid/Everyone 10+/Puzzle",
          "FAMILY/Free/Teen/Puzzle",
          "GAME/Free/Teen/Puzzle",
          "FAMILY/Paid/Teen/Puzzle",
          "FAMILY/Free/Everyone/Puzzle;Action & Adventure",
          "FAMILY/Free/Everyone/Puzzle;Brain Games",
          "FAMILY/Paid/Everyone/Puzzle;Brain Games",
          "FAMILY/Free/Everyone/Puzzle;Creativity",
          "FAMILY/Free/Everyone/Puzzle;Education",
          "GAME/Free/Everyone/Racing",
          "GAME/Paid/Everyone/Racing",
          "GAME/Free/Everyone 10+/Racing",
          "GAME/Paid/Everyone 10+/Racing",
          "GAME/Free/Mature 17+/Racing",
          "GAME/Free/Teen/Racing",
          "FAMILY/Free/Everyone/Racing;Action & Adventure",
          "FAMILY/Paid/Everyone/Racing;Action & Adventure",
          "MEDICAL/Paid/Mature 17+/Medical",
          "MEDICAL/Free/Mature 17+/Medical",
          "FAMILY/Free/Everyone/Music;Music & Video",
          "FAMILY/Free/Everyone/Entertainment;Music & Video",
          "FAMILY/Free/Everyone/Entertainment;Creativity",
          "FAMILY/Free/Everyone/Entertainment;Education",
          "ENTERTAINMENT/Free/Everyone/Entertainment;Music & Video",
          "MEDICAL/Paid/Everyone 10+/Medical",
          "ENTERTAINMENT/Free/Everyone 10+/Entertainment;Music & Video",
          "FAMILY/Free/Everyone 10+/Entertainment;Music & Video",
          "FAMILY/Free/Everyone/Entertainment;Pretend Play",
          "EVENTS/Free/Everyone/Events",
          "EVENTS/Paid/Everyone/Events",
          "EVENTS/Free/Everyone 10+/Events",
          "EVENTS/Free/Teen/Events",
          "FAMILY/Paid/Everyone/Educational;Creativity",
          "FINANCE/Free/Everyone/Finance",
          "FINANCE/Paid/Everyone/Finance",
          "FAMILY/Free/Everyone/Entertainment",
          "ENTERTAINMENT/Free/Everyone/Entertainment;Creativity",
          "FAMILY/Free/Everyone/Entertainment;Brain Games",
          "ENTERTAINMENT/Free/Everyone/Entertainment;Brain Games",
          "FAMILY/Free/Everyone/Entertainment;Action & Adventure",
          "FAMILY/Paid/Everyone/Entertainment",
          "ENTERTAINMENT/Free/Everyone/Entertainment",
          "FAMILY/Free/Everyone 10+/Entertainment",
          "ENTERTAINMENT/Free/Mature 17+/Entertainment",
          "FAMILY/Free/Mature 17+/Entertainment",
          "FAMILY/Paid/Everyone/Educational;Pretend Play",
          "ENTERTAINMENT/Paid/Mature 17+/Entertainment",
          "FINANCE/Paid/Teen/Finance",
          "FAMILY/Paid/Mature 17+/Entertainment",
          "FAMILY/Free/Everyone/Educational;Pretend Play",
          "FAMILY/Free/Everyone 10+/Educational;Education",
          "FAMILY/Paid/Everyone/Educational;Education",
          "FAMILY/Free/Everyone/Educational;Education",
          "FAMILY/Free/Teen/Entertainment",
          "FAMILY/Paid/Teen/Entertainment",
          "FAMILY/Free/Unrated/Entertainment",
          "ENTERTAINMENT/Free/Teen/Entertainment",
          "FOOD_AND_DRINK/Free/Everyone/Food & Drink",
          "FINANCE/Free/Teen/Finance",
          "FOOD_AND_DRINK/Free/Everyone 10+/Food & Drink",
          "FOOD_AND_DRINK/Paid/Everyone/Food & Drink",
          "LIFESTYLE/Free/Teen/Lifestyle",
          "LIFESTYLE/Paid/Teen/Lifestyle",
          "FAMILY/Free/Everyone/Lifestyle;Education",
          "LIFESTYLE/Free/Everyone/Lifestyle;Pretend Play",
          "FAMILY/Free/Teen/Educational",
          "LIFESTYLE/Free/Mature 17+/Lifestyle",
          "MAPS_AND_NAVIGATION/Free/Everyone/Maps & Navigation",
          "MAPS_AND_NAVIGATION/Free/Everyone 10+/Maps & Navigation",
          "MAPS_AND_NAVIGATION/Free/Mature 17+/Maps & Navigation",
          "MAPS_AND_NAVIGATION/Free/Teen/Maps & Navigation",
          "MEDICAL/Free/Everyone/Medical",
          "MEDICAL/Paid/Everyone/Medical",
          "MEDICAL/Free/Everyone 10+/Medical",
          "MAPS_AND_NAVIGATION/Paid/Everyone/Maps & Navigation",
          "LIFESTYLE/Free/Everyone 10+/Lifestyle",
          "LIFESTYLE/Paid/Mature 17+/Lifestyle",
          "LIFESTYLE/Paid/Everyone/Lifestyle",
          "FOOD_AND_DRINK/Free/Teen/Food & Drink",
          "HEALTH_AND_FITNESS/Free/Everyone/Health & Fitness",
          "FAMILY/Free/Everyone/Educational;Creativity",
          "HEALTH_AND_FITNESS/Paid/Everyone/Health & Fitness",
          "HEALTH_AND_FITNESS/Free/Everyone 10+/Health & Fitness",
          "HEALTH_AND_FITNESS/Free/Mature 17+/Health & Fitness",
          "HEALTH_AND_FITNESS/Free/Teen/Health & Fitness",
          "FAMILY/Free/Everyone/Educational;Action & Adventure",
          "FAMILY/Free/Everyone/Health & Fitness;Education",
          "FAMILY/Free/Everyone/Health & Fitness;Action & Adventure",
          "HOUSE_AND_HOME/Free/Teen/House & Home",
          "FAMILY/Free/Everyone/Educational;Brain Games",
          "LIBRARIES_AND_DEMO/Free/Everyone/Libraries & Demo",
          "LIBRARIES_AND_DEMO/Paid/Everyone/Libraries & Demo",
          "LIFESTYLE/Free/Everyone/Lifestyle",
          "HOUSE_AND_HOME/Free/Everyone/House & Home",
          "ENTERTAINMENT/Paid/Everyone/Entertainment",
          "TRAVEL_AND_LOCAL",
          "MEDICAL",
          "LIBRARIES_AND_DEMO",
          "PERSONALIZATION",
          "FOOD_AND_DRINK/Free/Everyone 10+",
          "GAME",
          "FOOD_AND_DRINK",
          "GAME/Free/Teen/Word",
          "ENTERTAINMENT",
          "AUTO_AND_VEHICLES/Free",
          "FAMILY/Free/Everyone/Music & Audio;Music & Video",
          "EDUCATION/Free",
          "LIFESTYLE/Free/Teen",
          "TRAVEL_AND_LOCAL/Free/Everyone/Travel & Local;Action & Adventure",
          "BUSINESS/Free/Teen",
          "BOOKS_AND_REFERENCE/Paid/Everyone",
          "PHOTOGRAPHY/Paid",
          "EVENTS",
          "PRODUCTIVITY/Paid",
          "SOCIAL/Paid",
          "SPORTS/Paid",
          "TOOLS/Paid",
          "FAMILY/Free/Mature 17+",
          "SOCIAL/Paid/Everyone/Social",
          "COMICS",
          "DATING",
          "EDUCATION",
          "SHOPPING/Paid",
          "EDUCATION/Free/Everyone/Education;Education"
         ],
         "labels": [
          "Action",
          "Everyone",
          "Everyone",
          "Everyone",
          "Everyone",
          "Everyone",
          "Everyone",
          "Everyone",
          "Everyone",
          "Everyone",
          "Everyone",
          "Everyone",
          "Everyone",
          "Everyone",
          "Everyone",
          "Everyone",
          "Everyone",
          "Everyone",
          "Everyone",
          "Everyone",
          "Everyone",
          "Adults only 18+",
          "Everyone",
          "Everyone",
          "Everyone",
          "Everyone",
          "Everyone",
          "Everyone",
          "Everyone",
          "Everyone",
          "Everyone",
          "Everyone",
          "Everyone",
          "Everyone",
          "Everyone",
          "Everyone",
          "Everyone",
          "Everyone",
          "Adults only 18+",
          "Everyone",
          "Everyone",
          "Everyone",
          "Everyone",
          "Everyone",
          "Everyone 10+",
          "Everyone 10+",
          "Everyone 10+",
          "Everyone 10+",
          "Everyone",
          "Everyone 10+",
          "Everyone 10+",
          "Everyone 10+",
          "Everyone 10+",
          "Everyone 10+",
          "Everyone 10+",
          "Everyone 10+",
          "Everyone 10+",
          "Everyone 10+",
          "Everyone",
          "Everyone",
          "Everyone",
          "Everyone",
          "Everyone",
          "Everyone",
          "Everyone",
          "Everyone",
          "Everyone",
          "Everyone",
          "Everyone",
          "Everyone",
          "Everyone",
          "Everyone",
          "Everyone",
          "Everyone",
          "Everyone",
          "Everyone",
          "Everyone",
          "Everyone",
          "Everyone 10+",
          "Word",
          "Word",
          "Social",
          "Sports",
          "Sports",
          "Sports",
          "Sports",
          "Sports",
          "Sports",
          "Social",
          "Sports",
          "Sports;Action & Adventure",
          "Sports;Action & Adventure",
          "Strategy",
          "Strategy",
          "Strategy",
          "Strategy",
          "Strategy",
          "Sports",
          "Strategy",
          "Social",
          "Social",
          "Simulation",
          "Simulation",
          "Simulation",
          "Simulation",
          "Simulation",
          "Simulation",
          "Simulation",
          "Social",
          "Simulation",
          "Simulation;Action & Adventure",
          "Simulation;Education",
          "VIDEO_PLAYERS",
          "Simulation;Education",
          "Simulation;Pretend Play",
          "Simulation;Pretend Play",
          "Simulation;Pretend Play",
          "Simulation;Action & Adventure",
          "Word",
          "Strategy",
          "Strategy",
          "Trivia;Education",
          "Video Players & Editors",
          "Video Players & Editors",
          "Video Players & Editors",
          "Video Players & Editors",
          "Video Players & Editors",
          "Video Players & Editors;Creativity",
          "Trivia",
          "Video Players & Editors;Creativity",
          "Video Players & Editors;Music & Video",
          "Video Players & Editors;Music & Video",
          "Weather",
          "Weather",
          "Weather",
          "Weather",
          "Weather",
          "Video Players & Editors;Music & Video",
          "Strategy",
          "Trivia",
          "Travel & Local",
          "Strategy",
          "Strategy",
          "Strategy",
          "Strategy;Action & Adventure",
          "Strategy;Action & Adventure",
          "Strategy;Creativity",
          "Strategy;Education",
          "Travel & Local",
          "Tools",
          "Tools",
          "Tools",
          "Tools",
          "Tools",
          "Tools;Education",
          "Travel & Local",
          "Travel & Local",
          "Tools",
          "Everyone 10+",
          "Everyone 10+",
          "Everyone 10+",
          "Free",
          "Free",
          "Free",
          "Free",
          "Free",
          "Free",
          "Free",
          "Free",
          "Free",
          "Free",
          "Free",
          "Free",
          "Paid",
          "Paid",
          "Paid",
          "Paid",
          "Free",
          "Paid",
          "Free",
          "Free",
          "Unrated",
          "Free",
          "Free",
          "Free",
          "Free",
          "Free",
          "Free",
          "Free",
          "Free",
          "Free",
          "Free",
          "Free",
          "Free",
          "Free",
          "Free",
          "Free",
          "Free",
          "Unrated",
          "Paid",
          "Paid",
          "BUSINESS",
          "COMMUNICATION",
          "FAMILY",
          "FINANCE",
          "HEALTH_AND_FITNESS",
          "HOUSE_AND_HOME",
          "LIFESTYLE",
          "BOOKS_AND_REFERENCE",
          "MAPS_AND_NAVIGATION",
          "PARENTING",
          "PHOTOGRAPHY",
          "PRODUCTIVITY",
          "SHOPPING",
          "SOCIAL",
          "SPORTS",
          "TOOLS",
          "NEWS_AND_MAGAZINES",
          "Paid",
          "BEAUTY",
          "ART_AND_DESIGN",
          "Paid",
          "Paid",
          "Paid",
          "Paid",
          "Paid",
          "Paid",
          "Paid",
          "AUTO_AND_VEHICLES",
          "Paid",
          "Paid",
          "Paid",
          "Paid",
          "Paid",
          "Paid",
          "Paid",
          "Paid",
          "Paid",
          "Teen",
          "Teen",
          "Teen",
          "Mature 17+",
          "Mature 17+",
          "Mature 17+",
          "Mature 17+",
          "Mature 17+",
          "Mature 17+",
          "Mature 17+",
          "Mature 17+",
          "Mature 17+",
          "Mature 17+",
          "Mature 17+",
          "Mature 17+",
          "Mature 17+",
          "Mature 17+",
          "Mature 17+",
          "Mature 17+",
          "Mature 17+",
          "Mature 17+",
          "Mature 17+",
          "Mature 17+",
          "Everyone 10+",
          "Everyone 10+",
          "Everyone 10+",
          "Everyone 10+",
          "Everyone 10+",
          "Everyone 10+",
          "Everyone 10+",
          "Mature 17+",
          "Everyone 10+",
          "Mature 17+",
          "Mature 17+",
          "Mature 17+",
          "Mature 17+",
          "Mature 17+",
          "Mature 17+",
          "Mature 17+",
          "Mature 17+",
          "Mature 17+",
          "Mature 17+",
          "Mature 17+",
          "Teen",
          "Teen",
          "Teen",
          "Teen",
          "Teen",
          "Teen",
          "Teen",
          "Teen",
          "Teen",
          "Teen",
          "Teen",
          "Teen",
          "Teen",
          "Teen",
          "Teen",
          "Teen",
          "Teen",
          "Teen",
          "Teen",
          "Teen",
          "Mature 17+",
          "Mature 17+",
          "Teen",
          "Teen",
          "Teen",
          "Teen",
          "Teen",
          "Teen",
          "Teen",
          "Teen",
          "Teen",
          "Teen",
          "Teen",
          "Teen",
          "Teen",
          "Teen",
          "Teen",
          "Simulation",
          "Simulation",
          "Simulation;Education",
          "Shopping",
          "Casual;Brain Games",
          "Casual;Brain Games",
          "Casual;Creativity",
          "Casual;Creativity",
          "Casual;Education",
          "Casual;Education",
          "Casual;Music & Video",
          "Casual;Action & Adventure",
          "Casual;Pretend Play",
          "Casual;Pretend Play",
          "Comics",
          "Comics",
          "Comics",
          "Comics",
          "Comics",
          "Comics;Creativity",
          "Casual;Pretend Play",
          "Communication",
          "Casual;Action & Adventure",
          "Casual;Action & Adventure",
          "Card",
          "Card",
          "Card;Action & Adventure",
          "Card;Action & Adventure",
          "Card;Brain Games",
          "Casino",
          "Casino",
          "Casual;Action & Adventure",
          "Casino",
          "Casual",
          "Casual",
          "Casual",
          "Casual",
          "Casual",
          "Casual",
          "Casual",
          "Casual",
          "Communication",
          "Communication",
          "Communication",
          "Education;Action & Adventure",
          "Education;Brain Games",
          "Education;Brain Games",
          "Education;Brain Games",
          "Education;Creativity",
          "Education;Creativity",
          "Education;Creativity",
          "Education;Action & Adventure",
          "Shopping",
          "Education;Education",
          "Education;Education",
          "Education;Music & Video",
          "Education;Music & Video",
          "Education;Pretend Play",
          "Education;Pretend Play",
          "Education;Pretend Play",
          "Education;Education",
          "Education;Action & Adventure",
          "Education",
          "Education",
          "Communication",
          "Communication;Creativity",
          "Dating",
          "Dating",
          "Dating",
          "Dating",
          "Dating",
          "Dating",
          "Education",
          "Education",
          "Education",
          "Education",
          "Education",
          "Education",
          "Education",
          "Education",
          "Education",
          "Card",
          "Card",
          "Card",
          "Business",
          "Adventure;Action & Adventure",
          "Adventure;Brain Games",
          "Adventure;Education",
          "Arcade",
          "Arcade",
          "Arcade",
          "Arcade",
          "Adventure;Action & Adventure",
          "Arcade",
          "Arcade",
          "Arcade;Action & Adventure",
          "Arcade;Action & Adventure",
          "Arcade;Action & Adventure",
          "Arcade;Action & Adventure",
          "Arcade;Pretend Play",
          "Art & Design",
          "Arcade",
          "Adventure;Action & Adventure",
          "Adventure;Action & Adventure",
          "Adventure",
          "Action",
          "Action",
          "Action",
          "Action",
          "Action",
          "Action",
          "Action",
          "Action;Action & Adventure",
          "Action;Action & Adventure",
          "Action;Action & Adventure",
          "Action;Action & Adventure",
          "Adventure",
          "Adventure",
          "Adventure",
          "Adventure",
          "Adventure",
          "Adventure",
          "Art & Design",
          "Education;Pretend Play",
          "Art & Design",
          "Art & Design;Action & Adventure",
          "Board;Brain Games",
          "Board;Brain Games",
          "Board;Pretend Play",
          "Books & Reference",
          "Books & Reference",
          "Books & Reference",
          "Books & Reference",
          "Board;Action & Adventure",
          "Books & Reference",
          "Books & Reference;Creativity",
          "Books & Reference;Education",
          "Books & Reference;Education",
          "Business",
          "Business",
          "Business",
          "Business",
          "Books & Reference",
          "Board;Action & Adventure",
          "Board",
          "Board",
          "Art & Design;Action & Adventure",
          "Art & Design;Creativity",
          "Art & Design;Creativity",
          "Art & Design;Pretend Play",
          "Art & Design;Pretend Play",
          "Auto & Vehicles",
          "Auto & Vehicles",
          "Auto & Vehicles",
          "Auto & Vehicles",
          "Beauty",
          "Beauty",
          "Beauty",
          "Beauty",
          "Board",
          "Board",
          "Board",
          "Board",
          "Art & Design",
          "Educational",
          "WEATHER",
          "Educational",
          "Parenting;Music & Video",
          "Personalization",
          "Personalization",
          "Personalization",
          "Personalization",
          "Personalization",
          "Photography",
          "Parenting;Education",
          "Photography",
          "Photography",
          "Productivity",
          "Productivity",
          "Productivity",
          "Productivity",
          "Productivity",
          "Puzzle",
          "Photography",
          "Puzzle",
          "Parenting;Brain Games",
          "Parenting",
          "Medical",
          "Medical",
          "Music",
          "Music",
          "Music",
          "Music",
          "Educational",
          "Parenting",
          "Music;Music & Video",
          "News & Magazines",
          "News & Magazines",
          "News & Magazines",
          "News & Magazines",
          "News & Magazines",
          "Parenting",
          "Parenting",
          "News & Magazines",
          "Puzzle",
          "Puzzle",
          "Puzzle",
          "Role Playing",
          "Role Playing",
          "Role Playing",
          "Role Playing",
          "Role Playing",
          "Role Playing",
          "Role Playing",
          "Role Playing",
          "Role Playing",
          "Role Playing;Action & Adventure",
          "Role Playing;Action & Adventure",
          "Role Playing;Brain Games",
          "Role Playing;Education",
          "Role Playing;Pretend Play",
          "Shopping",
          "Shopping",
          "Role Playing;Action & Adventure",
          "Role Playing",
          "Role Playing",
          "Racing;Pretend Play",
          "Puzzle",
          "Puzzle",
          "Puzzle",
          "Puzzle",
          "Puzzle;Action & Adventure",
          "Puzzle;Brain Games",
          "Puzzle;Brain Games",
          "Puzzle;Creativity",
          "Puzzle;Education",
          "Racing",
          "Racing",
          "Racing",
          "Racing",
          "Racing",
          "Racing",
          "Racing;Action & Adventure",
          "Racing;Action & Adventure",
          "Medical",
          "Medical",
          "Music;Music & Video",
          "Entertainment;Music & Video",
          "Entertainment;Creativity",
          "Entertainment;Education",
          "Entertainment;Music & Video",
          "Medical",
          "Entertainment;Music & Video",
          "Entertainment;Music & Video",
          "Entertainment;Pretend Play",
          "Events",
          "Events",
          "Events",
          "Events",
          "Educational;Creativity",
          "Finance",
          "Finance",
          "Entertainment",
          "Entertainment;Creativity",
          "Entertainment;Brain Games",
          "Entertainment;Brain Games",
          "Entertainment;Action & Adventure",
          "Entertainment",
          "Entertainment",
          "Entertainment",
          "Entertainment",
          "Entertainment",
          "Educational;Pretend Play",
          "Entertainment",
          "Finance",
          "Entertainment",
          "Educational;Pretend Play",
          "Educational;Education",
          "Educational;Education",
          "Educational;Education",
          "Entertainment",
          "Entertainment",
          "Entertainment",
          "Entertainment",
          "Food & Drink",
          "Finance",
          "Food & Drink",
          "Food & Drink",
          "Lifestyle",
          "Lifestyle",
          "Lifestyle;Education",
          "Lifestyle;Pretend Play",
          "Educational",
          "Lifestyle",
          "Maps & Navigation",
          "Maps & Navigation",
          "Maps & Navigation",
          "Maps & Navigation",
          "Medical",
          "Medical",
          "Medical",
          "Maps & Navigation",
          "Lifestyle",
          "Lifestyle",
          "Lifestyle",
          "Food & Drink",
          "Health & Fitness",
          "Educational;Creativity",
          "Health & Fitness",
          "Health & Fitness",
          "Health & Fitness",
          "Health & Fitness",
          "Educational;Action & Adventure",
          "Health & Fitness;Education",
          "Health & Fitness;Action & Adventure",
          "House & Home",
          "Educational;Brain Games",
          "Libraries & Demo",
          "Libraries & Demo",
          "Lifestyle",
          "House & Home",
          "Entertainment",
          "TRAVEL_AND_LOCAL",
          "MEDICAL",
          "LIBRARIES_AND_DEMO",
          "PERSONALIZATION",
          "Everyone 10+",
          "GAME",
          "FOOD_AND_DRINK",
          "Word",
          "ENTERTAINMENT",
          "Free",
          "Music & Audio;Music & Video",
          "Free",
          "Teen",
          "Travel & Local;Action & Adventure",
          "Teen",
          "Everyone",
          "Paid",
          "EVENTS",
          "Paid",
          "Paid",
          "Paid",
          "Paid",
          "Mature 17+",
          "Social",
          "COMICS",
          "DATING",
          "EDUCATION",
          "Paid",
          "Education;Education"
         ],
         "marker": {
          "colors": [
           "#636efa",
           "#636efa",
           "#636efa",
           "#636efa",
           "#636efa",
           "#636efa",
           "#636efa",
           "#636efa",
           "#636efa",
           "#636efa",
           "#636efa",
           "#636efa",
           "#636efa",
           "#636efa",
           "#636efa",
           "#EF553B",
           "#EF553B",
           "#636efa",
           "#EF553B",
           "#636efa",
           "#636efa",
           "#636efa",
           "#636efa",
           "#636efa",
           "#636efa",
           "#636efa",
           "#636efa",
           "#636efa",
           "#636efa",
           "#636efa",
           "#636efa",
           "#636efa",
           "#636efa",
           "#636efa",
           "#636efa",
           "#636efa",
           "#636efa",
           "#636efa",
           "#636efa",
           "#EF553B",
           "#EF553B",
           "#EF553B",
           "#EF553B",
           "#EF553B",
           "#636efa",
           "#636efa",
           "#636efa",
           "#636efa",
           "#EF553B",
           "#636efa",
           "#636efa",
           "#636efa",
           "#636efa",
           "#636efa",
           "#636efa",
           "#636efa",
           "#636efa",
           "#636efa",
           "#EF553B",
           "#EF553B",
           "#EF553B",
           "#EF553B",
           "#EF553B",
           "#EF553B",
           "#EF553B",
           "#EF553B",
           "#EF553B",
           "#EF553B",
           "#EF553B",
           "#EF553B",
           "#EF553B",
           "#EF553B",
           "#EF553B",
           "#EF553B",
           "#EF553B",
           "#EF553B",
           "#EF553B",
           "#EF553B",
           "#636efa",
           "#636efa",
           "#636efa",
           "#EF553B",
           "#636efa",
           "#636efa",
           "#636efa",
           "#EF553B",
           "#636efa",
           "#636efa",
           "#636efa",
           "#636efa",
           "#636efa",
           "#EF553B",
           "#636efa",
           "#EF553B",
           "#636efa",
           "#636efa",
           "#EF553B",
           "#636efa",
           "#636efa",
           "#636efa",
           "#636efa",
           "#EF553B",
           "#EF553B",
           "#636efa",
           "#636efa",
           "#EF553B",
           "#636efa",
           "#636efa",
           "#636efa",
           "#636efa",
           "#636efa",
           "#636efa",
           "#00cc96",
           "#EF553B",
           "#636efa",
           "#EF553B",
           "#636efa",
           "#636efa",
           "#636efa",
           "#636efa",
           "#636efa",
           "#636efa",
           "#636efa",
           "#EF553B",
           "#636efa",
           "#636efa",
           "#636efa",
           "#636efa",
           "#636efa",
           "#636efa",
           "#636efa",
           "#636efa",
           "#636efa",
           "#EF553B",
           "#636efa",
           "#636efa",
           "#636efa",
           "#636efa",
           "#EF553B",
           "#636efa",
           "#636efa",
           "#636efa",
           "#EF553B",
           "#EF553B",
           "#636efa",
           "#EF553B",
           "#636efa",
           "#636efa",
           "#636efa",
           "#636efa",
           "#636efa",
           "#EF553B",
           "#636efa",
           "#636efa",
           "#636efa",
           "#636efa",
           "#EF553B",
           "#EF553B",
           "#636efa",
           "#636efa",
           "#636efa",
           "#636efa",
           "#636efa",
           "#636efa",
           "#636efa",
           "#636efa",
           "#636efa",
           "#636efa",
           "#636efa",
           "#636efa",
           "#636efa",
           "#636efa",
           "#636efa",
           "#EF553B",
           "#EF553B",
           "#EF553B",
           "#EF553B",
           "#636efa",
           "#EF553B",
           "#636efa",
           "#636efa",
           "#636efa",
           "#636efa",
           "#636efa",
           "#636efa",
           "#636efa",
           "#636efa",
           "#636efa",
           "#636efa",
           "#636efa",
           "#636efa",
           "#636efa",
           "#636efa",
           "#636efa",
           "#636efa",
           "#636efa",
           "#636efa",
           "#636efa",
           "#636efa",
           "#EF553B",
           "#EF553B",
           "#00cc96",
           "#00cc96",
           "#00cc96",
           "#00cc96",
           "#00cc96",
           "#636efa",
           "#00cc96",
           "#00cc96",
           "#00cc96",
           "#00cc96",
           "#00cc96",
           "#00cc96",
           "#00cc96",
           "#00cc96",
           "#00cc96",
           "#00cc96",
           "#00cc96",
           "#EF553B",
           "#636efa",
           "#00cc96",
           "#EF553B",
           "#EF553B",
           "#EF553B",
           "#EF553B",
           "#EF553B",
           "#EF553B",
           "#EF553B",
           "#00cc96",
           "#EF553B",
           "#EF553B",
           "#EF553B",
           "#EF553B",
           "#EF553B",
           "#EF553B",
           "#EF553B",
           "#EF553B",
           "#EF553B",
           "#EF553B",
           "#EF553B",
           "#EF553B",
           "#636efa",
           "#636efa",
           "#636efa",
           "#636efa",
           "#636efa",
           "#636efa",
           "#636efa",
           "#636efa",
           "#636efa",
           "#636efa",
           "#636efa",
           "#636efa",
           "#EF553B",
           "#EF553B",
           "#EF553B",
           "#EF553B",
           "#636efa",
           "#EF553B",
           "#636efa",
           "#636efa",
           "#636efa",
           "#636efa",
           "#636efa",
           "#636efa",
           "#636efa",
           "#EF553B",
           "#EF553B",
           "#636efa",
           "#EF553B",
           "#636efa",
           "#636efa",
           "#636efa",
           "#636efa",
           "#636efa",
           "#636efa",
           "#636efa",
           "#636efa",
           "#EF553B",
           "#EF553B",
           "#EF553B",
           "#636efa",
           "#636efa",
           "#636efa",
           "#636efa",
           "#636efa",
           "#636efa",
           "#636efa",
           "#636efa",
           "#636efa",
           "#636efa",
           "#636efa",
           "#EF553B",
           "#EF553B",
           "#EF553B",
           "#EF553B",
           "#EF553B",
           "#636efa",
           "#636efa",
           "#636efa",
           "#636efa",
           "#EF553B",
           "#EF553B",
           "#636efa",
           "#636efa",
           "#636efa",
           "#636efa",
           "#636efa",
           "#636efa",
           "#636efa",
           "#636efa",
           "#636efa",
           "#636efa",
           "#636efa",
           "#636efa",
           "#636efa",
           "#636efa",
           "#636efa",
           "#636efa",
           "#636efa",
           "#EF553B",
           "#636efa",
           "#636efa",
           "#636efa",
           "#636efa",
           "#636efa",
           "#636efa",
           "#EF553B",
           "#636efa",
           "#636efa",
           "#636efa",
           "#EF553B",
           "#636efa",
           "#636efa",
           "#636efa",
           "#636efa",
           "#636efa",
           "#636efa",
           "#636efa",
           "#636efa",
           "#636efa",
           "#636efa",
           "#636efa",
           "#EF553B",
           "#636efa",
           "#EF553B",
           "#636efa",
           "#636efa",
           "#636efa",
           "#EF553B",
           "#EF553B",
           "#636efa",
           "#EF553B",
           "#636efa",
           "#EF553B",
           "#636efa",
           "#636efa",
           "#EF553B",
           "#636efa",
           "#EF553B",
           "#636efa",
           "#EF553B",
           "#EF553B",
           "#636efa",
           "#636efa",
           "#EF553B",
           "#636efa",
           "#636efa",
           "#EF553B",
           "#636efa",
           "#636efa",
           "#EF553B",
           "#EF553B",
           "#636efa",
           "#636efa",
           "#636efa",
           "#636efa",
           "#EF553B",
           "#636efa",
           "#636efa",
           "#EF553B",
           "#636efa",
           "#636efa",
           "#636efa",
           "#636efa",
           "#EF553B",
           "#636efa",
           "#EF553B",
           "#636efa",
           "#EF553B",
           "#636efa",
           "#636efa",
           "#EF553B",
           "#636efa",
           "#636efa",
           "#636efa",
           "#636efa",
           "#EF553B",
           "#636efa",
           "#636efa",
           "#EF553B",
           "#636efa",
           "#636efa",
           "#EF553B",
           "#EF553B",
           "#636efa",
           "#636efa",
           "#EF553B",
           "#636efa",
           "#EF553B",
           "#636efa",
           "#636efa",
           "#EF553B",
           "#636efa",
           "#EF553B",
           "#636efa",
           "#EF553B",
           "#636efa",
           "#636efa",
           "#636efa",
           "#636efa",
           "#636efa",
           "#EF553B",
           "#EF553B",
           "#636efa",
           "#EF553B",
           "#636efa",
           "#EF553B",
           "#636efa",
           "#EF553B",
           "#636efa",
           "#636efa",
           "#636efa",
           "#EF553B",
           "#636efa",
           "#EF553B",
           "#636efa",
           "#636efa",
           "#EF553B",
           "#636efa",
           "#EF553B",
           "#EF553B",
           "#636efa",
           "#636efa",
           "#636efa",
           "#EF553B",
           "#EF553B",
           "#636efa",
           "#EF553B",
           "#636efa",
           "#636efa",
           "#EF553B",
           "#636efa",
           "#EF553B",
           "#636efa",
           "#EF553B",
           "#636efa",
           "#EF553B",
           "#636efa",
           "#636efa",
           "#EF553B",
           "#636efa",
           "#EF553B",
           "#636efa",
           "#636efa",
           "#636efa",
           "#636efa",
           "#636efa",
           "#636efa",
           "#636efa",
           "#EF553B",
           "#636efa",
           "#636efa",
           "#636efa",
           "#636efa",
           "#636efa",
           "#636efa",
           "#636efa",
           "#EF553B",
           "#636efa",
           "#EF553B",
           "#636efa",
           "#636efa",
           "#00cc96",
           "#636efa",
           "#636efa",
           "#636efa",
           "#EF553B",
           "#636efa",
           "#636efa",
           "#636efa",
           "#636efa",
           "#636efa",
           "#EF553B",
           "#636efa",
           "#636efa",
           "#EF553B",
           "#636efa",
           "#EF553B",
           "#636efa",
           "#636efa",
           "#636efa",
           "#636efa",
           "#636efa",
           "#636efa",
           "#636efa",
           "#EF553B",
           "#636efa",
           "#EF553B",
           "#636efa",
           "#636efa",
           "#EF553B",
           "#636efa",
           "#EF553B",
           "#EF553B",
           "#636efa",
           "#636efa",
           "#EF553B",
           "#636efa",
           "#636efa",
           "#EF553B",
           "#636efa",
           "#EF553B",
           "#EF553B",
           "#636efa",
           "#636efa",
           "#636efa",
           "#EF553B",
           "#636efa",
           "#636efa",
           "#636efa",
           "#EF553B",
           "#EF553B",
           "#EF553B",
           "#EF553B",
           "#636efa",
           "#636efa",
           "#EF553B",
           "#636efa",
           "#636efa",
           "#EF553B",
           "#636efa",
           "#636efa",
           "#636efa",
           "#636efa",
           "#EF553B",
           "#636efa",
           "#636efa",
           "#EF553B",
           "#636efa",
           "#636efa",
           "#EF553B",
           "#636efa",
           "#636efa",
           "#636efa",
           "#EF553B",
           "#636efa",
           "#EF553B",
           "#636efa",
           "#636efa",
           "#636efa",
           "#EF553B",
           "#EF553B",
           "#636efa",
           "#636efa",
           "#636efa",
           "#636efa",
           "#636efa",
           "#636efa",
           "#EF553B",
           "#636efa",
           "#636efa",
           "#636efa",
           "#636efa",
           "#EF553B",
           "#636efa",
           "#636efa",
           "#EF553B",
           "#636efa",
           "#EF553B",
           "#636efa",
           "#636efa",
           "#636efa",
           "#636efa",
           "#636efa",
           "#EF553B",
           "#636efa",
           "#636efa",
           "#636efa",
           "#636efa",
           "#EF553B",
           "#EF553B",
           "#EF553B",
           "#EF553B",
           "#636efa",
           "#636efa",
           "#EF553B",
           "#636efa",
           "#636efa",
           "#EF553B",
           "#636efa",
           "#636efa",
           "#636efa",
           "#636efa",
           "#636efa",
           "#EF553B",
           "#636efa",
           "#EF553B",
           "#636efa",
           "#636efa",
           "#636efa",
           "#636efa",
           "#636efa",
           "#636efa",
           "#636efa",
           "#636efa",
           "#636efa",
           "#EF553B",
           "#636efa",
           "#EF553B",
           "#636efa",
           "#EF553B",
           "#EF553B",
           "#636efa",
           "#636efa",
           "#636efa",
           "#EF553B",
           "#636efa",
           "#636efa",
           "#636efa",
           "#636efa",
           "#636efa",
           "#636efa",
           "#636efa",
           "#636efa",
           "#636efa",
           "#EF553B",
           "#636efa",
           "#636efa",
           "#EF553B",
           "#00cc96",
           "#00cc96",
           "#00cc96",
           "#00cc96",
           "#636efa",
           "#00cc96",
           "#00cc96",
           "#636efa",
           "#00cc96",
           "#636efa",
           "#636efa",
           "#636efa",
           "#636efa",
           "#636efa",
           "#636efa",
           "#EF553B",
           "#EF553B",
           "#00cc96",
           "#EF553B",
           "#EF553B",
           "#EF553B",
           "#EF553B",
           "#636efa",
           "#EF553B",
           "#636efa",
           "#00cc96",
           "#00cc96",
           "#EF553B",
           "#636efa"
          ]
         },
         "name": "",
         "parents": [
          "GAME/Free/Everyone",
          "MAPS_AND_NAVIGATION/Free",
          "MEDICAL/Free",
          "NEWS_AND_MAGAZINES/Free",
          "PARENTING/Free",
          "PERSONALIZATION/Free",
          "PHOTOGRAPHY/Free",
          "PRODUCTIVITY/Free",
          "LIFESTYLE/Free",
          "SHOPPING/Free",
          "SPORTS/Free",
          "TOOLS/Free",
          "TRAVEL_AND_LOCAL/Free",
          "VIDEO_PLAYERS/Free",
          "WEATHER/Free",
          "ART_AND_DESIGN/Paid",
          "AUTO_AND_VEHICLES/Paid",
          "SOCIAL/Free",
          "BUSINESS/Paid",
          "LIBRARIES_AND_DEMO/Free",
          "HEALTH_AND_FITNESS/Free",
          "SPORTS/Free",
          "ART_AND_DESIGN/Free",
          "AUTO_AND_VEHICLES/Free",
          "BEAUTY/Free",
          "BOOKS_AND_REFERENCE/Free",
          "BUSINESS/Free",
          "COMICS/Free",
          "HOUSE_AND_HOME/Free",
          "COMMUNICATION/Free",
          "EDUCATION/Free",
          "ENTERTAINMENT/Free",
          "EVENTS/Free",
          "FAMILY/Free",
          "FINANCE/Free",
          "FOOD_AND_DRINK/Free",
          "GAME/Free",
          "DATING/Free",
          "COMICS/Free",
          "COMMUNICATION/Paid",
          "EDUCATION/Paid",
          "TRAVEL_AND_LOCAL/Paid",
          "VIDEO_PLAYERS/Paid",
          "WEATHER/Paid",
          "ART_AND_DESIGN/Free",
          "AUTO_AND_VEHICLES/Free",
          "BEAUTY/Free",
          "BOOKS_AND_REFERENCE/Free",
          "TOOLS/Paid",
          "BUSINESS/Free",
          "EDUCATION/Free",
          "ENTERTAINMENT/Free",
          "EVENTS/Free",
          "FAMILY/Free",
          "GAME/Free",
          "HEALTH_AND_FITNESS/Free",
          "LIFESTYLE/Free",
          "COMICS/Free",
          "DATING/Paid",
          "SPORTS/Paid",
          "SHOPPING/Paid",
          "ENTERTAINMENT/Paid",
          "EVENTS/Paid",
          "FAMILY/Paid",
          "FINANCE/Paid",
          "FOOD_AND_DRINK/Paid",
          "GAME/Paid",
          "HEALTH_AND_FITNESS/Paid",
          "SOCIAL/Paid",
          "LIBRARIES_AND_DEMO/Paid",
          "MAPS_AND_NAVIGATION/Paid",
          "MEDICAL/Paid",
          "NEWS_AND_MAGAZINES/Paid",
          "PARENTING/Paid",
          "PERSONALIZATION/Paid",
          "PHOTOGRAPHY/Paid",
          "PRODUCTIVITY/Paid",
          "LIFESTYLE/Paid",
          "MAPS_AND_NAVIGATION/Free",
          "GAME/Free/Mature 17+",
          "GAME/Free/Everyone",
          "SOCIAL/Paid/Teen",
          "SPORTS/Free/Adults only 18+",
          "GAME/Free/Everyone",
          "SPORTS/Free/Everyone",
          "SPORTS/Paid/Everyone",
          "GAME/Free/Everyone 10+",
          "SPORTS/Free/Everyone 10+",
          "SOCIAL/Free/Teen",
          "SPORTS/Free/Mature 17+",
          "FAMILY/Free/Everyone",
          "FAMILY/Paid/Everyone",
          "FAMILY/Free/Everyone",
          "FAMILY/Paid/Everyone",
          "FAMILY/Free/Everyone 10+",
          "GAME/Free/Everyone 10+",
          "FAMILY/Paid/Everyone 10+",
          "SPORTS/Free/Teen",
          "FAMILY/Free/Mature 17+",
          "SOCIAL/Free/Mature 17+",
          "SOCIAL/Free/Everyone",
          "FAMILY/Paid/Everyone",
          "GAME/Paid/Everyone",
          "FAMILY/Free/Everyone 10+",
          "GAME/Free/Everyone 10+",
          "FAMILY/Paid/Everyone 10+",
          "FAMILY/Free/Mature 17+",
          "FAMILY/Free/Teen",
          "SOCIAL/Free/Everyone 10+",
          "GAME/Free/Teen",
          "GAME/Free/Everyone",
          "FAMILY/Free/Everyone",
          "",
          "GAME/Paid/Everyone",
          "FAMILY/Free/Everyone",
          "FAMILY/Paid/Everyone",
          "FAMILY/Free/Everyone 10+",
          "FAMILY/Free/Everyone",
          "GAME/Free/Everyone 10+",
          "GAME/Free/Mature 17+",
          "FAMILY/Free/Teen",
          "FAMILY/Free/Everyone",
          "VIDEO_PLAYERS/Free/Everyone",
          "VIDEO_PLAYERS/Paid/Everyone",
          "VIDEO_PLAYERS/Free/Everyone 10+",
          "VIDEO_PLAYERS/Free/Mature 17+",
          "VIDEO_PLAYERS/Free/Teen",
          "FAMILY/Free/Everyone",
          "GAME/Free/Teen",
          "VIDEO_PLAYERS/Free/Everyone",
          "FAMILY/Free/Everyone 10+",
          "VIDEO_PLAYERS/Free/Everyone 10+",
          "WEATHER/Free/Everyone",
          "WEATHER/Paid/Everyone",
          "WEATHER/Free/Everyone 10+",
          "WEATHER/Free/Mature 17+",
          "WEATHER/Free/Teen",
          "FAMILY/Free/Everyone",
          "FAMILY/Paid/Mature 17+",
          "GAME/Free/Everyone",
          "TRAVEL_AND_LOCAL/Free/Mature 17+",
          "GAME/Free/Teen",
          "FAMILY/Paid/Teen",
          "GAME/Paid/Teen",
          "FAMILY/Free/Everyone",
          "FAMILY/Paid/Everyone 10+",
          "FAMILY/Free/Everyone",
          "FAMILY/Free/Everyone",
          "TRAVEL_AND_LOCAL/Free/Teen",
          "TOOLS/Free/Everyone",
          "TOOLS/Free/Mature 17+",
          "TOOLS/Paid/Mature 17+",
          "TOOLS/Free/Teen",
          "TOOLS/Free/Unrated",
          "TOOLS/Free/Everyone",
          "TRAVEL_AND_LOCAL/Free/Everyone",
          "TRAVEL_AND_LOCAL/Paid/Everyone",
          "TOOLS/Paid/Everyone",
          "MEDICAL/Free",
          "NEWS_AND_MAGAZINES/Free",
          "PERSONALIZATION/Free",
          "NEWS_AND_MAGAZINES",
          "PARENTING",
          "PERSONALIZATION",
          "PHOTOGRAPHY",
          "PRODUCTIVITY",
          "SHOPPING",
          "SOCIAL",
          "MEDICAL",
          "SPORTS",
          "TRAVEL_AND_LOCAL",
          "VIDEO_PLAYERS",
          "WEATHER",
          "ART_AND_DESIGN",
          "AUTO_AND_VEHICLES",
          "BOOKS_AND_REFERENCE",
          "BUSINESS",
          "TOOLS",
          "COMMUNICATION",
          "MAPS_AND_NAVIGATION",
          "LIBRARIES_AND_DEMO",
          "TOOLS/Free",
          "ART_AND_DESIGN",
          "BEAUTY",
          "BOOKS_AND_REFERENCE",
          "BUSINESS",
          "COMICS",
          "COMMUNICATION",
          "LIFESTYLE",
          "DATING",
          "EVENTS",
          "FAMILY",
          "FINANCE",
          "FOOD_AND_DRINK",
          "GAME",
          "HEALTH_AND_FITNESS",
          "HOUSE_AND_HOME",
          "ENTERTAINMENT",
          "FAMILY/Free",
          "DATING",
          "ENTERTAINMENT",
          "",
          "",
          "",
          "",
          "",
          "",
          "",
          "",
          "",
          "",
          "",
          "",
          "",
          "",
          "",
          "",
          "",
          "EDUCATION",
          "",
          "",
          "EVENTS",
          "FAMILY",
          "FINANCE",
          "FOOD_AND_DRINK",
          "GAME",
          "HEALTH_AND_FITNESS",
          "LIBRARIES_AND_DEMO",
          "",
          "LIFESTYLE",
          "MEDICAL",
          "NEWS_AND_MAGAZINES",
          "PARENTING",
          "PERSONALIZATION",
          "TRAVEL_AND_LOCAL",
          "VIDEO_PLAYERS",
          "WEATHER",
          "MAPS_AND_NAVIGATION",
          "SOCIAL/Paid",
          "MEDICAL/Paid",
          "LIFESTYLE/Paid",
          "MEDICAL/Free",
          "NEWS_AND_MAGAZINES/Free",
          "PARENTING/Free",
          "PERSONALIZATION/Free",
          "PHOTOGRAPHY/Free",
          "SHOPPING/Free",
          "SOCIAL/Free",
          "MAPS_AND_NAVIGATION/Free",
          "SPORTS/Free",
          "TRAVEL_AND_LOCAL/Free",
          "VIDEO_PLAYERS/Free",
          "WEATHER/Free",
          "COMMUNICATION/Paid",
          "DATING/Paid",
          "ENTERTAINMENT/Paid",
          "FAMILY/Paid",
          "TOOLS/Free",
          "GAME/Paid",
          "LIFESTYLE/Free",
          "GAME/Free",
          "PRODUCTIVITY/Free",
          "SOCIAL/Free",
          "SPORTS/Free",
          "VIDEO_PLAYERS/Free",
          "WEATHER/Free",
          "FAMILY/Paid",
          "GAME/Paid",
          "HEALTH_AND_FITNESS/Free",
          "MEDICAL/Paid",
          "BOOKS_AND_REFERENCE/Free",
          "BUSINESS/Free",
          "COMICS/Free",
          "COMMUNICATION/Free",
          "DATING/Free",
          "EDUCATION/Free",
          "ENTERTAINMENT/Free",
          "BEAUTY/Free",
          "LIFESTYLE/Paid",
          "MEDICAL/Paid",
          "NEWS_AND_MAGAZINES/Paid",
          "PARENTING/Free",
          "PERSONALIZATION/Free",
          "PHOTOGRAPHY/Free",
          "PRODUCTIVITY/Free",
          "SHOPPING/Free",
          "SOCIAL/Free",
          "SPORTS/Free",
          "NEWS_AND_MAGAZINES/Free",
          "TOOLS/Free",
          "VIDEO_PLAYERS/Free",
          "WEATHER/Free",
          "BOOKS_AND_REFERENCE/Paid",
          "DATING/Paid",
          "FAMILY/Paid",
          "FINANCE/Paid",
          "GAME/Paid",
          "TRAVEL_AND_LOCAL/Free",
          "MEDICAL/Free",
          "MAPS_AND_NAVIGATION/Free",
          "HOUSE_AND_HOME/Free",
          "PRODUCTIVITY/Paid",
          "TOOLS/Paid",
          "ART_AND_DESIGN/Free",
          "AUTO_AND_VEHICLES/Free",
          "BEAUTY/Free",
          "BOOKS_AND_REFERENCE/Free",
          "COMICS/Free",
          "COMMUNICATION/Free",
          "DATING/Free",
          "EDUCATION/Free",
          "ENTERTAINMENT/Free",
          "EVENTS/Free",
          "FAMILY/Free",
          "FINANCE/Free",
          "FOOD_AND_DRINK/Free",
          "GAME/Free",
          "HEALTH_AND_FITNESS/Free",
          "GAME/Free/Everyone",
          "FAMILY/Free/Everyone",
          "FAMILY/Paid/Everyone",
          "SHOPPING/Free/Mature 17+",
          "FAMILY/Free/Everyone",
          "GAME/Free/Everyone",
          "FAMILY/Free/Everyone",
          "GAME/Free/Everyone",
          "FAMILY/Free/Everyone",
          "FAMILY/Paid/Everyone",
          "FAMILY/Free/Everyone",
          "GAME/Free/Everyone 10+",
          "FAMILY/Free/Everyone",
          "FAMILY/Paid/Everyone",
          "COMICS/Free/Adults only 18+",
          "COMICS/Free/Everyone",
          "COMICS/Free/Everyone 10+",
          "COMICS/Free/Mature 17+",
          "COMICS/Free/Teen",
          "COMICS/Free/Everyone",
          "GAME/Free/Everyone",
          "COMMUNICATION/Free/Everyone",
          "FAMILY/Free/Everyone 10+",
          "FAMILY/Free/Everyone",
          "GAME/Free/Teen",
          "GAME/Paid/Teen",
          "FAMILY/Free/Everyone 10+",
          "FAMILY/Paid/Everyone 10+",
          "FAMILY/Free/Everyone",
          "GAME/Free/Everyone",
          "GAME/Free/Teen",
          "FAMILY/Paid/Everyone",
          "GAME/Paid/Teen",
          "GAME/Free/Everyone",
          "FAMILY/Paid/Everyone",
          "FAMILY/Free/Everyone 10+",
          "FAMILY/Paid/Everyone 10+",
          "FAMILY/Free/Mature 17+",
          "FAMILY/Free/Teen",
          "FAMILY/Paid/Teen",
          "FAMILY/Free/Everyone",
          "COMMUNICATION/Paid/Everyone",
          "COMMUNICATION/Free/Mature 17+",
          "COMMUNICATION/Paid/Mature 17+",
          "FAMILY/Paid/Everyone",
          "EDUCATION/Free/Everyone",
          "FAMILY/Free/Everyone",
          "FAMILY/Paid/Everyone",
          "EDUCATION/Free/Everyone",
          "FAMILY/Free/Everyone",
          "FAMILY/Paid/Everyone",
          "FAMILY/Free/Everyone",
          "SHOPPING/Free/Teen",
          "EDUCATION/Paid/Everyone",
          "FAMILY/Paid/Everyone",
          "EDUCATION/Free/Everyone",
          "FAMILY/Free/Everyone",
          "EDUCATION/Free/Everyone",
          "FAMILY/Free/Everyone",
          "EDUCATION/Paid/Everyone",
          "FAMILY/Free/Everyone",
          "EDUCATION/Free/Everyone",
          "FAMILY/Paid/Teen",
          "FAMILY/Free/Teen",
          "COMMUNICATION/Free/Teen",
          "FAMILY/Free/Everyone",
          "DATING/Free/Everyone",
          "DATING/Paid/Everyone",
          "DATING/Free/Mature 17+",
          "DATING/Paid/Mature 17+",
          "DATING/Free/Teen",
          "DATING/Paid/Teen",
          "EDUCATION/Free/Everyone",
          "FAMILY/Free/Everyone",
          "FAMILY/Paid/Everyone",
          "EDUCATION/Free/Everyone 10+",
          "FAMILY/Free/Everyone 10+",
          "EDUCATION/Free/Mature 17+",
          "FAMILY/Free/Mature 17+",
          "FAMILY/Paid/Mature 17+",
          "EDUCATION/Free/Teen",
          "GAME/Free/Mature 17+",
          "GAME/Paid/Everyone",
          "GAME/Free/Everyone",
          "BUSINESS/Free/Teen",
          "FAMILY/Paid/Everyone 10+",
          "FAMILY/Paid/Everyone",
          "FAMILY/Free/Everyone",
          "GAME/Free/Everyone",
          "GAME/Paid/Everyone",
          "GAME/Free/Everyone 10+",
          "GAME/Paid/Everyone 10+",
          "GAME/Free/Everyone 10+",
          "GAME/Free/Mature 17+",
          "GAME/Paid/Teen",
          "FAMILY/Free/Everyone",
          "FAMILY/Paid/Everyone",
          "FAMILY/Free/Everyone 10+",
          "FAMILY/Paid/Everyone 10+",
          "FAMILY/Free/Everyone",
          "ART_AND_DESIGN/Free/Everyone",
          "GAME/Free/Teen",
          "FAMILY/Free/Everyone 10+",
          "FAMILY/Free/Everyone",
          "GAME/Paid/Teen",
          "GAME/Paid/Everyone",
          "GAME/Free/Everyone 10+",
          "GAME/Paid/Everyone 10+",
          "GAME/Free/Mature 17+",
          "GAME/Paid/Mature 17+",
          "GAME/Free/Teen",
          "GAME/Paid/Teen",
          "FAMILY/Free/Everyone",
          "GAME/Free/Everyone",
          "FAMILY/Free/Everyone 10+",
          "FAMILY/Paid/Everyone 10+",
          "GAME/Free/Everyone",
          "GAME/Paid/Everyone",
          "GAME/Free/Everyone 10+",
          "GAME/Free/Mature 17+",
          "GAME/Paid/Mature 17+",
          "GAME/Free/Teen",
          "ART_AND_DESIGN/Paid/Everyone",
          "FAMILY/Paid/Everyone",
          "ART_AND_DESIGN/Free/Everyone 10+",
          "ART_AND_DESIGN/Free/Everyone",
          "FAMILY/Free/Everyone",
          "FAMILY/Paid/Everyone",
          "FAMILY/Paid/Everyone",
          "BOOKS_AND_REFERENCE/Free/Everyone",
          "BOOKS_AND_REFERENCE/Paid/Everyone",
          "BOOKS_AND_REFERENCE/Free/Everyone 10+",
          "BOOKS_AND_REFERENCE/Free/Mature 17+",
          "FAMILY/Paid/Everyone",
          "BOOKS_AND_REFERENCE/Free/Teen",
          "FAMILY/Paid/Everyone",
          "FAMILY/Free/Everyone",
          "FAMILY/Paid/Everyone",
          "BUSINESS/Free/Everyone",
          "BUSINESS/Paid/Everyone",
          "BUSINESS/Free/Everyone 10+",
          "BUSINESS/Free/Mature 17+",
          "BOOKS_AND_REFERENCE/Paid/Teen",
          "FAMILY/Free/Everyone",
          "GAME/Paid/Teen",
          "GAME/Free/Teen",
          "FAMILY/Free/Everyone",
          "ART_AND_DESIGN/Free/Everyone",
          "FAMILY/Free/Everyone",
          "ART_AND_DESIGN/Free/Everyone",
          "FAMILY/Free/Everyone",
          "AUTO_AND_VEHICLES/Free/Everyone",
          "AUTO_AND_VEHICLES/Paid/Everyone",
          "AUTO_AND_VEHICLES/Free/Everyone 10+",
          "AUTO_AND_VEHICLES/Free/Teen",
          "BEAUTY/Free/Everyone",
          "BEAUTY/Free/Everyone 10+",
          "BEAUTY/Free/Mature 17+",
          "BEAUTY/Free/Teen",
          "GAME/Free/Everyone",
          "GAME/Paid/Everyone",
          "GAME/Free/Everyone 10+",
          "GAME/Paid/Everyone 10+",
          "ART_AND_DESIGN/Free/Teen",
          "FAMILY/Free/Everyone",
          "",
          "FAMILY/Free/Everyone 10+",
          "PARENTING/Free/Everyone",
          "PERSONALIZATION/Free/Everyone",
          "PERSONALIZATION/Paid/Everyone",
          "PERSONALIZATION/Free/Everyone 10+",
          "PERSONALIZATION/Free/Mature 17+",
          "PERSONALIZATION/Free/Teen",
          "PHOTOGRAPHY/Free/Everyone",
          "PARENTING/Free/Everyone",
          "PHOTOGRAPHY/Paid/Everyone",
          "PHOTOGRAPHY/Free/Teen",
          "PRODUCTIVITY/Free/Everyone",
          "PRODUCTIVITY/Paid/Everyone",
          "PRODUCTIVITY/Free/Everyone 10+",
          "PRODUCTIVITY/Paid/Mature 17+",
          "PRODUCTIVITY/Free/Teen",
          "FAMILY/Free/Everyone",
          "PHOTOGRAPHY/Free/Mature 17+",
          "GAME/Free/Everyone",
          "PARENTING/Free/Everyone",
          "PARENTING/Free/Mature 17+",
          "MEDICAL/Free/Teen",
          "MEDICAL/Paid/Teen",
          "GAME/Free/Everyone",
          "GAME/Paid/Everyone 10+",
          "GAME/Free/Mature 17+",
          "GAME/Free/Teen",
          "FAMILY/Paid/Everyone",
          "PARENTING/Free/Teen",
          "FAMILY/Paid/Everyone",
          "NEWS_AND_MAGAZINES/Paid/Everyone",
          "NEWS_AND_MAGAZINES/Free/Everyone 10+",
          "NEWS_AND_MAGAZINES/Free/Mature 17+",
          "NEWS_AND_MAGAZINES/Paid/Mature 17+",
          "NEWS_AND_MAGAZINES/Free/Teen",
          "PARENTING/Free/Everyone",
          "PARENTING/Paid/Everyone",
          "NEWS_AND_MAGAZINES/Free/Everyone",
          "FAMILY/Paid/Everyone",
          "GAME/Paid/Everyone",
          "FAMILY/Free/Everyone 10+",
          "FAMILY/Free/Everyone 10+",
          "GAME/Free/Everyone 10+",
          "FAMILY/Paid/Everyone 10+",
          "GAME/Free/Mature 17+",
          "FAMILY/Free/Teen",
          "GAME/Free/Teen",
          "FAMILY/Paid/Teen",
          "FAMILY/Paid/Everyone",
          "GAME/Paid/Teen",
          "FAMILY/Paid/Everyone",
          "FAMILY/Free/Everyone 10+",
          "FAMILY/Free/Everyone",
          "FAMILY/Paid/Everyone",
          "FAMILY/Free/Everyone",
          "SHOPPING/Free/Everyone",
          "SHOPPING/Paid/Everyone",
          "FAMILY/Free/Everyone",
          "GAME/Free/Everyone",
          "FAMILY/Free/Everyone",
          "FAMILY/Free/Everyone",
          "FAMILY/Paid/Everyone 10+",
          "FAMILY/Free/Teen",
          "GAME/Free/Teen",
          "FAMILY/Paid/Teen",
          "FAMILY/Free/Everyone",
          "FAMILY/Free/Everyone",
          "FAMILY/Paid/Everyone",
          "FAMILY/Free/Everyone",
          "FAMILY/Free/Everyone",
          "GAME/Free/Everyone",
          "GAME/Paid/Everyone",
          "GAME/Free/Everyone 10+",
          "GAME/Paid/Everyone 10+",
          "GAME/Free/Mature 17+",
          "GAME/Free/Teen",
          "FAMILY/Free/Everyone",
          "FAMILY/Paid/Everyone",
          "MEDICAL/Paid/Mature 17+",
          "MEDICAL/Free/Mature 17+",
          "FAMILY/Free/Everyone",
          "FAMILY/Free/Everyone",
          "FAMILY/Free/Everyone",
          "FAMILY/Free/Everyone",
          "ENTERTAINMENT/Free/Everyone",
          "MEDICAL/Paid/Everyone 10+",
          "ENTERTAINMENT/Free/Everyone 10+",
          "FAMILY/Free/Everyone 10+",
          "FAMILY/Free/Everyone",
          "EVENTS/Free/Everyone",
          "EVENTS/Paid/Everyone",
          "EVENTS/Free/Everyone 10+",
          "EVENTS/Free/Teen",
          "FAMILY/Paid/Everyone",
          "FINANCE/Free/Everyone",
          "FINANCE/Paid/Everyone",
          "FAMILY/Free/Everyone",
          "ENTERTAINMENT/Free/Everyone",
          "FAMILY/Free/Everyone",
          "ENTERTAINMENT/Free/Everyone",
          "FAMILY/Free/Everyone",
          "FAMILY/Paid/Everyone",
          "ENTERTAINMENT/Free/Everyone",
          "FAMILY/Free/Everyone 10+",
          "ENTERTAINMENT/Free/Mature 17+",
          "FAMILY/Free/Mature 17+",
          "FAMILY/Paid/Everyone",
          "ENTERTAINMENT/Paid/Mature 17+",
          "FINANCE/Paid/Teen",
          "FAMILY/Paid/Mature 17+",
          "FAMILY/Free/Everyone",
          "FAMILY/Free/Everyone 10+",
          "FAMILY/Paid/Everyone",
          "FAMILY/Free/Everyone",
          "FAMILY/Free/Teen",
          "FAMILY/Paid/Teen",
          "FAMILY/Free/Unrated",
          "ENTERTAINMENT/Free/Teen",
          "FOOD_AND_DRINK/Free/Everyone",
          "FINANCE/Free/Teen",
          "FOOD_AND_DRINK/Free/Everyone 10+",
          "FOOD_AND_DRINK/Paid/Everyone",
          "LIFESTYLE/Free/Teen",
          "LIFESTYLE/Paid/Teen",
          "FAMILY/Free/Everyone",
          "LIFESTYLE/Free/Everyone",
          "FAMILY/Free/Teen",
          "LIFESTYLE/Free/Mature 17+",
          "MAPS_AND_NAVIGATION/Free/Everyone",
          "MAPS_AND_NAVIGATION/Free/Everyone 10+",
          "MAPS_AND_NAVIGATION/Free/Mature 17+",
          "MAPS_AND_NAVIGATION/Free/Teen",
          "MEDICAL/Free/Everyone",
          "MEDICAL/Paid/Everyone",
          "MEDICAL/Free/Everyone 10+",
          "MAPS_AND_NAVIGATION/Paid/Everyone",
          "LIFESTYLE/Free/Everyone 10+",
          "LIFESTYLE/Paid/Mature 17+",
          "LIFESTYLE/Paid/Everyone",
          "FOOD_AND_DRINK/Free/Teen",
          "HEALTH_AND_FITNESS/Free/Everyone",
          "FAMILY/Free/Everyone",
          "HEALTH_AND_FITNESS/Paid/Everyone",
          "HEALTH_AND_FITNESS/Free/Everyone 10+",
          "HEALTH_AND_FITNESS/Free/Mature 17+",
          "HEALTH_AND_FITNESS/Free/Teen",
          "FAMILY/Free/Everyone",
          "FAMILY/Free/Everyone",
          "FAMILY/Free/Everyone",
          "HOUSE_AND_HOME/Free/Teen",
          "FAMILY/Free/Everyone",
          "LIBRARIES_AND_DEMO/Free/Everyone",
          "LIBRARIES_AND_DEMO/Paid/Everyone",
          "LIFESTYLE/Free/Everyone",
          "HOUSE_AND_HOME/Free/Everyone",
          "ENTERTAINMENT/Paid/Everyone",
          "",
          "",
          "",
          "",
          "FOOD_AND_DRINK/Free",
          "",
          "",
          "GAME/Free/Teen",
          "",
          "AUTO_AND_VEHICLES",
          "FAMILY/Free/Everyone",
          "EDUCATION",
          "LIFESTYLE/Free",
          "TRAVEL_AND_LOCAL/Free/Everyone",
          "BUSINESS/Free",
          "BOOKS_AND_REFERENCE/Paid",
          "PHOTOGRAPHY",
          "",
          "PRODUCTIVITY",
          "SOCIAL",
          "SPORTS",
          "TOOLS",
          "FAMILY/Free",
          "SOCIAL/Paid/Everyone",
          "",
          "",
          "",
          "SHOPPING",
          "EDUCATION/Free/Everyone"
         ],
         "type": "sunburst",
         "values": [
          389.7,
          471.6,
          1041.9,
          510.1,
          199,
          882.7,
          1182.7,
          1390.8,
          1086.7,
          783.7,
          1066.1,
          2677.8,
          871,
          520.1,
          269.7,
          14.2,
          4.6,
          358.5,
          46.2,
          271.6,
          1090.3,
          4.5,
          237.9,
          292.8,
          167.2,
          618.5,
          1185.4,
          108.6,
          309.7,
          1132.1,
          608.1,
          158.3,
          158.8,
          5091.8,
          1272.6,
          406,
          2259.5,
          38.400000000000006,
          8.399999999999999,
          89.4,
          19,
          32.8,
          16.4,
          30.6,
          4.7,
          4.3,
          0,
          22.3,
          262.7,
          0,
          35.9,
          20.5,
          9,
          443.9,
          526,
          23.9,
          19.2,
          8.9,
          2.6,
          93.6,
          9,
          4.6,
          0,
          507.4,
          45.7,
          8.7,
          177.8,
          52.7,
          7.4,
          0,
          19.3,
          348.8,
          4.9,
          6.7,
          297.6,
          72.8,
          71.1,
          62.1,
          0,
          8.1,
          106.5,
          0,
          4.5,
          59.099999999999994,
          1066.1,
          93.6,
          4.4,
          91,
          456,
          30,
          9,
          8.399999999999999,
          91.1,
          18,
          93.1,
          62.4,
          17.6,
          62.1,
          8.5,
          272.1,
          358.5,
          28.6,
          4.6,
          51.199999999999996,
          4.3,
          4.2,
          41.3,
          152.3,
          8.2,
          17.799999999999997,
          4.7,
          4.4,
          650.2,
          4.5,
          8.6,
          4,
          4.8,
          43.9,
          4.7,
          4.5,
          85.9,
          0,
          516,
          16.4,
          4.3,
          7.3,
          98.1,
          4.1,
          13.899999999999999,
          4.1,
          4,
          4,
          269.7,
          30.6,
          4.4,
          4.7,
          8.9,
          4,
          4.2,
          99.2,
          4.6,
          34.2,
          13.399999999999999,
          4.4,
          4.6,
          4.6,
          4.4,
          4.5,
          20.3,
          2673.3,
          3.7,
          0,
          22.5,
          4.1,
          4.5,
          866.9,
          32.8,
          262.7,
          21.7,
          261.1,
          21.9,
          953.2,
          208.3,
          1063.9,
          1256.1,
          1402.5,
          1004.8,
          1094.8,
          1091.4,
          1253.7,
          895.9,
          633.8,
          287.7,
          14.2,
          4.6,
          34.2,
          46.2,
          2708.1,
          89.4,
          483.1,
          271.6,
          4.1,
          256,
          179.7,
          739.4,
          1202.6,
          241,
          1274.6,
          1209.3,
          759.8,
          199.6,
          6628.1,
          1284.8,
          445.5,
          4365.4,
          1217.6,
          319,
          605.6,
          0,
          14.5,
          9.2,
          1248.8,
          1364,
          7323.9,
          1334.6,
          1270.3,
          319,
          1285.8,
          773.6,
          502.4,
          215,
          1328.9,
          1478.2,
          1013.8,
          1102.2,
          1347.3,
          2970.8,
          962.8,
          19,
          179.7,
          270.2,
          0,
          695.8,
          49.8,
          8.7,
          336.7,
          52.7,
          0,
          305.9,
          76.5,
          374.8,
          9.600000000000001,
          6.7,
          297.6,
          32.8,
          16.4,
          30.6,
          19.3,
          0,
          4.4,
          5,
          18.6,
          51.3,
          4.6,
          36,
          21.9,
          12.8,
          272.1,
          2.7,
          30,
          4.6,
          7.3,
          4.7,
          0,
          11.9,
          4.6,
          14,
          3.7,
          17.8,
          28.9,
          297.6,
          3.6,
          8.2,
          91,
          8.3,
          4.4,
          90.2,
          39.1,
          30.7,
          13.4,
          12.5,
          0,
          26.4,
          38.800000000000004,
          699.8,
          12.5,
          33.2,
          4.5,
          9.4,
          8.2,
          4.7,
          4.7,
          123.3,
          51.5,
          8.100000000000001,
          208.3,
          456,
          62.1,
          130.7,
          22.5,
          98.1,
          8.9,
          0,
          0,
          84.2,
          4.1,
          102,
          20.3,
          9.2,
          8.8,
          9.3,
          4.6,
          0,
          13.4,
          4.2,
          8,
          86.1,
          88.7,
          103.7,
          21.599999999999998,
          4.8,
          393.6,
          31.8,
          921.9,
          12.2,
          30.9,
          1282.3,
          72.7,
          21.2,
          479.9,
          4.2,
          12.8,
          53.7,
          4.4,
          26.1,
          4.1,
          8.5,
          4.3,
          8.2,
          4.5,
          99.3,
          26.200000000000003,
          8.399999999999999,
          103.8,
          8.9,
          26.4,
          88.7,
          4.8,
          4.2,
          1132.1,
          18,
          62.6,
          86.4,
          0,
          4.3,
          4.3,
          4.4,
          8.2,
          145.8,
          4.5,
          4.6,
          200.6,
          12.8,
          40.8,
          8.399999999999999,
          3.4,
          87.6,
          9.1,
          405.2,
          89.4,
          38.800000000000004,
          0,
          8.6,
          13.3,
          4.4,
          0,
          13.100000000000001,
          8.9,
          8.4,
          12.8,
          208.3,
          4.7,
          20.8,
          4.2,
          16.8,
          4.2,
          29.2,
          14.3,
          130,
          4.4,
          4.7,
          53.3,
          103.7,
          4.2,
          38.400000000000006,
          2.6,
          699.8,
          11.9,
          21.599999999999998,
          0,
          505.8,
          1302.6,
          66,
          35.9,
          18,
          12.5,
          5,
          5,
          4.8,
          4.1,
          26,
          67.4,
          17.2,
          8.3,
          4.6,
          8.2,
          537.4,
          56.6,
          136,
          11.9,
          22.5,
          8.1,
          5,
          39.5,
          4.5,
          8.8,
          12.4,
          4.5,
          211.8,
          136,
          18,
          8.7,
          17.4,
          11.899999999999999,
          198.4,
          13.2,
          210.7,
          13.2,
          631,
          66.1,
          38.3,
          13.1,
          8.7,
          13.2,
          80.3,
          30.9,
          33.8,
          21.3,
          4.6,
          116.9,
          14.2,
          53.1,
          4.7,
          0,
          33.9,
          31.2,
          4.8,
          618.5,
          34.2,
          22.3,
          12.5,
          4,
          86.1,
          0,
          3.7,
          4.7,
          1185.4,
          46.2,
          0,
          0,
          0,
          8.1,
          0,
          13.5,
          0,
          22.2,
          8.6,
          3.9,
          3.9,
          292.8,
          4.6,
          4.3,
          4.2,
          167.2,
          0,
          4.5,
          8,
          118.5,
          30,
          9.4,
          4.6,
          13.4,
          60.2,
          318.3,
          6.9,
          26,
          882.7,
          297.6,
          21.9,
          36,
          123.3,
          1182.7,
          11.6,
          72.8,
          51.5,
          1390.8,
          71.1,
          3.6,
          4.6,
          8.100000000000001,
          231.6,
          21.9,
          175.9,
          3.8,
          4.6,
          9.2,
          4.4,
          67,
          4.7,
          8.2,
          8.6,
          6.699999999999999,
          4.7,
          4.7,
          4.9,
          261.1,
          51.3,
          4.7,
          130.7,
          157.6,
          6.7,
          510.1,
          48.3,
          9.5,
          12.7,
          106.4,
          9.4,
          12.6,
          13,
          123.6,
          39.1,
          39.1,
          37,
          4.5,
          4.7,
          4.6,
          4.3,
          0,
          20.1,
          783.7,
          9,
          21.099999999999998,
          4.4,
          64.1,
          4.5,
          4.6,
          30.799999999999997,
          4.7,
          13.100000000000001,
          21.5,
          73.8,
          9.3,
          8.8,
          4.6,
          293.6,
          3.8,
          36.2,
          4.7,
          19.6,
          30.2,
          82.1,
          3.9,
          8.2,
          18.6,
          8.899999999999999,
          55.3,
          9.3,
          4.4,
          21,
          13.4,
          20.5,
          16.8,
          8,
          158.8,
          0,
          9,
          31.8,
          7.2,
          1272.6,
          45.7,
          1099.1,
          4.3,
          25.6,
          9,
          12.6,
          38.1,
          124,
          22.3,
          33.2,
          112.3,
          16.6,
          4.6,
          4.1,
          4.8,
          59.7,
          4.5,
          9.2,
          147.5,
          338.3,
          4.8,
          0,
          393.6,
          406,
          12.2,
          8.6,
          8.7,
          74.5,
          5,
          4.3,
          4,
          50.1,
          28.9,
          471.6,
          0,
          2.7,
          8.8,
          1041.9,
          348.8,
          21.7,
          19.3,
          19.2,
          9.4,
          62.1,
          30.9,
          1090.3,
          12.600000000000001,
          52.7,
          23.9,
          30.7,
          72.7,
          16.8,
          4.7,
          3.9,
          9.3,
          25.299999999999997,
          271.6,
          0,
          1082.7,
          309.7,
          4.6,
          928.7,
          1466.2,
          271.6,
          1361.5,
          8.6,
          4702.1,
          454.2,
          4.2,
          614.8,
          301.3,
          4.3,
          661.3,
          74.5,
          4.1,
          17.2,
          34.2,
          72.8,
          199.6,
          75.7,
          7.4,
          93.6,
          262.7,
          170.5,
          7.4,
          241,
          774.3,
          680.3,
          9,
          63.1
         ]
        }
       ],
       "layout": {
        "height": 800,
        "legend": {
         "tracegroupgap": 0
        },
        "margin": {
         "t": 60
        },
        "template": {
         "data": {
          "bar": [
           {
            "error_x": {
             "color": "#2a3f5f"
            },
            "error_y": {
             "color": "#2a3f5f"
            },
            "marker": {
             "line": {
              "color": "#E5ECF6",
              "width": 0.5
             },
             "pattern": {
              "fillmode": "overlay",
              "size": 10,
              "solidity": 0.2
             }
            },
            "type": "bar"
           }
          ],
          "barpolar": [
           {
            "marker": {
             "line": {
              "color": "#E5ECF6",
              "width": 0.5
             },
             "pattern": {
              "fillmode": "overlay",
              "size": 10,
              "solidity": 0.2
             }
            },
            "type": "barpolar"
           }
          ],
          "carpet": [
           {
            "aaxis": {
             "endlinecolor": "#2a3f5f",
             "gridcolor": "white",
             "linecolor": "white",
             "minorgridcolor": "white",
             "startlinecolor": "#2a3f5f"
            },
            "baxis": {
             "endlinecolor": "#2a3f5f",
             "gridcolor": "white",
             "linecolor": "white",
             "minorgridcolor": "white",
             "startlinecolor": "#2a3f5f"
            },
            "type": "carpet"
           }
          ],
          "choropleth": [
           {
            "colorbar": {
             "outlinewidth": 0,
             "ticks": ""
            },
            "type": "choropleth"
           }
          ],
          "contour": [
           {
            "colorbar": {
             "outlinewidth": 0,
             "ticks": ""
            },
            "colorscale": [
             [
              0,
              "#0d0887"
             ],
             [
              0.1111111111111111,
              "#46039f"
             ],
             [
              0.2222222222222222,
              "#7201a8"
             ],
             [
              0.3333333333333333,
              "#9c179e"
             ],
             [
              0.4444444444444444,
              "#bd3786"
             ],
             [
              0.5555555555555556,
              "#d8576b"
             ],
             [
              0.6666666666666666,
              "#ed7953"
             ],
             [
              0.7777777777777778,
              "#fb9f3a"
             ],
             [
              0.8888888888888888,
              "#fdca26"
             ],
             [
              1,
              "#f0f921"
             ]
            ],
            "type": "contour"
           }
          ],
          "contourcarpet": [
           {
            "colorbar": {
             "outlinewidth": 0,
             "ticks": ""
            },
            "type": "contourcarpet"
           }
          ],
          "heatmap": [
           {
            "colorbar": {
             "outlinewidth": 0,
             "ticks": ""
            },
            "colorscale": [
             [
              0,
              "#0d0887"
             ],
             [
              0.1111111111111111,
              "#46039f"
             ],
             [
              0.2222222222222222,
              "#7201a8"
             ],
             [
              0.3333333333333333,
              "#9c179e"
             ],
             [
              0.4444444444444444,
              "#bd3786"
             ],
             [
              0.5555555555555556,
              "#d8576b"
             ],
             [
              0.6666666666666666,
              "#ed7953"
             ],
             [
              0.7777777777777778,
              "#fb9f3a"
             ],
             [
              0.8888888888888888,
              "#fdca26"
             ],
             [
              1,
              "#f0f921"
             ]
            ],
            "type": "heatmap"
           }
          ],
          "heatmapgl": [
           {
            "colorbar": {
             "outlinewidth": 0,
             "ticks": ""
            },
            "colorscale": [
             [
              0,
              "#0d0887"
             ],
             [
              0.1111111111111111,
              "#46039f"
             ],
             [
              0.2222222222222222,
              "#7201a8"
             ],
             [
              0.3333333333333333,
              "#9c179e"
             ],
             [
              0.4444444444444444,
              "#bd3786"
             ],
             [
              0.5555555555555556,
              "#d8576b"
             ],
             [
              0.6666666666666666,
              "#ed7953"
             ],
             [
              0.7777777777777778,
              "#fb9f3a"
             ],
             [
              0.8888888888888888,
              "#fdca26"
             ],
             [
              1,
              "#f0f921"
             ]
            ],
            "type": "heatmapgl"
           }
          ],
          "histogram": [
           {
            "marker": {
             "pattern": {
              "fillmode": "overlay",
              "size": 10,
              "solidity": 0.2
             }
            },
            "type": "histogram"
           }
          ],
          "histogram2d": [
           {
            "colorbar": {
             "outlinewidth": 0,
             "ticks": ""
            },
            "colorscale": [
             [
              0,
              "#0d0887"
             ],
             [
              0.1111111111111111,
              "#46039f"
             ],
             [
              0.2222222222222222,
              "#7201a8"
             ],
             [
              0.3333333333333333,
              "#9c179e"
             ],
             [
              0.4444444444444444,
              "#bd3786"
             ],
             [
              0.5555555555555556,
              "#d8576b"
             ],
             [
              0.6666666666666666,
              "#ed7953"
             ],
             [
              0.7777777777777778,
              "#fb9f3a"
             ],
             [
              0.8888888888888888,
              "#fdca26"
             ],
             [
              1,
              "#f0f921"
             ]
            ],
            "type": "histogram2d"
           }
          ],
          "histogram2dcontour": [
           {
            "colorbar": {
             "outlinewidth": 0,
             "ticks": ""
            },
            "colorscale": [
             [
              0,
              "#0d0887"
             ],
             [
              0.1111111111111111,
              "#46039f"
             ],
             [
              0.2222222222222222,
              "#7201a8"
             ],
             [
              0.3333333333333333,
              "#9c179e"
             ],
             [
              0.4444444444444444,
              "#bd3786"
             ],
             [
              0.5555555555555556,
              "#d8576b"
             ],
             [
              0.6666666666666666,
              "#ed7953"
             ],
             [
              0.7777777777777778,
              "#fb9f3a"
             ],
             [
              0.8888888888888888,
              "#fdca26"
             ],
             [
              1,
              "#f0f921"
             ]
            ],
            "type": "histogram2dcontour"
           }
          ],
          "mesh3d": [
           {
            "colorbar": {
             "outlinewidth": 0,
             "ticks": ""
            },
            "type": "mesh3d"
           }
          ],
          "parcoords": [
           {
            "line": {
             "colorbar": {
              "outlinewidth": 0,
              "ticks": ""
             }
            },
            "type": "parcoords"
           }
          ],
          "pie": [
           {
            "automargin": true,
            "type": "pie"
           }
          ],
          "scatter": [
           {
            "fillpattern": {
             "fillmode": "overlay",
             "size": 10,
             "solidity": 0.2
            },
            "type": "scatter"
           }
          ],
          "scatter3d": [
           {
            "line": {
             "colorbar": {
              "outlinewidth": 0,
              "ticks": ""
             }
            },
            "marker": {
             "colorbar": {
              "outlinewidth": 0,
              "ticks": ""
             }
            },
            "type": "scatter3d"
           }
          ],
          "scattercarpet": [
           {
            "marker": {
             "colorbar": {
              "outlinewidth": 0,
              "ticks": ""
             }
            },
            "type": "scattercarpet"
           }
          ],
          "scattergeo": [
           {
            "marker": {
             "colorbar": {
              "outlinewidth": 0,
              "ticks": ""
             }
            },
            "type": "scattergeo"
           }
          ],
          "scattergl": [
           {
            "marker": {
             "colorbar": {
              "outlinewidth": 0,
              "ticks": ""
             }
            },
            "type": "scattergl"
           }
          ],
          "scattermapbox": [
           {
            "marker": {
             "colorbar": {
              "outlinewidth": 0,
              "ticks": ""
             }
            },
            "type": "scattermapbox"
           }
          ],
          "scatterpolar": [
           {
            "marker": {
             "colorbar": {
              "outlinewidth": 0,
              "ticks": ""
             }
            },
            "type": "scatterpolar"
           }
          ],
          "scatterpolargl": [
           {
            "marker": {
             "colorbar": {
              "outlinewidth": 0,
              "ticks": ""
             }
            },
            "type": "scatterpolargl"
           }
          ],
          "scatterternary": [
           {
            "marker": {
             "colorbar": {
              "outlinewidth": 0,
              "ticks": ""
             }
            },
            "type": "scatterternary"
           }
          ],
          "surface": [
           {
            "colorbar": {
             "outlinewidth": 0,
             "ticks": ""
            },
            "colorscale": [
             [
              0,
              "#0d0887"
             ],
             [
              0.1111111111111111,
              "#46039f"
             ],
             [
              0.2222222222222222,
              "#7201a8"
             ],
             [
              0.3333333333333333,
              "#9c179e"
             ],
             [
              0.4444444444444444,
              "#bd3786"
             ],
             [
              0.5555555555555556,
              "#d8576b"
             ],
             [
              0.6666666666666666,
              "#ed7953"
             ],
             [
              0.7777777777777778,
              "#fb9f3a"
             ],
             [
              0.8888888888888888,
              "#fdca26"
             ],
             [
              1,
              "#f0f921"
             ]
            ],
            "type": "surface"
           }
          ],
          "table": [
           {
            "cells": {
             "fill": {
              "color": "#EBF0F8"
             },
             "line": {
              "color": "white"
             }
            },
            "header": {
             "fill": {
              "color": "#C8D4E3"
             },
             "line": {
              "color": "white"
             }
            },
            "type": "table"
           }
          ]
         },
         "layout": {
          "annotationdefaults": {
           "arrowcolor": "#2a3f5f",
           "arrowhead": 0,
           "arrowwidth": 1
          },
          "autotypenumbers": "strict",
          "coloraxis": {
           "colorbar": {
            "outlinewidth": 0,
            "ticks": ""
           }
          },
          "colorscale": {
           "diverging": [
            [
             0,
             "#8e0152"
            ],
            [
             0.1,
             "#c51b7d"
            ],
            [
             0.2,
             "#de77ae"
            ],
            [
             0.3,
             "#f1b6da"
            ],
            [
             0.4,
             "#fde0ef"
            ],
            [
             0.5,
             "#f7f7f7"
            ],
            [
             0.6,
             "#e6f5d0"
            ],
            [
             0.7,
             "#b8e186"
            ],
            [
             0.8,
             "#7fbc41"
            ],
            [
             0.9,
             "#4d9221"
            ],
            [
             1,
             "#276419"
            ]
           ],
           "sequential": [
            [
             0,
             "#0d0887"
            ],
            [
             0.1111111111111111,
             "#46039f"
            ],
            [
             0.2222222222222222,
             "#7201a8"
            ],
            [
             0.3333333333333333,
             "#9c179e"
            ],
            [
             0.4444444444444444,
             "#bd3786"
            ],
            [
             0.5555555555555556,
             "#d8576b"
            ],
            [
             0.6666666666666666,
             "#ed7953"
            ],
            [
             0.7777777777777778,
             "#fb9f3a"
            ],
            [
             0.8888888888888888,
             "#fdca26"
            ],
            [
             1,
             "#f0f921"
            ]
           ],
           "sequentialminus": [
            [
             0,
             "#0d0887"
            ],
            [
             0.1111111111111111,
             "#46039f"
            ],
            [
             0.2222222222222222,
             "#7201a8"
            ],
            [
             0.3333333333333333,
             "#9c179e"
            ],
            [
             0.4444444444444444,
             "#bd3786"
            ],
            [
             0.5555555555555556,
             "#d8576b"
            ],
            [
             0.6666666666666666,
             "#ed7953"
            ],
            [
             0.7777777777777778,
             "#fb9f3a"
            ],
            [
             0.8888888888888888,
             "#fdca26"
            ],
            [
             1,
             "#f0f921"
            ]
           ]
          },
          "colorway": [
           "#636efa",
           "#EF553B",
           "#00cc96",
           "#ab63fa",
           "#FFA15A",
           "#19d3f3",
           "#FF6692",
           "#B6E880",
           "#FF97FF",
           "#FECB52"
          ],
          "font": {
           "color": "#2a3f5f"
          },
          "geo": {
           "bgcolor": "white",
           "lakecolor": "white",
           "landcolor": "#E5ECF6",
           "showlakes": true,
           "showland": true,
           "subunitcolor": "white"
          },
          "hoverlabel": {
           "align": "left"
          },
          "hovermode": "closest",
          "mapbox": {
           "style": "light"
          },
          "paper_bgcolor": "white",
          "plot_bgcolor": "#E5ECF6",
          "polar": {
           "angularaxis": {
            "gridcolor": "white",
            "linecolor": "white",
            "ticks": ""
           },
           "bgcolor": "#E5ECF6",
           "radialaxis": {
            "gridcolor": "white",
            "linecolor": "white",
            "ticks": ""
           }
          },
          "scene": {
           "xaxis": {
            "backgroundcolor": "#E5ECF6",
            "gridcolor": "white",
            "gridwidth": 2,
            "linecolor": "white",
            "showbackground": true,
            "ticks": "",
            "zerolinecolor": "white"
           },
           "yaxis": {
            "backgroundcolor": "#E5ECF6",
            "gridcolor": "white",
            "gridwidth": 2,
            "linecolor": "white",
            "showbackground": true,
            "ticks": "",
            "zerolinecolor": "white"
           },
           "zaxis": {
            "backgroundcolor": "#E5ECF6",
            "gridcolor": "white",
            "gridwidth": 2,
            "linecolor": "white",
            "showbackground": true,
            "ticks": "",
            "zerolinecolor": "white"
           }
          },
          "shapedefaults": {
           "line": {
            "color": "#2a3f5f"
           }
          },
          "ternary": {
           "aaxis": {
            "gridcolor": "white",
            "linecolor": "white",
            "ticks": ""
           },
           "baxis": {
            "gridcolor": "white",
            "linecolor": "white",
            "ticks": ""
           },
           "bgcolor": "#E5ECF6",
           "caxis": {
            "gridcolor": "white",
            "linecolor": "white",
            "ticks": ""
           }
          },
          "title": {
           "x": 0.05
          },
          "xaxis": {
           "automargin": true,
           "gridcolor": "white",
           "linecolor": "white",
           "ticks": "",
           "title": {
            "standoff": 15
           },
           "zerolinecolor": "white",
           "zerolinewidth": 2
          },
          "yaxis": {
           "automargin": true,
           "gridcolor": "white",
           "linecolor": "white",
           "ticks": "",
           "title": {
            "standoff": 15
           },
           "zerolinecolor": "white",
           "zerolinewidth": 2
          }
         }
        },
        "width": 800
       }
      }
     },
     "metadata": {},
     "output_type": "display_data"
    }
   ],
   "source": [
    "#sunburst plot\n",
    "import plotly.express as px\n",
    "\n",
    "# drop rows with None values in the path column\n",
    "df = df.dropna(subset=['Category', 'Type', 'Content Rating', 'Genres'])\n",
    "\n",
    "# sunburst plot on Google App Store Dtaase\n",
    "fig = px.sunburst(df, \n",
    "                  path=['Category', 'Type', 'Content Rating', 'Genres'], \n",
    "                  values='Rating', color='Type',\n",
    "                  hover_data=['Price', 'Rating']) # use hover_data instead of customdata\n",
    "\n",
    "# increase the size of sunburst chart\n",
    "fig.update_layout(width=800, height=800)    \n",
    "fig.show()\n",
    "\n",
    "# Save the plot in outpyt html folder\n",
    "fig.write_html(r\"C:/Users/mnsai/Desktop/Python/AI-and-DS/Output/HTMLF/08_sunburst.html\")"
   ]
  },
  {
   "cell_type": "markdown",
   "metadata": {},
   "source": [
    "# Missing Values"
   ]
  },
  {
   "cell_type": "code",
   "execution_count": 108,
   "metadata": {},
   "outputs": [
    {
     "data": {
      "text/plain": [
       "Size_MB           1695\n",
       "Rating            1474\n",
       "Installs_Group      15\n",
       "Current Ver          8\n",
       "Android Ver          2\n",
       "App                  0\n",
       "Category             0\n",
       "Reviews              0\n",
       "Installs             0\n",
       "Type                 0\n",
       "Price                0\n",
       "Content Rating       0\n",
       "Genres               0\n",
       "Last Updated         0\n",
       "dtype: int64"
      ]
     },
     "execution_count": 108,
     "metadata": {},
     "output_type": "execute_result"
    }
   ],
   "source": [
    "# Find the missing values in dataframe\n",
    "df.isnull().sum().sort_values(ascending=False)"
   ]
  },
  {
   "cell_type": "code",
   "execution_count": 109,
   "metadata": {},
   "outputs": [
    {
     "data": {
      "text/plain": [
       "Size_MB           15.64\n",
       "Rating            13.60\n",
       "Installs_Group     0.14\n",
       "Current Ver        0.07\n",
       "Android Ver        0.02\n",
       "App                0.00\n",
       "Category           0.00\n",
       "Reviews            0.00\n",
       "Installs           0.00\n",
       "Type               0.00\n",
       "Price              0.00\n",
       "Content Rating     0.00\n",
       "Genres             0.00\n",
       "Last Updated       0.00\n",
       "dtype: float64"
      ]
     },
     "execution_count": 109,
     "metadata": {},
     "output_type": "execute_result"
    }
   ],
   "source": [
    "# find missing value percentage in the dataframe with 2 decimal round-off\n",
    "round(df.isnull().sum().sort_values(ascending=False)/len(df)*100, 2)"
   ]
  },
  {
   "cell_type": "code",
   "execution_count": 110,
   "metadata": {},
   "outputs": [
    {
     "data": {
      "text/plain": [
       "3194"
      ]
     },
     "execution_count": 110,
     "metadata": {},
     "output_type": "execute_result"
    }
   ],
   "source": [
    "# total number of missing values\n",
    "df.isnull().sum().sum()"
   ]
  },
  {
   "cell_type": "code",
   "execution_count": 111,
   "metadata": {},
   "outputs": [
    {
     "data": {
      "text/plain": [
       "<Axes: >"
      ]
     },
     "execution_count": 111,
     "metadata": {},
     "output_type": "execute_result"
    },
    {
     "data": {
      "image/png": "[encoded data removed]",
      "text/plain": [
       "<Figure size 1200x800 with 1 Axes>"
      ]
     },
     "metadata": {},
     "output_type": "display_data"
    }
   ],
   "source": [
    "# Plot missing values\n",
    "plt.figure(figsize=(12, 8))\n",
    "sns.heatmap(df.isnull(), cbar=False)"
   ]
  },
  {
   "cell_type": "code",
   "execution_count": 112,
   "metadata": {},
   "outputs": [
    {
     "data": {
      "image/png": "[encoded data removed]",
      "text/plain": [
       "<Figure size 1800x800 with 1 Axes>"
      ]
     },
     "metadata": {},
     "output_type": "display_data"
    }
   ],
   "source": [
    "# bar plot for missing values\n",
    "plt.figure(figsize=(18, 8))\n",
    "sns.barplot(y=df.isnull().sum().sort_values(ascending=False), x=df.isnull().sum().sort_values(ascending=False).index)\n",
    "plt.title('Missing Values Count')\n",
    "plt.xlabel('Features')\n",
    "plt.ylabel('Counts')\n",
    "plt.show()\n",
    "\n"
   ]
  },
  {
   "cell_type": "code",
   "execution_count": 113,
   "metadata": {},
   "outputs": [
    {
     "data": {
      "text/plain": [
       "<Axes: >"
      ]
     },
     "execution_count": 113,
     "metadata": {},
     "output_type": "execute_result"
    },
    {
     "data": {
      "image/png": "[encoded data removed]",
      "text/plain": [
       "<Figure size 640x480 with 1 Axes>"
      ]
     },
     "metadata": {},
     "output_type": "display_data"
    }
   ],
   "source": [
    "# Calculate missing percentage\n",
    "missing_percentage = (df.isnull().sum() / len(df)) * 100\n",
    "\n",
    "# Plot missing percentage with lessthan 1%\n",
    "missing_percentage[missing_percentage < 1].plot(kind='bar')\n"
   ]
  },
  {
   "cell_type": "markdown",
   "metadata": {},
   "source": [
    "## Corelation of Numeric Columns"
   ]
  },
  {
   "cell_type": "code",
   "execution_count": 114,
   "metadata": {},
   "outputs": [
    {
     "data": {
      "text/plain": [
       "Index(['App', 'Category', 'Rating', 'Reviews', 'Installs', 'Type', 'Price',\n",
       "       'Content Rating', 'Genres', 'Last Updated', 'Current Ver',\n",
       "       'Android Ver', 'Size_MB', 'Installs_Group'],\n",
       "      dtype='object')"
      ]
     },
     "execution_count": 114,
     "metadata": {},
     "output_type": "execute_result"
    }
   ],
   "source": [
    "df.columns\n"
   ]
  },
  {
   "cell_type": "code",
   "execution_count": 115,
   "metadata": {},
   "outputs": [
    {
     "name": "stdout",
     "output_type": "stream",
     "text": [
      "<class 'pandas.core.frame.DataFrame'>\n",
      "Index: 10840 entries, 0 to 10840\n",
      "Data columns (total 14 columns):\n",
      " #   Column          Non-Null Count  Dtype   \n",
      "---  ------          --------------  -----   \n",
      " 0   App             10840 non-null  object  \n",
      " 1   Category        10840 non-null  object  \n",
      " 2   Rating          9366 non-null   float64 \n",
      " 3   Reviews         10840 non-null  int64   \n",
      " 4   Installs        10840 non-null  int32   \n",
      " 5   Type            10840 non-null  object  \n",
      " 6   Price           10840 non-null  float64 \n",
      " 7   Content Rating  10840 non-null  object  \n",
      " 8   Genres          10840 non-null  object  \n",
      " 9   Last Updated    10840 non-null  object  \n",
      " 10  Current Ver     10832 non-null  object  \n",
      " 11  Android Ver     10838 non-null  object  \n",
      " 12  Size_MB         9145 non-null   float64 \n",
      " 13  Installs_Group  10825 non-null  category\n",
      "dtypes: category(1), float64(3), int32(1), int64(1), object(8)\n",
      "memory usage: 1.1+ MB\n"
     ]
    }
   ],
   "source": [
    "df.info()"
   ]
  },
  {
   "cell_type": "code",
   "execution_count": 116,
   "metadata": {},
   "outputs": [
    {
     "data": {
      "text/html": [
       "<div>\n",
       "<style scoped>\n",
       "    .dataframe tbody tr th:only-of-type {\n",
       "        vertical-align: middle;\n",
       "    }\n",
       "\n",
       "    .dataframe tbody tr th {\n",
       "        vertical-align: top;\n",
       "    }\n",
       "\n",
       "    .dataframe thead th {\n",
       "        text-align: right;\n",
       "    }\n",
       "</style>\n",
       "<table border=\"1\" class=\"dataframe\">\n",
       "  <thead>\n",
       "    <tr style=\"text-align: right;\">\n",
       "      <th></th>\n",
       "      <th>Rating</th>\n",
       "      <th>Reviews</th>\n",
       "      <th>Installs</th>\n",
       "      <th>Price</th>\n",
       "      <th>Size_MB</th>\n",
       "    </tr>\n",
       "  </thead>\n",
       "  <tbody>\n",
       "    <tr>\n",
       "      <th>count</th>\n",
       "      <td>9366.000000</td>\n",
       "      <td>1.084000e+04</td>\n",
       "      <td>1.084000e+04</td>\n",
       "      <td>10840.000000</td>\n",
       "      <td>9145.000000</td>\n",
       "    </tr>\n",
       "    <tr>\n",
       "      <th>mean</th>\n",
       "      <td>4.191757</td>\n",
       "      <td>4.441529e+05</td>\n",
       "      <td>1.546434e+07</td>\n",
       "      <td>1.027368</td>\n",
       "      <td>21.516165</td>\n",
       "    </tr>\n",
       "    <tr>\n",
       "      <th>std</th>\n",
       "      <td>0.515219</td>\n",
       "      <td>2.927761e+06</td>\n",
       "      <td>8.502936e+07</td>\n",
       "      <td>15.949703</td>\n",
       "      <td>22.589084</td>\n",
       "    </tr>\n",
       "    <tr>\n",
       "      <th>min</th>\n",
       "      <td>1.000000</td>\n",
       "      <td>0.000000e+00</td>\n",
       "      <td>0.000000e+00</td>\n",
       "      <td>0.000000</td>\n",
       "      <td>0.008301</td>\n",
       "    </tr>\n",
       "    <tr>\n",
       "      <th>25%</th>\n",
       "      <td>4.000000</td>\n",
       "      <td>3.800000e+01</td>\n",
       "      <td>1.000000e+03</td>\n",
       "      <td>0.000000</td>\n",
       "      <td>4.900000</td>\n",
       "    </tr>\n",
       "    <tr>\n",
       "      <th>50%</th>\n",
       "      <td>4.300000</td>\n",
       "      <td>2.094000e+03</td>\n",
       "      <td>1.000000e+05</td>\n",
       "      <td>0.000000</td>\n",
       "      <td>13.000000</td>\n",
       "    </tr>\n",
       "    <tr>\n",
       "      <th>75%</th>\n",
       "      <td>4.500000</td>\n",
       "      <td>5.477550e+04</td>\n",
       "      <td>5.000000e+06</td>\n",
       "      <td>0.000000</td>\n",
       "      <td>30.000000</td>\n",
       "    </tr>\n",
       "    <tr>\n",
       "      <th>max</th>\n",
       "      <td>5.000000</td>\n",
       "      <td>7.815831e+07</td>\n",
       "      <td>1.000000e+09</td>\n",
       "      <td>400.000000</td>\n",
       "      <td>100.000000</td>\n",
       "    </tr>\n",
       "  </tbody>\n",
       "</table>\n",
       "</div>"
      ],
      "text/plain": [
       "            Rating       Reviews      Installs         Price      Size_MB\n",
       "count  9366.000000  1.084000e+04  1.084000e+04  10840.000000  9145.000000\n",
       "mean      4.191757  4.441529e+05  1.546434e+07      1.027368    21.516165\n",
       "std       0.515219  2.927761e+06  8.502936e+07     15.949703    22.589084\n",
       "min       1.000000  0.000000e+00  0.000000e+00      0.000000     0.008301\n",
       "25%       4.000000  3.800000e+01  1.000000e+03      0.000000     4.900000\n",
       "50%       4.300000  2.094000e+03  1.000000e+05      0.000000    13.000000\n",
       "75%       4.500000  5.477550e+04  5.000000e+06      0.000000    30.000000\n",
       "max       5.000000  7.815831e+07  1.000000e+09    400.000000   100.000000"
      ]
     },
     "execution_count": 116,
     "metadata": {},
     "output_type": "execute_result"
    }
   ],
   "source": [
    "df.describe()"
   ]
  },
  {
   "cell_type": "code",
   "execution_count": 117,
   "metadata": {},
   "outputs": [
    {
     "data": {
      "image/png": "[encoded data removed]",
      "text/plain": [
       "<Figure size 1200x800 with 2 Axes>"
      ]
     },
     "metadata": {},
     "output_type": "display_data"
    }
   ],
   "source": [
    "# Make a corelation of Numeric columns and show them in heatmap\n",
    "plt.figure(figsize=(12, 8))\n",
    "numeric_cols = ['Rating', 'Reviews','Size_MB' ,'Installs','Price' ]\n",
    "sns.heatmap(df[numeric_cols].corr(), annot=True)\n",
    "plt.show()\n",
    "\n"
   ]
  },
  {
   "cell_type": "code",
   "execution_count": 118,
   "metadata": {},
   "outputs": [
    {
     "data": {
      "text/plain": [
       "Size_MB           1695\n",
       "Rating            1474\n",
       "Installs_Group      15\n",
       "Current Ver          8\n",
       "Android Ver          2\n",
       "App                  0\n",
       "Category             0\n",
       "Reviews              0\n",
       "Installs             0\n",
       "Type                 0\n",
       "Price                0\n",
       "Content Rating       0\n",
       "Genres               0\n",
       "Last Updated         0\n",
       "dtype: int64"
      ]
     },
     "execution_count": 118,
     "metadata": {},
     "output_type": "execute_result"
    }
   ],
   "source": [
    "# find missing values in dataframe\n",
    "df.isnull().sum().sort_values(ascending=False)\n"
   ]
  },
  {
   "cell_type": "code",
   "execution_count": 119,
   "metadata": {},
   "outputs": [],
   "source": [
    "# remove the rows having null values in the Current Ver, and Andriod Ver\n",
    "df.dropna(subset=['Current Ver', 'Android Ver', 'Installs_Group'], inplace=True)"
   ]
  },
  {
   "cell_type": "code",
   "execution_count": 120,
   "metadata": {},
   "outputs": [
    {
     "data": {
      "text/plain": [
       "3149"
      ]
     },
     "execution_count": 120,
     "metadata": {},
     "output_type": "execute_result"
    }
   ],
   "source": [
    "# give me the sum of all null values\n",
    "df.isnull().sum().sum()"
   ]
  },
  {
   "cell_type": "markdown",
   "metadata": {},
   "source": [
    "45 Rows dropped with missing values."
   ]
  },
  {
   "cell_type": "code",
   "execution_count": 121,
   "metadata": {},
   "outputs": [
    {
     "data": {
      "text/plain": [
       "Size_MB           1694\n",
       "Rating            1455\n",
       "App                  0\n",
       "Category             0\n",
       "Reviews              0\n",
       "Installs             0\n",
       "Type                 0\n",
       "Price                0\n",
       "Content Rating       0\n",
       "Genres               0\n",
       "Last Updated         0\n",
       "Current Ver          0\n",
       "Android Ver          0\n",
       "Installs_Group       0\n",
       "dtype: int64"
      ]
     },
     "execution_count": 121,
     "metadata": {},
     "output_type": "execute_result"
    }
   ],
   "source": [
    "# find missing values in dataframe\n",
    "df.isnull().sum().sort_values(ascending=False)"
   ]
  },
  {
   "cell_type": "markdown",
   "metadata": {},
   "source": [
    "### Question: Find the trend of rating in each installs_category"
   ]
  },
  {
   "cell_type": "code",
   "execution_count": 122,
   "metadata": {},
   "outputs": [
    {
     "data": {
      "text/html": [
       "<div>\n",
       "<style scoped>\n",
       "    .dataframe tbody tr th:only-of-type {\n",
       "        vertical-align: middle;\n",
       "    }\n",
       "\n",
       "    .dataframe tbody tr th {\n",
       "        vertical-align: top;\n",
       "    }\n",
       "\n",
       "    .dataframe thead th {\n",
       "        text-align: right;\n",
       "    }\n",
       "</style>\n",
       "<table border=\"1\" class=\"dataframe\">\n",
       "  <thead>\n",
       "    <tr style=\"text-align: right;\">\n",
       "      <th></th>\n",
       "      <th>count</th>\n",
       "      <th>mean</th>\n",
       "      <th>std</th>\n",
       "      <th>min</th>\n",
       "      <th>25%</th>\n",
       "      <th>50%</th>\n",
       "      <th>75%</th>\n",
       "      <th>max</th>\n",
       "    </tr>\n",
       "    <tr>\n",
       "      <th>Installs_Group</th>\n",
       "      <th></th>\n",
       "      <th></th>\n",
       "      <th></th>\n",
       "      <th></th>\n",
       "      <th></th>\n",
       "      <th></th>\n",
       "      <th></th>\n",
       "      <th></th>\n",
       "    </tr>\n",
       "  </thead>\n",
       "  <tbody>\n",
       "    <tr>\n",
       "      <th>UnderThousand</th>\n",
       "      <td>1359.0</td>\n",
       "      <td>4.198749</td>\n",
       "      <td>0.833807</td>\n",
       "      <td>1.0</td>\n",
       "      <td>3.9</td>\n",
       "      <td>4.4</td>\n",
       "      <td>4.8</td>\n",
       "      <td>5.0</td>\n",
       "    </tr>\n",
       "    <tr>\n",
       "      <th>In100Ks</th>\n",
       "      <td>3056.0</td>\n",
       "      <td>4.066001</td>\n",
       "      <td>0.555036</td>\n",
       "      <td>1.4</td>\n",
       "      <td>3.8</td>\n",
       "      <td>4.2</td>\n",
       "      <td>4.5</td>\n",
       "      <td>5.0</td>\n",
       "    </tr>\n",
       "    <tr>\n",
       "      <th>In1000ks</th>\n",
       "      <td>2113.0</td>\n",
       "      <td>4.207525</td>\n",
       "      <td>0.376594</td>\n",
       "      <td>1.8</td>\n",
       "      <td>4.0</td>\n",
       "      <td>4.3</td>\n",
       "      <td>4.5</td>\n",
       "      <td>4.9</td>\n",
       "    </tr>\n",
       "    <tr>\n",
       "      <th>InMillions</th>\n",
       "      <td>2004.0</td>\n",
       "      <td>4.287076</td>\n",
       "      <td>0.294902</td>\n",
       "      <td>2.0</td>\n",
       "      <td>4.1</td>\n",
       "      <td>4.3</td>\n",
       "      <td>4.5</td>\n",
       "      <td>4.9</td>\n",
       "    </tr>\n",
       "    <tr>\n",
       "      <th>InBillions</th>\n",
       "      <td>828.0</td>\n",
       "      <td>4.374396</td>\n",
       "      <td>0.193726</td>\n",
       "      <td>3.1</td>\n",
       "      <td>4.3</td>\n",
       "      <td>4.4</td>\n",
       "      <td>4.5</td>\n",
       "      <td>4.8</td>\n",
       "    </tr>\n",
       "  </tbody>\n",
       "</table>\n",
       "</div>"
      ],
      "text/plain": [
       "                 count      mean       std  min  25%  50%  75%  max\n",
       "Installs_Group                                                     \n",
       "UnderThousand   1359.0  4.198749  0.833807  1.0  3.9  4.4  4.8  5.0\n",
       "In100Ks         3056.0  4.066001  0.555036  1.4  3.8  4.2  4.5  5.0\n",
       "In1000ks        2113.0  4.207525  0.376594  1.8  4.0  4.3  4.5  4.9\n",
       "InMillions      2004.0  4.287076  0.294902  2.0  4.1  4.3  4.5  4.9\n",
       "InBillions       828.0  4.374396  0.193726  3.1  4.3  4.4  4.5  4.8"
      ]
     },
     "execution_count": 122,
     "metadata": {},
     "output_type": "execute_result"
    }
   ],
   "source": [
    "# use groupby function to find the trend of rating in each installs_groups\n",
    "df.groupby('Installs_Group')['Rating'].describe()"
   ]
  },
  {
   "cell_type": "code",
   "execution_count": 123,
   "metadata": {},
   "outputs": [
    {
     "data": {
      "text/plain": [
       "Installs_Group\n",
       "UnderThousand    1333\n",
       "In100Ks           119\n",
       "In1000ks            3\n",
       "InMillions          0\n",
       "InBillions          0\n",
       "Name: count, dtype: int64"
      ]
     },
     "execution_count": 123,
     "metadata": {},
     "output_type": "execute_result"
    }
   ],
   "source": [
    "# in which install_goupd the rating has nan values\n",
    "df['Installs_Group'].loc[df['Rating'].isnull()].value_counts()"
   ]
  },
  {
   "cell_type": "markdown",
   "metadata": {},
   "source": [
    "### Day17-Assignment: Replace the Installs_Group missing values with their Means."
   ]
  },
  {
   "cell_type": "code",
   "execution_count": 124,
   "metadata": {},
   "outputs": [],
   "source": [
    "# Replace the missing values in each Installs_Group with there mean\n",
    "df['Rating'] = df.groupby('Installs_Group')['Rating'].transform(lambda x: x.fillna(x.mean()))"
   ]
  },
  {
   "cell_type": "code",
   "execution_count": 125,
   "metadata": {},
   "outputs": [
    {
     "data": {
      "text/plain": [
       "Installs_Group\n",
       "UnderThousand    0\n",
       "In100Ks          0\n",
       "In1000ks         0\n",
       "InMillions       0\n",
       "InBillions       0\n",
       "Name: count, dtype: int64"
      ]
     },
     "execution_count": 125,
     "metadata": {},
     "output_type": "execute_result"
    }
   ],
   "source": [
    "# Reveiw again in which install_goupd the rating has nan values\n",
    "df['Installs_Group'].loc[df['Rating'].isnull()].value_counts()"
   ]
  },
  {
   "cell_type": "markdown",
   "metadata": {},
   "source": [
    "All Mising Values replaces with their means"
   ]
  },
  {
   "cell_type": "code",
   "execution_count": 126,
   "metadata": {},
   "outputs": [
    {
     "data": {
      "image/png": "[encoded data removed]",
      "text/plain": [
       "<Figure size 1200x800 with 1 Axes>"
      ]
     },
     "metadata": {},
     "output_type": "display_data"
    }
   ],
   "source": [
    "# plot the boxplot of Rating in each Install_Group\n",
    "\n",
    "plt.figure(figsize=(12, 8))\n",
    "sns.boxplot(x='Installs_Group', y='Rating', hue = 'Installs_Group', data=df)\n",
    "plt.text(x=0, y=4.5, s='Null Values: 0')\n",
    "plt.text(x=1, y=4.5, s='Null Values: 0')\n",
    "plt.text(x=2, y=4.5, s='Null Values: 0')\n",
    "plt.text(x=3, y=4.5, s='Null Values: 0')\n",
    "plt.text(x=4, y=4.5, s='Null Values: 0')\n",
    "plt.show()"
   ]
  },
  {
   "cell_type": "markdown",
   "metadata": {},
   "source": [
    "### Balance the data by normalization using Log Transformation"
   ]
  },
  {
   "cell_type": "code",
   "execution_count": 127,
   "metadata": {},
   "outputs": [
    {
     "data": {
      "image/png": "[encoded data removed]",
      "text/plain": [
       "<Figure size 1200x800 with 1 Axes>"
      ]
     },
     "metadata": {},
     "output_type": "display_data"
    }
   ],
   "source": [
    "# Plot the Boxplot reveiw Column Plot\n",
    "plt.figure(figsize=(12, 8))\n",
    "sns.boxplot(x='Installs_Group', y='Reviews', hue = 'Installs_Group', data=df)\n",
    "plt.show()"
   ]
  },
  {
   "cell_type": "markdown",
   "metadata": {},
   "source": [
    "The Plot is going beyond range in missions. Let take a log to normalize the data"
   ]
  },
  {
   "cell_type": "code",
   "execution_count": 128,
   "metadata": {},
   "outputs": [
    {
     "data": {
      "image/png": "[encoded data removed]",
      "text/plain": [
       "<Figure size 1200x800 with 1 Axes>"
      ]
     },
     "metadata": {},
     "output_type": "display_data"
    }
   ],
   "source": [
    "# Lets plot the same above Review box plot with Log10 of Review Data\n",
    "plt.figure(figsize=(12, 8))\n",
    "sns.boxplot(x='Installs_Group', y=np.log10(df['Reviews']), hue = 'Installs_Group', data=df)\n",
    "plt.show()"
   ]
  },
  {
   "cell_type": "code",
   "execution_count": 129,
   "metadata": {},
   "outputs": [
    {
     "data": {
      "image/png": "[encoded data removed]",
      "text/plain": [
       "<Figure size 1200x800 with 1 Axes>"
      ]
     },
     "metadata": {},
     "output_type": "display_data"
    }
   ],
   "source": [
    "# Draw scatter plot between Rating, Reviews and Installs_group\n",
    "plt.figure(figsize=(12, 8))\n",
    "sns.scatterplot(x='Rating', y='Reviews', hue='Installs_Group', data=df)\n",
    "plt.show()"
   ]
  },
  {
   "cell_type": "code",
   "execution_count": 130,
   "metadata": {},
   "outputs": [
    {
     "data": {
      "image/png": "[encoded data removed]",
      "text/plain": [
       "<Figure size 1200x800 with 1 Axes>"
      ]
     },
     "metadata": {},
     "output_type": "display_data"
    }
   ],
   "source": [
    "# Plot Reviews and Installs Groups with log10 in a scatter plot\n",
    "plt.figure(figsize=(12, 8))\n",
    "sns.scatterplot(x='Reviews', y='Installs', data=df)\n",
    "plt.show()"
   ]
  },
  {
   "cell_type": "code",
   "execution_count": 131,
   "metadata": {},
   "outputs": [
    {
     "name": "stdout",
     "output_type": "stream",
     "text": [
      "<class 'pandas.core.frame.DataFrame'>\n",
      "Index: 10815 entries, 0 to 10825\n",
      "Data columns (total 14 columns):\n",
      " #   Column          Non-Null Count  Dtype   \n",
      "---  ------          --------------  -----   \n",
      " 0   App             10815 non-null  object  \n",
      " 1   Category        10815 non-null  object  \n",
      " 2   Rating          10815 non-null  float64 \n",
      " 3   Reviews         10815 non-null  int64   \n",
      " 4   Installs        10815 non-null  int32   \n",
      " 5   Type            10815 non-null  object  \n",
      " 6   Price           10815 non-null  float64 \n",
      " 7   Content Rating  10815 non-null  object  \n",
      " 8   Genres          10815 non-null  object  \n",
      " 9   Last Updated    10815 non-null  object  \n",
      " 10  Current Ver     10815 non-null  object  \n",
      " 11  Android Ver     10815 non-null  object  \n",
      " 12  Size_MB         9121 non-null   float64 \n",
      " 13  Installs_Group  10815 non-null  category\n",
      "dtypes: category(1), float64(3), int32(1), int64(1), object(8)\n",
      "memory usage: 1.1+ MB\n"
     ]
    }
   ],
   "source": [
    "df.info()"
   ]
  },
  {
   "cell_type": "code",
   "execution_count": 132,
   "metadata": {},
   "outputs": [],
   "source": [
    "# convert category dtype to int for Installs_Group\n",
    "df['Installs_Group'] = df['Installs_Group'].astype('category').cat.codes\n"
   ]
  },
  {
   "cell_type": "code",
   "execution_count": 133,
   "metadata": {},
   "outputs": [],
   "source": [
    "# convert int8 to gategory dtype for Installs_group\n",
    "df['Installs_Group'] = df['Installs_Group'].astype('int8').astype('category')\n"
   ]
  },
  {
   "cell_type": "code",
   "execution_count": 134,
   "metadata": {},
   "outputs": [
    {
     "name": "stdout",
     "output_type": "stream",
     "text": [
      "<class 'pandas.core.frame.DataFrame'>\n",
      "Index: 10815 entries, 0 to 10825\n",
      "Data columns (total 14 columns):\n",
      " #   Column          Non-Null Count  Dtype   \n",
      "---  ------          --------------  -----   \n",
      " 0   App             10815 non-null  object  \n",
      " 1   Category        10815 non-null  object  \n",
      " 2   Rating          10815 non-null  float64 \n",
      " 3   Reviews         10815 non-null  int64   \n",
      " 4   Installs        10815 non-null  int32   \n",
      " 5   Type            10815 non-null  object  \n",
      " 6   Price           10815 non-null  float64 \n",
      " 7   Content Rating  10815 non-null  object  \n",
      " 8   Genres          10815 non-null  object  \n",
      " 9   Last Updated    10815 non-null  object  \n",
      " 10  Current Ver     10815 non-null  object  \n",
      " 11  Android Ver     10815 non-null  object  \n",
      " 12  Size_MB         9121 non-null   float64 \n",
      " 13  Installs_Group  10815 non-null  category\n",
      "dtypes: category(1), float64(3), int32(1), int64(1), object(8)\n",
      "memory usage: 1.1+ MB\n"
     ]
    }
   ],
   "source": [
    "df.info()"
   ]
  },
  {
   "cell_type": "code",
   "execution_count": 135,
   "metadata": {},
   "outputs": [
    {
     "data": {
      "image/png": "[encoded data removed]",
      "text/plain": [
       "<Figure size 1200x800 with 1 Axes>"
      ]
     },
     "metadata": {},
     "output_type": "display_data"
    }
   ],
   "source": [
    "# Plot Reviews and Installs Groups with log10 in a scatter plot\n",
    "plt.figure(figsize=(12, 8))\n",
    "sns.scatterplot(x=np.log10(df['Reviews']), y=np.log10(df['Installs']), data=df)\n",
    "plt.show()\n"
   ]
  },
  {
   "cell_type": "markdown",
   "metadata": {},
   "source": [
    "This shows higher installs have higher number of reviews."
   ]
  },
  {
   "cell_type": "code",
   "execution_count": 136,
   "metadata": {},
   "outputs": [
    {
     "data": {
      "text/plain": [
       "<Figure size 1200x800 with 0 Axes>"
      ]
     },
     "metadata": {},
     "output_type": "display_data"
    },
    {
     "data": {
      "image/png": "[encoded data removed]",
      "text/plain": [
       "<Figure size 500x500 with 1 Axes>"
      ]
     },
     "metadata": {},
     "output_type": "display_data"
    }
   ],
   "source": [
    "# Plot reviews and Installs in scatter plot with trend line\n",
    "plt.figure(figsize=(12, 8))\n",
    "sns.lmplot(x='Reviews', y='Installs', data=df)\n",
    "plt.show()"
   ]
  },
  {
   "cell_type": "markdown",
   "metadata": {},
   "source": [
    "# Duplicate Values"
   ]
  },
  {
   "cell_type": "code",
   "execution_count": 137,
   "metadata": {},
   "outputs": [
    {
     "data": {
      "text/plain": [
       "483"
      ]
     },
     "execution_count": 137,
     "metadata": {},
     "output_type": "execute_result"
    }
   ],
   "source": [
    "# Find Duplicate values in dataframe if any\n",
    "df.duplicated().sum()"
   ]
  },
  {
   "cell_type": "markdown",
   "metadata": {},
   "source": [
    "This shows us there are 483 duplicate values but we can also check based on the app name as we know that every app has a unique name."
   ]
  },
  {
   "cell_type": "code",
   "execution_count": 138,
   "metadata": {},
   "outputs": [
    {
     "data": {
      "text/plain": [
       "1181"
      ]
     },
     "execution_count": 138,
     "metadata": {},
     "output_type": "execute_result"
    }
   ],
   "source": [
    "# Find the duplicate if any in the 'App' Column\n",
    "df['App'].duplicated().sum()"
   ]
  },
  {
   "cell_type": "markdown",
   "metadata": {},
   "source": [
    "We have 1181 duplicates in App column, we need to find another column which can help us to remove duplicates."
   ]
  },
  {
   "cell_type": "code",
   "execution_count": 139,
   "metadata": {},
   "outputs": [
    {
     "name": "stdout",
     "output_type": "stream",
     "text": [
      "Total number of duplicate values in App column are 1181\n",
      "Total number of duplicate values in Category column are 10782\n",
      "Total number of duplicate values in Rating column are 10773\n",
      "Total number of duplicate values in Reviews column are 4816\n",
      "Total number of duplicate values in Installs column are 10796\n",
      "Total number of duplicate values in Type column are 10813\n",
      "Total number of duplicate values in Price column are 10727\n",
      "Total number of duplicate values in Content Rating column are 10809\n",
      "Total number of duplicate values in Genres column are 10696\n",
      "Total number of duplicate values in Last Updated column are 9440\n",
      "Total number of duplicate values in Current Ver column are 8034\n",
      "Total number of duplicate values in Android Ver column are 10782\n",
      "Total number of duplicate values in Size_MB column are 10359\n",
      "Total number of duplicate values in Installs_Group column are 10810\n"
     ]
    }
   ],
   "source": [
    "# lets check duplicate values in all columns and share the result in print\n",
    "for col in df.columns:\n",
    "    print(f\"Total number of duplicate values in {col} column are {df[col].duplicated().sum()}\")"
   ]
  },
  {
   "cell_type": "markdown",
   "metadata": {},
   "source": [
    "This means that the only better way to find duplicates is to check for the whole data."
   ]
  },
  {
   "cell_type": "code",
   "execution_count": 140,
   "metadata": {},
   "outputs": [
    {
     "name": "stdout",
     "output_type": "stream",
     "text": [
      "Total number of duplicate values in df are 483\n"
     ]
    }
   ],
   "source": [
    "# print the number of duplicates in df\n",
    "print(f\"Total number of duplicate values in df are {df.duplicated().sum()}\")"
   ]
  },
  {
   "cell_type": "markdown",
   "metadata": {},
   "source": [
    "Find and wathc all the duplicates if they are real.\n"
   ]
  },
  {
   "cell_type": "code",
   "execution_count": 141,
   "metadata": {},
   "outputs": [],
   "source": [
    "# find exact duplicates and print them and sort by App name\n",
    "# df[df['App'].duplicated(keep=False)].sort_values(by='App')"
   ]
  },
  {
   "cell_type": "code",
   "execution_count": 142,
   "metadata": {},
   "outputs": [],
   "source": [
    "# Remove the duplicates\n",
    "df.drop_duplicates(inplace=True)"
   ]
  },
  {
   "cell_type": "code",
   "execution_count": 143,
   "metadata": {},
   "outputs": [
    {
     "name": "stdout",
     "output_type": "stream",
     "text": [
      "The number of rows are 10332\n"
     ]
    }
   ],
   "source": [
    "# Print the number of rows and columns after removing the duplicates.\n",
    "print(f\"The number of rows are {df.shape[0]}\")"
   ]
  },
  {
   "cell_type": "markdown",
   "metadata": {},
   "source": [
    "# Insights from Data"
   ]
  },
  {
   "cell_type": "markdown",
   "metadata": {},
   "source": [
    "## 1. Which Categories has thehighest number of apps?"
   ]
  },
  {
   "cell_type": "code",
   "execution_count": 144,
   "metadata": {},
   "outputs": [
    {
     "data": {
      "text/plain": [
       "Category\n",
       "FAMILY             1937\n",
       "GAME               1121\n",
       "TOOLS               841\n",
       "BUSINESS            426\n",
       "MEDICAL             407\n",
       "PRODUCTIVITY        406\n",
       "PERSONALIZATION     385\n",
       "LIFESTYLE           372\n",
       "COMMUNICATION       366\n",
       "FINANCE             358\n",
       "Name: count, dtype: int64"
      ]
     },
     "execution_count": 144,
     "metadata": {},
     "output_type": "execute_result"
    }
   ],
   "source": [
    "# Whihc Category has the highest number of apps\n",
    "df['Category'].value_counts().head(10)"
   ]
  },
  {
   "cell_type": "markdown",
   "metadata": {},
   "source": [
    "## 2. Which category has highest number of install?"
   ]
  },
  {
   "cell_type": "code",
   "execution_count": 145,
   "metadata": {},
   "outputs": [
    {
     "data": {
      "text/plain": [
       "Category\n",
       "GAME                  31544024415\n",
       "COMMUNICATION         24152276251\n",
       "SOCIAL                12513867902\n",
       "PRODUCTIVITY          12463091369\n",
       "TOOLS                 11452271905\n",
       "FAMILY                10041632405\n",
       "PHOTOGRAPHY            9721247655\n",
       "TRAVEL_AND_LOCAL       6361887146\n",
       "VIDEO_PLAYERS          6222002720\n",
       "NEWS_AND_MAGAZINES     5393217760\n",
       "Name: Installs, dtype: int64"
      ]
     },
     "execution_count": 145,
     "metadata": {},
     "output_type": "execute_result"
    }
   ],
   "source": [
    "# Category with highest number of installs\n",
    "df.groupby('Category')['Installs'].sum().sort_values(ascending=False).head(10)"
   ]
  },
  {
   "cell_type": "markdown",
   "metadata": {},
   "source": [
    "## 3. Whihc Cagetory has highest number of reviews?"
   ]
  },
  {
   "cell_type": "code",
   "execution_count": 146,
   "metadata": {},
   "outputs": [
    {
     "data": {
      "text/plain": [
       "Category\n",
       "GAME               1415536650\n",
       "COMMUNICATION       601273552\n",
       "SOCIAL              533576829\n",
       "FAMILY              396771746\n",
       "TOOLS               273181033\n",
       "PHOTOGRAPHY         204297410\n",
       "VIDEO_PLAYERS       110380188\n",
       "PRODUCTIVITY        102554498\n",
       "SHOPPING             94931162\n",
       "PERSONALIZATION      75192744\n",
       "Name: Reviews, dtype: int64"
      ]
     },
     "execution_count": 146,
     "metadata": {},
     "output_type": "execute_result"
    }
   ],
   "source": [
    "# Category with highest number of reviews\n",
    "df.groupby('Category')['Reviews'].sum().sort_values(ascending=False).head(10)"
   ]
  },
  {
   "cell_type": "markdown",
   "metadata": {},
   "source": [
    "## 4. Whihc category has the highest rating?"
   ]
  },
  {
   "cell_type": "code",
   "execution_count": 147,
   "metadata": {},
   "outputs": [
    {
     "data": {
      "text/plain": [
       "Category\n",
       "EDUCATION              4.373585\n",
       "ART_AND_DESIGN         4.367175\n",
       "EVENTS                 4.359031\n",
       "BOOKS_AND_REFERENCE    4.311371\n",
       "PERSONALIZATION        4.304864\n",
       "GAME                   4.277588\n",
       "PARENTING              4.261000\n",
       "HEALTH_AND_FITNESS     4.252001\n",
       "SOCIAL                 4.247093\n",
       "BEAUTY                 4.246976\n",
       "Name: Rating, dtype: float64"
      ]
     },
     "execution_count": 147,
     "metadata": {},
     "output_type": "execute_result"
    }
   ],
   "source": [
    "# Whihc category has the highest rating\n",
    "df.groupby('Category')['Rating'].mean().sort_values(ascending=False).head(10)"
   ]
  },
  {
   "cell_type": "code",
   "execution_count": 149,
   "metadata": {},
   "outputs": [
    {
     "data": {
      "text/plain": [
       "<Axes: xlabel='Rating', ylabel='Density'>"
      ]
     },
     "execution_count": 149,
     "metadata": {},
     "output_type": "execute_result"
    },
    {
     "data": {
      "image/png": "[encoded data removed]",
      "text/plain": [
       "<Figure size 1200x800 with 1 Axes>"
      ]
     },
     "metadata": {},
     "output_type": "display_data"
    }
   ],
   "source": [
    "# KDE Plot the rating distribution\n",
    "plt.figure(figsize=(12, 8))\n",
    "sns.kdeplot(df['Rating'], color = 'blue', shade=True)"
   ]
  },
  {
   "cell_type": "code",
   "execution_count": null,
   "metadata": {},
   "outputs": [],
   "source": []
  }
 ],
 "metadata": {
  "kernelspec": {
   "display_name": "ydata_profiling",
   "language": "python",
   "name": "python3"
  },
  "language_info": {
   "codemirror_mode": {
    "name": "ipython",
    "version": 3
   },
   "file_extension": ".py",
   "mimetype": "text/x-python",
   "name": "python",
   "nbconvert_exporter": "python",
   "pygments_lexer": "ipython3",
   "version": "3.11.5"
  }
 },
 "nbformat": 4,
 "nbformat_minor": 2
}
