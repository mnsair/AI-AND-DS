{
 "cells": [
  {
   "cell_type": "code",
   "execution_count": 1,
   "metadata": {},
   "outputs": [
    {
     "name": "stdout",
     "output_type": "stream",
     "text": [
      "   Size  count  Size_KB\n",
      "0   11M    198  11264.0\n",
      "1   12M    196  12288.0\n",
      "2   14M    194  14336.0\n",
      "3   13M    191  13312.0\n",
      "4   15M    184  15360.0\n",
      "5  173k      1    173.0\n",
      "6  597k      1    597.0\n",
      "7  809k      1    809.0\n",
      "8  411k      1    411.0\n",
      "9  885k      1    885.0\n"
     ]
    }
   ],
   "source": [
    "import pandas as pd\n",
    "\n",
    "# Sample DataFrame with a 'Size' column containing values in MB and KB\n",
    "data = {\n",
    "    'Size': ['11M', '12M', '14M', '13M', '15M', '173k', '597k', '809k', '411k', '885k'],\n",
    "    'count': [198, 196, 194, 191, 184, 1, 1, 1, 1, 1]\n",
    "}\n",
    "df = pd.DataFrame(data)\n",
    "\n",
    "# Function to convert 'Size' values to KB\n",
    "def convert_size_to_kb(size_str):\n",
    "    if 'M' in size_str:\n",
    "        return float(size_str.replace('M', '')) * 1024  # MB to KB\n",
    "    elif 'k' in size_str:\n",
    "        return float(size_str.replace('k', ''))  # KB to KB\n",
    "    else:\n",
    "        return float(size_str)\n",
    "\n",
    "# Apply the conversion function to the 'Size' column\n",
    "df['Size_KB'] = df['Size'].astype(str).apply(convert_size_to_kb)\n",
    "\n",
    "# Display the DataFrame\n",
    "print(df)"
   ]
  }
 ],
 "metadata": {
  "kernelspec": {
   "display_name": "python11",
   "language": "python",
   "name": "python3"
  },
  "language_info": {
   "codemirror_mode": {
    "name": "ipython",
    "version": 3
   },
   "file_extension": ".py",
   "mimetype": "text/x-python",
   "name": "python",
   "nbconvert_exporter": "python",
   "pygments_lexer": "ipython3",
   "version": "3.11.5"
  }
 },
 "nbformat": 4,
 "nbformat_minor": 2
}
