{
 "cells": [
  {
   "cell_type": "code",
   "execution_count": 1,
   "metadata": {},
   "outputs": [
    {
     "name": "stdout",
     "output_type": "stream",
     "text": [
      "Collecting opencv-python\n",
      "  Downloading opencv_python-4.9.0.80-cp37-abi3-win_amd64.whl.metadata (20 kB)\n",
      "Requirement already satisfied: numpy>=1.21.2 in c:\\users\\nauma\\miniconda3\\envs\\python_ml\\lib\\site-packages (from opencv-python) (1.26.2)\n",
      "Downloading opencv_python-4.9.0.80-cp37-abi3-win_amd64.whl (38.6 MB)\n",
      "   ---------------------------------------- 0.0/38.6 MB ? eta -:--:--\n",
      "   ---------------------------------------- 0.0/38.6 MB 1.3 MB/s eta 0:00:31\n",
      "   ---------------------------------------- 0.3/38.6 MB 4.2 MB/s eta 0:00:10\n",
      "   ---------------------------------------- 0.5/38.6 MB 4.9 MB/s eta 0:00:08\n",
      "   - -------------------------------------- 1.4/38.6 MB 8.6 MB/s eta 0:00:05\n",
      "   -- ------------------------------------- 2.8/38.6 MB 13.6 MB/s eta 0:00:03\n",
      "   ---- ----------------------------------- 4.1/38.6 MB 16.5 MB/s eta 0:00:03\n",
      "   ----- ---------------------------------- 5.6/38.6 MB 18.8 MB/s eta 0:00:02\n",
      "   ------- -------------------------------- 7.0/38.6 MB 20.3 MB/s eta 0:00:02\n",
      "   -------- ------------------------------- 7.9/38.6 MB 20.9 MB/s eta 0:00:02\n",
      "   ---------- ----------------------------- 10.1/38.6 MB 23.0 MB/s eta 0:00:02\n",
      "   ----------- ---------------------------- 11.3/38.6 MB 29.7 MB/s eta 0:00:01\n",
      "   ------------- -------------------------- 12.6/38.6 MB 29.8 MB/s eta 0:00:01\n",
      "   -------------- ------------------------- 13.9/38.6 MB 32.7 MB/s eta 0:00:01\n",
      "   --------------- ------------------------ 15.4/38.6 MB 31.2 MB/s eta 0:00:01\n",
      "   ----------------- ---------------------- 17.3/38.6 MB 31.2 MB/s eta 0:00:01\n",
      "   ------------------- -------------------- 18.8/38.6 MB 31.2 MB/s eta 0:00:01\n",
      "   --------------------- ------------------ 20.5/38.6 MB 32.7 MB/s eta 0:00:01\n",
      "   ---------------------- ----------------- 21.6/38.6 MB 34.4 MB/s eta 0:00:01\n",
      "   ----------------------- ---------------- 23.2/38.6 MB 32.7 MB/s eta 0:00:01\n",
      "   ------------------------- -------------- 24.7/38.6 MB 34.4 MB/s eta 0:00:01\n",
      "   --------------------------- ------------ 26.1/38.6 MB 34.4 MB/s eta 0:00:01\n",
      "   ---------------------------- ----------- 27.7/38.6 MB 32.7 MB/s eta 0:00:01\n",
      "   ------------------------------ --------- 29.0/38.6 MB 31.2 MB/s eta 0:00:01\n",
      "   ------------------------------- -------- 30.5/38.6 MB 31.2 MB/s eta 0:00:01\n",
      "   -------------------------------- ------- 31.5/38.6 MB 32.7 MB/s eta 0:00:01\n",
      "   ---------------------------------- ----- 33.6/38.6 MB 32.8 MB/s eta 0:00:01\n",
      "   ------------------------------------ --- 35.4/38.6 MB 32.7 MB/s eta 0:00:01\n",
      "   -------------------------------------- - 36.8/38.6 MB 34.4 MB/s eta 0:00:01\n",
      "   ---------------------------------------  38.2/38.6 MB 32.7 MB/s eta 0:00:01\n",
      "   ---------------------------------------  38.6/38.6 MB 32.7 MB/s eta 0:00:01\n",
      "   ---------------------------------------- 38.6/38.6 MB 27.3 MB/s eta 0:00:00\n",
      "Installing collected packages: opencv-python\n",
      "Successfully installed opencv-python-4.9.0.80\n",
      "Note: you may need to restart the kernel to use updated packages.\n"
     ]
    }
   ],
   "source": [
    "# %pip install opencv-python"
   ]
  },
  {
   "cell_type": "code",
   "execution_count": 2,
   "metadata": {},
   "outputs": [],
   "source": [
    "# import libraries\n",
    "import numpy as np\n",
    "import cv2 as cv"
   ]
  },
  {
   "cell_type": "code",
   "execution_count": 21,
   "metadata": {},
   "outputs": [],
   "source": [
    "#read the image from images folder\n",
    "img = cv.imread('./images/f.png') # make sure you have the same .png, .jpg, .jpeg file\n",
    "\n"
   ]
  },
  {
   "cell_type": "code",
   "execution_count": 22,
   "metadata": {},
   "outputs": [],
   "source": [
    "#show the image\n",
    "cv.imshow('image',img)\n",
    "cv.waitKey(0)\n",
    "cv.destroyAllWindows()"
   ]
  },
  {
   "cell_type": "code",
   "execution_count": 23,
   "metadata": {},
   "outputs": [
    {
     "data": {
      "text/plain": [
       "(824, 794, 3)"
      ]
     },
     "execution_count": 23,
     "metadata": {},
     "output_type": "execute_result"
    }
   ],
   "source": [
    "# check image size\n",
    "img.shape"
   ]
  },
  {
   "cell_type": "code",
   "execution_count": 24,
   "metadata": {},
   "outputs": [
    {
     "data": {
      "text/plain": [
       "(824, 794)"
      ]
     },
     "execution_count": 24,
     "metadata": {},
     "output_type": "execute_result"
    }
   ],
   "source": [
    "#conver the image into grayscale and then check the size\n",
    "# convert the image into grayscale\n",
    "gray_img = cv.cvtColor(img, cv.COLOR_BGR2GRAY)\n",
    "\n",
    "# check the size of the grayscale image\n",
    "gray_img.shape"
   ]
  },
  {
   "cell_type": "code",
   "execution_count": 25,
   "metadata": {},
   "outputs": [],
   "source": [
    "# show the grayscale image\n",
    "cv.imshow('image',gray_img)\n",
    "cv.waitKey(0)\n",
    "cv.destroyAllWindows()"
   ]
  },
  {
   "cell_type": "code",
   "execution_count": 29,
   "metadata": {},
   "outputs": [],
   "source": []
  }
 ],
 "metadata": {
  "kernelspec": {
   "display_name": "python_ml",
   "language": "python",
   "name": "python3"
  },
  "language_info": {
   "codemirror_mode": {
    "name": "ipython",
    "version": 3
   },
   "file_extension": ".py",
   "mimetype": "text/x-python",
   "name": "python",
   "nbconvert_exporter": "python",
   "pygments_lexer": "ipython3",
   "version": "3.11.5"
  }
 },
 "nbformat": 4,
 "nbformat_minor": 2
}
