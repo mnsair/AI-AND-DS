{
 "cells": [
  {
   "cell_type": "markdown",
   "metadata": {},
   "source": [
    "# 27-B-Fearure scaling and Encoding\n",
    "\n",
    "Feature Encoding"
   ]
  },
  {
   "cell_type": "markdown",
   "metadata": {},
   "source": [
    "## 1. One Hot Encoding"
   ]
  },
  {
   "cell_type": "code",
   "execution_count": 1,
   "metadata": {},
   "outputs": [
    {
     "name": "stdout",
     "output_type": "stream",
     "text": [
      "   Color\n",
      "0    Red\n",
      "1  Green\n",
      "2   Blue\n",
      "3    Red\n",
      "4   Blue\n"
     ]
    }
   ],
   "source": [
    "import pandas as pd\n",
    "data = {'Color': ['Red', 'Green', 'Blue', 'Red', 'Blue']}\n",
    "df = pd.DataFrame(data)\n",
    "print(df)"
   ]
  },
  {
   "cell_type": "code",
   "execution_count": 2,
   "metadata": {},
   "outputs": [
    {
     "name": "stdout",
     "output_type": "stream",
     "text": [
      "   Color_Blue  Color_Green  Color_Red\n",
      "0       False        False       True\n",
      "1       False         True      False\n",
      "2        True        False      False\n",
      "3       False        False       True\n",
      "4        True        False      False\n"
     ]
    }
   ],
   "source": [
    "one_hot_encoded_df = pd.get_dummies(df, columns=['Color'], prefix='Color')\n",
    "print(one_hot_encoded_df)"
   ]
  },
  {
   "cell_type": "markdown",
   "metadata": {},
   "source": [
    "## 2. Label Encoding"
   ]
  },
  {
   "cell_type": "code",
   "execution_count": 4,
   "metadata": {},
   "outputs": [
    {
     "name": "stdout",
     "output_type": "stream",
     "text": [
      "   Color  encode_Color\n",
      "0    Red             2\n",
      "1  Green             1\n",
      "2   Blue             0\n",
      "3    Red             2\n",
      "4   Blue             0\n"
     ]
    }
   ],
   "source": [
    "from sklearn.preprocessing import LabelEncoder\n",
    "\n",
    "# sample data\n",
    "data = {'Color': ['Red', 'Green', 'Blue', 'Red', 'Blue']}\n",
    "df = pd.DataFrame(data)\n",
    "\n",
    "# label encoding\n",
    "label_encoder = LabelEncoder() # here number assigned based on alphabetical order.\n",
    "df['encode_Color'] = label_encoder.fit_transform(df['Color'])\n",
    "print(df)"
   ]
  },
  {
   "cell_type": "markdown",
   "metadata": {},
   "source": [
    "## 3. Ordinal Encoding"
   ]
  },
  {
   "cell_type": "code",
   "execution_count": 9,
   "metadata": {},
   "outputs": [
    {
     "name": "stdout",
     "output_type": "stream",
     "text": [
      "   degree  encode_degree\n",
      "0     Low            0.0\n",
      "1  Medium            1.0\n",
      "2    High            2.0\n",
      "3     Low            0.0\n",
      "4  Medium            1.0\n",
      "5    High            2.0\n"
     ]
    }
   ],
   "source": [
    "import pandas as pd\n",
    "from sklearn.preprocessing import OrdinalEncoder\n",
    "from sklearn import __version__ as sklearn_version\n",
    "\n",
    "# Create a sample dataframe\n",
    "data = {'degree': ['Low', 'Medium', 'High', 'Low', 'Medium', 'High']}\n",
    "df = pd.DataFrame(data)\n",
    "\n",
    "# Create Ordinal encoder\n",
    "ordinal_encoder = OrdinalEncoder(categories=[['Low', 'Medium', 'High']]) # User need to define the order here.\n",
    "df['encode_degree'] = ordinal_encoder.fit_transform(df[['degree']])\n",
    "print(df)"
   ]
  }
 ],
 "metadata": {
  "kernelspec": {
   "display_name": "ml_env",
   "language": "python",
   "name": "python3"
  },
  "language_info": {
   "codemirror_mode": {
    "name": "ipython",
    "version": 3
   },
   "file_extension": ".py",
   "mimetype": "text/x-python",
   "name": "python",
   "nbconvert_exporter": "python",
   "pygments_lexer": "ipython3",
   "version": "3.12.0"
  }
 },
 "nbformat": 4,
 "nbformat_minor": 2
}
